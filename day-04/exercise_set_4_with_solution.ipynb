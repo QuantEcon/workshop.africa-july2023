{
 "cells": [
  {
   "cell_type": "markdown",
   "metadata": {
    "id": "-pnHB5q0yBp7"
   },
   "source": [
    "# Linear Algebra and Monte Carlo Exercises"
   ]
  },
  {
   "cell_type": "markdown",
   "metadata": {},
   "source": [
    "#### Written for the QuantEcon Africa Workshop (July 2023)\n",
    "#### Author: [Smit Lunagariya](https://github.com/Smit-create) and [Shu Hu](https://shu-hu.com/)"
   ]
  },
  {
   "cell_type": "markdown",
   "metadata": {},
   "source": [
    "This notebook contains the exercises on Linear Algebra and Monte Carlo simulation.\n",
    "\n",
    "It will mainly focused on using the [numpy](https://numpy.org/doc/stable/) library."
   ]
  },
  {
   "cell_type": "code",
   "execution_count": null,
   "metadata": {
    "id": "B4DjbqlLyYXB"
   },
   "outputs": [],
   "source": [
    "import numpy as np\n",
    "import matplotlib.pyplot as plt\n",
    "from scipy.linalg import eig\n",
    "from numpy.random import randn"
   ]
  },
  {
   "cell_type": "markdown",
   "metadata": {
    "id": "6CB2JOEFzVZU"
   },
   "source": [
    "## Linear Algebra\n",
    "### Exercise 1\n",
    "\n",
    "Warm up on NumPy Basics.\n",
    "\n",
    "Feel free to refer the [numpy documentation](https://numpy.org/doc/stable/reference/index.html) for API."
   ]
  },
  {
   "cell_type": "markdown",
   "metadata": {
    "id": "JEha5rYczdzJ"
   },
   "source": [
    "**Exercise 1.1**: Write a function that creates numpy array from the given list/tuple."
   ]
  },
  {
   "cell_type": "code",
   "execution_count": null,
   "metadata": {
    "id": "SoSjfWh0zCcY"
   },
   "outputs": [],
   "source": [
    "def create_array(x):\n",
    "    return np.array(x)"
   ]
  },
  {
   "cell_type": "code",
   "execution_count": null,
   "metadata": {
    "id": "AEfFRCeYz5v2"
   },
   "outputs": [],
   "source": [
    "# Test the solution\n",
    "try:\n",
    "    assert type(create_array([1, 2, 3])) == np.ndarray\n",
    "    assert type(create_array((1, 2, 3))) == np.ndarray\n",
    "    print(\"Congratulations!\")\n",
    "except:\n",
    "    print(\"Wrong answer, please check your code again.\")"
   ]
  },
  {
   "cell_type": "markdown",
   "metadata": {
    "id": "YCt6kjvn0UfD"
   },
   "source": [
    "**Exercise 1.2**: Write a function to return the transpose of the given matrix."
   ]
  },
  {
   "cell_type": "code",
   "execution_count": null,
   "metadata": {
    "id": "JZ1aqemH0hE2"
   },
   "outputs": [],
   "source": [
    "def get_transpose(x):\n",
    "    return x.T"
   ]
  },
  {
   "cell_type": "code",
   "execution_count": null,
   "metadata": {
    "id": "2fpj5_ftz-HJ"
   },
   "outputs": [],
   "source": [
    "# Test the solution\n",
    "try:\n",
    "    assert np.allclose(get_transpose(np.arange(6).reshape((3,2))), np.array([[0, 2, 4], [1, 3, 5]]))\n",
    "    print(\"Congratulations!\")\n",
    "except:\n",
    "    print(\"Wrong answer, please check your code again.\")"
   ]
  },
  {
   "cell_type": "markdown",
   "metadata": {
    "id": "mfU7LdKu2fLF"
   },
   "source": [
    "**Exercise 1.3**: Write a function to return the inverse of the given matrix."
   ]
  },
  {
   "cell_type": "code",
   "execution_count": null,
   "metadata": {
    "id": "NANEAoDO1hQk"
   },
   "outputs": [],
   "source": [
    "def get_inverse(x):\n",
    "    return np.linalg.inv(x)"
   ]
  },
  {
   "cell_type": "code",
   "execution_count": null,
   "metadata": {
    "id": "9fRsb6bQ3A8S"
   },
   "outputs": [],
   "source": [
    "# Test the solution\n",
    "a_test = np.array([[1., 2.], [3., 4.]])\n",
    "a_test_inv = get_inverse(a_test)\n",
    "try:\n",
    "    assert np.allclose(np.dot(a_test, a_test_inv), np.eye(2))\n",
    "    print(\"Congratulations!\")\n",
    "except:\n",
    "    print(\"Wrong answer, please check your code again.\")"
   ]
  },
  {
   "cell_type": "markdown",
   "metadata": {
    "id": "n-XuySo33aKC"
   },
   "source": [
    "**Exercise 1.4**: Write a function to compute the norm of the vector."
   ]
  },
  {
   "cell_type": "code",
   "execution_count": null,
   "metadata": {
    "id": "2tARnaHl3TKj"
   },
   "outputs": [],
   "source": [
    "def get_norm(x):\n",
    "    return np.linalg.norm(x)"
   ]
  },
  {
   "cell_type": "code",
   "execution_count": null,
   "metadata": {
    "id": "jV-VOhM63xMT"
   },
   "outputs": [],
   "source": [
    "# Test the solution\n",
    "try:\n",
    "    assert np.allclose(get_norm([1, 2, 2, 4, 12, 5]), 13.92838827718412)\n",
    "    print(\"Congratulations!\")\n",
    "except:\n",
    "    print(\"Wrong answer, please check your code again.\")"
   ]
  },
  {
   "cell_type": "markdown",
   "metadata": {
    "id": "olS_hTRvODFs"
   },
   "source": [
    "**Exercise 1.5**: Write a function that returns the standarized vector of the given vector such that the mean is $0$ and standard deviation is $1$. Mathematically:\n",
    "$$\n",
    "\\forall x_{i}\\in x:\\hspace{1em}x_{i}^{\\prime}=\\frac{x_{i}-\\mu}{\\sigma}\n",
    "$$"
   ]
  },
  {
   "cell_type": "code",
   "execution_count": null,
   "metadata": {
    "id": "O4zAinR43-CA"
   },
   "outputs": [],
   "source": [
    "def standardize(x):\n",
    "    mean, std = x.mean(), x.std()\n",
    "    return (x - mean) / std"
   ]
  },
  {
   "cell_type": "code",
   "execution_count": null,
   "metadata": {
    "id": "i3Y6do3HO4ba"
   },
   "outputs": [],
   "source": [
    "# Test the solution\n",
    "a_test = np.random.randint(100, 2000, size=1000)\n",
    "a_test_stdz = standardize(a_test)\n",
    "try:\n",
    "    assert np.isclose(a_test_stdz.mean(), 0)\n",
    "    assert np.isclose(a_test_stdz.std(), 1)\n",
    "    print(\"Congratulations!\")\n",
    "except:\n",
    "    print(\"Wrong answer, please check your code again.\")"
   ]
  },
  {
   "cell_type": "markdown",
   "metadata": {
    "id": "3vP_kHtCP3lc"
   },
   "source": [
    "### Exercise 2"
   ]
  },
  {
   "cell_type": "markdown",
   "metadata": {
    "id": "1n_zIFzoP7HV"
   },
   "source": [
    "**Exercise 2.1**: Write a function that takes two numpy vectors as an argument and returns `True` if they are orthogonal else returns `False`.\n",
    "\n",
    "*Note: Two vectors are called orthogonal if their inner product is zero.*"
   ]
  },
  {
   "cell_type": "code",
   "execution_count": null,
   "metadata": {
    "id": "W-KmCFUOPiAq"
   },
   "outputs": [],
   "source": [
    "def is_orthogonal(x, y):\n",
    "    return np.allclose(x.T @ y, 0)"
   ]
  },
  {
   "cell_type": "code",
   "execution_count": null,
   "metadata": {
    "id": "f9MP7eofQjMw"
   },
   "outputs": [],
   "source": [
    "# Test the solution\n",
    "try:\n",
    "    assert is_orthogonal(np.array([0, 1, 0, -2, 4]), np.array([-1, -4, 1, 2, 2]))\n",
    "    assert not is_orthogonal(np.array([0, 1, 0, -2, 4]), np.array([-1, -4, 1, 2, 4]))\n",
    "    print(\"Congratulations!\")\n",
    "except:\n",
    "    print(\"Wrong answer, please check your code again.\")"
   ]
  },
  {
   "cell_type": "markdown",
   "metadata": {
    "id": "Sr5XcpJQSrMh"
   },
   "source": [
    "**Question 2.2**: Write a function to check whether the given matrix is symmetric or not."
   ]
  },
  {
   "cell_type": "code",
   "execution_count": null,
   "metadata": {
    "id": "TXxbvc1pRHZK"
   },
   "outputs": [],
   "source": [
    "def is_symmetric(x):\n",
    "    if x.shape[0] != x.shape[1]:\n",
    "        return False\n",
    "    return np.allclose(x.T, x)"
   ]
  },
  {
   "cell_type": "code",
   "execution_count": null,
   "metadata": {
    "id": "xa4HDEpzS_Ne"
   },
   "outputs": [],
   "source": [
    "# Test the solution\n",
    "try:\n",
    "    assert is_symmetric(np.eye(3))\n",
    "    assert is_symmetric(np.array([[1, 3], [3, 1]]))\n",
    "    assert not is_symmetric(np.array([[0, 1, 0, -2, 4], [-1, -4, 1, 2, 2]]))\n",
    "    print(\"Congratulations!\")\n",
    "except:\n",
    "    print(\"Wrong answer, please check your code again.\")"
   ]
  },
  {
   "cell_type": "markdown",
   "metadata": {
    "id": "C9mv_F8r_Uif"
   },
   "source": [
    "### Exercise 3"
   ]
  },
  {
   "cell_type": "markdown",
   "metadata": {
    "id": "NhSyxp_j_YRa"
   },
   "source": [
    "**Exercise 3.1**: Given a matrix $A$, compute the eigenvalues, eigenvectors and plot them."
   ]
  },
  {
   "cell_type": "code",
   "execution_count": null,
   "metadata": {
    "id": "7kkxk3lCAreD"
   },
   "outputs": [],
   "source": [
    "A = np.array([[1, 4], [5, 7]])\n",
    "A"
   ]
  },
  {
   "cell_type": "code",
   "execution_count": null,
   "metadata": {},
   "outputs": [],
   "source": [
    "evals, evecs = eig(A)\n",
    "print(\"eigenvalues:\\n\", evals)\n",
    "print(\"eigenvectors:\\n\", evecs)"
   ]
  },
  {
   "cell_type": "code",
   "execution_count": null,
   "metadata": {
    "colab": {
     "base_uri": "https://localhost:8080/",
     "height": 555
    },
    "id": "o4B0TKXUAGn5",
    "outputId": "8a6ce5a4-e391-40ee-e36b-f4a551e310ba"
   },
   "outputs": [],
   "source": [
    "evecs = evecs[:, 0], evecs[:, 1]\n",
    "\n",
    "fig, ax = plt.subplots(figsize=(7, 5))\n",
    "\n",
    "# Set the axes through the origin\n",
    "for spine in ['left', 'bottom']:\n",
    "    ax.spines[spine].set_position('zero')\n",
    "for spine in ['right', 'top']:\n",
    "    ax.spines[spine].set_color('none')\n",
    "\n",
    "ax.grid(alpha=0.4)\n",
    "\n",
    "xmin, xmax = -3, 3\n",
    "ymin, ymax = -3, 3\n",
    "ax.set(xlim=(xmin, xmax), ylim=(ymin, ymax))\n",
    "\n",
    "# Plot each eigenvector\n",
    "for v in evecs:\n",
    "    ax.annotate('', xy=v, xytext=(0, 0),\n",
    "                arrowprops=dict(facecolor='blue',\n",
    "                shrink=0,\n",
    "                alpha=0.6,\n",
    "                width=0.5))\n",
    "\n",
    "# Plot the lines they run through\n",
    "x = np.linspace(xmin, xmax, 3)\n",
    "for v in evecs:\n",
    "    a = v[1] / v[0]\n",
    "    ax.plot(x, a * x, 'b-', lw=0.4)\n",
    "\n",
    "plt.show()"
   ]
  },
  {
   "cell_type": "markdown",
   "metadata": {
    "id": "3H8P_QP6DpG2"
   },
   "source": [
    "### Exercise 4\n"
   ]
  },
  {
   "cell_type": "markdown",
   "metadata": {},
   "source": [
    "Please refer to this [quantecon lecture](https://intro.quantecon.org/time_series_with_matrices.html) before solving this exercise."
   ]
  },
  {
   "cell_type": "markdown",
   "metadata": {
    "id": "CRXBNDuUD4pk"
   },
   "source": [
    "Let $ t = 0, \\pm 1, \\pm 2, \\ldots $ index time.\n",
    "\n",
    "For $ t = 1, 2, 3, \\ldots, T $ suppose that\n",
    "\n",
    "\n",
    "$$\n",
    "y_{t} = \\alpha_{0} + \\alpha_{1} y_{t-1}\n",
    "$$\n",
    "\n",
    "where we assume that $ y_0 = 1$, $\\alpha_{0}=5$, and $\\alpha_{1}=1.2$.\n",
    "\n",
    "\n",
    "**Exercise 4.1**: Use the matrix algebra to solve the above time series equation, and plot the solution.\n",
    "\n",
    "*Hint:*\n",
    "\n",
    "\n",
    "*Let’s write our equations as a stacked system*\n",
    "\n",
    "$$\n",
    "\\underset{\\equiv A}{\\underbrace{\\left[\\begin{array}{cccccccc}\n",
    "1 & 0 & 0 & 0 & \\cdots & 0 & 0 & 0\\\\\n",
    "-\\alpha_{1} & 1 & 0 & 0 & \\cdots & 0 & 0 & 0\\\\\n",
    "0 & -\\alpha_{1} & 1 & 0 & \\cdots & 0 & 0 & 0\\\\\n",
    "0 & 0 & -\\alpha_{1} & 1 & \\cdots & 0 & 0 & 0\\\\\n",
    "\\vdots & \\vdots & \\vdots & \\vdots & \\cdots & \\vdots & \\vdots & \\vdots\\\\\n",
    "0 & 0 & 0 & 0 & \\cdots & 0 & -\\alpha_{1} & 1\n",
    "\\end{array}\\right]}}\\left[\\begin{array}{c}\n",
    "y_{1}\\\\\n",
    "y_{2}\\\\\n",
    "y_{3}\\\\\n",
    "y_{4}\\\\\n",
    "\\vdots\\\\\n",
    "y_{T}\n",
    "\\end{array}\\right]=\\underset{\\equiv b}{\\underbrace{\\left[\\begin{array}{c}\n",
    "\\alpha_{0}+\\alpha_{1}y_{0}\\\\\n",
    "\\alpha_{0}\\\\\n",
    "\\alpha_{0}\\\\\n",
    "\\alpha_{0}\\\\\n",
    "\\vdots\\\\\n",
    "\\alpha_{0}\n",
    "\\end{array}\\right]}}\n",
    "$$\n",
    "\n",
    "or\n",
    "\n",
    "$$\n",
    "A y = b\n",
    "$$\n",
    "\n",
    "where\n",
    "\n",
    "$$\n",
    "y = \\begin{bmatrix} y_1 \\cr y_2 \\cr \\vdots \\cr y_T \\end{bmatrix}\n",
    "$$"
   ]
  },
  {
   "cell_type": "code",
   "execution_count": null,
   "metadata": {
    "id": "E8ZE6wFvGTe8"
   },
   "outputs": [],
   "source": [
    "# Parameters\n",
    "\n",
    "T = 20\n",
    "\n",
    "𝛼0 = 5.0\n",
    "𝛼1 = 1.2\n",
    "\n",
    "y0 = 1.0"
   ]
  },
  {
   "cell_type": "code",
   "execution_count": null,
   "metadata": {
    "colab": {
     "base_uri": "https://localhost:8080/",
     "height": 279
    },
    "id": "n_RO4PygD3Vk",
    "outputId": "99acd713-b6fe-49e7-d781-2efc7e69caba"
   },
   "outputs": [],
   "source": [
    "A = np.identity(T)  # The T x T identity matrix\n",
    "\n",
    "for i in range(T):\n",
    "    if i-1 >= 0:\n",
    "        A[i, i-1] = -𝛼1\n",
    "\n",
    "b = np.full(T, 𝛼0)\n",
    "b[0] = 𝛼0 + 𝛼1 * y0\n",
    "\n",
    "y = np.linalg.solve(A, b)\n",
    "\n",
    "plt.plot(np.arange(T) + 1, y)\n",
    "plt.xlabel('t')\n",
    "plt.ylabel('y')\n",
    "\n",
    "plt.show()"
   ]
  },
  {
   "cell_type": "markdown",
   "metadata": {
    "tags": []
   },
   "source": [
    "## Monte Carlo\n",
    "After reading the section [An introduction to Monte Carlo](https://intro.quantecon.org/monte_carlo.html#an-introduction-to-monte-carlo) answer the following questions.\n",
    "\n",
    "### Exercise 5\n",
    "Consider a random variable $S$ in the following form\n",
    "\n",
    "$$\n",
    "S = \\left ( \\sum^M_{i=1} X_i \\right )^p\n",
    "$$\n",
    "\n",
    "where $X_i \\sim LN (\\mu_i, \\sigma_i)$, $M\\in \\mathbb N$ and $p$ is a positive number known to us."
   ]
  },
  {
   "cell_type": "markdown",
   "metadata": {},
   "source": [
    "#### Exercise 5.1\n",
    "\n",
    "First let $M=1$ and $p=1$. Now we have\n",
    "\n",
    "$$\n",
    "    S = X_1\n",
    "$$\n",
    "where $X_1 \\sim LN (\\mu_1, \\sigma_1)$.\n",
    "\n",
    "Answer the following questions:\n",
    "\n",
    "**Exercise 5.1.1**\n",
    "\n",
    "Write down the analytical solutions to $\\mathbb E S$ and $\\mathop{\\mathrm{Var}} S$."
   ]
  },
  {
   "cell_type": "markdown",
   "metadata": {},
   "source": [
    "**Solution to Exercise 5.1.1**\n",
    "\n",
    "See section [*Share price with known distribution*](https://intro.quantecon.org/monte_carlo.html#share-price-with-known-distribution)."
   ]
  },
  {
   "cell_type": "markdown",
   "metadata": {},
   "source": [
    "**Exercise 5.1.2**\n",
    "\n",
    "Define two python functions `mean_analytical` and `var_analytical` to compute the $\\mathbb E S$ and $\\mathop{\\mathrm{Var}} S$ directly according to their analytical solutions."
   ]
  },
  {
   "cell_type": "markdown",
   "metadata": {},
   "source": [
    "**Solution to Exercise 5.1.2**"
   ]
  },
  {
   "cell_type": "code",
   "execution_count": null,
   "metadata": {},
   "outputs": [],
   "source": [
    "def mean_analytical(μ_1, σ_1):\n",
    "    return np.exp(μ_1 + σ_1 ** 2 / 2)"
   ]
  },
  {
   "cell_type": "code",
   "execution_count": null,
   "metadata": {},
   "outputs": [],
   "source": [
    "def var_analytical(μ_1, σ_1):\n",
    "    return (np.exp(σ_1 ** 2) - 1) * np.exp(2 * μ_1 + σ_1 ** 2)"
   ]
  },
  {
   "cell_type": "markdown",
   "metadata": {},
   "source": [
    "**Exercise 5.1.3**\n",
    "\n",
    "Given "
   ]
  },
  {
   "cell_type": "code",
   "execution_count": null,
   "metadata": {},
   "outputs": [],
   "source": [
    "n = 1_000_000\n",
    "p = 1\n",
    "μ_1 = 0.2\n",
    "σ_1 = 0.1"
   ]
  },
  {
   "attachments": {},
   "cell_type": "markdown",
   "metadata": {},
   "source": [
    "Approximate $\\mathbb E S$ by Monte Carlo simulation in loop. \n",
    "\n",
    "Compare the result with the analytical solution.\n",
    "\n",
    "Hint: \n",
    "$$\n",
    "\\mathbb E S \\approx  \n",
    "\\frac{1}{n} \\sum_{i=1}^n S_i    \n",
    "$$"
   ]
  },
  {
   "cell_type": "markdown",
   "metadata": {},
   "source": [
    "**Solution to Exercise 5.1.3**"
   ]
  },
  {
   "cell_type": "code",
   "execution_count": null,
   "metadata": {},
   "outputs": [],
   "source": [
    "S = 0.0\n",
    "for i in range(n):\n",
    "    X_1 = np.exp(μ_1 + σ_1 * randn())\n",
    "    S += (X_1)**p\n",
    "S_mean_mc = S / n\n",
    "S_mean_analytical = mean_analytical(μ_1, σ_1)"
   ]
  },
  {
   "cell_type": "code",
   "execution_count": null,
   "metadata": {},
   "outputs": [],
   "source": [
    "print(\"Monte Carlo simulation of ES in loop is \", S_mean_mc)  \n",
    "print(\"Analytical solution result of ES is \", S_mean_analytical)"
   ]
  },
  {
   "cell_type": "markdown",
   "metadata": {},
   "source": [
    "**Exercise 5.1.4**\n",
    "\n",
    "With the same setup"
   ]
  },
  {
   "cell_type": "code",
   "execution_count": null,
   "metadata": {},
   "outputs": [],
   "source": [
    "n = 1_000_000\n",
    "p = 1\n",
    "μ_1 = 0.2\n",
    "σ_1 = 0.1"
   ]
  },
  {
   "cell_type": "markdown",
   "metadata": {},
   "source": [
    "and given $\\mathbb ES$, approximate $\\mathop{\\mathrm{Var}} S$ by Monte Carlo simulation.\n",
    "\n",
    "Compare it with the analytical solution.\n",
    "\n",
    "Hint. Note that $\\mathop{\\mathrm{Var}} S = \\mathbb E \\left [S - \\mathbb E S \\right ]^2$."
   ]
  },
  {
   "cell_type": "markdown",
   "metadata": {},
   "source": [
    "**Solution to Exercise 5.1.4**\n",
    "\n",
    "We can use the result of either analytical solution or Monte Carolo simulation for $\\mathbb S$."
   ]
  },
  {
   "cell_type": "code",
   "execution_count": null,
   "metadata": {},
   "outputs": [],
   "source": [
    "S = 0.0\n",
    "for i in range(n):\n",
    "    X_1 = np.exp(μ_1 + σ_1 * randn())\n",
    "    S += ((X_1)**p - S_mean_analytical) ** 2 \n",
    "S_var_mc = S / n"
   ]
  },
  {
   "cell_type": "code",
   "execution_count": null,
   "metadata": {},
   "outputs": [],
   "source": [
    "S_var_analytical = var_analytical(μ_1, σ_1)"
   ]
  },
  {
   "cell_type": "code",
   "execution_count": null,
   "metadata": {},
   "outputs": [],
   "source": [
    "print(\"Monte Carlo simulation of VarS in loop is \", S_var_mc)  \n",
    "print(\"Analytical solution result of VarS is \", S_var_analytical)"
   ]
  },
  {
   "cell_type": "markdown",
   "metadata": {},
   "source": [
    "**Exercise 5.1.5**\n",
    "\n",
    "With the same setup"
   ]
  },
  {
   "cell_type": "code",
   "execution_count": null,
   "metadata": {},
   "outputs": [],
   "source": [
    "n = 1_000_000\n",
    "p = 1\n",
    "μ_1 = 0.2\n",
    "σ_1 = 0.1"
   ]
  },
  {
   "cell_type": "markdown",
   "metadata": {},
   "source": [
    "Rewrite the loops in Exercises 1.1.3 and 1.1.4 with vectorization."
   ]
  },
  {
   "cell_type": "markdown",
   "metadata": {},
   "source": [
    "**Solution to Exercise 5.1.5**\n",
    "\n",
    "First $\\mathbb E S$."
   ]
  },
  {
   "cell_type": "code",
   "execution_count": null,
   "metadata": {},
   "outputs": [],
   "source": [
    "X_1 = np.exp(μ_1 + σ_1 * randn(n))\n",
    "S = (X_1)**p\n",
    "S_mean_mc = S.mean()\n",
    "print(\"Monte Carlo simulation of ES in vectorization is \", S_mean_mc)  "
   ]
  },
  {
   "cell_type": "markdown",
   "metadata": {},
   "source": [
    "Then $\\mathop{\\mathrm{Var}} S$."
   ]
  },
  {
   "cell_type": "code",
   "execution_count": null,
   "metadata": {},
   "outputs": [],
   "source": [
    "X_1 = np.exp(μ_1 + σ_1 * randn(n))\n",
    "S = ((X_1)**p - S_mean_analytical) ** 2\n",
    "S_var_mc = S.mean()\n",
    "print(\"Monte Carlo simulation of VarS in vectorization is \", S_var_mc) "
   ]
  },
  {
   "cell_type": "markdown",
   "metadata": {},
   "source": [
    "#### Exercise 5.2\n",
    "\n",
    "Let $M=3$. Then we have\n",
    "\n",
    "$$\n",
    "    S = (X_1 + X_2 + X_3)^p\n",
    "$$\n",
    "which is the same form as our lecture [here](https://intro.quantecon.org/monte_carlo.html#share-price-with-unknown-distribution).\n",
    "\n",
    "Now we don't have analytical solutions for $\\mathbb E S$ and $\\mathop{\\mathrm{Var}} S$.\n",
    "\n",
    "We use the following values for $ p $ and each $ \\mu_i $ and $ \\sigma_i $."
   ]
  },
  {
   "cell_type": "code",
   "execution_count": null,
   "metadata": {},
   "outputs": [],
   "source": [
    "n = 1_000_000\n",
    "p = 0.5\n",
    "μ_1, μ_2, μ_3 = 0.2, 0.8, 0.4\n",
    "σ_1, σ_2, σ_3 = 0.1, 0.05, 0.2"
   ]
  },
  {
   "cell_type": "markdown",
   "metadata": {},
   "source": [
    "Here is a vectorized function that computes $\\mathbb S$ using Monte carlo from the [lecture](https://intro.quantecon.org/monte_carlo.html#a-vectorized-routine)."
   ]
  },
  {
   "cell_type": "code",
   "execution_count": null,
   "metadata": {},
   "outputs": [],
   "source": [
    "def compute_mean_vectorized(n=1_000_000):\n",
    "    X_1 = np.exp(μ_1 + σ_1 * randn(n))\n",
    "    X_2 = np.exp(μ_2 + σ_2 * randn(n))\n",
    "    X_3 = np.exp(μ_3 + σ_3 * randn(n))\n",
    "    S = (X_1 + X_2 + X_3)**p\n",
    "    return S.mean()"
   ]
  },
  {
   "cell_type": "code",
   "execution_count": null,
   "metadata": {},
   "outputs": [],
   "source": [
    "S_mean_mc_new = compute_mean_vectorized(n)\n",
    "print(\"Monte Carlo simulation of ES in vectorization is\", S_mean_mc_new)  "
   ]
  },
  {
   "cell_type": "markdown",
   "metadata": {},
   "source": [
    "**Exercise 5.2.1** \n",
    "\n",
    "Given the monte carlo simulation of $\\mathbb ES$,\n",
    "\n",
    "approximate $\\mathop{\\mathrm{Var}} S$ by Monte Carlo simulation in loop."
   ]
  },
  {
   "cell_type": "markdown",
   "metadata": {},
   "source": [
    "**Solution to Exercise 5.2.1**"
   ]
  },
  {
   "cell_type": "code",
   "execution_count": null,
   "metadata": {},
   "outputs": [],
   "source": [
    "S = 0.0\n",
    "for i in range(n):\n",
    "    X_1 = np.exp(μ_1 + σ_1 * randn())\n",
    "    X_2 = np.exp(μ_2 + σ_2 * randn())\n",
    "    X_3 = np.exp(μ_3 + σ_3 * randn())\n",
    "    S += ((X_1 + X_2 + X_3)**p - S_mean_mc_new) ** 2\n",
    "S_var_mc_new_loop = S / n"
   ]
  },
  {
   "cell_type": "code",
   "execution_count": null,
   "metadata": {},
   "outputs": [],
   "source": [
    "print(\"Monte Carlo simulation of VarS in loop is\", S_var_mc_new_loop) "
   ]
  },
  {
   "cell_type": "markdown",
   "metadata": {},
   "source": [
    "**Exercise 5.2.2**\n",
    "\n",
    "Rewrite the loop in Exercise 1.2.1 with vectorization."
   ]
  },
  {
   "cell_type": "code",
   "execution_count": null,
   "metadata": {},
   "outputs": [],
   "source": [
    "X_1 = np.exp(μ_1 + σ_1 * randn(n))\n",
    "X_2 = np.exp(μ_2 + σ_2 * randn(n))\n",
    "X_3 = np.exp(μ_3 + σ_3 * randn(n))\n",
    "S = ((X_1 + X_2 + X_3)**p - S_mean_mc_new) ** 2\n",
    "S_var_mc_new = S.mean()"
   ]
  },
  {
   "cell_type": "code",
   "execution_count": null,
   "metadata": {},
   "outputs": [],
   "source": [
    "print(\"Monte Carlo simulation of VarS in vectorization is\", S_var_mc_new) "
   ]
  },
  {
   "cell_type": "markdown",
   "metadata": {},
   "source": [
    "### Exercise 6\n",
    "\n",
    "Here's a harder exercise, that takes some thought and planning.\n",
    "\n",
    "The task is to compute an approximation to $\\pi$ using Monte Carlo\n",
    "\n",
    "Your hints are as follows:\n",
    "\n",
    "* If $U$ is a bivariate uniform random variable on the unit square $(0, 1)^2$, then the probability that $U$ lies in a subset $B$ of $(0,1)^2$ is equal to the area of $B$.\n",
    "* If $U_1,\\ldots,U_n$ are IID copies of $U$, then, as $n$ gets large, the fraction that falls in $B$, converges to the probability of landing in $B$.\n",
    "* For a circle, $area = \\pi * radius^2$."
   ]
  },
  {
   "cell_type": "code",
   "execution_count": null,
   "metadata": {},
   "outputs": [],
   "source": [
    "n = 1000000 # sample size for Monte Carlo simulation\n",
    "\n",
    "count = 0\n",
    "for i in range(n):\n",
    "\n",
    "    # drawing random positions on the square\n",
    "    u, v = np.random.uniform(), np.random.uniform()\n",
    "\n",
    "    # check whether the point falls within the boundary\n",
    "    # of the unit circle centred at (0.5,0.5)\n",
    "    d = np.sqrt((u - 0.5)**2 + (v - 0.5)**2)\n",
    "\n",
    "    # if it falls within the inscribed circle, \n",
    "    # add it to the count\n",
    "    if d < 0.5:\n",
    "        count += 1\n",
    "\n",
    "area_estimate = count / n\n",
    "\n",
    "print(area_estimate * 4)  # dividing by radius**2"
   ]
  }
 ],
 "metadata": {
  "colab": {
   "collapsed_sections": [],
   "name": "linear_algebra_exercise.ipynb",
   "provenance": []
  },
  "kernelspec": {
   "display_name": "Python 3 (ipykernel)",
   "language": "python",
   "name": "python3"
  },
  "language_info": {
   "codemirror_mode": {
    "name": "ipython",
    "version": 3
   },
   "file_extension": ".py",
   "mimetype": "text/x-python",
   "name": "python",
   "nbconvert_exporter": "python",
   "pygments_lexer": "ipython3",
   "version": "3.9.16"
  }
 },
 "nbformat": 4,
 "nbformat_minor": 4
}
