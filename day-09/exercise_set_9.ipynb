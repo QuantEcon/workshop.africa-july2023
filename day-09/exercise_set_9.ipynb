{
 "cells": [
  {
   "cell_type": "markdown",
   "id": "93e38185",
   "metadata": {},
   "source": [
    "# Pandas fundamentals"
   ]
  },
  {
   "attachments": {},
   "cell_type": "markdown",
   "id": "4cd356b2",
   "metadata": {},
   "source": [
    "#### Written for the QuantEcon Africa Workshop (July 2023)\n",
    "#### Author: [Shu Hu](https://shu-hu.com/intro.html) and [Hengcheng Zhang](https://github.com/HengchengZhang)"
   ]
  },
  {
   "attachments": {},
   "cell_type": "markdown",
   "id": "f30d8e65",
   "metadata": {},
   "source": [
    "First we install and import necessary packages."
   ]
  },
  {
   "cell_type": "code",
   "execution_count": null,
   "id": "04e9ea22",
   "metadata": {},
   "outputs": [],
   "source": [
    "%%capture\n",
    "! pip install --upgrade pandas-datareader\n",
    "! pip install --upgrade statsmodels"
   ]
  },
  {
   "cell_type": "code",
   "execution_count": null,
   "id": "2ac3cb05",
   "metadata": {},
   "outputs": [],
   "source": [
    "import numpy as np\n",
    "import pandas as pd\n",
    "import matplotlib.pyplot as plt"
   ]
  },
  {
   "attachments": {},
   "cell_type": "markdown",
   "id": "84d7222c",
   "metadata": {},
   "source": [
    "### Exercise 1 (View data)"
   ]
  },
  {
   "cell_type": "markdown",
   "id": "82d990c4",
   "metadata": {},
   "source": [
    "Given the dataframe below you are required to do the following exercises."
   ]
  },
  {
   "cell_type": "code",
   "execution_count": null,
   "id": "b3f05b7c",
   "metadata": {},
   "outputs": [],
   "source": [
    "df = pd.read_csv(\n",
    "    'https://raw.githubusercontent.com/QuantEcon/lecture-python-programming/master/source/_static/lecture_specific/pandas/data/test_pwt.csv')"
   ]
  },
  {
   "cell_type": "code",
   "execution_count": null,
   "id": "8566b111",
   "metadata": {},
   "outputs": [],
   "source": [
    "df"
   ]
  },
  {
   "cell_type": "markdown",
   "id": "bfe639a4",
   "metadata": {},
   "source": [
    "### Exercise 1.1\n",
    "\n",
    "Show the top 5 rows of the dataframe ``df``."
   ]
  },
  {
   "cell_type": "code",
   "execution_count": null,
   "id": "82404779",
   "metadata": {},
   "outputs": [],
   "source": [
    "# TODO: Put your code here"
   ]
  },
  {
   "cell_type": "markdown",
   "id": "9e6118a5",
   "metadata": {},
   "source": [
    "### Exercise 1.2\n",
    "\n",
    "Show the bottom 5 rows of the dataframe ``df``."
   ]
  },
  {
   "cell_type": "code",
   "execution_count": null,
   "id": "93f6d669",
   "metadata": {},
   "outputs": [],
   "source": [
    "# TODO: Put your code here"
   ]
  },
  {
   "cell_type": "markdown",
   "id": "9ccf345a",
   "metadata": {},
   "source": [
    "### Exercise 1.3\n",
    "\n",
    "Show a quick statistic summary of the dataframe ``df``."
   ]
  },
  {
   "cell_type": "code",
   "execution_count": null,
   "id": "706fb250",
   "metadata": {},
   "outputs": [],
   "source": [
    "# TODO: Put your code here"
   ]
  },
  {
   "cell_type": "markdown",
   "id": "46c691a0",
   "metadata": {},
   "source": [
    "### Exercise 1.4\n",
    "\n",
    "Transpose the dataframe ``df``."
   ]
  },
  {
   "cell_type": "code",
   "execution_count": null,
   "id": "f3b3b2ba",
   "metadata": {},
   "outputs": [],
   "source": [
    "# TODO: Put your code here"
   ]
  },
  {
   "cell_type": "markdown",
   "id": "a9e76dc9",
   "metadata": {},
   "source": [
    "### Exercise 1.5\n",
    "\n",
    "Sort the dataframe ``df`` by values in column ``tcgdp`` ascendingly."
   ]
  },
  {
   "cell_type": "code",
   "execution_count": null,
   "id": "1605fb7d",
   "metadata": {},
   "outputs": [],
   "source": [
    "# TODO: Put your code here"
   ]
  },
  {
   "cell_type": "markdown",
   "id": "6fc52a2c",
   "metadata": {},
   "source": [
    "### Exercise 2 (Select data)"
   ]
  },
  {
   "cell_type": "markdown",
   "id": "c230f415",
   "metadata": {},
   "source": [
    "### Exercise 2.1\n",
    "\n",
    "Select the column ``tcgdp`` from the dataframe ``df``, yielding a series."
   ]
  },
  {
   "cell_type": "code",
   "execution_count": null,
   "id": "a31e7945",
   "metadata": {},
   "outputs": [],
   "source": [
    "# TODO: Put your code here"
   ]
  },
  {
   "cell_type": "markdown",
   "id": "db206ace",
   "metadata": {},
   "source": [
    "### Exercise 2.2\n",
    "\n",
    "Select the top 3 rows from the dataframe ``df``."
   ]
  },
  {
   "cell_type": "code",
   "execution_count": null,
   "id": "978a7e93",
   "metadata": {},
   "outputs": [],
   "source": [
    "# TODO: Put your code here"
   ]
  },
  {
   "cell_type": "markdown",
   "id": "b141c3b0",
   "metadata": {},
   "source": [
    "### Exercise 2.3\n",
    "\n",
    "\n",
    "Get the first row of data across all the columns."
   ]
  },
  {
   "cell_type": "code",
   "execution_count": null,
   "id": "2d24a4e1",
   "metadata": {},
   "outputs": [],
   "source": [
    "# TODO: Put your code here"
   ]
  },
  {
   "cell_type": "markdown",
   "id": "3c43aa2e",
   "metadata": {},
   "source": [
    "### Exercise 2.4\n",
    "\n",
    "Select all values on two columns ``country`` and ``POP``."
   ]
  },
  {
   "cell_type": "code",
   "execution_count": null,
   "id": "aaaabcad",
   "metadata": {},
   "outputs": [],
   "source": [
    "# TODO: Put your code here"
   ]
  },
  {
   "cell_type": "markdown",
   "id": "8efc6931",
   "metadata": {},
   "source": [
    "### Exercise 2.5\n",
    "\n",
    "Select values in rows 2-4 on two columns ``country`` and ``POP``."
   ]
  },
  {
   "cell_type": "code",
   "execution_count": null,
   "id": "a16f2e55",
   "metadata": {},
   "outputs": [],
   "source": [
    "# TODO: Put your code here"
   ]
  },
  {
   "cell_type": "markdown",
   "id": "45257c92",
   "metadata": {},
   "source": [
    "### Exercise 2.6\n",
    "\n",
    "Get a scalar value for the 2nd row in the column ``POP`` which should be ``1006300.297``."
   ]
  },
  {
   "cell_type": "code",
   "execution_count": null,
   "id": "30461e8c",
   "metadata": {},
   "outputs": [],
   "source": [
    "# TODO: Put your code here"
   ]
  },
  {
   "cell_type": "markdown",
   "id": "df59f094",
   "metadata": {},
   "source": [
    "### Exercise 3 (Boolean indexing)"
   ]
  },
  {
   "cell_type": "markdown",
   "id": "8b27f547",
   "metadata": {},
   "source": [
    "### Exercise 3.1 \n",
    "\n",
    "Select data with column ``POP``'s values greater than ``30_000``."
   ]
  },
  {
   "cell_type": "code",
   "execution_count": null,
   "id": "3914a393",
   "metadata": {},
   "outputs": [],
   "source": [
    "# TODO: Put your code here"
   ]
  },
  {
   "cell_type": "markdown",
   "id": "34e703ec",
   "metadata": {},
   "source": [
    "### Exercise 3.2\n",
    "\n",
    "We see"
   ]
  },
  {
   "cell_type": "code",
   "execution_count": null,
   "id": "c04858cd",
   "metadata": {},
   "outputs": [],
   "source": [
    "df1 = df.copy()\n",
    "df1"
   ]
  },
  {
   "cell_type": "code",
   "execution_count": null,
   "id": "da845220",
   "metadata": {},
   "outputs": [],
   "source": [
    "df1[\"X\"] = [\"A\", \"B\", \"C\", \"D\", \"E\", \"F\", \"G\",\"H\"]"
   ]
  },
  {
   "cell_type": "code",
   "execution_count": null,
   "id": "b05c4c5f",
   "metadata": {},
   "outputs": [],
   "source": [
    "df1"
   ]
  },
  {
   "cell_type": "markdown",
   "id": "f803f63e",
   "metadata": {},
   "source": [
    "Filter rows containing ``A``, ``C``, ``G`` in column ``X`` using method [isin()](https://pandas.pydata.org/docs/reference/api/pandas.Series.isin.html#pandas.Series.isin)."
   ]
  },
  {
   "cell_type": "code",
   "execution_count": null,
   "id": "7d5b4f10",
   "metadata": {},
   "outputs": [],
   "source": [
    "# TODO: Put your code here"
   ]
  },
  {
   "attachments": {},
   "cell_type": "markdown",
   "id": "ab9b50a6",
   "metadata": {},
   "source": [
    "### Exercise 4"
   ]
  },
  {
   "attachments": {},
   "cell_type": "markdown",
   "id": "4c0f7d73",
   "metadata": {},
   "source": [
    "Let's consider the following dataframe ``df``."
   ]
  },
  {
   "cell_type": "code",
   "execution_count": null,
   "id": "b6737b1a",
   "metadata": {},
   "outputs": [],
   "source": [
    "url = \"https://datascience.quantecon.org/assets/data/bball.csv\"\n",
    "df = pd.read_csv(url)"
   ]
  },
  {
   "cell_type": "code",
   "execution_count": null,
   "id": "8f495d87",
   "metadata": {},
   "outputs": [],
   "source": [
    "df"
   ]
  },
  {
   "attachments": {},
   "cell_type": "markdown",
   "id": "34d85843",
   "metadata": {},
   "source": [
    "### Exercise 4.1 (Merge vs Group)\n",
    "\n",
    "Given two dataframes ``df1`` and ``df2``, concatenate them together."
   ]
  },
  {
   "cell_type": "code",
   "execution_count": null,
   "id": "5630ea25",
   "metadata": {},
   "outputs": [],
   "source": [
    "df1 = df[0:3]\n",
    "df2 = df[3:]"
   ]
  },
  {
   "cell_type": "code",
   "execution_count": null,
   "id": "e1c4218b",
   "metadata": {},
   "outputs": [],
   "source": [
    "# TODO: Put your code here"
   ]
  },
  {
   "attachments": {},
   "cell_type": "markdown",
   "id": "05cf339d",
   "metadata": {},
   "source": [
    "### Exercise 4.2 (Group)\n",
    "\n",
    "Group the dataframe ``df`` by column ``Player`` and apply the ``sum()`` function to the resulting groups."
   ]
  },
  {
   "cell_type": "code",
   "execution_count": null,
   "id": "4c9f87cd",
   "metadata": {},
   "outputs": [],
   "source": [
    "# TODO: Put your code here"
   ]
  },
  {
   "attachments": {},
   "cell_type": "markdown",
   "id": "19e99c17",
   "metadata": {},
   "source": [
    "### Exercise 4.3 (Group)\n",
    "\n",
    "Group the dataframe ``df`` by column ``Player`` and apply ``mean()`` function to the resulting groups."
   ]
  },
  {
   "cell_type": "code",
   "execution_count": null,
   "id": "ca14399f",
   "metadata": {},
   "outputs": [],
   "source": [
    "# TODO: Put your code here"
   ]
  },
  {
   "attachments": {},
   "cell_type": "markdown",
   "id": "a4c86444",
   "metadata": {},
   "source": [
    "### Exercise 5\n",
    "\n",
    "Please read the following QuantEcon lecture before starting:\n",
    "- https://python-programming.quantecon.org/pandas.html\n",
    "\n",
    "From reading we know that we can use [pandas-datareader](https://pandas-datareader.readthedocs.io/en/latest/) to access online data."
   ]
  },
  {
   "cell_type": "code",
   "execution_count": null,
   "id": "e14a5243",
   "metadata": {},
   "outputs": [],
   "source": [
    "from pandas_datareader import wb"
   ]
  },
  {
   "attachments": {},
   "cell_type": "markdown",
   "id": "ebcda398",
   "metadata": {},
   "source": [
    "### Exercise 5.1\n",
    "\n",
    "Use [wb.search()](https://pandas-datareader.readthedocs.io/en/latest/readers/world-bank.html?highlight=search#pandas_datareader.wb.search) method to find the Gross Domestic Products per capita in constant 2015 US$.\n",
    "\n",
    "(Hint: use keywords, such as ``GDP`` or ``capita``.)"
   ]
  },
  {
   "cell_type": "code",
   "execution_count": null,
   "id": "dd4af562",
   "metadata": {},
   "outputs": [],
   "source": [
    "# TODO: Put your code here"
   ]
  },
  {
   "attachments": {},
   "cell_type": "markdown",
   "id": "ffcc0601",
   "metadata": {},
   "source": [
    "### Exercise 5.2\n",
    "Using the id you obtained from Exercise 2.1 to acquire GDP per capita data \n",
    "- for countries US (``US``) and Australia (``AU``)\n",
    "- from year 2000 to 2022,\n",
    "\n",
    "and store the data in a dataframe called ``dat``."
   ]
  },
  {
   "cell_type": "code",
   "execution_count": null,
   "id": "cf5da12b",
   "metadata": {},
   "outputs": [],
   "source": [
    "# TODO: Put your code here"
   ]
  },
  {
   "attachments": {},
   "cell_type": "markdown",
   "id": "a72314cd",
   "metadata": {},
   "source": [
    "### Exercise 5.3\n",
    "\n",
    "Calculate the average GDP per capita for these two countries, respectively, over the period.\n",
    "\n",
    "(HINT: Use ``.groupby`` from Exercise 4.)"
   ]
  },
  {
   "cell_type": "code",
   "execution_count": null,
   "id": "e335a0a2",
   "metadata": {},
   "outputs": [],
   "source": [
    "# TODO: Put your code here"
   ]
  },
  {
   "attachments": {},
   "cell_type": "markdown",
   "id": "444d20b1",
   "metadata": {},
   "source": [
    "### Exercise 5.4\n",
    "\n",
    "Plot the GDP per capita from 2000 to 2022 as time series for the two countries."
   ]
  },
  {
   "cell_type": "code",
   "execution_count": null,
   "id": "ab68f01e",
   "metadata": {},
   "outputs": [],
   "source": [
    "# TODO: Put your code here"
   ]
  },
  {
   "attachments": {},
   "cell_type": "markdown",
   "id": "02f84f61",
   "metadata": {},
   "source": [
    "## Exercise 6 (Climate change vs GDP growth)\n",
    "\n",
    "Next let's compare GDP per capita to the share of Droughts, floods and extreme temperatures around the world."
   ]
  },
  {
   "attachments": {},
   "cell_type": "markdown",
   "id": "7f8a2756",
   "metadata": {},
   "source": [
    "### Exercise 6.1\n",
    "\n",
    "Use [wb.search()](https://pandas-datareader.readthedocs.io/en/latest/readers/world-bank.html?highlight=search#pandas_datareader.wb.search) method to find the share of Droughts, floods, extreme temperatures."
   ]
  },
  {
   "cell_type": "code",
   "execution_count": null,
   "id": "1dd06bd1",
   "metadata": {},
   "outputs": [],
   "source": [
    "# TODO: Put your code here"
   ]
  },
  {
   "attachments": {},
   "cell_type": "markdown",
   "id": "0b89ddba",
   "metadata": {},
   "source": [
    "### Exercise 6.2 \n",
    "\n",
    "Acquire the GDP per capita and the share of extreme weather for **ALL** available countries in year 2009 using ``id``s from Exercises 5.1 and 6.1.\n",
    "\n",
    "Store the acquired data in a dataframe called ``df`` and name the columns by ``gdp`` and ``eweather``, respectively."
   ]
  },
  {
   "attachments": {},
   "cell_type": "markdown",
   "id": "8f10496c",
   "metadata": {},
   "source": [
    "Here a higher value in the column ``eweather`` means that the corresponding country experienced more extreme weather situations."
   ]
  },
  {
   "cell_type": "code",
   "execution_count": null,
   "id": "9c92bc58",
   "metadata": {},
   "outputs": [],
   "source": [
    "# TODO: Put your code here"
   ]
  },
  {
   "attachments": {},
   "cell_type": "markdown",
   "id": "6fc0f8a1",
   "metadata": {},
   "source": [
    "### Exercise 6.3 \n",
    "\n",
    "Use the [statsmodels](https://www.statsmodels.org/stable/regression.html) package to assess the relation between ``gdp`` and ``eweather`` using ordinary least squares regression."
   ]
  },
  {
   "cell_type": "code",
   "execution_count": null,
   "id": "527b1a79",
   "metadata": {},
   "outputs": [],
   "source": [
    "import statsmodels.formula.api as sm"
   ]
  },
  {
   "cell_type": "code",
   "execution_count": null,
   "id": "a8f79134",
   "metadata": {},
   "outputs": [],
   "source": [
    "# TODO: Put your code here"
   ]
  }
 ],
 "metadata": {
  "kernelspec": {
   "display_name": "Python 3 (ipykernel)",
   "language": "python",
   "name": "python3"
  },
  "language_info": {
   "codemirror_mode": {
    "name": "ipython",
    "version": 3
   },
   "file_extension": ".py",
   "mimetype": "text/x-python",
   "name": "python",
   "nbconvert_exporter": "python",
   "pygments_lexer": "ipython3",
   "version": "3.10.9"
  }
 },
 "nbformat": 4,
 "nbformat_minor": 5
}
