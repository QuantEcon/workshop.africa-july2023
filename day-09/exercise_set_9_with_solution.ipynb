{
 "cells": [
  {
   "cell_type": "markdown",
   "id": "93e38185",
   "metadata": {},
   "source": [
    "# Pandas fundamentals"
   ]
  },
  {
   "attachments": {},
   "cell_type": "markdown",
   "id": "4cd356b2",
   "metadata": {},
   "source": [
    "#### Written for the QuantEcon Africa Workshop (July 2023)\n",
    "#### Author: [Shu Hu](https://shu-hu.com/intro.html) and [Hengcheng Zhang](https://github.com/HengchengZhang)"
   ]
  },
  {
   "cell_type": "code",
   "execution_count": null,
   "id": "2cc83f2c",
   "metadata": {},
   "outputs": [],
   "source": [
    "! pip install --upgrade pandas-datareader"
   ]
  },
  {
   "cell_type": "code",
   "execution_count": null,
   "id": "2ac3cb05",
   "metadata": {},
   "outputs": [],
   "source": [
    "import numpy as np\n",
    "import pandas as pd\n",
    "import matplotlib.pyplot as plt"
   ]
  },
  {
   "cell_type": "markdown",
   "id": "82d990c4",
   "metadata": {},
   "source": [
    "Given the dataframe below you are required to do the following exercises."
   ]
  },
  {
   "cell_type": "code",
   "execution_count": null,
   "id": "b3f05b7c",
   "metadata": {},
   "outputs": [],
   "source": [
    "df = pd.read_csv(\n",
    "    'https://raw.githubusercontent.com/QuantEcon/lecture-python-programming/master/source/_static/lecture_specific/pandas/data/test_pwt.csv')"
   ]
  },
  {
   "cell_type": "code",
   "execution_count": null,
   "id": "8566b111",
   "metadata": {},
   "outputs": [],
   "source": [
    "df"
   ]
  },
  {
   "cell_type": "markdown",
   "id": "b266ec57",
   "metadata": {},
   "source": [
    "### Exercise 1 (View data)"
   ]
  },
  {
   "cell_type": "markdown",
   "id": "bfe639a4",
   "metadata": {},
   "source": [
    "### Exercise 1.1\n",
    "\n",
    "Show the top 5 rows of the dataframe ``df``."
   ]
  },
  {
   "cell_type": "code",
   "execution_count": null,
   "id": "82404779",
   "metadata": {},
   "outputs": [],
   "source": [
    "df.head(5)"
   ]
  },
  {
   "cell_type": "markdown",
   "id": "9e6118a5",
   "metadata": {},
   "source": [
    "### Exercise 1.2\n",
    "\n",
    "Show the bottom 5 rows of the dataframe ``df``."
   ]
  },
  {
   "cell_type": "code",
   "execution_count": null,
   "id": "93f6d669",
   "metadata": {},
   "outputs": [],
   "source": [
    "df.tail(5)"
   ]
  },
  {
   "cell_type": "markdown",
   "id": "9ccf345a",
   "metadata": {},
   "source": [
    "### Exercise 1.3\n",
    "\n",
    "Show a quick statistic summary of the dataframe ``df``."
   ]
  },
  {
   "cell_type": "code",
   "execution_count": null,
   "id": "706fb250",
   "metadata": {},
   "outputs": [],
   "source": [
    "df.info()"
   ]
  },
  {
   "cell_type": "markdown",
   "id": "46c691a0",
   "metadata": {},
   "source": [
    "### Exercise 1.4\n",
    "\n",
    "Transpose the dataframe ``df``."
   ]
  },
  {
   "cell_type": "code",
   "execution_count": null,
   "id": "f3b3b2ba",
   "metadata": {},
   "outputs": [],
   "source": [
    "df.T"
   ]
  },
  {
   "cell_type": "markdown",
   "id": "a9e76dc9",
   "metadata": {},
   "source": [
    "### Exercise 1.5\n",
    "\n",
    "Sort the dataframe ``df`` by values in column ``tcgdp`` ascendingly."
   ]
  },
  {
   "cell_type": "code",
   "execution_count": null,
   "id": "1605fb7d",
   "metadata": {},
   "outputs": [],
   "source": [
    "df.sort_values(by=\"tcgdp\")"
   ]
  },
  {
   "cell_type": "markdown",
   "id": "6fc52a2c",
   "metadata": {},
   "source": [
    "### Exercise 2 (Select data)"
   ]
  },
  {
   "cell_type": "markdown",
   "id": "c230f415",
   "metadata": {},
   "source": [
    "### Exercise 2.1\n",
    "\n",
    "Select the column ``tcgdp`` from the dataframe ``df``, yielding a series."
   ]
  },
  {
   "cell_type": "code",
   "execution_count": null,
   "id": "a31e7945",
   "metadata": {},
   "outputs": [],
   "source": [
    "df[\"tcgdp\"]"
   ]
  },
  {
   "cell_type": "code",
   "execution_count": null,
   "id": "5cd47727",
   "metadata": {},
   "outputs": [],
   "source": [
    "# Alternative solution\n",
    "df.tcgdp"
   ]
  },
  {
   "cell_type": "markdown",
   "id": "db206ace",
   "metadata": {},
   "source": [
    "### Exercise 2.2\n",
    "\n",
    "Select the top 3 rows from the dataframe ``df``."
   ]
  },
  {
   "cell_type": "code",
   "execution_count": null,
   "id": "978a7e93",
   "metadata": {},
   "outputs": [],
   "source": [
    "df[0:3]"
   ]
  },
  {
   "cell_type": "markdown",
   "id": "b141c3b0",
   "metadata": {},
   "source": [
    "### Exercise 2.3\n",
    "\n",
    "\n",
    "Get the first row of data across all the columns."
   ]
  },
  {
   "cell_type": "code",
   "execution_count": null,
   "id": "2d24a4e1",
   "metadata": {},
   "outputs": [],
   "source": [
    "# Use df.iloc for integer index\n",
    "df.iloc[0]"
   ]
  },
  {
   "cell_type": "markdown",
   "id": "3c43aa2e",
   "metadata": {},
   "source": [
    "### Exercise 2.4\n",
    "\n",
    "Select all values on two columns ``country`` and ``POP``."
   ]
  },
  {
   "cell_type": "code",
   "execution_count": null,
   "id": "aaaabcad",
   "metadata": {},
   "outputs": [],
   "source": [
    "df[[\"country\", \"POP\"]]"
   ]
  },
  {
   "attachments": {},
   "cell_type": "markdown",
   "id": "defcdf25",
   "metadata": {},
   "source": [
    "You can also use the ``loc`` method which gives you access to locators for both column and row selection."
   ]
  },
  {
   "cell_type": "code",
   "execution_count": null,
   "id": "e42826de",
   "metadata": {},
   "outputs": [],
   "source": [
    "df.loc[:, [\"country\", \"POP\"]]"
   ]
  },
  {
   "cell_type": "markdown",
   "id": "8efc6931",
   "metadata": {},
   "source": [
    "### Exercise 2.5\n",
    "\n",
    "Select values in rows 2-4 on two columns ``country`` and ``POP``."
   ]
  },
  {
   "cell_type": "code",
   "execution_count": null,
   "id": "a16f2e55",
   "metadata": {},
   "outputs": [],
   "source": [
    "df.loc[2:4, [\"country\", \"POP\"]]"
   ]
  },
  {
   "cell_type": "markdown",
   "id": "45257c92",
   "metadata": {},
   "source": [
    "### Exercise 2.6\n",
    "\n",
    "Get a scalar value for the 2nd row in the column ``POP`` which should be ``1006300.297``."
   ]
  },
  {
   "cell_type": "code",
   "execution_count": null,
   "id": "30461e8c",
   "metadata": {},
   "outputs": [],
   "source": [
    "df.loc[2, \"POP\"]"
   ]
  },
  {
   "cell_type": "code",
   "execution_count": null,
   "id": "8b17e73c",
   "metadata": {},
   "outputs": [],
   "source": [
    "# The .at property acts only on single value pairs for columns and rows, \n",
    "# while .loc can include ranges and more advanced filters\n",
    "df.at[2, \"POP\"]"
   ]
  },
  {
   "cell_type": "markdown",
   "id": "df59f094",
   "metadata": {},
   "source": [
    "### Exercise 3 (Boolean indexing)"
   ]
  },
  {
   "cell_type": "markdown",
   "id": "8b27f547",
   "metadata": {},
   "source": [
    "### Exercise 3.1 \n",
    "\n",
    "Select data with column ``POP``'s values greater than ``30_000``."
   ]
  },
  {
   "cell_type": "code",
   "execution_count": null,
   "id": "3914a393",
   "metadata": {},
   "outputs": [],
   "source": [
    "df[df['POP'] > 30_000]"
   ]
  },
  {
   "cell_type": "markdown",
   "id": "34e703ec",
   "metadata": {},
   "source": [
    "### Exercise 3.2\n",
    "\n",
    "We see"
   ]
  },
  {
   "cell_type": "code",
   "execution_count": null,
   "id": "c04858cd",
   "metadata": {},
   "outputs": [],
   "source": [
    "df1 = df.copy()\n",
    "df1"
   ]
  },
  {
   "cell_type": "code",
   "execution_count": null,
   "id": "da845220",
   "metadata": {},
   "outputs": [],
   "source": [
    "df1[\"X\"] = [\"A\", \"B\", \"C\", \"D\", \"E\", \"F\", \"G\",\"H\"]"
   ]
  },
  {
   "cell_type": "code",
   "execution_count": null,
   "id": "b05c4c5f",
   "metadata": {},
   "outputs": [],
   "source": [
    "df1"
   ]
  },
  {
   "cell_type": "markdown",
   "id": "f803f63e",
   "metadata": {},
   "source": [
    "Filter rows containing ``A``, ``C``, ``G`` in column ``X`` using method [isin()](https://pandas.pydata.org/docs/reference/api/pandas.Series.isin.html#pandas.Series.isin)."
   ]
  },
  {
   "cell_type": "code",
   "execution_count": null,
   "id": "7d5b4f10",
   "metadata": {},
   "outputs": [],
   "source": [
    "df1[df1[\"X\"].isin([\"A\", \"C\", \"G\"])]"
   ]
  },
  {
   "attachments": {},
   "cell_type": "markdown",
   "id": "ab9b50a6",
   "metadata": {},
   "source": [
    "### Exercise 4"
   ]
  },
  {
   "attachments": {},
   "cell_type": "markdown",
   "id": "4c0f7d73",
   "metadata": {},
   "source": [
    "Let's consider the following dataframe ``df``."
   ]
  },
  {
   "cell_type": "code",
   "execution_count": null,
   "id": "b6737b1a",
   "metadata": {},
   "outputs": [],
   "source": [
    "url = \"https://datascience.quantecon.org/assets/data/bball.csv\"\n",
    "df = pd.read_csv(url)"
   ]
  },
  {
   "cell_type": "code",
   "execution_count": null,
   "id": "8f495d87",
   "metadata": {},
   "outputs": [],
   "source": [
    "df"
   ]
  },
  {
   "attachments": {},
   "cell_type": "markdown",
   "id": "34d85843",
   "metadata": {},
   "source": [
    "### Exercise 4.1 (Merge vs Group)\n",
    "\n",
    "Given two dataframes ``df1`` and ``df2``, concatenate them together."
   ]
  },
  {
   "cell_type": "code",
   "execution_count": null,
   "id": "5630ea25",
   "metadata": {},
   "outputs": [],
   "source": [
    "df1 = df[0:3]\n",
    "df2 = df[3:]"
   ]
  },
  {
   "cell_type": "code",
   "execution_count": null,
   "id": "e1c4218b",
   "metadata": {},
   "outputs": [],
   "source": [
    "dfs = [df1, df2]\n",
    "pd.concat(dfs)"
   ]
  },
  {
   "attachments": {},
   "cell_type": "markdown",
   "id": "05cf339d",
   "metadata": {},
   "source": [
    "### Exercise 4.2 (Group)\n",
    "\n",
    "Group the dataframe ``df`` by column ``Player`` and apply the ``sum()`` function to the resulting groups."
   ]
  },
  {
   "cell_type": "code",
   "execution_count": null,
   "id": "4c9f87cd",
   "metadata": {},
   "outputs": [],
   "source": [
    "df.groupby(\"Player\").sum()"
   ]
  },
  {
   "attachments": {},
   "cell_type": "markdown",
   "id": "19e99c17",
   "metadata": {},
   "source": [
    "### Exercise 4.3 (Group)\n",
    "\n",
    "Group the dataframe ``df`` by column ``Player`` and apply ``mean()`` function to the resulting groups."
   ]
  },
  {
   "cell_type": "code",
   "execution_count": null,
   "id": "ca14399f",
   "metadata": {},
   "outputs": [],
   "source": [
    "df.groupby(\"Player\").mean()"
   ]
  },
  {
   "attachments": {},
   "cell_type": "markdown",
   "id": "a4c86444",
   "metadata": {},
   "source": [
    "### Exercise 5\n",
    "\n",
    "Please read the following QuantEcon lecture before starting:\n",
    "- https://python-programming.quantecon.org/pandas.html\n",
    "\n",
    "From reading we know that we can use [pandas-datareader](https://pandas-datareader.readthedocs.io/en/latest/) to access online data."
   ]
  },
  {
   "cell_type": "code",
   "execution_count": null,
   "id": "e14a5243",
   "metadata": {},
   "outputs": [],
   "source": [
    "from pandas_datareader import wb"
   ]
  },
  {
   "attachments": {},
   "cell_type": "markdown",
   "id": "ebcda398",
   "metadata": {},
   "source": [
    "### Exercise 5.1\n",
    "\n",
    "Use [wb.search()](https://pandas-datareader.readthedocs.io/en/latest/readers/world-bank.html?highlight=search#pandas_datareader.wb.search) method to find the Gross Domestic Products per capita in constant 2015 US$.\n",
    "\n",
    "(Hint: use keywords, such as ``GDP`` or ``capita``.)"
   ]
  },
  {
   "cell_type": "code",
   "execution_count": null,
   "id": "dd4af562",
   "metadata": {},
   "outputs": [],
   "source": [
    "matches = wb.search('gdp.*capita.*const.*2015')"
   ]
  },
  {
   "cell_type": "code",
   "execution_count": null,
   "id": "10a72bb4",
   "metadata": {},
   "outputs": [],
   "source": [
    "matches"
   ]
  },
  {
   "attachments": {},
   "cell_type": "markdown",
   "id": "4444f782",
   "metadata": {},
   "source": [
    "The series ``id`` is ``NY.GDP.PCAP.KD``."
   ]
  },
  {
   "attachments": {},
   "cell_type": "markdown",
   "id": "ffcc0601",
   "metadata": {},
   "source": [
    "### Exercise 5.2\n",
    "Using the id you obtained from Exercise 2.1 to acquire GDP per capita data \n",
    "- for countries US (``US``), Australia (``AU``) and India (``IN``)\n",
    "- from year 2000 to 2022,\n",
    "\n",
    "and store the data in a dataframe called ``dat``."
   ]
  },
  {
   "cell_type": "code",
   "execution_count": null,
   "id": "cf5da12b",
   "metadata": {},
   "outputs": [],
   "source": [
    "dat = wb.download(indicator='NY.GDP.PCAP.KD', country=['US', 'AU', 'IN'], start=2000, end=2022)"
   ]
  },
  {
   "cell_type": "code",
   "execution_count": null,
   "id": "ae137ecd",
   "metadata": {},
   "outputs": [],
   "source": [
    "dat"
   ]
  },
  {
   "attachments": {},
   "cell_type": "markdown",
   "id": "a72314cd",
   "metadata": {},
   "source": [
    "### Exercise 5.3\n",
    "\n",
    "Calculate the average GDP per capita for these three countries, respectively, over the period.\n",
    "\n",
    "(HINT. Use ``.groupby`` from Exercise 1.)"
   ]
  },
  {
   "cell_type": "code",
   "execution_count": null,
   "id": "e335a0a2",
   "metadata": {},
   "outputs": [],
   "source": [
    "dat['NY.GDP.PCAP.KD'].groupby(level=0).mean()"
   ]
  },
  {
   "attachments": {},
   "cell_type": "markdown",
   "id": "444d20b1",
   "metadata": {},
   "source": [
    "### Exercise 5.4\n",
    "\n",
    "Plot the GDP per capita from 2000 to 2022 as time series for the three countries."
   ]
  },
  {
   "cell_type": "code",
   "execution_count": null,
   "id": "ab68f01e",
   "metadata": {},
   "outputs": [],
   "source": [
    "dat_n = dat.reset_index()\n",
    "dat_n = dat_n.sort_values(by=\"year\", ascending=True)"
   ]
  },
  {
   "cell_type": "code",
   "execution_count": null,
   "id": "61b06ee0",
   "metadata": {},
   "outputs": [],
   "source": [
    "dat_n"
   ]
  },
  {
   "cell_type": "code",
   "execution_count": null,
   "id": "a8e106b1",
   "metadata": {},
   "outputs": [],
   "source": [
    "fig, ax = plt.subplots(figsize=(12, 6))\n",
    "\n",
    "countries = [\"Australia\", \"United States\", \"India\"]\n",
    "year = \"year\"\n",
    "ID = \"NY.GDP.PCAP.KD\"\n",
    "\n",
    "for i in range(len(countries)):\n",
    "    ax.plot(year, ID, data=dat_n[dat_n[\"country\"] == countries[i]], label=countries[i])\n",
    "\n",
    "\n",
    "plt.legend()\n",
    "plt.show()"
   ]
  },
  {
   "attachments": {},
   "cell_type": "markdown",
   "id": "02f84f61",
   "metadata": {},
   "source": [
    "## Exercise 6 (Climate change vs GDP growth)\n",
    "\n",
    "Next let's compare GDP per capita to the share of Droughts, floods, extreme temperatures around the world."
   ]
  },
  {
   "attachments": {},
   "cell_type": "markdown",
   "id": "7f8a2756",
   "metadata": {},
   "source": [
    "### Exercise 6.1\n",
    "\n",
    "Use [wb.search()](https://pandas-datareader.readthedocs.io/en/latest/readers/world-bank.html?highlight=search#pandas_datareader.wb.search) method to find the share of Droughts, floods, extreme temperatures."
   ]
  },
  {
   "cell_type": "code",
   "execution_count": null,
   "id": "1dd06bd1",
   "metadata": {},
   "outputs": [],
   "source": [
    "d = wb.search('temperature.*%')\n",
    "d"
   ]
  },
  {
   "cell_type": "code",
   "execution_count": null,
   "id": "ed4b8109",
   "metadata": {},
   "outputs": [],
   "source": [
    "d.iloc[:, 4]"
   ]
  },
  {
   "attachments": {},
   "cell_type": "markdown",
   "id": "0b89ddba",
   "metadata": {},
   "source": [
    "### Exercise 6.2 \n",
    "\n",
    "Acquire the GDP per capita and the share of extreme weather for **ALL** available countries in year 2009 using ``id``s from Exercises 5.1 and 6.1.\n",
    "\n",
    "Store the acquired data in a dataframe called ``df`` and name the columns by ``gdp`` and ``eweather``, respectively."
   ]
  },
  {
   "attachments": {},
   "cell_type": "markdown",
   "id": "8f10496c",
   "metadata": {},
   "source": [
    "Here a higher value in the column ``eweather`` means that the corresponding country experienced more extreme weather situations."
   ]
  },
  {
   "cell_type": "code",
   "execution_count": null,
   "id": "9c92bc58",
   "metadata": {},
   "outputs": [],
   "source": [
    "ind = ['NY.GDP.PCAP.KD', 'EN.CLC.MDAT.ZS']\n",
    "df = wb.download(indicator=ind, country='all', start=2009, end=2009).dropna()"
   ]
  },
  {
   "cell_type": "code",
   "execution_count": null,
   "id": "887f1059",
   "metadata": {},
   "outputs": [],
   "source": [
    "df.columns = ['gdp', 'eweather']"
   ]
  },
  {
   "cell_type": "code",
   "execution_count": null,
   "id": "e90c6c87",
   "metadata": {},
   "outputs": [],
   "source": [
    "df"
   ]
  },
  {
   "attachments": {},
   "cell_type": "markdown",
   "id": "6fc0f8a1",
   "metadata": {},
   "source": [
    "### Exercise 6.3 \n",
    "\n",
    "Use the [statsmodels](https://www.statsmodels.org/stable/regression.html) package to assess the relation between ``gdp`` and ``eweather`` using ordinary least squares regression."
   ]
  },
  {
   "cell_type": "code",
   "execution_count": null,
   "id": "527b1a79",
   "metadata": {},
   "outputs": [],
   "source": [
    "import statsmodels.formula.api as sm"
   ]
  },
  {
   "cell_type": "code",
   "execution_count": null,
   "id": "a8f79134",
   "metadata": {},
   "outputs": [],
   "source": [
    "wog = sm.ols('eweather ~ np.log(gdp)', df).fit()"
   ]
  },
  {
   "cell_type": "code",
   "execution_count": null,
   "id": "5de48f9d",
   "metadata": {},
   "outputs": [],
   "source": [
    "print(wog.summary())"
   ]
  }
 ],
 "metadata": {
  "kernelspec": {
   "display_name": "Python 3 (ipykernel)",
   "language": "python",
   "name": "python3"
  },
  "language_info": {
   "codemirror_mode": {
    "name": "ipython",
    "version": 3
   },
   "file_extension": ".py",
   "mimetype": "text/x-python",
   "name": "python",
   "nbconvert_exporter": "python",
   "pygments_lexer": "ipython3",
   "version": "3.10.9"
  }
 },
 "nbformat": 4,
 "nbformat_minor": 5
}
