{
 "cells": [
  {
   "cell_type": "markdown",
   "metadata": {
    "id": "psy6Az1k5IeC"
   },
   "source": [
    "# Probability Exercise\n",
    "\n",
    "This notebook provides some exercises on basic probability concepts."
   ]
  },
  {
   "cell_type": "markdown",
   "metadata": {},
   "source": [
    "#### Written for the QuantEcon Indian Summer Workshop (August 2022)\n",
    "#### Author: [Smit Lunagariya](https://github.com/Smit-create)"
   ]
  },
  {
   "cell_type": "code",
   "execution_count": 1,
   "metadata": {
    "id": "j8ZQc6Fc9Gn_"
   },
   "outputs": [],
   "source": [
    "import matplotlib.pyplot as plt\n",
    "import numpy as np\n",
    "%matplotlib inline"
   ]
  },
  {
   "cell_type": "markdown",
   "metadata": {
    "id": "sELGoYXB5ptX"
   },
   "source": [
    "### Exercise 1"
   ]
  },
  {
   "cell_type": "markdown",
   "metadata": {
    "id": "sELGoYXB5ptX"
   },
   "source": [
    "**Question 1.1**: Consider you have $n$ cards numbered from $1$ to $n$. You need to complete following function that returns the probability of getting an odd-numbered card."
   ]
  },
  {
   "cell_type": "code",
   "execution_count": 2,
   "metadata": {
    "id": "8R9sI21c61l2"
   },
   "outputs": [],
   "source": [
    "def odd_card_probability(n):\n",
    "    # write your code here\n",
    "    pass"
   ]
  },
  {
   "cell_type": "code",
   "execution_count": 3,
   "metadata": {
    "id": "6TMR2Iar68eL"
   },
   "outputs": [],
   "source": [
    "# Solution 1.1:\n",
    "\n",
    "def odd_card_probability_solution(n):\n",
    "    possible_odds = n//2\n",
    "    if n%2 == 1:\n",
    "        possible_odds += 1\n",
    "    return possible_odds/n"
   ]
  },
  {
   "cell_type": "code",
   "execution_count": 4,
   "metadata": {
    "id": "2043nDRa7bPj"
   },
   "outputs": [],
   "source": [
    "# Test your solution\n",
    "assert abs(odd_card_probability_solution(5) - 3/5) < 1e-12\n",
    "assert abs(odd_card_probability_solution(240) - 1/2) < 1e-12"
   ]
  },
  {
   "cell_type": "markdown",
   "metadata": {
    "id": "fERHpY9l8lAS"
   },
   "source": [
    "### Exercise 2"
   ]
  },
  {
   "cell_type": "markdown",
   "metadata": {
    "id": "fERHpY9l8lAS"
   },
   "source": [
    "The **Newcomb–Benford law** fits  many data sets, e.g., reports of incomes to tax authorities, in which\n",
    "the leading digit is more likely to be small than large.\n",
    "\n",
    "See [https://en.wikipedia.org/wiki/Benford%27s_law](https://en.wikipedia.org/wiki/Benford%27s_law)\n",
    "\n",
    "A Benford probability distribution is\n",
    "\n",
    "$$\n",
    "\\textrm{Prob}\\{X=d\\}=\\log _{10}(d+1)-\\log _{10}(d)=\\log _{10}\\left(1+\\frac{1}{d}\\right)\n",
    "$$\n",
    "\n",
    "where $ d\\in\\{1,2,\\cdots,9\\} $."
   ]
  },
  {
   "cell_type": "markdown",
   "metadata": {
    "id": "f1PVcKvv9MSx"
   },
   "source": [
    "**Question 2.1**: Write a function that returns the probability at any given point $d$ using the Benford probability distribution."
   ]
  },
  {
   "cell_type": "code",
   "execution_count": 5,
   "metadata": {
    "id": "ffmK3bkW9LJ0"
   },
   "outputs": [],
   "source": [
    "def probability_benford(d):\n",
    "    # write your code here\n",
    "    pass"
   ]
  },
  {
   "cell_type": "code",
   "execution_count": 6,
   "metadata": {
    "id": "Pt4p5QQh7zM4"
   },
   "outputs": [],
   "source": [
    "# Solution 2.1\n",
    "\n",
    "def probability_benford_solution(d):\n",
    "    return np.log10(1 + 1/d)"
   ]
  },
  {
   "cell_type": "code",
   "execution_count": 7,
   "metadata": {
    "id": "dD0GrlpA9qhk"
   },
   "outputs": [],
   "source": [
    "# Test your solution:\n",
    "assert abs(probability_benford_solution(2) - 0.17609125905568124) < 1e-12"
   ]
  },
  {
   "cell_type": "markdown",
   "metadata": {
    "id": "cix3Fecl-XQF"
   },
   "source": [
    "**Question 2.2**: Using the above function, write a function that returns the sum of probabilities at all the points in the state space of Benford's distribution i.e $d \\in \\{1, 2, ... 9\\}$. This fuction will help us to verify that the sum of probabilities sum to $1$.\n",
    "\n",
    "$$\n",
    "\\quad\\sum_{d=1}^{9}\\textrm{Prob}\\{X=d\\}=1\n",
    "$$"
   ]
  },
  {
   "cell_type": "code",
   "execution_count": 8,
   "metadata": {
    "id": "5RRZNe2H-Fy4"
   },
   "outputs": [],
   "source": [
    "def test_probability_benford():\n",
    "    # write your code here\n",
    "    pass"
   ]
  },
  {
   "cell_type": "code",
   "execution_count": 9,
   "metadata": {
    "id": "eRwRb3CmAHHJ"
   },
   "outputs": [],
   "source": [
    "# Solution 2.2\n",
    "\n",
    "def test_probability_benford_solution():\n",
    "    return sum(probability_benford_solution(d) for d in range(1, 10))"
   ]
  },
  {
   "cell_type": "code",
   "execution_count": 10,
   "metadata": {
    "id": "RQGsgFdl_2v3"
   },
   "outputs": [],
   "source": [
    "# Test your solution:\n",
    "assert abs(test_probability_benford_solution() - 1.0) < 1e-12"
   ]
  },
  {
   "cell_type": "markdown",
   "metadata": {
    "id": "CYB3Q2I5Axyy"
   },
   "source": [
    "**Question 2.3**: Using the above given probability distribution function, compute the cumulative density distribution. Also, plot the PMF and CDF in the same graph.\n",
    "\n",
    "*Hint 1: If $ X $ ia a random variable then CDF $ F_X(x)=F(x)=\\textrm{Prob}\\{X\\le x\\} $.*\n",
    "\n",
    "*Hint 2: See the documentation of [numpy.cumsum](https://numpy.org/doc/stable/reference/generated/numpy.cumsum.html)*"
   ]
  },
  {
   "cell_type": "code",
   "execution_count": 11,
   "metadata": {
    "id": "L6vNodulJepD"
   },
   "outputs": [],
   "source": [
    "# Write your code here"
   ]
  },
  {
   "cell_type": "code",
   "execution_count": 12,
   "metadata": {
    "colab": {
     "base_uri": "https://localhost:8080/",
     "height": 281
    },
    "id": "q0wM7YtfCe-Y",
    "outputId": "7639fbe7-ce8f-4b58-b92b-0eda043bcbce"
   },
   "outputs": [
    {
     "data": {
      "image/png": "[encoded data removed]",
      "text/plain": [
       "<Figure size 432x288 with 1 Axes>"
      ]
     },
     "metadata": {
      "needs_background": "light"
     },
     "output_type": "display_data"
    }
   ],
   "source": [
    "# Solution 2.3\n",
    "\n",
    "benford_pmf = np.array([probability_benford_solution(d) for d in range(1,10)])\n",
    "benford_cdf = np.cumsum(benford_pmf)\n",
    "\n",
    "plt.plot(range(1,10), benford_pmf, 'o', label=\"PMF\")\n",
    "plt.plot(range(1,10), benford_cdf, '*', label=\"CDF\")\n",
    "plt.title('Benford\\'s distribution')\n",
    "plt.legend()\n",
    "plt.show()"
   ]
  },
  {
   "cell_type": "markdown",
   "metadata": {
    "id": "dv0z2an6K5D2"
   },
   "source": [
    "### Exercise 3"
   ]
  },
  {
   "cell_type": "markdown",
   "metadata": {
    "id": "dv0z2an6K5D2"
   },
   "source": [
    "Consider the following joint distribution over $(X, Y)$ as:\n",
    "\n",
    "$$\n",
    "F=[f_{ij}]=\\left[\\begin{array}{cc}\n",
    "0.2 & 0.15 & 0.15\\\\\n",
    "0.1 & 0.15  & 0.05\\\\\n",
    "0.025 & 0.025 & 0.15\n",
    "\\end{array}\\right]\n",
    "$$"
   ]
  },
  {
   "cell_type": "code",
   "execution_count": 13,
   "metadata": {
    "id": "2jMWxxdZLul7"
   },
   "outputs": [],
   "source": [
    "F = np.array([\n",
    "  [0.2, 0.15, 0.15],\n",
    "  [0.1, 0.15, 0.05],\n",
    "  [0.025, 0.025, 0.15]\n",
    "])"
   ]
  },
  {
   "cell_type": "markdown",
   "metadata": {
    "id": "vPMwRWmAL5hx"
   },
   "source": [
    "**Question 3.1**: Write two functions that helps to calcuate the marginal distribution for $\\textrm{Prob}(X=i)$ and $\\textrm{Prob}(Y=j)$ respectively.\n",
    "\n",
    "*Hint: See the documentation of [numpy.sum](https://numpy.org/doc/stable/reference/generated/numpy.sum.html). Read about `axis` argument.*"
   ]
  },
  {
   "cell_type": "code",
   "execution_count": 14,
   "metadata": {
    "id": "TC0N7tsVMW3a"
   },
   "outputs": [],
   "source": [
    "def marginal_x(i):\n",
    "    # write your code here\n",
    "    pass\n",
    "\n",
    "def marginal_y(j):\n",
    "    # write your code here\n",
    "    pass"
   ]
  },
  {
   "cell_type": "code",
   "execution_count": 15,
   "metadata": {
    "id": "Lg-wTBk4NuTg"
   },
   "outputs": [],
   "source": [
    "# Solution 3.1\n",
    "\n",
    "def marginal_x_solution(i):\n",
    "    return F.sum(axis=1)[i]\n",
    "\n",
    "def marginal_y_solution(j):\n",
    "    return F.sum(axis=0)[j]"
   ]
  },
  {
   "cell_type": "code",
   "execution_count": 16,
   "metadata": {
    "id": "nsg486HCNdPb"
   },
   "outputs": [],
   "source": [
    "# Test your solution\n",
    "\n",
    "assert abs(marginal_x_solution(0) - 0.5) < 1e-12\n",
    "assert abs(marginal_y_solution(0) - 0.325) < 1e-12"
   ]
  },
  {
   "cell_type": "markdown",
   "metadata": {
    "id": "T4CuMxHtOB9L"
   },
   "source": [
    "**Question 3.2**: Using the above two functions, write two new functions for computing the conditional distribution of $\\textrm{Prob}\\{X=i\\vert Y=j\\}$ and $\\textrm{Prob}\\{Y=i\\vert X=j\\}$ respectively.\n",
    "\n",
    "\n"
   ]
  },
  {
   "cell_type": "code",
   "execution_count": 17,
   "metadata": {
    "id": "ZQWdN5QlOycF"
   },
   "outputs": [],
   "source": [
    "def conditional_x_given_y(i, j):\n",
    "    # write your code here\n",
    "    pass\n",
    "\n",
    "def conditional_y_given_x(i, j):\n",
    "    # write your code here\n",
    "    pass"
   ]
  },
  {
   "cell_type": "code",
   "execution_count": 18,
   "metadata": {
    "id": "DpuDU7NEO1ZX"
   },
   "outputs": [],
   "source": [
    "# Solution 3.2\n",
    "\n",
    "def conditional_x_given_y_solution(i, j): # Prob {X = i | Y = j}\n",
    "    return F[i][j]/marginal_y_solution(j)\n",
    "\n",
    "def conditional_y_given_x_solution(i, j): # Prob {Y = i | X = j}\n",
    "    return F[j][i]/marginal_x_solution(j)"
   ]
  },
  {
   "cell_type": "code",
   "execution_count": 19,
   "metadata": {
    "id": "nyGKNmz3PhLz"
   },
   "outputs": [],
   "source": [
    "# Test your solution\n",
    "\n",
    "assert abs(conditional_x_given_y_solution(0, 1) - 0.4615384615384615) < 1e-12\n",
    "assert abs(conditional_y_given_x_solution(2, 0) - 0.3) < 1e-12"
   ]
  }
 ],
 "metadata": {
  "colab": {
   "collapsed_sections": [],
   "name": "probability_fundamentals.ipynb",
   "provenance": []
  },
  "kernelspec": {
   "display_name": "Python 3 (ipykernel)",
   "language": "python",
   "name": "python3"
  },
  "language_info": {
   "codemirror_mode": {
    "name": "ipython",
    "version": 3
   },
   "file_extension": ".py",
   "mimetype": "text/x-python",
   "name": "python",
   "nbconvert_exporter": "python",
   "pygments_lexer": "ipython3",
   "version": "3.9.7"
  }
 },
 "nbformat": 4,
 "nbformat_minor": 1
}
