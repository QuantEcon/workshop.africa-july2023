{
 "cells": [
  {
   "cell_type": "markdown",
   "id": "2cebb81f",
   "metadata": {},
   "source": [
    "# Exercise Set: Python Fundamentals and Essentials"
   ]
  },
  {
   "cell_type": "markdown",
   "id": "ccaad8ac",
   "metadata": {},
   "source": [
    "#### Written for the QuantEcon Indian Summer Workshop (August 2022)"
   ]
  },
  {
   "cell_type": "code",
   "execution_count": 1,
   "id": "cfebd2a0",
   "metadata": {},
   "outputs": [],
   "source": [
    "import matplotlib.pyplot as plt\n",
    "import numpy as np\n",
    "%matplotlib inline"
   ]
  },
  {
   "cell_type": "markdown",
   "id": "dab638d6",
   "metadata": {},
   "source": [
    "### Exercise 1"
   ]
  },
  {
   "cell_type": "markdown",
   "id": "a872c861",
   "metadata": {},
   "source": [
    "1. How do you assign the value `10` to a variable named `a`?\n",
    "2. How do you assign `10` to `a` and `20` to `b` in one line?"
   ]
  },
  {
   "cell_type": "markdown",
   "id": "33ec6a0b",
   "metadata": {},
   "source": [
    "### Solution"
   ]
  },
  {
   "cell_type": "code",
   "execution_count": 2,
   "id": "c0f70dc0",
   "metadata": {},
   "outputs": [],
   "source": [
    "a = 10\n",
    "a, b = 10, 20"
   ]
  },
  {
   "cell_type": "markdown",
   "id": "e1945ded",
   "metadata": {},
   "source": [
    "### Exercise 2"
   ]
  },
  {
   "cell_type": "markdown",
   "id": "bdb9f7eb",
   "metadata": {},
   "source": [
    "What are the types of the following variables `a`, `b` and `c`?"
   ]
  },
  {
   "cell_type": "code",
   "execution_count": 3,
   "id": "4344370e",
   "metadata": {},
   "outputs": [],
   "source": [
    "a = 1\n",
    "b = 4.3\n",
    "c = \"hi there and welcome to the workshop\""
   ]
  },
  {
   "cell_type": "markdown",
   "id": "e6eb8d17",
   "metadata": {},
   "source": [
    "### Solution"
   ]
  },
  {
   "cell_type": "code",
   "execution_count": 4,
   "id": "d14b552b",
   "metadata": {},
   "outputs": [
    {
     "data": {
      "text/plain": [
       "int"
      ]
     },
     "execution_count": 4,
     "metadata": {},
     "output_type": "execute_result"
    }
   ],
   "source": [
    "type(a)"
   ]
  },
  {
   "cell_type": "code",
   "execution_count": 5,
   "id": "48dd12d5",
   "metadata": {},
   "outputs": [
    {
     "data": {
      "text/plain": [
       "float"
      ]
     },
     "execution_count": 5,
     "metadata": {},
     "output_type": "execute_result"
    }
   ],
   "source": [
    "type(b)"
   ]
  },
  {
   "cell_type": "code",
   "execution_count": 6,
   "id": "8690da8e",
   "metadata": {},
   "outputs": [
    {
     "data": {
      "text/plain": [
       "str"
      ]
     },
     "execution_count": 6,
     "metadata": {},
     "output_type": "execute_result"
    }
   ],
   "source": [
    "type(c)"
   ]
  },
  {
   "cell_type": "markdown",
   "id": "9080d058",
   "metadata": {},
   "source": [
    "### Exercise 3\n",
    "\n",
    "Using the variable `c` how can you access the *second character* in the sentence `\"hi there and welcome to the workshop\"` (which is `i`).\n",
    "\n"
   ]
  },
  {
   "cell_type": "markdown",
   "id": "938223a2",
   "metadata": {},
   "source": [
    "### Solution"
   ]
  },
  {
   "cell_type": "code",
   "execution_count": 7,
   "id": "7e5b58d3",
   "metadata": {},
   "outputs": [
    {
     "data": {
      "text/plain": [
       "'i'"
      ]
     },
     "execution_count": 7,
     "metadata": {},
     "output_type": "execute_result"
    }
   ],
   "source": [
    "c[1]  # use 1 to get the second element, since Python indices start from zero"
   ]
  },
  {
   "cell_type": "markdown",
   "id": "b092f809",
   "metadata": {},
   "source": [
    "### Exercise 4\n",
    "\n",
    "Using string methods, how can you capitalize each word in the sentence `\"hi there and welcome to the workshop\"` ?"
   ]
  },
  {
   "cell_type": "markdown",
   "id": "befbc899",
   "metadata": {},
   "source": [
    "### Solution"
   ]
  },
  {
   "cell_type": "code",
   "execution_count": 9,
   "id": "8032994e",
   "metadata": {},
   "outputs": [
    {
     "data": {
      "text/plain": [
       "'Hi There And Welcome To The Workshop'"
      ]
     },
     "execution_count": 9,
     "metadata": {},
     "output_type": "execute_result"
    }
   ],
   "source": [
    "c.title()"
   ]
  },
  {
   "cell_type": "markdown",
   "id": "0ecc82ab",
   "metadata": {},
   "source": [
    "### Exercise 5\n",
    "\n",
    "How can you split the sentence into a list of words such as `['hi', 'there', ...]`"
   ]
  },
  {
   "cell_type": "markdown",
   "id": "ddaec2ba",
   "metadata": {},
   "source": [
    "### Solution"
   ]
  },
  {
   "cell_type": "code",
   "execution_count": 10,
   "id": "14937e8e",
   "metadata": {},
   "outputs": [
    {
     "data": {
      "text/plain": [
       "['hi', 'there', 'and', 'welcome', 'to', 'the', 'workshop']"
      ]
     },
     "execution_count": 10,
     "metadata": {},
     "output_type": "execute_result"
    }
   ],
   "source": [
    "c.split()"
   ]
  },
  {
   "cell_type": "markdown",
   "id": "d6637060",
   "metadata": {},
   "source": [
    "## Exercise 6"
   ]
  },
  {
   "cell_type": "markdown",
   "id": "4c3f4213",
   "metadata": {},
   "source": [
    "Write a function `square` that returns the square of its argument $f(x) = x^2$"
   ]
  },
  {
   "cell_type": "code",
   "execution_count": 11,
   "id": "aace2776",
   "metadata": {},
   "outputs": [],
   "source": [
    "def square(x):\n",
    "    ..."
   ]
  },
  {
   "cell_type": "markdown",
   "id": "1691a446",
   "metadata": {},
   "source": [
    "### Solution"
   ]
  },
  {
   "cell_type": "code",
   "execution_count": 12,
   "id": "26d75f84",
   "metadata": {},
   "outputs": [],
   "source": [
    "\n",
    "def square(x):\n",
    "    return x**2 "
   ]
  },
  {
   "cell_type": "markdown",
   "id": "8219a540",
   "metadata": {},
   "source": [
    "**You can check your code using the following tests**"
   ]
  },
  {
   "cell_type": "code",
   "execution_count": 13,
   "id": "b247ced6",
   "metadata": {},
   "outputs": [
    {
     "data": {
      "text/plain": [
       "True"
      ]
     },
     "execution_count": 13,
     "metadata": {},
     "output_type": "execute_result"
    }
   ],
   "source": [
    "square(1) == 1"
   ]
  },
  {
   "cell_type": "code",
   "execution_count": 14,
   "id": "7f7ef9fd",
   "metadata": {},
   "outputs": [
    {
     "data": {
      "text/plain": [
       "True"
      ]
     },
     "execution_count": 14,
     "metadata": {},
     "output_type": "execute_result"
    }
   ],
   "source": [
    "square(5) == 25"
   ]
  },
  {
   "cell_type": "markdown",
   "id": "b3e24ea7",
   "metadata": {},
   "source": [
    "### Exercise 7\n",
    "\n",
    "Use a `for` loop and the `square` function to print the square of each element of the list `[1,5,10,20]`"
   ]
  },
  {
   "cell_type": "code",
   "execution_count": 15,
   "id": "8a83338d",
   "metadata": {},
   "outputs": [],
   "source": [
    "nums = [1,5,10,20]\n",
    "# for ..."
   ]
  },
  {
   "cell_type": "markdown",
   "id": "8bc11bb5",
   "metadata": {},
   "source": [
    "### Solution"
   ]
  },
  {
   "cell_type": "code",
   "execution_count": 16,
   "id": "4b01ea37",
   "metadata": {},
   "outputs": [
    {
     "name": "stdout",
     "output_type": "stream",
     "text": [
      "1\n",
      "25\n",
      "100\n",
      "400\n"
     ]
    }
   ],
   "source": [
    "nums = [1,5,10,20]\n",
    "for num in nums:\n",
    "    print(square(num))"
   ]
  },
  {
   "cell_type": "markdown",
   "id": "3fcfa249",
   "metadata": {},
   "source": [
    "### Exercise 8\n",
    "\n",
    "Use a list comprehension, and the `square` function, to print the square of each element of the list `[1,5,10,20]`"
   ]
  },
  {
   "cell_type": "code",
   "execution_count": 17,
   "id": "9e68eaf3",
   "metadata": {},
   "outputs": [],
   "source": [
    "# Use a List Comprehension to Square Each Output\n",
    "nums = [1,5,10,20]\n",
    "# [...]"
   ]
  },
  {
   "cell_type": "markdown",
   "id": "f7f55711",
   "metadata": {},
   "source": [
    "### Solution"
   ]
  },
  {
   "cell_type": "code",
   "execution_count": 18,
   "id": "1740208d",
   "metadata": {},
   "outputs": [
    {
     "data": {
      "text/plain": [
       "[1, 25, 100, 400]"
      ]
     },
     "execution_count": 18,
     "metadata": {},
     "output_type": "execute_result"
    }
   ],
   "source": [
    "nums = [1,5,10,20]\n",
    "[square(x) for x in nums] # SOLUTION"
   ]
  },
  {
   "cell_type": "markdown",
   "id": "b324a686",
   "metadata": {},
   "source": [
    "### Exercise 9"
   ]
  },
  {
   "cell_type": "markdown",
   "id": "7315ae3a",
   "metadata": {},
   "source": [
    "Use the python `range` function to construct a list of 20 numbers from `0` to `19`"
   ]
  },
  {
   "cell_type": "markdown",
   "id": "a6ad1d74",
   "metadata": {},
   "source": [
    "### Solution"
   ]
  },
  {
   "cell_type": "code",
   "execution_count": 19,
   "id": "55e2f914",
   "metadata": {},
   "outputs": [
    {
     "data": {
      "text/plain": [
       "[0, 1, 2, 3, 4, 5, 6, 7, 8, 9, 10, 11, 12, 13, 14, 15, 16, 17, 18, 19]"
      ]
     },
     "execution_count": 19,
     "metadata": {},
     "output_type": "execute_result"
    }
   ],
   "source": [
    "list(range(20))"
   ]
  },
  {
   "cell_type": "markdown",
   "id": "d2fb4090",
   "metadata": {},
   "source": [
    "### Exercise 10\n",
    "\n",
    "If you run the following code, what do you think the `range(0,20)` object is, and why is a list of values not given?"
   ]
  },
  {
   "cell_type": "code",
   "execution_count": 20,
   "id": "3398a147",
   "metadata": {
    "scrolled": true
   },
   "outputs": [
    {
     "data": {
      "text/plain": [
       "range(0, 20)"
      ]
     },
     "execution_count": 20,
     "metadata": {},
     "output_type": "execute_result"
    }
   ],
   "source": [
    "range(20)"
   ]
  },
  {
   "cell_type": "markdown",
   "id": "2630aee2",
   "metadata": {},
   "source": [
    "### Solution"
   ]
  },
  {
   "cell_type": "raw",
   "id": "2d004597",
   "metadata": {},
   "source": [
    "The python function range returns an object that represents the range of values that have been defined when called. It needs to be iterated over to actually produce the list of values in memory. "
   ]
  },
  {
   "cell_type": "markdown",
   "id": "d3b45136",
   "metadata": {},
   "source": [
    "### Exercise 11\n",
    "\n",
    "Build a `numpy` array containing values from `0` to `19` and save it in the variable `c`"
   ]
  },
  {
   "cell_type": "markdown",
   "id": "ad71af9b",
   "metadata": {},
   "source": [
    "### Solution"
   ]
  },
  {
   "cell_type": "code",
   "execution_count": 21,
   "id": "b49b08e5",
   "metadata": {},
   "outputs": [
    {
     "data": {
      "text/plain": [
       "array([ 0,  1,  2,  3,  4,  5,  6,  7,  8,  9, 10, 11, 12, 13, 14, 15, 16,\n",
       "       17, 18, 19])"
      ]
     },
     "execution_count": 21,
     "metadata": {},
     "output_type": "execute_result"
    }
   ],
   "source": [
    "c = np.array(range(20))\n",
    "c"
   ]
  },
  {
   "cell_type": "markdown",
   "id": "a01558b8",
   "metadata": {},
   "source": [
    "### Exercise 12"
   ]
  },
  {
   "cell_type": "markdown",
   "id": "28f1e83d",
   "metadata": {},
   "source": [
    "Using `plt.plot`, plot the data defined in `d = np.array(range(20))`"
   ]
  },
  {
   "cell_type": "markdown",
   "id": "e50029ab",
   "metadata": {},
   "source": [
    "### Solution"
   ]
  },
  {
   "cell_type": "code",
   "execution_count": 22,
   "id": "3d9aed5f",
   "metadata": {},
   "outputs": [],
   "source": [
    "d = np.array(range(20))"
   ]
  },
  {
   "cell_type": "code",
   "execution_count": 23,
   "id": "11ae88d3",
   "metadata": {},
   "outputs": [
    {
     "data": {
      "image/png": "[encoded data removed]",
      "text/plain": [
       "<Figure size 432x288 with 1 Axes>"
      ]
     },
     "metadata": {
      "needs_background": "light"
     },
     "output_type": "display_data"
    }
   ],
   "source": [
    "plt.plot(d)\n",
    "plt.show()"
   ]
  },
  {
   "cell_type": "markdown",
   "id": "f37a8aa9",
   "metadata": {},
   "source": [
    "### Exercise 13\n",
    "\n",
    "Now plot the square of the values in `d` using $f(x) = x^2$"
   ]
  },
  {
   "cell_type": "markdown",
   "id": "41dc943e",
   "metadata": {},
   "source": [
    "### Solution"
   ]
  },
  {
   "cell_type": "code",
   "execution_count": 24,
   "id": "eb695613",
   "metadata": {},
   "outputs": [
    {
     "data": {
      "image/png": "[encoded data removed]",
      "text/plain": [
       "<Figure size 432x288 with 1 Axes>"
      ]
     },
     "metadata": {
      "needs_background": "light"
     },
     "output_type": "display_data"
    }
   ],
   "source": [
    "plt.plot(d**2)\n",
    "plt.show()"
   ]
  },
  {
   "cell_type": "code",
   "execution_count": 25,
   "id": "a0ff8b8f",
   "metadata": {},
   "outputs": [
    {
     "data": {
      "image/png": "[encoded data removed]",
      "text/plain": [
       "<Figure size 432x288 with 1 Axes>"
      ]
     },
     "metadata": {
      "needs_background": "light"
     },
     "output_type": "display_data"
    }
   ],
   "source": [
    "# You could also use your square function\n",
    "plt.plot(square(d))\n",
    "plt.show()"
   ]
  },
  {
   "cell_type": "code",
   "execution_count": null,
   "id": "9a80ad29",
   "metadata": {},
   "outputs": [],
   "source": []
  }
 ],
 "metadata": {
  "kernelspec": {
   "display_name": "Python 3 (ipykernel)",
   "language": "python",
   "name": "python3"
  },
  "language_info": {
   "codemirror_mode": {
    "name": "ipython",
    "version": 3
   },
   "file_extension": ".py",
   "mimetype": "text/x-python",
   "name": "python",
   "nbconvert_exporter": "python",
   "pygments_lexer": "ipython3",
   "version": "3.9.7"
  }
 },
 "nbformat": 4,
 "nbformat_minor": 5
}
