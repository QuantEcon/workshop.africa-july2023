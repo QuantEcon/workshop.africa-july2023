{
 "cells": [
  {
   "cell_type": "markdown",
   "metadata": {
    "id": "JqWgkF8lZtqR"
   },
   "source": [
    "# McCall Search Model - Exercise\n",
    "\n",
    "The exercise in this notebook builds on top this lecture: https://python.quantecon.org/mccall_model.html. It is recommended to go through the lecture to get the context of this exercise easily."
   ]
  },
  {
   "cell_type": "markdown",
   "metadata": {},
   "source": [
    "#### Written for the QuantEcon Indian Summer Workshop (August 2022)\n",
    "#### Author: [Smit Lunagariya](https://github.com/Smit-create)"
   ]
  },
  {
   "cell_type": "code",
   "execution_count": 1,
   "metadata": {
    "colab": {
     "base_uri": "https://localhost:8080/"
    },
    "id": "0QMhREzha3El",
    "outputId": "f2e7c84f-651a-44f9-ad30-84c05d01b4b1"
   },
   "outputs": [
    {
     "name": "stdout",
     "output_type": "stream",
     "text": [
      "Requirement already satisfied: quantecon in /Users/thebigbool/opt/anaconda3/lib/python3.9/site-packages (0.5.3)\n",
      "Requirement already satisfied: numba in /Users/thebigbool/opt/anaconda3/lib/python3.9/site-packages (from quantecon) (0.55.1)\n",
      "Requirement already satisfied: scipy>=1.0.0 in /Users/thebigbool/opt/anaconda3/lib/python3.9/site-packages (from quantecon) (1.7.3)\n",
      "Requirement already satisfied: numpy in /Users/thebigbool/opt/anaconda3/lib/python3.9/site-packages (from quantecon) (1.21.2)\n",
      "Requirement already satisfied: requests in /Users/thebigbool/opt/anaconda3/lib/python3.9/site-packages (from quantecon) (2.27.1)\n",
      "Requirement already satisfied: sympy in /Users/thebigbool/opt/anaconda3/lib/python3.9/site-packages (from quantecon) (1.10.1)\n",
      "Requirement already satisfied: llvmlite<0.39,>=0.38.0rc1 in /Users/thebigbool/opt/anaconda3/lib/python3.9/site-packages (from numba->quantecon) (0.38.0)\n",
      "Requirement already satisfied: setuptools in /Users/thebigbool/opt/anaconda3/lib/python3.9/site-packages (from numba->quantecon) (58.0.4)\n",
      "Requirement already satisfied: certifi>=2017.4.17 in /Users/thebigbool/opt/anaconda3/lib/python3.9/site-packages (from requests->quantecon) (2022.5.18.1)\n",
      "Requirement already satisfied: charset-normalizer~=2.0.0 in /Users/thebigbool/opt/anaconda3/lib/python3.9/site-packages (from requests->quantecon) (2.0.4)\n",
      "Requirement already satisfied: urllib3<1.27,>=1.21.1 in /Users/thebigbool/opt/anaconda3/lib/python3.9/site-packages (from requests->quantecon) (1.26.8)\n",
      "Requirement already satisfied: idna<4,>=2.5 in /Users/thebigbool/opt/anaconda3/lib/python3.9/site-packages (from requests->quantecon) (3.3)\n",
      "Requirement already satisfied: mpmath>=0.19 in /Users/thebigbool/opt/anaconda3/lib/python3.9/site-packages (from sympy->quantecon) (1.2.1)\n"
     ]
    }
   ],
   "source": [
    "!pip install quantecon"
   ]
  },
  {
   "cell_type": "code",
   "execution_count": 2,
   "metadata": {
    "colab": {
     "base_uri": "https://localhost:8080/"
    },
    "id": "2fcS2ikEazwu",
    "outputId": "b01626e9-044e-4776-b8a5-5b5882c534ee"
   },
   "outputs": [],
   "source": [
    "%matplotlib inline\n",
    "import matplotlib.pyplot as plt\n",
    "import numpy as np\n",
    "from numba import jit, float64, prange\n",
    "from numba.experimental import jitclass\n",
    "import quantecon as qe\n",
    "from quantecon.distributions import BetaBinomial"
   ]
  },
  {
   "cell_type": "markdown",
   "metadata": {
    "id": "V4t3fQkjaQb_"
   },
   "source": [
    "### Exercise 1\n",
    "\n",
    "We have pre-written some code from the lecture to provide basic classes and methods that we will be using in the following exercises."
   ]
  },
  {
   "cell_type": "code",
   "execution_count": 3,
   "metadata": {
    "id": "n-3mcBiGaE9M"
   },
   "outputs": [],
   "source": [
    "# Pre-written code\n",
    "\n",
    "mccall_data = [\n",
    "    ('c', float64),      # unemployment compensation\n",
    "    ('β', float64),      # discount factor\n",
    "    ('w', float64[:]),   # array of wage values, w[i] = wage at state i\n",
    "    ('q', float64[:])    # array of probabilities\n",
    "]\n",
    "\n",
    "@jitclass(mccall_data)\n",
    "class McCallModel:\n",
    "    \"\"\"\n",
    "    McCall Model Class\n",
    "\n",
    "    Parameters\n",
    "    ==========\n",
    "\n",
    "    c: float\n",
    "        Unemployment compensation\n",
    "    β: float\n",
    "        Discount factor\n",
    "    w: float array/list\n",
    "        Array of wage values\n",
    "    q: float array/list\n",
    "        Array of probabilities\n",
    "    \"\"\"\n",
    "\n",
    "    def __init__(self, c, β, w, q):\n",
    "\n",
    "        self.c, self.β = c, β\n",
    "        self.w, self.q = w, q\n",
    "\n",
    "    def state_action_values(self, i, v):\n",
    "        \"\"\"\n",
    "        The values of state-action pairs.\n",
    "        \"\"\"\n",
    "        # Simplify names\n",
    "        c, β, w, q = self.c, self.β, self.w, self.q\n",
    "        # Evaluate value for each state-action pair\n",
    "        # Consider action = accept or reject the current offer\n",
    "        accept = w[i] / (1 - β)\n",
    "        reject = c + β * np.sum(v * q)\n",
    "\n",
    "        return np.array([accept, reject])\n",
    "\n",
    "\n",
    "@jit(nopython=True)\n",
    "def compute_reservation_wage(mcm, max_iter=500, tol=1e-5):\n",
    "    \"\"\"\n",
    "    Function to compute the reservation wage\n",
    "\n",
    "    Parameters\n",
    "    ==========\n",
    "\n",
    "    mcm: McCall Model Instance\n",
    "        Instance used for computing reservation wage\n",
    "    max_iter: int\n",
    "        Maximum number of iterations in the algorithm\n",
    "    tol: float\n",
    "        Tolerance limit\n",
    "    \"\"\"\n",
    "    # Simplify names\n",
    "    c, β, w, q = mcm.c, mcm.β, mcm.w, mcm.q\n",
    "\n",
    "    # == First compute h == #\n",
    "\n",
    "    h = np.sum(w * q) / (1 - β)\n",
    "    i = 0\n",
    "    error = tol + 1\n",
    "    while i < max_iter and error > tol:\n",
    "\n",
    "        s = np.maximum(w / (1 - β), h)\n",
    "        h_next = c + β * np.sum(s * q)\n",
    "\n",
    "        error = np.abs(h_next - h)\n",
    "        i += 1\n",
    "\n",
    "        h = h_next\n",
    "\n",
    "    # == Now compute the reservation wage == #\n",
    "\n",
    "    return (1 - β) * h"
   ]
  },
  {
   "cell_type": "code",
   "execution_count": 4,
   "metadata": {
    "id": "PVGtPqPNbxvX"
   },
   "outputs": [],
   "source": [
    "# Default parameters\n",
    "\n",
    "n, a, b = 50, 200, 100                        # default parameters\n",
    "q_default = BetaBinomial(n, a, b).pdf()       # default choice of q\n",
    "\n",
    "w_min, w_max = 10, 60\n",
    "w_default = np.linspace(w_min, w_max, n+1)    # wage values\n",
    "\n",
    "cdf = np.cumsum(q_default)                    # CDF of q"
   ]
  },
  {
   "cell_type": "markdown",
   "metadata": {
    "id": "L-jb2zjPdM5X"
   },
   "source": [
    "**Question 1.1**: Using the above code, write a function that takes `reservation_wage_value` as the parameter and returns how long it takes for an unemployed worker to accept a job."
   ]
  },
  {
   "cell_type": "code",
   "execution_count": 5,
   "metadata": {
    "id": "e757CSHjcCm9"
   },
   "outputs": [],
   "source": [
    "def compute_unemployed_time(reservation_wage_value, seed):\n",
    "    np.random.seed(seed)\n",
    "    # write your code here\n",
    "    pass"
   ]
  },
  {
   "cell_type": "markdown",
   "metadata": {
    "id": "H0PfXR_metSP"
   },
   "source": [
    "**Question 1.2**: Use numba and use the same function `compute_unemployed_time` to make it faster."
   ]
  },
  {
   "cell_type": "code",
   "execution_count": 7,
   "metadata": {
    "id": "AHc6g5vSefx1"
   },
   "outputs": [],
   "source": [
    "def compute_unemployed_time_faster(reservation_wage_value, seed=1234):\n",
    "    np.random.seed(seed)\n",
    "    # write your code here\n",
    "    pass\n"
   ]
  },
  {
   "cell_type": "markdown",
   "metadata": {},
   "source": [
    "### Exercise 2"
   ]
  },
  {
   "cell_type": "markdown",
   "metadata": {
    "id": "K1YNYaLGfXqJ"
   },
   "source": [
    "**Question 2.1**: Using the above function `compute_unemployed_time_faster`, write a new function that takes `reservation_wage_value` as the parameter and returns the average duration of unemployment.\n",
    "\n",
    "*HINT: Use the law of large numbers*"
   ]
  },
  {
   "cell_type": "code",
   "execution_count": 9,
   "metadata": {
    "id": "yLKsGQO-gWBS"
   },
   "outputs": [],
   "source": [
    "@jit(nopython=True)\n",
    "def compute_average_unemployed_time(reservation_wage_value, num_iters=100000):\n",
    "    # write your code here\n",
    "    pass"
   ]
  },
  {
   "cell_type": "markdown",
   "metadata": {
    "id": "TFi731Emh6BB"
   },
   "source": [
    "**Question 2.2**: Use the above `compute_average_unemployed_time` function to create a plot that shows the relation between the mean time and unemployment compensation."
   ]
  },
  {
   "cell_type": "code",
   "execution_count": 11,
   "metadata": {
    "id": "uAS3lCAQic9w"
   },
   "outputs": [],
   "source": [
    "c_vals = np.linspace(10, 40, 25)"
   ]
  },
  {
   "cell_type": "code",
   "execution_count": 12,
   "metadata": {
    "id": "RlvTsqq2hyeL"
   },
   "outputs": [],
   "source": [
    "# write your code here"
   ]
  },
  {
   "cell_type": "markdown",
   "metadata": {},
   "source": [
    "### Exercise 3"
   ]
  },
  {
   "cell_type": "markdown",
   "metadata": {
    "id": "hzrNHzQwjwMJ"
   },
   "source": [
    "**Question 3.1**: Use the above `compute_average_unemployed_time` function to create a plot that uses parallelization in the loops to make the code faster to shows the relation between the mean time and unemployment compensation and different values of β in the same graph.\n",
    "\n",
    "*HINT: See numba's `prange`*"
   ]
  },
  {
   "cell_type": "code",
   "execution_count": 14,
   "metadata": {
    "id": "zX8phVBYkelQ"
   },
   "outputs": [],
   "source": [
    "β_values = [0.5, 0.75, 0.9, 0.99] "
   ]
  },
  {
   "cell_type": "code",
   "execution_count": 15,
   "metadata": {
    "id": "zf7JZUo2k1wT"
   },
   "outputs": [],
   "source": [
    "# write your code here"
   ]
  }
 ],
 "metadata": {
  "colab": {
   "name": "mccall_model_exercise.ipynb",
   "provenance": []
  },
  "kernelspec": {
   "display_name": "Python 3 (ipykernel)",
   "language": "python",
   "name": "python3"
  },
  "language_info": {
   "codemirror_mode": {
    "name": "ipython",
    "version": 3
   },
   "file_extension": ".py",
   "mimetype": "text/x-python",
   "name": "python",
   "nbconvert_exporter": "python",
   "pygments_lexer": "ipython3",
   "version": "3.9.7"
  }
 },
 "nbformat": 4,
 "nbformat_minor": 1
}
