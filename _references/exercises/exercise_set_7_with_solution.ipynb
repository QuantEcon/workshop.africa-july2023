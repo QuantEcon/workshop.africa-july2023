{
 "cells": [
  {
   "cell_type": "markdown",
   "id": "a38592f5",
   "metadata": {},
   "source": [
    "# Pandas II"
   ]
  },
  {
   "cell_type": "markdown",
   "id": "3f3f298c",
   "metadata": {},
   "source": [
    "#### Written for the QuantEcon Indian Summer Workshop (August 2022)\n",
    "#### Author: [Shu Hu](https://shu-hu.com/intro.html)"
   ]
  },
  {
   "cell_type": "markdown",
   "id": "13013419",
   "metadata": {},
   "source": [
    "With some imports:"
   ]
  },
  {
   "cell_type": "code",
   "execution_count": 1,
   "id": "31478486",
   "metadata": {},
   "outputs": [
    {
     "name": "stdout",
     "output_type": "stream",
     "text": [
      "Requirement already satisfied: pandas-datareader in /Users/shuhu/opt/anaconda3/lib/python3.9/site-packages (0.10.0)\n",
      "Requirement already satisfied: lxml in /Users/shuhu/opt/anaconda3/lib/python3.9/site-packages (from pandas-datareader) (4.8.0)\n",
      "Requirement already satisfied: pandas>=0.23 in /Users/shuhu/opt/anaconda3/lib/python3.9/site-packages (from pandas-datareader) (1.4.2)\n",
      "Requirement already satisfied: requests>=2.19.0 in /Users/shuhu/opt/anaconda3/lib/python3.9/site-packages (from pandas-datareader) (2.27.1)\n",
      "Requirement already satisfied: python-dateutil>=2.8.1 in /Users/shuhu/opt/anaconda3/lib/python3.9/site-packages (from pandas>=0.23->pandas-datareader) (2.8.2)\n",
      "Requirement already satisfied: pytz>=2020.1 in /Users/shuhu/opt/anaconda3/lib/python3.9/site-packages (from pandas>=0.23->pandas-datareader) (2021.3)\n",
      "Requirement already satisfied: numpy>=1.18.5 in /Users/shuhu/opt/anaconda3/lib/python3.9/site-packages (from pandas>=0.23->pandas-datareader) (1.21.6)\n",
      "Requirement already satisfied: six>=1.5 in /Users/shuhu/opt/anaconda3/lib/python3.9/site-packages (from python-dateutil>=2.8.1->pandas>=0.23->pandas-datareader) (1.16.0)\n",
      "Requirement already satisfied: certifi>=2017.4.17 in /Users/shuhu/opt/anaconda3/lib/python3.9/site-packages (from requests>=2.19.0->pandas-datareader) (2021.10.8)\n",
      "Requirement already satisfied: charset-normalizer~=2.0.0 in /Users/shuhu/opt/anaconda3/lib/python3.9/site-packages (from requests>=2.19.0->pandas-datareader) (2.0.4)\n",
      "Requirement already satisfied: idna<4,>=2.5 in /Users/shuhu/opt/anaconda3/lib/python3.9/site-packages (from requests>=2.19.0->pandas-datareader) (3.3)\n",
      "Requirement already satisfied: urllib3<1.27,>=1.21.1 in /Users/shuhu/opt/anaconda3/lib/python3.9/site-packages (from requests>=2.19.0->pandas-datareader) (1.26.9)\n"
     ]
    }
   ],
   "source": [
    "!pip install --upgrade pandas-datareader"
   ]
  },
  {
   "cell_type": "code",
   "execution_count": 2,
   "id": "aca9198a",
   "metadata": {},
   "outputs": [],
   "source": [
    "import numpy as np\n",
    "import pandas as pd\n",
    "import matplotlib.pyplot as plt"
   ]
  },
  {
   "cell_type": "markdown",
   "id": "809ec846",
   "metadata": {},
   "source": [
    "Let's consider the following dataframe ``df``."
   ]
  },
  {
   "cell_type": "code",
   "execution_count": 3,
   "id": "0f7f09b0",
   "metadata": {},
   "outputs": [],
   "source": [
    "url = \"https://datascience.quantecon.org/assets/data/bball.csv\"\n",
    "df = pd.read_csv(url)"
   ]
  },
  {
   "cell_type": "code",
   "execution_count": 4,
   "id": "9cbd3fd9",
   "metadata": {},
   "outputs": [
    {
     "data": {
      "text/html": [
       "<div>\n",
       "<style scoped>\n",
       "    .dataframe tbody tr th:only-of-type {\n",
       "        vertical-align: middle;\n",
       "    }\n",
       "\n",
       "    .dataframe tbody tr th {\n",
       "        vertical-align: top;\n",
       "    }\n",
       "\n",
       "    .dataframe thead th {\n",
       "        text-align: right;\n",
       "    }\n",
       "</style>\n",
       "<table border=\"1\" class=\"dataframe\">\n",
       "  <thead>\n",
       "    <tr style=\"text-align: right;\">\n",
       "      <th></th>\n",
       "      <th>Year</th>\n",
       "      <th>Player</th>\n",
       "      <th>Team</th>\n",
       "      <th>TeamName</th>\n",
       "      <th>Games</th>\n",
       "      <th>Pts</th>\n",
       "      <th>Assist</th>\n",
       "      <th>Rebound</th>\n",
       "    </tr>\n",
       "  </thead>\n",
       "  <tbody>\n",
       "    <tr>\n",
       "      <th>0</th>\n",
       "      <td>2015</td>\n",
       "      <td>Curry</td>\n",
       "      <td>GSW</td>\n",
       "      <td>Warriors</td>\n",
       "      <td>79</td>\n",
       "      <td>30.1</td>\n",
       "      <td>6.7</td>\n",
       "      <td>5.4</td>\n",
       "    </tr>\n",
       "    <tr>\n",
       "      <th>1</th>\n",
       "      <td>2016</td>\n",
       "      <td>Curry</td>\n",
       "      <td>GSW</td>\n",
       "      <td>Warriors</td>\n",
       "      <td>79</td>\n",
       "      <td>25.3</td>\n",
       "      <td>6.6</td>\n",
       "      <td>4.5</td>\n",
       "    </tr>\n",
       "    <tr>\n",
       "      <th>2</th>\n",
       "      <td>2017</td>\n",
       "      <td>Curry</td>\n",
       "      <td>GSW</td>\n",
       "      <td>Warriors</td>\n",
       "      <td>51</td>\n",
       "      <td>26.4</td>\n",
       "      <td>6.1</td>\n",
       "      <td>5.1</td>\n",
       "    </tr>\n",
       "    <tr>\n",
       "      <th>3</th>\n",
       "      <td>2015</td>\n",
       "      <td>Durant</td>\n",
       "      <td>OKC</td>\n",
       "      <td>Thunder</td>\n",
       "      <td>72</td>\n",
       "      <td>28.2</td>\n",
       "      <td>5.0</td>\n",
       "      <td>8.2</td>\n",
       "    </tr>\n",
       "    <tr>\n",
       "      <th>4</th>\n",
       "      <td>2016</td>\n",
       "      <td>Durant</td>\n",
       "      <td>GSW</td>\n",
       "      <td>Warriors</td>\n",
       "      <td>62</td>\n",
       "      <td>25.1</td>\n",
       "      <td>4.8</td>\n",
       "      <td>8.3</td>\n",
       "    </tr>\n",
       "    <tr>\n",
       "      <th>5</th>\n",
       "      <td>2017</td>\n",
       "      <td>Durant</td>\n",
       "      <td>GSW</td>\n",
       "      <td>Warriors</td>\n",
       "      <td>68</td>\n",
       "      <td>26.4</td>\n",
       "      <td>5.4</td>\n",
       "      <td>6.8</td>\n",
       "    </tr>\n",
       "    <tr>\n",
       "      <th>6</th>\n",
       "      <td>2015</td>\n",
       "      <td>Ibaka</td>\n",
       "      <td>OKC</td>\n",
       "      <td>Thunder</td>\n",
       "      <td>78</td>\n",
       "      <td>12.6</td>\n",
       "      <td>0.8</td>\n",
       "      <td>6.8</td>\n",
       "    </tr>\n",
       "    <tr>\n",
       "      <th>7</th>\n",
       "      <td>2016</td>\n",
       "      <td>Ibaka</td>\n",
       "      <td>ORL</td>\n",
       "      <td>Magic</td>\n",
       "      <td>56</td>\n",
       "      <td>15.1</td>\n",
       "      <td>1.1</td>\n",
       "      <td>6.8</td>\n",
       "    </tr>\n",
       "    <tr>\n",
       "      <th>8</th>\n",
       "      <td>2016</td>\n",
       "      <td>Ibaka</td>\n",
       "      <td>TOR</td>\n",
       "      <td>Raptors</td>\n",
       "      <td>23</td>\n",
       "      <td>14.2</td>\n",
       "      <td>0.7</td>\n",
       "      <td>6.8</td>\n",
       "    </tr>\n",
       "  </tbody>\n",
       "</table>\n",
       "</div>"
      ],
      "text/plain": [
       "   Year  Player Team  TeamName  Games   Pts  Assist  Rebound\n",
       "0  2015   Curry  GSW  Warriors     79  30.1     6.7      5.4\n",
       "1  2016   Curry  GSW  Warriors     79  25.3     6.6      4.5\n",
       "2  2017   Curry  GSW  Warriors     51  26.4     6.1      5.1\n",
       "3  2015  Durant  OKC   Thunder     72  28.2     5.0      8.2\n",
       "4  2016  Durant  GSW  Warriors     62  25.1     4.8      8.3\n",
       "5  2017  Durant  GSW  Warriors     68  26.4     5.4      6.8\n",
       "6  2015   Ibaka  OKC   Thunder     78  12.6     0.8      6.8\n",
       "7  2016   Ibaka  ORL     Magic     56  15.1     1.1      6.8\n",
       "8  2016   Ibaka  TOR   Raptors     23  14.2     0.7      6.8"
      ]
     },
     "execution_count": 4,
     "metadata": {},
     "output_type": "execute_result"
    }
   ],
   "source": [
    "df"
   ]
  },
  {
   "cell_type": "markdown",
   "id": "9d2dd29d",
   "metadata": {},
   "source": [
    "### Exercise 1 (Merge vs Group)\n",
    "\n",
    "Given two dataframes ``df1`` and ``df2``."
   ]
  },
  {
   "cell_type": "code",
   "execution_count": 5,
   "id": "7296514f",
   "metadata": {},
   "outputs": [],
   "source": [
    "df1 = df[0:3]\n",
    "df2 = df[3:]"
   ]
  },
  {
   "cell_type": "code",
   "execution_count": 6,
   "id": "6cda8b32",
   "metadata": {},
   "outputs": [
    {
     "data": {
      "text/html": [
       "<div>\n",
       "<style scoped>\n",
       "    .dataframe tbody tr th:only-of-type {\n",
       "        vertical-align: middle;\n",
       "    }\n",
       "\n",
       "    .dataframe tbody tr th {\n",
       "        vertical-align: top;\n",
       "    }\n",
       "\n",
       "    .dataframe thead th {\n",
       "        text-align: right;\n",
       "    }\n",
       "</style>\n",
       "<table border=\"1\" class=\"dataframe\">\n",
       "  <thead>\n",
       "    <tr style=\"text-align: right;\">\n",
       "      <th></th>\n",
       "      <th>Year</th>\n",
       "      <th>Player</th>\n",
       "      <th>Team</th>\n",
       "      <th>TeamName</th>\n",
       "      <th>Games</th>\n",
       "      <th>Pts</th>\n",
       "      <th>Assist</th>\n",
       "      <th>Rebound</th>\n",
       "    </tr>\n",
       "  </thead>\n",
       "  <tbody>\n",
       "    <tr>\n",
       "      <th>0</th>\n",
       "      <td>2015</td>\n",
       "      <td>Curry</td>\n",
       "      <td>GSW</td>\n",
       "      <td>Warriors</td>\n",
       "      <td>79</td>\n",
       "      <td>30.1</td>\n",
       "      <td>6.7</td>\n",
       "      <td>5.4</td>\n",
       "    </tr>\n",
       "    <tr>\n",
       "      <th>1</th>\n",
       "      <td>2016</td>\n",
       "      <td>Curry</td>\n",
       "      <td>GSW</td>\n",
       "      <td>Warriors</td>\n",
       "      <td>79</td>\n",
       "      <td>25.3</td>\n",
       "      <td>6.6</td>\n",
       "      <td>4.5</td>\n",
       "    </tr>\n",
       "    <tr>\n",
       "      <th>2</th>\n",
       "      <td>2017</td>\n",
       "      <td>Curry</td>\n",
       "      <td>GSW</td>\n",
       "      <td>Warriors</td>\n",
       "      <td>51</td>\n",
       "      <td>26.4</td>\n",
       "      <td>6.1</td>\n",
       "      <td>5.1</td>\n",
       "    </tr>\n",
       "  </tbody>\n",
       "</table>\n",
       "</div>"
      ],
      "text/plain": [
       "   Year Player Team  TeamName  Games   Pts  Assist  Rebound\n",
       "0  2015  Curry  GSW  Warriors     79  30.1     6.7      5.4\n",
       "1  2016  Curry  GSW  Warriors     79  25.3     6.6      4.5\n",
       "2  2017  Curry  GSW  Warriors     51  26.4     6.1      5.1"
      ]
     },
     "execution_count": 6,
     "metadata": {},
     "output_type": "execute_result"
    }
   ],
   "source": [
    "df1"
   ]
  },
  {
   "cell_type": "code",
   "execution_count": 7,
   "id": "2c2e7d1f",
   "metadata": {},
   "outputs": [
    {
     "data": {
      "text/html": [
       "<div>\n",
       "<style scoped>\n",
       "    .dataframe tbody tr th:only-of-type {\n",
       "        vertical-align: middle;\n",
       "    }\n",
       "\n",
       "    .dataframe tbody tr th {\n",
       "        vertical-align: top;\n",
       "    }\n",
       "\n",
       "    .dataframe thead th {\n",
       "        text-align: right;\n",
       "    }\n",
       "</style>\n",
       "<table border=\"1\" class=\"dataframe\">\n",
       "  <thead>\n",
       "    <tr style=\"text-align: right;\">\n",
       "      <th></th>\n",
       "      <th>Year</th>\n",
       "      <th>Player</th>\n",
       "      <th>Team</th>\n",
       "      <th>TeamName</th>\n",
       "      <th>Games</th>\n",
       "      <th>Pts</th>\n",
       "      <th>Assist</th>\n",
       "      <th>Rebound</th>\n",
       "    </tr>\n",
       "  </thead>\n",
       "  <tbody>\n",
       "    <tr>\n",
       "      <th>3</th>\n",
       "      <td>2015</td>\n",
       "      <td>Durant</td>\n",
       "      <td>OKC</td>\n",
       "      <td>Thunder</td>\n",
       "      <td>72</td>\n",
       "      <td>28.2</td>\n",
       "      <td>5.0</td>\n",
       "      <td>8.2</td>\n",
       "    </tr>\n",
       "    <tr>\n",
       "      <th>4</th>\n",
       "      <td>2016</td>\n",
       "      <td>Durant</td>\n",
       "      <td>GSW</td>\n",
       "      <td>Warriors</td>\n",
       "      <td>62</td>\n",
       "      <td>25.1</td>\n",
       "      <td>4.8</td>\n",
       "      <td>8.3</td>\n",
       "    </tr>\n",
       "    <tr>\n",
       "      <th>5</th>\n",
       "      <td>2017</td>\n",
       "      <td>Durant</td>\n",
       "      <td>GSW</td>\n",
       "      <td>Warriors</td>\n",
       "      <td>68</td>\n",
       "      <td>26.4</td>\n",
       "      <td>5.4</td>\n",
       "      <td>6.8</td>\n",
       "    </tr>\n",
       "    <tr>\n",
       "      <th>6</th>\n",
       "      <td>2015</td>\n",
       "      <td>Ibaka</td>\n",
       "      <td>OKC</td>\n",
       "      <td>Thunder</td>\n",
       "      <td>78</td>\n",
       "      <td>12.6</td>\n",
       "      <td>0.8</td>\n",
       "      <td>6.8</td>\n",
       "    </tr>\n",
       "    <tr>\n",
       "      <th>7</th>\n",
       "      <td>2016</td>\n",
       "      <td>Ibaka</td>\n",
       "      <td>ORL</td>\n",
       "      <td>Magic</td>\n",
       "      <td>56</td>\n",
       "      <td>15.1</td>\n",
       "      <td>1.1</td>\n",
       "      <td>6.8</td>\n",
       "    </tr>\n",
       "    <tr>\n",
       "      <th>8</th>\n",
       "      <td>2016</td>\n",
       "      <td>Ibaka</td>\n",
       "      <td>TOR</td>\n",
       "      <td>Raptors</td>\n",
       "      <td>23</td>\n",
       "      <td>14.2</td>\n",
       "      <td>0.7</td>\n",
       "      <td>6.8</td>\n",
       "    </tr>\n",
       "  </tbody>\n",
       "</table>\n",
       "</div>"
      ],
      "text/plain": [
       "   Year  Player Team  TeamName  Games   Pts  Assist  Rebound\n",
       "3  2015  Durant  OKC   Thunder     72  28.2     5.0      8.2\n",
       "4  2016  Durant  GSW  Warriors     62  25.1     4.8      8.3\n",
       "5  2017  Durant  GSW  Warriors     68  26.4     5.4      6.8\n",
       "6  2015   Ibaka  OKC   Thunder     78  12.6     0.8      6.8\n",
       "7  2016   Ibaka  ORL     Magic     56  15.1     1.1      6.8\n",
       "8  2016   Ibaka  TOR   Raptors     23  14.2     0.7      6.8"
      ]
     },
     "execution_count": 7,
     "metadata": {},
     "output_type": "execute_result"
    }
   ],
   "source": [
    "df2"
   ]
  },
  {
   "cell_type": "markdown",
   "id": "77018b9d",
   "metadata": {},
   "source": [
    "### Exercise 1.1 (Merge: concat)\n",
    "\n",
    "Concatenate ``df1`` and ``df2`` together."
   ]
  },
  {
   "cell_type": "markdown",
   "id": "7aa75d8e",
   "metadata": {},
   "source": [
    "### Solution"
   ]
  },
  {
   "cell_type": "code",
   "execution_count": 8,
   "id": "59fffea5",
   "metadata": {},
   "outputs": [
    {
     "data": {
      "text/html": [
       "<div>\n",
       "<style scoped>\n",
       "    .dataframe tbody tr th:only-of-type {\n",
       "        vertical-align: middle;\n",
       "    }\n",
       "\n",
       "    .dataframe tbody tr th {\n",
       "        vertical-align: top;\n",
       "    }\n",
       "\n",
       "    .dataframe thead th {\n",
       "        text-align: right;\n",
       "    }\n",
       "</style>\n",
       "<table border=\"1\" class=\"dataframe\">\n",
       "  <thead>\n",
       "    <tr style=\"text-align: right;\">\n",
       "      <th></th>\n",
       "      <th>Year</th>\n",
       "      <th>Player</th>\n",
       "      <th>Team</th>\n",
       "      <th>TeamName</th>\n",
       "      <th>Games</th>\n",
       "      <th>Pts</th>\n",
       "      <th>Assist</th>\n",
       "      <th>Rebound</th>\n",
       "    </tr>\n",
       "  </thead>\n",
       "  <tbody>\n",
       "    <tr>\n",
       "      <th>0</th>\n",
       "      <td>2015</td>\n",
       "      <td>Curry</td>\n",
       "      <td>GSW</td>\n",
       "      <td>Warriors</td>\n",
       "      <td>79</td>\n",
       "      <td>30.1</td>\n",
       "      <td>6.7</td>\n",
       "      <td>5.4</td>\n",
       "    </tr>\n",
       "    <tr>\n",
       "      <th>1</th>\n",
       "      <td>2016</td>\n",
       "      <td>Curry</td>\n",
       "      <td>GSW</td>\n",
       "      <td>Warriors</td>\n",
       "      <td>79</td>\n",
       "      <td>25.3</td>\n",
       "      <td>6.6</td>\n",
       "      <td>4.5</td>\n",
       "    </tr>\n",
       "    <tr>\n",
       "      <th>2</th>\n",
       "      <td>2017</td>\n",
       "      <td>Curry</td>\n",
       "      <td>GSW</td>\n",
       "      <td>Warriors</td>\n",
       "      <td>51</td>\n",
       "      <td>26.4</td>\n",
       "      <td>6.1</td>\n",
       "      <td>5.1</td>\n",
       "    </tr>\n",
       "    <tr>\n",
       "      <th>3</th>\n",
       "      <td>2015</td>\n",
       "      <td>Durant</td>\n",
       "      <td>OKC</td>\n",
       "      <td>Thunder</td>\n",
       "      <td>72</td>\n",
       "      <td>28.2</td>\n",
       "      <td>5.0</td>\n",
       "      <td>8.2</td>\n",
       "    </tr>\n",
       "    <tr>\n",
       "      <th>4</th>\n",
       "      <td>2016</td>\n",
       "      <td>Durant</td>\n",
       "      <td>GSW</td>\n",
       "      <td>Warriors</td>\n",
       "      <td>62</td>\n",
       "      <td>25.1</td>\n",
       "      <td>4.8</td>\n",
       "      <td>8.3</td>\n",
       "    </tr>\n",
       "    <tr>\n",
       "      <th>5</th>\n",
       "      <td>2017</td>\n",
       "      <td>Durant</td>\n",
       "      <td>GSW</td>\n",
       "      <td>Warriors</td>\n",
       "      <td>68</td>\n",
       "      <td>26.4</td>\n",
       "      <td>5.4</td>\n",
       "      <td>6.8</td>\n",
       "    </tr>\n",
       "    <tr>\n",
       "      <th>6</th>\n",
       "      <td>2015</td>\n",
       "      <td>Ibaka</td>\n",
       "      <td>OKC</td>\n",
       "      <td>Thunder</td>\n",
       "      <td>78</td>\n",
       "      <td>12.6</td>\n",
       "      <td>0.8</td>\n",
       "      <td>6.8</td>\n",
       "    </tr>\n",
       "    <tr>\n",
       "      <th>7</th>\n",
       "      <td>2016</td>\n",
       "      <td>Ibaka</td>\n",
       "      <td>ORL</td>\n",
       "      <td>Magic</td>\n",
       "      <td>56</td>\n",
       "      <td>15.1</td>\n",
       "      <td>1.1</td>\n",
       "      <td>6.8</td>\n",
       "    </tr>\n",
       "    <tr>\n",
       "      <th>8</th>\n",
       "      <td>2016</td>\n",
       "      <td>Ibaka</td>\n",
       "      <td>TOR</td>\n",
       "      <td>Raptors</td>\n",
       "      <td>23</td>\n",
       "      <td>14.2</td>\n",
       "      <td>0.7</td>\n",
       "      <td>6.8</td>\n",
       "    </tr>\n",
       "  </tbody>\n",
       "</table>\n",
       "</div>"
      ],
      "text/plain": [
       "   Year  Player Team  TeamName  Games   Pts  Assist  Rebound\n",
       "0  2015   Curry  GSW  Warriors     79  30.1     6.7      5.4\n",
       "1  2016   Curry  GSW  Warriors     79  25.3     6.6      4.5\n",
       "2  2017   Curry  GSW  Warriors     51  26.4     6.1      5.1\n",
       "3  2015  Durant  OKC   Thunder     72  28.2     5.0      8.2\n",
       "4  2016  Durant  GSW  Warriors     62  25.1     4.8      8.3\n",
       "5  2017  Durant  GSW  Warriors     68  26.4     5.4      6.8\n",
       "6  2015   Ibaka  OKC   Thunder     78  12.6     0.8      6.8\n",
       "7  2016   Ibaka  ORL     Magic     56  15.1     1.1      6.8\n",
       "8  2016   Ibaka  TOR   Raptors     23  14.2     0.7      6.8"
      ]
     },
     "execution_count": 8,
     "metadata": {},
     "output_type": "execute_result"
    }
   ],
   "source": [
    "dfs = [df1, df2]\n",
    "pd.concat(dfs)"
   ]
  },
  {
   "cell_type": "markdown",
   "id": "40d7e806",
   "metadata": {},
   "source": [
    "### Exercise 1.2 (Group)\n",
    "\n",
    "Group the dataframe ``df`` by column ``Player`` and apply the ``sum()`` function to the resulting groups."
   ]
  },
  {
   "cell_type": "markdown",
   "id": "e9615d09",
   "metadata": {},
   "source": [
    "### Solution"
   ]
  },
  {
   "cell_type": "code",
   "execution_count": 9,
   "id": "3dbe7f90",
   "metadata": {},
   "outputs": [
    {
     "data": {
      "text/html": [
       "<div>\n",
       "<style scoped>\n",
       "    .dataframe tbody tr th:only-of-type {\n",
       "        vertical-align: middle;\n",
       "    }\n",
       "\n",
       "    .dataframe tbody tr th {\n",
       "        vertical-align: top;\n",
       "    }\n",
       "\n",
       "    .dataframe thead th {\n",
       "        text-align: right;\n",
       "    }\n",
       "</style>\n",
       "<table border=\"1\" class=\"dataframe\">\n",
       "  <thead>\n",
       "    <tr style=\"text-align: right;\">\n",
       "      <th></th>\n",
       "      <th>Year</th>\n",
       "      <th>Games</th>\n",
       "      <th>Pts</th>\n",
       "      <th>Assist</th>\n",
       "      <th>Rebound</th>\n",
       "    </tr>\n",
       "    <tr>\n",
       "      <th>Player</th>\n",
       "      <th></th>\n",
       "      <th></th>\n",
       "      <th></th>\n",
       "      <th></th>\n",
       "      <th></th>\n",
       "    </tr>\n",
       "  </thead>\n",
       "  <tbody>\n",
       "    <tr>\n",
       "      <th>Curry</th>\n",
       "      <td>6048</td>\n",
       "      <td>209</td>\n",
       "      <td>81.8</td>\n",
       "      <td>19.4</td>\n",
       "      <td>15.0</td>\n",
       "    </tr>\n",
       "    <tr>\n",
       "      <th>Durant</th>\n",
       "      <td>6048</td>\n",
       "      <td>202</td>\n",
       "      <td>79.7</td>\n",
       "      <td>15.2</td>\n",
       "      <td>23.3</td>\n",
       "    </tr>\n",
       "    <tr>\n",
       "      <th>Ibaka</th>\n",
       "      <td>6047</td>\n",
       "      <td>157</td>\n",
       "      <td>41.9</td>\n",
       "      <td>2.6</td>\n",
       "      <td>20.4</td>\n",
       "    </tr>\n",
       "  </tbody>\n",
       "</table>\n",
       "</div>"
      ],
      "text/plain": [
       "        Year  Games   Pts  Assist  Rebound\n",
       "Player                                    \n",
       "Curry   6048    209  81.8    19.4     15.0\n",
       "Durant  6048    202  79.7    15.2     23.3\n",
       "Ibaka   6047    157  41.9     2.6     20.4"
      ]
     },
     "execution_count": 9,
     "metadata": {},
     "output_type": "execute_result"
    }
   ],
   "source": [
    "df.groupby(\"Player\").sum()"
   ]
  },
  {
   "cell_type": "markdown",
   "id": "9c901772",
   "metadata": {},
   "source": [
    "### Exercise 1.3 (Group)\n",
    "\n",
    "Group the dataframe ``df`` by column ``Player`` and apply ``mean()`` function to the resulting groups."
   ]
  },
  {
   "cell_type": "markdown",
   "id": "0c824075",
   "metadata": {},
   "source": [
    "### Solution"
   ]
  },
  {
   "cell_type": "code",
   "execution_count": 10,
   "id": "b3c4f9fb",
   "metadata": {},
   "outputs": [
    {
     "data": {
      "text/html": [
       "<div>\n",
       "<style scoped>\n",
       "    .dataframe tbody tr th:only-of-type {\n",
       "        vertical-align: middle;\n",
       "    }\n",
       "\n",
       "    .dataframe tbody tr th {\n",
       "        vertical-align: top;\n",
       "    }\n",
       "\n",
       "    .dataframe thead th {\n",
       "        text-align: right;\n",
       "    }\n",
       "</style>\n",
       "<table border=\"1\" class=\"dataframe\">\n",
       "  <thead>\n",
       "    <tr style=\"text-align: right;\">\n",
       "      <th></th>\n",
       "      <th>Year</th>\n",
       "      <th>Games</th>\n",
       "      <th>Pts</th>\n",
       "      <th>Assist</th>\n",
       "      <th>Rebound</th>\n",
       "    </tr>\n",
       "    <tr>\n",
       "      <th>Player</th>\n",
       "      <th></th>\n",
       "      <th></th>\n",
       "      <th></th>\n",
       "      <th></th>\n",
       "      <th></th>\n",
       "    </tr>\n",
       "  </thead>\n",
       "  <tbody>\n",
       "    <tr>\n",
       "      <th>Curry</th>\n",
       "      <td>2016.000000</td>\n",
       "      <td>69.666667</td>\n",
       "      <td>27.266667</td>\n",
       "      <td>6.466667</td>\n",
       "      <td>5.000000</td>\n",
       "    </tr>\n",
       "    <tr>\n",
       "      <th>Durant</th>\n",
       "      <td>2016.000000</td>\n",
       "      <td>67.333333</td>\n",
       "      <td>26.566667</td>\n",
       "      <td>5.066667</td>\n",
       "      <td>7.766667</td>\n",
       "    </tr>\n",
       "    <tr>\n",
       "      <th>Ibaka</th>\n",
       "      <td>2015.666667</td>\n",
       "      <td>52.333333</td>\n",
       "      <td>13.966667</td>\n",
       "      <td>0.866667</td>\n",
       "      <td>6.800000</td>\n",
       "    </tr>\n",
       "  </tbody>\n",
       "</table>\n",
       "</div>"
      ],
      "text/plain": [
       "               Year      Games        Pts    Assist   Rebound\n",
       "Player                                                       \n",
       "Curry   2016.000000  69.666667  27.266667  6.466667  5.000000\n",
       "Durant  2016.000000  67.333333  26.566667  5.066667  7.766667\n",
       "Ibaka   2015.666667  52.333333  13.966667  0.866667  6.800000"
      ]
     },
     "execution_count": 10,
     "metadata": {},
     "output_type": "execute_result"
    }
   ],
   "source": [
    "df.groupby(\"Player\").mean()"
   ]
  },
  {
   "cell_type": "markdown",
   "id": "82b24e04",
   "metadata": {},
   "source": [
    "### Exercise 2\n",
    "\n",
    "Please read the following QuantEcon lecture before starting:\n",
    "- https://python-programming.quantecon.org/pandas.html\n",
    "\n",
    "From reading we know that we can use [pandas-datareader](https://pandas-datareader.readthedocs.io/en/latest/) to access online data."
   ]
  },
  {
   "cell_type": "code",
   "execution_count": 11,
   "id": "c84a10d2",
   "metadata": {},
   "outputs": [],
   "source": [
    "from pandas_datareader import wb"
   ]
  },
  {
   "cell_type": "markdown",
   "id": "e7d8556a",
   "metadata": {},
   "source": [
    "### Exercise 2.1\n",
    "\n",
    "Use [wb.search()](https://pandas-datareader.readthedocs.io/en/latest/readers/world-bank.html?highlight=search#pandas_datareader.wb.search) method to find the Gross Domestic Products per capita in constant 2015 US$.\n",
    "\n",
    "(Hint: use keywords, such as ``GDP`` or ``capita``.)"
   ]
  },
  {
   "cell_type": "markdown",
   "id": "ddc33e7f",
   "metadata": {},
   "source": [
    "### Solution"
   ]
  },
  {
   "cell_type": "code",
   "execution_count": 12,
   "id": "7c3508fe",
   "metadata": {},
   "outputs": [],
   "source": [
    "matches = wb.search('gdp.*capita.*const.*2015')"
   ]
  },
  {
   "cell_type": "code",
   "execution_count": 13,
   "id": "0fd02498",
   "metadata": {},
   "outputs": [
    {
     "data": {
      "text/html": [
       "<div>\n",
       "<style scoped>\n",
       "    .dataframe tbody tr th:only-of-type {\n",
       "        vertical-align: middle;\n",
       "    }\n",
       "\n",
       "    .dataframe tbody tr th {\n",
       "        vertical-align: top;\n",
       "    }\n",
       "\n",
       "    .dataframe thead th {\n",
       "        text-align: right;\n",
       "    }\n",
       "</style>\n",
       "<table border=\"1\" class=\"dataframe\">\n",
       "  <thead>\n",
       "    <tr style=\"text-align: right;\">\n",
       "      <th></th>\n",
       "      <th>id</th>\n",
       "      <th>name</th>\n",
       "      <th>unit</th>\n",
       "      <th>source</th>\n",
       "      <th>sourceNote</th>\n",
       "      <th>sourceOrganization</th>\n",
       "      <th>topics</th>\n",
       "    </tr>\n",
       "  </thead>\n",
       "  <tbody>\n",
       "    <tr>\n",
       "      <th>10522</th>\n",
       "      <td>NY.GDP.PCAP.KD</td>\n",
       "      <td>GDP per capita (constant 2015 US$)</td>\n",
       "      <td></td>\n",
       "      <td>World Development Indicators</td>\n",
       "      <td>GDP per capita is gross domestic product divid...</td>\n",
       "      <td>b'World Bank national accounts data, and OECD ...</td>\n",
       "      <td>Economy &amp; Growth</td>\n",
       "    </tr>\n",
       "  </tbody>\n",
       "</table>\n",
       "</div>"
      ],
      "text/plain": [
       "                   id                                name unit  \\\n",
       "10522  NY.GDP.PCAP.KD  GDP per capita (constant 2015 US$)        \n",
       "\n",
       "                             source  \\\n",
       "10522  World Development Indicators   \n",
       "\n",
       "                                              sourceNote  \\\n",
       "10522  GDP per capita is gross domestic product divid...   \n",
       "\n",
       "                                      sourceOrganization            topics  \n",
       "10522  b'World Bank national accounts data, and OECD ...  Economy & Growth  "
      ]
     },
     "execution_count": 13,
     "metadata": {},
     "output_type": "execute_result"
    }
   ],
   "source": [
    "matches"
   ]
  },
  {
   "cell_type": "markdown",
   "id": "86228e3b",
   "metadata": {},
   "source": [
    "The series ``id`` is ``NY.GDP.PCAP.KD``."
   ]
  },
  {
   "cell_type": "markdown",
   "id": "b916056e",
   "metadata": {},
   "source": [
    "### Exercise 2.2\n",
    "Using the id you obtained from Exercise 2.1 to acquire GDP per capita data \n",
    "- for countries US (``US``), Australia (``AU``) and India (``IN``)\n",
    "- from year 2000 to 2022,\n",
    "\n",
    "and store the data in a dataframe called ``dat``."
   ]
  },
  {
   "cell_type": "markdown",
   "id": "aaf1b294",
   "metadata": {},
   "source": [
    "### Solution"
   ]
  },
  {
   "cell_type": "code",
   "execution_count": 14,
   "id": "7036f616",
   "metadata": {},
   "outputs": [],
   "source": [
    "dat = wb.download(indicator='NY.GDP.PCAP.KD', country=['US', 'AU', 'IN'], start=2000, end=2022)"
   ]
  },
  {
   "cell_type": "code",
   "execution_count": 15,
   "id": "767ee003",
   "metadata": {},
   "outputs": [
    {
     "data": {
      "text/html": [
       "<div>\n",
       "<style scoped>\n",
       "    .dataframe tbody tr th:only-of-type {\n",
       "        vertical-align: middle;\n",
       "    }\n",
       "\n",
       "    .dataframe tbody tr th {\n",
       "        vertical-align: top;\n",
       "    }\n",
       "\n",
       "    .dataframe thead th {\n",
       "        text-align: right;\n",
       "    }\n",
       "</style>\n",
       "<table border=\"1\" class=\"dataframe\">\n",
       "  <thead>\n",
       "    <tr style=\"text-align: right;\">\n",
       "      <th></th>\n",
       "      <th></th>\n",
       "      <th>NY.GDP.PCAP.KD</th>\n",
       "    </tr>\n",
       "    <tr>\n",
       "      <th>country</th>\n",
       "      <th>year</th>\n",
       "      <th></th>\n",
       "    </tr>\n",
       "  </thead>\n",
       "  <tbody>\n",
       "    <tr>\n",
       "      <th rowspan=\"5\" valign=\"top\">Australia</th>\n",
       "      <th>2021</th>\n",
       "      <td>58780.333061</td>\n",
       "    </tr>\n",
       "    <tr>\n",
       "      <th>2020</th>\n",
       "      <td>58029.515526</td>\n",
       "    </tr>\n",
       "    <tr>\n",
       "      <th>2019</th>\n",
       "      <td>58781.046657</td>\n",
       "    </tr>\n",
       "    <tr>\n",
       "      <th>2018</th>\n",
       "      <td>58447.252651</td>\n",
       "    </tr>\n",
       "    <tr>\n",
       "      <th>2017</th>\n",
       "      <td>57695.571259</td>\n",
       "    </tr>\n",
       "    <tr>\n",
       "      <th>...</th>\n",
       "      <th>...</th>\n",
       "      <td>...</td>\n",
       "    </tr>\n",
       "    <tr>\n",
       "      <th rowspan=\"5\" valign=\"top\">United States</th>\n",
       "      <th>2004</th>\n",
       "      <td>51485.207412</td>\n",
       "    </tr>\n",
       "    <tr>\n",
       "      <th>2003</th>\n",
       "      <td>50036.234235</td>\n",
       "    </tr>\n",
       "    <tr>\n",
       "      <th>2002</th>\n",
       "      <td>49095.331799</td>\n",
       "    </tr>\n",
       "    <tr>\n",
       "      <th>2001</th>\n",
       "      <td>48726.581673</td>\n",
       "    </tr>\n",
       "    <tr>\n",
       "      <th>2000</th>\n",
       "      <td>48746.040960</td>\n",
       "    </tr>\n",
       "  </tbody>\n",
       "</table>\n",
       "<p>66 rows × 1 columns</p>\n",
       "</div>"
      ],
      "text/plain": [
       "                    NY.GDP.PCAP.KD\n",
       "country       year                \n",
       "Australia     2021    58780.333061\n",
       "              2020    58029.515526\n",
       "              2019    58781.046657\n",
       "              2018    58447.252651\n",
       "              2017    57695.571259\n",
       "...                            ...\n",
       "United States 2004    51485.207412\n",
       "              2003    50036.234235\n",
       "              2002    49095.331799\n",
       "              2001    48726.581673\n",
       "              2000    48746.040960\n",
       "\n",
       "[66 rows x 1 columns]"
      ]
     },
     "execution_count": 15,
     "metadata": {},
     "output_type": "execute_result"
    }
   ],
   "source": [
    "dat"
   ]
  },
  {
   "cell_type": "markdown",
   "id": "6d9c8fea",
   "metadata": {},
   "source": [
    "### Exercise 2.3\n",
    "\n",
    "Calculate the average GDP per capita for these three countries, respectively, over the period.\n",
    "\n",
    "(HINT. Use ``.groupby`` from Exercise 1.)"
   ]
  },
  {
   "cell_type": "markdown",
   "id": "9f2a4ce2",
   "metadata": {},
   "source": [
    "### Solution"
   ]
  },
  {
   "cell_type": "code",
   "execution_count": 16,
   "id": "ad7abe63",
   "metadata": {},
   "outputs": [
    {
     "data": {
      "text/plain": [
       "country\n",
       "Australia        53504.849557\n",
       "India             1317.328373\n",
       "United States    54442.900265\n",
       "Name: NY.GDP.PCAP.KD, dtype: float64"
      ]
     },
     "execution_count": 16,
     "metadata": {},
     "output_type": "execute_result"
    }
   ],
   "source": [
    "dat['NY.GDP.PCAP.KD'].groupby(level=0).mean()"
   ]
  },
  {
   "cell_type": "markdown",
   "id": "3d4e32cd",
   "metadata": {},
   "source": [
    "### Exercise 2.4\n",
    "\n",
    "Plot the GDP per capita from 2000 to 2022 as time series for the three countries."
   ]
  },
  {
   "cell_type": "markdown",
   "id": "c0562fcc",
   "metadata": {},
   "source": [
    "### Solution"
   ]
  },
  {
   "cell_type": "code",
   "execution_count": 17,
   "id": "668c4079",
   "metadata": {},
   "outputs": [],
   "source": [
    "dat_n = dat.reset_index()\n",
    "dat_n = dat_n.sort_values(by=\"year\", ascending=True)"
   ]
  },
  {
   "cell_type": "code",
   "execution_count": 18,
   "id": "cbdd2d9d",
   "metadata": {},
   "outputs": [
    {
     "data": {
      "text/html": [
       "<div>\n",
       "<style scoped>\n",
       "    .dataframe tbody tr th:only-of-type {\n",
       "        vertical-align: middle;\n",
       "    }\n",
       "\n",
       "    .dataframe tbody tr th {\n",
       "        vertical-align: top;\n",
       "    }\n",
       "\n",
       "    .dataframe thead th {\n",
       "        text-align: right;\n",
       "    }\n",
       "</style>\n",
       "<table border=\"1\" class=\"dataframe\">\n",
       "  <thead>\n",
       "    <tr style=\"text-align: right;\">\n",
       "      <th></th>\n",
       "      <th>country</th>\n",
       "      <th>year</th>\n",
       "      <th>NY.GDP.PCAP.KD</th>\n",
       "    </tr>\n",
       "  </thead>\n",
       "  <tbody>\n",
       "    <tr>\n",
       "      <th>65</th>\n",
       "      <td>United States</td>\n",
       "      <td>2000</td>\n",
       "      <td>48746.040960</td>\n",
       "    </tr>\n",
       "    <tr>\n",
       "      <th>43</th>\n",
       "      <td>India</td>\n",
       "      <td>2000</td>\n",
       "      <td>757.668747</td>\n",
       "    </tr>\n",
       "    <tr>\n",
       "      <th>21</th>\n",
       "      <td>Australia</td>\n",
       "      <td>2000</td>\n",
       "      <td>45558.753131</td>\n",
       "    </tr>\n",
       "    <tr>\n",
       "      <th>42</th>\n",
       "      <td>India</td>\n",
       "      <td>2001</td>\n",
       "      <td>780.606234</td>\n",
       "    </tr>\n",
       "    <tr>\n",
       "      <th>20</th>\n",
       "      <td>Australia</td>\n",
       "      <td>2001</td>\n",
       "      <td>45864.768033</td>\n",
       "    </tr>\n",
       "    <tr>\n",
       "      <th>...</th>\n",
       "      <td>...</td>\n",
       "      <td>...</td>\n",
       "      <td>...</td>\n",
       "    </tr>\n",
       "    <tr>\n",
       "      <th>45</th>\n",
       "      <td>United States</td>\n",
       "      <td>2020</td>\n",
       "      <td>58060.313948</td>\n",
       "    </tr>\n",
       "    <tr>\n",
       "      <th>1</th>\n",
       "      <td>Australia</td>\n",
       "      <td>2020</td>\n",
       "      <td>58029.515526</td>\n",
       "    </tr>\n",
       "    <tr>\n",
       "      <th>22</th>\n",
       "      <td>India</td>\n",
       "      <td>2021</td>\n",
       "      <td>1961.421031</td>\n",
       "    </tr>\n",
       "    <tr>\n",
       "      <th>44</th>\n",
       "      <td>United States</td>\n",
       "      <td>2021</td>\n",
       "      <td>61280.389602</td>\n",
       "    </tr>\n",
       "    <tr>\n",
       "      <th>0</th>\n",
       "      <td>Australia</td>\n",
       "      <td>2021</td>\n",
       "      <td>58780.333061</td>\n",
       "    </tr>\n",
       "  </tbody>\n",
       "</table>\n",
       "<p>66 rows × 3 columns</p>\n",
       "</div>"
      ],
      "text/plain": [
       "          country  year  NY.GDP.PCAP.KD\n",
       "65  United States  2000    48746.040960\n",
       "43          India  2000      757.668747\n",
       "21      Australia  2000    45558.753131\n",
       "42          India  2001      780.606234\n",
       "20      Australia  2001    45864.768033\n",
       "..            ...   ...             ...\n",
       "45  United States  2020    58060.313948\n",
       "1       Australia  2020    58029.515526\n",
       "22          India  2021     1961.421031\n",
       "44  United States  2021    61280.389602\n",
       "0       Australia  2021    58780.333061\n",
       "\n",
       "[66 rows x 3 columns]"
      ]
     },
     "execution_count": 18,
     "metadata": {},
     "output_type": "execute_result"
    }
   ],
   "source": [
    "dat_n"
   ]
  },
  {
   "cell_type": "code",
   "execution_count": 19,
   "id": "8845b25d",
   "metadata": {},
   "outputs": [
    {
     "data": {
      "image/png": "[encoded data removed]",
      "text/plain": [
       "<Figure size 864x432 with 1 Axes>"
      ]
     },
     "metadata": {
      "needs_background": "light"
     },
     "output_type": "display_data"
    }
   ],
   "source": [
    "fig, ax = plt.subplots(figsize=(12, 6))\n",
    "\n",
    "countries = [\"Australia\", \"United States\", \"India\"]\n",
    "year = \"year\"\n",
    "ID = \"NY.GDP.PCAP.KD\"\n",
    "\n",
    "for i in range(len(countries)):\n",
    "    ax.plot(year, ID, data=dat_n[dat_n[\"country\"] == countries[i]], label=countries[i])\n",
    "\n",
    "\n",
    "plt.legend()\n",
    "plt.show()"
   ]
  },
  {
   "cell_type": "markdown",
   "id": "e791817d",
   "metadata": {},
   "source": [
    "## Exercise 3 (Climate change vs GDP growth)\n",
    "\n",
    "Next let's compare GDP per capita to the share of Droughts, floods, extreme temperatures around the world."
   ]
  },
  {
   "cell_type": "markdown",
   "id": "258e8ed1",
   "metadata": {},
   "source": [
    "### Exercise 3.1\n",
    "\n",
    "Use [wb.search()](https://pandas-datareader.readthedocs.io/en/latest/readers/world-bank.html?highlight=search#pandas_datareader.wb.search) method to find the share of Droughts, floods, extreme temperatures."
   ]
  },
  {
   "cell_type": "markdown",
   "id": "e221562f",
   "metadata": {},
   "source": [
    "### Solution"
   ]
  },
  {
   "cell_type": "code",
   "execution_count": 20,
   "id": "7eda5010",
   "metadata": {},
   "outputs": [
    {
     "data": {
      "text/html": [
       "<div>\n",
       "<style scoped>\n",
       "    .dataframe tbody tr th:only-of-type {\n",
       "        vertical-align: middle;\n",
       "    }\n",
       "\n",
       "    .dataframe tbody tr th {\n",
       "        vertical-align: top;\n",
       "    }\n",
       "\n",
       "    .dataframe thead th {\n",
       "        text-align: right;\n",
       "    }\n",
       "</style>\n",
       "<table border=\"1\" class=\"dataframe\">\n",
       "  <thead>\n",
       "    <tr style=\"text-align: right;\">\n",
       "      <th></th>\n",
       "      <th>id</th>\n",
       "      <th>name</th>\n",
       "      <th>unit</th>\n",
       "      <th>source</th>\n",
       "      <th>sourceNote</th>\n",
       "      <th>sourceOrganization</th>\n",
       "      <th>topics</th>\n",
       "    </tr>\n",
       "  </thead>\n",
       "  <tbody>\n",
       "    <tr>\n",
       "      <th>6045</th>\n",
       "      <td>EN.CLC.MDAT.ZS</td>\n",
       "      <td>Droughts, floods, extreme temperatures (% of p...</td>\n",
       "      <td></td>\n",
       "      <td>World Development Indicators</td>\n",
       "      <td>Droughts, floods and extreme temperatures is t...</td>\n",
       "      <td>b'EM-DAT: The OFDA/CRED International Disaster...</td>\n",
       "      <td>Climate Change ; Environment</td>\n",
       "    </tr>\n",
       "  </tbody>\n",
       "</table>\n",
       "</div>"
      ],
      "text/plain": [
       "                  id                                               name unit  \\\n",
       "6045  EN.CLC.MDAT.ZS  Droughts, floods, extreme temperatures (% of p...        \n",
       "\n",
       "                            source  \\\n",
       "6045  World Development Indicators   \n",
       "\n",
       "                                             sourceNote  \\\n",
       "6045  Droughts, floods and extreme temperatures is t...   \n",
       "\n",
       "                                     sourceOrganization  \\\n",
       "6045  b'EM-DAT: The OFDA/CRED International Disaster...   \n",
       "\n",
       "                             topics  \n",
       "6045  Climate Change ; Environment   "
      ]
     },
     "execution_count": 20,
     "metadata": {},
     "output_type": "execute_result"
    }
   ],
   "source": [
    "d = wb.search('temperature.*%')\n",
    "d"
   ]
  },
  {
   "cell_type": "code",
   "execution_count": 21,
   "id": "7391a48b",
   "metadata": {},
   "outputs": [
    {
     "data": {
      "text/plain": [
       "6045    Droughts, floods and extreme temperatures is t...\n",
       "Name: sourceNote, dtype: object"
      ]
     },
     "execution_count": 21,
     "metadata": {},
     "output_type": "execute_result"
    }
   ],
   "source": [
    "d.iloc[:, 4]"
   ]
  },
  {
   "cell_type": "markdown",
   "id": "acb37424",
   "metadata": {},
   "source": [
    "### Exercise 3.2 \n",
    "\n",
    "Acquire the GDP per capita and the share of extreme weather for **ALL** available countries in year 2009 using ``id``s from Exercises 2.1 and 3.1.\n",
    "\n",
    "Store the acquired data in a dataframe called ``df`` and name the columns by ``gdp`` and ``eweather``, respectively."
   ]
  },
  {
   "cell_type": "markdown",
   "id": "22a5ac80",
   "metadata": {},
   "source": [
    "### Solution"
   ]
  },
  {
   "cell_type": "code",
   "execution_count": 22,
   "id": "15167e68",
   "metadata": {},
   "outputs": [],
   "source": [
    "ind = ['NY.GDP.PCAP.KD', 'EN.CLC.MDAT.ZS']\n",
    "df = wb.download(indicator=ind, country='all', start=2009, end=2009).dropna()"
   ]
  },
  {
   "cell_type": "code",
   "execution_count": 23,
   "id": "b8c12572",
   "metadata": {},
   "outputs": [],
   "source": [
    "df.columns = ['gdp', 'eweather']"
   ]
  },
  {
   "cell_type": "code",
   "execution_count": 24,
   "id": "d9f84a57",
   "metadata": {},
   "outputs": [
    {
     "data": {
      "text/html": [
       "<div>\n",
       "<style scoped>\n",
       "    .dataframe tbody tr th:only-of-type {\n",
       "        vertical-align: middle;\n",
       "    }\n",
       "\n",
       "    .dataframe tbody tr th {\n",
       "        vertical-align: top;\n",
       "    }\n",
       "\n",
       "    .dataframe thead th {\n",
       "        text-align: right;\n",
       "    }\n",
       "</style>\n",
       "<table border=\"1\" class=\"dataframe\">\n",
       "  <thead>\n",
       "    <tr style=\"text-align: right;\">\n",
       "      <th></th>\n",
       "      <th></th>\n",
       "      <th>gdp</th>\n",
       "      <th>eweather</th>\n",
       "    </tr>\n",
       "    <tr>\n",
       "      <th>country</th>\n",
       "      <th>year</th>\n",
       "      <th></th>\n",
       "      <th></th>\n",
       "    </tr>\n",
       "  </thead>\n",
       "  <tbody>\n",
       "    <tr>\n",
       "      <th>Afghanistan</th>\n",
       "      <th>2009</th>\n",
       "      <td>472.842292</td>\n",
       "      <td>1.059290</td>\n",
       "    </tr>\n",
       "    <tr>\n",
       "      <th>Albania</th>\n",
       "      <th>2009</th>\n",
       "      <td>3432.169973</td>\n",
       "      <td>5.269577</td>\n",
       "    </tr>\n",
       "    <tr>\n",
       "      <th>Algeria</th>\n",
       "      <th>2009</th>\n",
       "      <td>3851.213777</td>\n",
       "      <td>0.039223</td>\n",
       "    </tr>\n",
       "    <tr>\n",
       "      <th>American Samoa</th>\n",
       "      <th>2009</th>\n",
       "      <td>12092.276506</td>\n",
       "      <td>0.000262</td>\n",
       "    </tr>\n",
       "    <tr>\n",
       "      <th>Angola</th>\n",
       "      <th>2009</th>\n",
       "      <td>2962.446816</td>\n",
       "      <td>1.011765</td>\n",
       "    </tr>\n",
       "    <tr>\n",
       "      <th>...</th>\n",
       "      <th>...</th>\n",
       "      <td>...</td>\n",
       "      <td>...</td>\n",
       "    </tr>\n",
       "    <tr>\n",
       "      <th>Uzbekistan</th>\n",
       "      <th>2009</th>\n",
       "      <td>2037.581498</td>\n",
       "      <td>0.123694</td>\n",
       "    </tr>\n",
       "    <tr>\n",
       "      <th>Vanuatu</th>\n",
       "      <th>2009</th>\n",
       "      <td>2893.465354</td>\n",
       "      <td>0.105704</td>\n",
       "    </tr>\n",
       "    <tr>\n",
       "      <th>Vietnam</th>\n",
       "      <th>2009</th>\n",
       "      <td>1913.328394</td>\n",
       "      <td>1.599362</td>\n",
       "    </tr>\n",
       "    <tr>\n",
       "      <th>Yemen, Rep.</th>\n",
       "      <th>2009</th>\n",
       "      <td>2599.452848</td>\n",
       "      <td>0.099411</td>\n",
       "    </tr>\n",
       "    <tr>\n",
       "      <th>Zambia</th>\n",
       "      <th>2009</th>\n",
       "      <td>1133.853410</td>\n",
       "      <td>4.199677</td>\n",
       "    </tr>\n",
       "  </tbody>\n",
       "</table>\n",
       "<p>164 rows × 2 columns</p>\n",
       "</div>"
      ],
      "text/plain": [
       "                              gdp  eweather\n",
       "country        year                        \n",
       "Afghanistan    2009    472.842292  1.059290\n",
       "Albania        2009   3432.169973  5.269577\n",
       "Algeria        2009   3851.213777  0.039223\n",
       "American Samoa 2009  12092.276506  0.000262\n",
       "Angola         2009   2962.446816  1.011765\n",
       "...                           ...       ...\n",
       "Uzbekistan     2009   2037.581498  0.123694\n",
       "Vanuatu        2009   2893.465354  0.105704\n",
       "Vietnam        2009   1913.328394  1.599362\n",
       "Yemen, Rep.    2009   2599.452848  0.099411\n",
       "Zambia         2009   1133.853410  4.199677\n",
       "\n",
       "[164 rows x 2 columns]"
      ]
     },
     "execution_count": 24,
     "metadata": {},
     "output_type": "execute_result"
    }
   ],
   "source": [
    "df"
   ]
  },
  {
   "cell_type": "markdown",
   "id": "fd3a9816",
   "metadata": {},
   "source": [
    "Here a higher value in the column ``eweather`` means that the corresponding country experienced more extreme weather situations."
   ]
  },
  {
   "cell_type": "markdown",
   "id": "d61e920f",
   "metadata": {},
   "source": [
    "### Exercise 3.3 \n",
    "\n",
    "Use the [statsmodels](https://www.statsmodels.org/stable/regression.html) package to assess the relation between ``gdp`` and ``eweather`` using ordinary least squares regression."
   ]
  },
  {
   "cell_type": "code",
   "execution_count": 25,
   "id": "73a2dacd",
   "metadata": {},
   "outputs": [],
   "source": [
    "import statsmodels.formula.api as sm"
   ]
  },
  {
   "cell_type": "markdown",
   "id": "c8d72dca",
   "metadata": {},
   "source": [
    "### Solution"
   ]
  },
  {
   "cell_type": "code",
   "execution_count": 26,
   "id": "9dc671e4",
   "metadata": {},
   "outputs": [],
   "source": [
    "wog = sm.ols('eweather ~ np.log(gdp)', df).fit()"
   ]
  },
  {
   "cell_type": "code",
   "execution_count": 27,
   "id": "0a4c7009",
   "metadata": {},
   "outputs": [
    {
     "name": "stdout",
     "output_type": "stream",
     "text": [
      "                            OLS Regression Results                            \n",
      "==============================================================================\n",
      "Dep. Variable:               eweather   R-squared:                       0.162\n",
      "Model:                            OLS   Adj. R-squared:                  0.157\n",
      "Method:                 Least Squares   F-statistic:                     31.33\n",
      "Date:                Thu, 04 Aug 2022   Prob (F-statistic):           9.13e-08\n",
      "Time:                        09:00:40   Log-Likelihood:                -323.41\n",
      "No. Observations:                 164   AIC:                             650.8\n",
      "Df Residuals:                     162   BIC:                             657.0\n",
      "Df Model:                           1                                         \n",
      "Covariance Type:            nonrobust                                         \n",
      "===============================================================================\n",
      "                  coef    std err          t      P>|t|      [0.025      0.975]\n",
      "-------------------------------------------------------------------------------\n",
      "Intercept       5.7059      0.832      6.858      0.000       4.063       7.349\n",
      "np.log(gdp)    -0.5489      0.098     -5.597      0.000      -0.743      -0.355\n",
      "==============================================================================\n",
      "Omnibus:                       90.225   Durbin-Watson:                   2.265\n",
      "Prob(Omnibus):                  0.000   Jarque-Bera (JB):              342.863\n",
      "Skew:                           2.218   Prob(JB):                     3.53e-75\n",
      "Kurtosis:                       8.522   Cond. No.                         52.4\n",
      "==============================================================================\n",
      "\n",
      "Notes:\n",
      "[1] Standard Errors assume that the covariance matrix of the errors is correctly specified.\n"
     ]
    }
   ],
   "source": [
    "print(wog.summary())"
   ]
  }
 ],
 "metadata": {
  "kernelspec": {
   "display_name": "Python 3 (ipykernel)",
   "language": "python",
   "name": "python3"
  },
  "language_info": {
   "codemirror_mode": {
    "name": "ipython",
    "version": 3
   },
   "file_extension": ".py",
   "mimetype": "text/x-python",
   "name": "python",
   "nbconvert_exporter": "python",
   "pygments_lexer": "ipython3",
   "version": "3.9.7"
  }
 },
 "nbformat": 4,
 "nbformat_minor": 5
}
