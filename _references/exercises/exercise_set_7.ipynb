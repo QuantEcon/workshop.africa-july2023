{
 "cells": [
  {
   "cell_type": "markdown",
   "id": "a38592f5",
   "metadata": {},
   "source": [
    "# Pandas II"
   ]
  },
  {
   "cell_type": "markdown",
   "id": "3f3f298c",
   "metadata": {},
   "source": [
    "#### Written for the QuantEcon Indian Summer Workshop (August 2022)\n",
    "#### Author: [Shu Hu](https://shu-hu.com/intro.html)"
   ]
  },
  {
   "cell_type": "markdown",
   "id": "13013419",
   "metadata": {},
   "source": [
    "With some imports:"
   ]
  },
  {
   "cell_type": "code",
   "execution_count": 1,
   "id": "31478486",
   "metadata": {},
   "outputs": [
    {
     "name": "stdout",
     "output_type": "stream",
     "text": [
      "Requirement already satisfied: pandas-datareader in /Users/shuhu/opt/anaconda3/lib/python3.9/site-packages (0.10.0)\n",
      "Requirement already satisfied: lxml in /Users/shuhu/opt/anaconda3/lib/python3.9/site-packages (from pandas-datareader) (4.8.0)\n",
      "Requirement already satisfied: pandas>=0.23 in /Users/shuhu/opt/anaconda3/lib/python3.9/site-packages (from pandas-datareader) (1.4.2)\n",
      "Requirement already satisfied: requests>=2.19.0 in /Users/shuhu/opt/anaconda3/lib/python3.9/site-packages (from pandas-datareader) (2.27.1)\n",
      "Requirement already satisfied: python-dateutil>=2.8.1 in /Users/shuhu/opt/anaconda3/lib/python3.9/site-packages (from pandas>=0.23->pandas-datareader) (2.8.2)\n",
      "Requirement already satisfied: pytz>=2020.1 in /Users/shuhu/opt/anaconda3/lib/python3.9/site-packages (from pandas>=0.23->pandas-datareader) (2021.3)\n",
      "Requirement already satisfied: numpy>=1.18.5 in /Users/shuhu/opt/anaconda3/lib/python3.9/site-packages (from pandas>=0.23->pandas-datareader) (1.21.6)\n",
      "Requirement already satisfied: six>=1.5 in /Users/shuhu/opt/anaconda3/lib/python3.9/site-packages (from python-dateutil>=2.8.1->pandas>=0.23->pandas-datareader) (1.16.0)\n",
      "Requirement already satisfied: certifi>=2017.4.17 in /Users/shuhu/opt/anaconda3/lib/python3.9/site-packages (from requests>=2.19.0->pandas-datareader) (2021.10.8)\n",
      "Requirement already satisfied: charset-normalizer~=2.0.0 in /Users/shuhu/opt/anaconda3/lib/python3.9/site-packages (from requests>=2.19.0->pandas-datareader) (2.0.4)\n",
      "Requirement already satisfied: idna<4,>=2.5 in /Users/shuhu/opt/anaconda3/lib/python3.9/site-packages (from requests>=2.19.0->pandas-datareader) (3.3)\n",
      "Requirement already satisfied: urllib3<1.27,>=1.21.1 in /Users/shuhu/opt/anaconda3/lib/python3.9/site-packages (from requests>=2.19.0->pandas-datareader) (1.26.9)\n"
     ]
    }
   ],
   "source": [
    "!pip install --upgrade pandas-datareader"
   ]
  },
  {
   "cell_type": "code",
   "execution_count": 2,
   "id": "aca9198a",
   "metadata": {},
   "outputs": [],
   "source": [
    "import numpy as np\n",
    "import pandas as pd\n",
    "import matplotlib.pyplot as plt"
   ]
  },
  {
   "cell_type": "markdown",
   "id": "809ec846",
   "metadata": {},
   "source": [
    "Let's consider the following dataframe ``df``."
   ]
  },
  {
   "cell_type": "code",
   "execution_count": 3,
   "id": "0f7f09b0",
   "metadata": {},
   "outputs": [],
   "source": [
    "url = \"https://datascience.quantecon.org/assets/data/bball.csv\"\n",
    "df = pd.read_csv(url)"
   ]
  },
  {
   "cell_type": "code",
   "execution_count": 4,
   "id": "9cbd3fd9",
   "metadata": {},
   "outputs": [
    {
     "data": {
      "text/html": [
       "<div>\n",
       "<style scoped>\n",
       "    .dataframe tbody tr th:only-of-type {\n",
       "        vertical-align: middle;\n",
       "    }\n",
       "\n",
       "    .dataframe tbody tr th {\n",
       "        vertical-align: top;\n",
       "    }\n",
       "\n",
       "    .dataframe thead th {\n",
       "        text-align: right;\n",
       "    }\n",
       "</style>\n",
       "<table border=\"1\" class=\"dataframe\">\n",
       "  <thead>\n",
       "    <tr style=\"text-align: right;\">\n",
       "      <th></th>\n",
       "      <th>Year</th>\n",
       "      <th>Player</th>\n",
       "      <th>Team</th>\n",
       "      <th>TeamName</th>\n",
       "      <th>Games</th>\n",
       "      <th>Pts</th>\n",
       "      <th>Assist</th>\n",
       "      <th>Rebound</th>\n",
       "    </tr>\n",
       "  </thead>\n",
       "  <tbody>\n",
       "    <tr>\n",
       "      <th>0</th>\n",
       "      <td>2015</td>\n",
       "      <td>Curry</td>\n",
       "      <td>GSW</td>\n",
       "      <td>Warriors</td>\n",
       "      <td>79</td>\n",
       "      <td>30.1</td>\n",
       "      <td>6.7</td>\n",
       "      <td>5.4</td>\n",
       "    </tr>\n",
       "    <tr>\n",
       "      <th>1</th>\n",
       "      <td>2016</td>\n",
       "      <td>Curry</td>\n",
       "      <td>GSW</td>\n",
       "      <td>Warriors</td>\n",
       "      <td>79</td>\n",
       "      <td>25.3</td>\n",
       "      <td>6.6</td>\n",
       "      <td>4.5</td>\n",
       "    </tr>\n",
       "    <tr>\n",
       "      <th>2</th>\n",
       "      <td>2017</td>\n",
       "      <td>Curry</td>\n",
       "      <td>GSW</td>\n",
       "      <td>Warriors</td>\n",
       "      <td>51</td>\n",
       "      <td>26.4</td>\n",
       "      <td>6.1</td>\n",
       "      <td>5.1</td>\n",
       "    </tr>\n",
       "    <tr>\n",
       "      <th>3</th>\n",
       "      <td>2015</td>\n",
       "      <td>Durant</td>\n",
       "      <td>OKC</td>\n",
       "      <td>Thunder</td>\n",
       "      <td>72</td>\n",
       "      <td>28.2</td>\n",
       "      <td>5.0</td>\n",
       "      <td>8.2</td>\n",
       "    </tr>\n",
       "    <tr>\n",
       "      <th>4</th>\n",
       "      <td>2016</td>\n",
       "      <td>Durant</td>\n",
       "      <td>GSW</td>\n",
       "      <td>Warriors</td>\n",
       "      <td>62</td>\n",
       "      <td>25.1</td>\n",
       "      <td>4.8</td>\n",
       "      <td>8.3</td>\n",
       "    </tr>\n",
       "    <tr>\n",
       "      <th>5</th>\n",
       "      <td>2017</td>\n",
       "      <td>Durant</td>\n",
       "      <td>GSW</td>\n",
       "      <td>Warriors</td>\n",
       "      <td>68</td>\n",
       "      <td>26.4</td>\n",
       "      <td>5.4</td>\n",
       "      <td>6.8</td>\n",
       "    </tr>\n",
       "    <tr>\n",
       "      <th>6</th>\n",
       "      <td>2015</td>\n",
       "      <td>Ibaka</td>\n",
       "      <td>OKC</td>\n",
       "      <td>Thunder</td>\n",
       "      <td>78</td>\n",
       "      <td>12.6</td>\n",
       "      <td>0.8</td>\n",
       "      <td>6.8</td>\n",
       "    </tr>\n",
       "    <tr>\n",
       "      <th>7</th>\n",
       "      <td>2016</td>\n",
       "      <td>Ibaka</td>\n",
       "      <td>ORL</td>\n",
       "      <td>Magic</td>\n",
       "      <td>56</td>\n",
       "      <td>15.1</td>\n",
       "      <td>1.1</td>\n",
       "      <td>6.8</td>\n",
       "    </tr>\n",
       "    <tr>\n",
       "      <th>8</th>\n",
       "      <td>2016</td>\n",
       "      <td>Ibaka</td>\n",
       "      <td>TOR</td>\n",
       "      <td>Raptors</td>\n",
       "      <td>23</td>\n",
       "      <td>14.2</td>\n",
       "      <td>0.7</td>\n",
       "      <td>6.8</td>\n",
       "    </tr>\n",
       "  </tbody>\n",
       "</table>\n",
       "</div>"
      ],
      "text/plain": [
       "   Year  Player Team  TeamName  Games   Pts  Assist  Rebound\n",
       "0  2015   Curry  GSW  Warriors     79  30.1     6.7      5.4\n",
       "1  2016   Curry  GSW  Warriors     79  25.3     6.6      4.5\n",
       "2  2017   Curry  GSW  Warriors     51  26.4     6.1      5.1\n",
       "3  2015  Durant  OKC   Thunder     72  28.2     5.0      8.2\n",
       "4  2016  Durant  GSW  Warriors     62  25.1     4.8      8.3\n",
       "5  2017  Durant  GSW  Warriors     68  26.4     5.4      6.8\n",
       "6  2015   Ibaka  OKC   Thunder     78  12.6     0.8      6.8\n",
       "7  2016   Ibaka  ORL     Magic     56  15.1     1.1      6.8\n",
       "8  2016   Ibaka  TOR   Raptors     23  14.2     0.7      6.8"
      ]
     },
     "execution_count": 4,
     "metadata": {},
     "output_type": "execute_result"
    }
   ],
   "source": [
    "df"
   ]
  },
  {
   "cell_type": "markdown",
   "id": "9d2dd29d",
   "metadata": {},
   "source": [
    "### Exercise 1 (Merge vs Group)\n",
    "\n",
    "Given two dataframes ``df1`` and ``df2``."
   ]
  },
  {
   "cell_type": "code",
   "execution_count": 5,
   "id": "7296514f",
   "metadata": {},
   "outputs": [],
   "source": [
    "df1 = df[0:3]\n",
    "df2 = df[3:]"
   ]
  },
  {
   "cell_type": "code",
   "execution_count": 6,
   "id": "6cda8b32",
   "metadata": {},
   "outputs": [
    {
     "data": {
      "text/html": [
       "<div>\n",
       "<style scoped>\n",
       "    .dataframe tbody tr th:only-of-type {\n",
       "        vertical-align: middle;\n",
       "    }\n",
       "\n",
       "    .dataframe tbody tr th {\n",
       "        vertical-align: top;\n",
       "    }\n",
       "\n",
       "    .dataframe thead th {\n",
       "        text-align: right;\n",
       "    }\n",
       "</style>\n",
       "<table border=\"1\" class=\"dataframe\">\n",
       "  <thead>\n",
       "    <tr style=\"text-align: right;\">\n",
       "      <th></th>\n",
       "      <th>Year</th>\n",
       "      <th>Player</th>\n",
       "      <th>Team</th>\n",
       "      <th>TeamName</th>\n",
       "      <th>Games</th>\n",
       "      <th>Pts</th>\n",
       "      <th>Assist</th>\n",
       "      <th>Rebound</th>\n",
       "    </tr>\n",
       "  </thead>\n",
       "  <tbody>\n",
       "    <tr>\n",
       "      <th>0</th>\n",
       "      <td>2015</td>\n",
       "      <td>Curry</td>\n",
       "      <td>GSW</td>\n",
       "      <td>Warriors</td>\n",
       "      <td>79</td>\n",
       "      <td>30.1</td>\n",
       "      <td>6.7</td>\n",
       "      <td>5.4</td>\n",
       "    </tr>\n",
       "    <tr>\n",
       "      <th>1</th>\n",
       "      <td>2016</td>\n",
       "      <td>Curry</td>\n",
       "      <td>GSW</td>\n",
       "      <td>Warriors</td>\n",
       "      <td>79</td>\n",
       "      <td>25.3</td>\n",
       "      <td>6.6</td>\n",
       "      <td>4.5</td>\n",
       "    </tr>\n",
       "    <tr>\n",
       "      <th>2</th>\n",
       "      <td>2017</td>\n",
       "      <td>Curry</td>\n",
       "      <td>GSW</td>\n",
       "      <td>Warriors</td>\n",
       "      <td>51</td>\n",
       "      <td>26.4</td>\n",
       "      <td>6.1</td>\n",
       "      <td>5.1</td>\n",
       "    </tr>\n",
       "  </tbody>\n",
       "</table>\n",
       "</div>"
      ],
      "text/plain": [
       "   Year Player Team  TeamName  Games   Pts  Assist  Rebound\n",
       "0  2015  Curry  GSW  Warriors     79  30.1     6.7      5.4\n",
       "1  2016  Curry  GSW  Warriors     79  25.3     6.6      4.5\n",
       "2  2017  Curry  GSW  Warriors     51  26.4     6.1      5.1"
      ]
     },
     "execution_count": 6,
     "metadata": {},
     "output_type": "execute_result"
    }
   ],
   "source": [
    "df1"
   ]
  },
  {
   "cell_type": "code",
   "execution_count": 7,
   "id": "2c2e7d1f",
   "metadata": {},
   "outputs": [
    {
     "data": {
      "text/html": [
       "<div>\n",
       "<style scoped>\n",
       "    .dataframe tbody tr th:only-of-type {\n",
       "        vertical-align: middle;\n",
       "    }\n",
       "\n",
       "    .dataframe tbody tr th {\n",
       "        vertical-align: top;\n",
       "    }\n",
       "\n",
       "    .dataframe thead th {\n",
       "        text-align: right;\n",
       "    }\n",
       "</style>\n",
       "<table border=\"1\" class=\"dataframe\">\n",
       "  <thead>\n",
       "    <tr style=\"text-align: right;\">\n",
       "      <th></th>\n",
       "      <th>Year</th>\n",
       "      <th>Player</th>\n",
       "      <th>Team</th>\n",
       "      <th>TeamName</th>\n",
       "      <th>Games</th>\n",
       "      <th>Pts</th>\n",
       "      <th>Assist</th>\n",
       "      <th>Rebound</th>\n",
       "    </tr>\n",
       "  </thead>\n",
       "  <tbody>\n",
       "    <tr>\n",
       "      <th>3</th>\n",
       "      <td>2015</td>\n",
       "      <td>Durant</td>\n",
       "      <td>OKC</td>\n",
       "      <td>Thunder</td>\n",
       "      <td>72</td>\n",
       "      <td>28.2</td>\n",
       "      <td>5.0</td>\n",
       "      <td>8.2</td>\n",
       "    </tr>\n",
       "    <tr>\n",
       "      <th>4</th>\n",
       "      <td>2016</td>\n",
       "      <td>Durant</td>\n",
       "      <td>GSW</td>\n",
       "      <td>Warriors</td>\n",
       "      <td>62</td>\n",
       "      <td>25.1</td>\n",
       "      <td>4.8</td>\n",
       "      <td>8.3</td>\n",
       "    </tr>\n",
       "    <tr>\n",
       "      <th>5</th>\n",
       "      <td>2017</td>\n",
       "      <td>Durant</td>\n",
       "      <td>GSW</td>\n",
       "      <td>Warriors</td>\n",
       "      <td>68</td>\n",
       "      <td>26.4</td>\n",
       "      <td>5.4</td>\n",
       "      <td>6.8</td>\n",
       "    </tr>\n",
       "    <tr>\n",
       "      <th>6</th>\n",
       "      <td>2015</td>\n",
       "      <td>Ibaka</td>\n",
       "      <td>OKC</td>\n",
       "      <td>Thunder</td>\n",
       "      <td>78</td>\n",
       "      <td>12.6</td>\n",
       "      <td>0.8</td>\n",
       "      <td>6.8</td>\n",
       "    </tr>\n",
       "    <tr>\n",
       "      <th>7</th>\n",
       "      <td>2016</td>\n",
       "      <td>Ibaka</td>\n",
       "      <td>ORL</td>\n",
       "      <td>Magic</td>\n",
       "      <td>56</td>\n",
       "      <td>15.1</td>\n",
       "      <td>1.1</td>\n",
       "      <td>6.8</td>\n",
       "    </tr>\n",
       "    <tr>\n",
       "      <th>8</th>\n",
       "      <td>2016</td>\n",
       "      <td>Ibaka</td>\n",
       "      <td>TOR</td>\n",
       "      <td>Raptors</td>\n",
       "      <td>23</td>\n",
       "      <td>14.2</td>\n",
       "      <td>0.7</td>\n",
       "      <td>6.8</td>\n",
       "    </tr>\n",
       "  </tbody>\n",
       "</table>\n",
       "</div>"
      ],
      "text/plain": [
       "   Year  Player Team  TeamName  Games   Pts  Assist  Rebound\n",
       "3  2015  Durant  OKC   Thunder     72  28.2     5.0      8.2\n",
       "4  2016  Durant  GSW  Warriors     62  25.1     4.8      8.3\n",
       "5  2017  Durant  GSW  Warriors     68  26.4     5.4      6.8\n",
       "6  2015   Ibaka  OKC   Thunder     78  12.6     0.8      6.8\n",
       "7  2016   Ibaka  ORL     Magic     56  15.1     1.1      6.8\n",
       "8  2016   Ibaka  TOR   Raptors     23  14.2     0.7      6.8"
      ]
     },
     "execution_count": 7,
     "metadata": {},
     "output_type": "execute_result"
    }
   ],
   "source": [
    "df2"
   ]
  },
  {
   "cell_type": "markdown",
   "id": "77018b9d",
   "metadata": {},
   "source": [
    "### Exercise 1.1 (Merge: concat)\n",
    "\n",
    "Concatenate ``df1`` and ``df2`` together."
   ]
  },
  {
   "cell_type": "markdown",
   "id": "40d7e806",
   "metadata": {},
   "source": [
    "### Exercise 1.2 (Group)\n",
    "\n",
    "Group the dataframe ``df`` by column ``Player`` and apply the ``sum()`` function to the resulting groups."
   ]
  },
  {
   "cell_type": "markdown",
   "id": "9c901772",
   "metadata": {},
   "source": [
    "### Exercise 1.3 (Group)\n",
    "\n",
    "Group the dataframe ``df`` by column ``Player`` and apply ``mean()`` function to the resulting groups."
   ]
  },
  {
   "cell_type": "markdown",
   "id": "82b24e04",
   "metadata": {},
   "source": [
    "### Exercise 2\n",
    "\n",
    "Please read the following QuantEcon lecture before starting:\n",
    "- https://python-programming.quantecon.org/pandas.html\n",
    "\n",
    "From reading we know that we can use [pandas-datareader](https://pandas-datareader.readthedocs.io/en/latest/) to access online data."
   ]
  },
  {
   "cell_type": "code",
   "execution_count": 11,
   "id": "c84a10d2",
   "metadata": {},
   "outputs": [],
   "source": [
    "from pandas_datareader import wb"
   ]
  },
  {
   "cell_type": "markdown",
   "id": "e7d8556a",
   "metadata": {},
   "source": [
    "### Exercise 2.1\n",
    "\n",
    "Use [wb.search()](https://pandas-datareader.readthedocs.io/en/latest/readers/world-bank.html?highlight=search#pandas_datareader.wb.search) method to find the Gross Domestic Products per capita in constant 2015 US$.\n",
    "\n",
    "(Hint: use keywords, such as ``GDP`` or ``capita``.)"
   ]
  },
  {
   "cell_type": "markdown",
   "id": "b916056e",
   "metadata": {},
   "source": [
    "### Exercise 2.2\n",
    "Using the id you obtained from Exercise 2.1 to acquire GDP per capita data \n",
    "- for countries US (``US``), Australia (``AU``) and India (``IN``)\n",
    "- from year 2000 to 2022,\n",
    "\n",
    "and store the data in a dataframe called ``dat``."
   ]
  },
  {
   "cell_type": "markdown",
   "id": "6d9c8fea",
   "metadata": {},
   "source": [
    "### Exercise 2.3\n",
    "\n",
    "Calculate the average GDP per capita for these three countries, respectively, over the period.\n",
    "\n",
    "(HINT. Use ``.groupby`` from Exercise 1.)"
   ]
  },
  {
   "cell_type": "markdown",
   "id": "3d4e32cd",
   "metadata": {},
   "source": [
    "### Exercise 2.4\n",
    "\n",
    "Plot the GDP per capita from 2000 to 2022 as time series for the three countries."
   ]
  },
  {
   "cell_type": "markdown",
   "id": "e791817d",
   "metadata": {},
   "source": [
    "## Exercise 3 (Climate change vs GDP growth)\n",
    "\n",
    "Next let's compare GDP per capita to the share of Droughts, floods, extreme temperatures around the world."
   ]
  },
  {
   "cell_type": "markdown",
   "id": "258e8ed1",
   "metadata": {},
   "source": [
    "### Exercise 3.1\n",
    "\n",
    "Use [wb.search()](https://pandas-datareader.readthedocs.io/en/latest/readers/world-bank.html?highlight=search#pandas_datareader.wb.search) method to find the share of Droughts, floods, extreme temperatures."
   ]
  },
  {
   "cell_type": "markdown",
   "id": "acb37424",
   "metadata": {},
   "source": [
    "### Exercise 3.2 \n",
    "\n",
    "Acquire the GDP per capita and the share of extreme weather for **ALL** available countries in year 2009 using ``id``s from Exercises 2.1 and 3.1.\n",
    "\n",
    "Store the acquired data in a dataframe called ``df`` and name the columns by ``gdp`` and ``eweather``, respectively."
   ]
  },
  {
   "cell_type": "markdown",
   "id": "fd3a9816",
   "metadata": {},
   "source": [
    "Here a higher value in the column ``eweather`` means that the corresponding country experienced more extreme weather situations."
   ]
  },
  {
   "cell_type": "markdown",
   "id": "d61e920f",
   "metadata": {},
   "source": [
    "### Exercise 3.3 \n",
    "\n",
    "Use the [statsmodels](https://www.statsmodels.org/stable/regression.html) package to assess the relation between ``gdp`` and ``eweather`` using ordinary least squares regression."
   ]
  },
  {
   "cell_type": "code",
   "execution_count": 25,
   "id": "73a2dacd",
   "metadata": {},
   "outputs": [],
   "source": [
    "import statsmodels.formula.api as sm"
   ]
  }
 ],
 "metadata": {
  "kernelspec": {
   "display_name": "Python 3 (ipykernel)",
   "language": "python",
   "name": "python3"
  },
  "language_info": {
   "codemirror_mode": {
    "name": "ipython",
    "version": 3
   },
   "file_extension": ".py",
   "mimetype": "text/x-python",
   "name": "python",
   "nbconvert_exporter": "python",
   "pygments_lexer": "ipython3",
   "version": "3.9.7"
  }
 },
 "nbformat": 4,
 "nbformat_minor": 5
}
