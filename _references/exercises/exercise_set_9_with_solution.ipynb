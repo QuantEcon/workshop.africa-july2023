{
 "cells": [
  {
   "cell_type": "markdown",
   "id": "a2203a8a",
   "metadata": {},
   "source": [
    "# Law of large number and heavy-tailed distribution"
   ]
  },
  {
   "cell_type": "markdown",
   "id": "a7efa456",
   "metadata": {},
   "source": [
    "#### Written for the QuantEcon Indian Summer Workshop (August 2022)\n",
    "#### Author: [Shu Hu](https://shu-hu.com/intro.html)"
   ]
  },
  {
   "cell_type": "code",
   "execution_count": 1,
   "id": "12c256a3",
   "metadata": {},
   "outputs": [],
   "source": [
    "%matplotlib inline\n",
    "import matplotlib.pyplot as plt\n",
    "import numpy as np"
   ]
  },
  {
   "cell_type": "markdown",
   "id": "a262a30c",
   "metadata": {},
   "source": [
    "Dear students, please read the following QuantEcon lecture before starting:\n",
    "- https://python.quantecon.org/heavy_tails.html"
   ]
  },
  {
   "cell_type": "markdown",
   "id": "c82764d1",
   "metadata": {},
   "source": [
    "### Exercise 1 (LLN)\n",
    "Consider"
   ]
  },
  {
   "cell_type": "code",
   "execution_count": 2,
   "id": "d7994cea",
   "metadata": {},
   "outputs": [],
   "source": [
    "from scipy.stats import norm"
   ]
  },
  {
   "cell_type": "markdown",
   "id": "5ec2fdab",
   "metadata": {},
   "source": [
    "### Exercise 1.1\n",
    "\n",
    "Take the ``norm`` function above to \n",
    "- generate $N=1000$ independent draws from the standard normal distribution and\n",
    "- store them to a variable called ``data1``."
   ]
  },
  {
   "cell_type": "markdown",
   "id": "126f2f89",
   "metadata": {},
   "source": [
    "### Solution"
   ]
  },
  {
   "cell_type": "code",
   "execution_count": 3,
   "id": "efe65a42",
   "metadata": {},
   "outputs": [],
   "source": [
    "N = 1_000\n",
    "distribution = norm()\n",
    "data1 = distribution.rvs(N)"
   ]
  },
  {
   "cell_type": "markdown",
   "id": "1be059a2",
   "metadata": {},
   "source": [
    "### Exercise 1.2\n",
    "\n",
    "Write a function to replicate the job we have done in Exercise 1.1. \n",
    "That is, \n",
    "- take the number of draws $N$ and the type of distribution ``dist=norm`` and\n",
    "- return $N$ independent draws from the standard normal distribution."
   ]
  },
  {
   "cell_type": "markdown",
   "id": "1c9a3a6f",
   "metadata": {},
   "source": [
    "### Solution"
   ]
  },
  {
   "cell_type": "code",
   "execution_count": 4,
   "id": "4de8926d",
   "metadata": {},
   "outputs": [],
   "source": [
    "def generate_sample(N, \n",
    "                    dist=norm): # If you don't enter norm, then you won't get the same result as Exercise 1.1.\n",
    "    distribution = dist()\n",
    "    return distribution.rvs(N)"
   ]
  },
  {
   "cell_type": "code",
   "execution_count": 5,
   "id": "42efdf99",
   "metadata": {},
   "outputs": [],
   "source": [
    "N = 1_000\n",
    "data1 = generate_sample(N, dist=norm)"
   ]
  },
  {
   "cell_type": "markdown",
   "id": "5f279378",
   "metadata": {},
   "source": [
    "### Exercise 1.3"
   ]
  },
  {
   "cell_type": "code",
   "execution_count": 6,
   "id": "24b3fec5",
   "metadata": {},
   "outputs": [],
   "source": [
    "from scipy.stats import cauchy, uniform"
   ]
  },
  {
   "cell_type": "markdown",
   "id": "5981efdc",
   "metadata": {},
   "source": [
    "Generate 3 different examples of $N=1000$ draws from the standard normal distribution, the [Cauchy distribution](https://en.wikipedia.org/wiki/Cauchy_distribution), and the uniform distribution, respectively. \n",
    "\n",
    "Which ways you choose: Exercise 1.1 or Exercise 1.2?"
   ]
  },
  {
   "cell_type": "markdown",
   "id": "0ff4a80c",
   "metadata": {},
   "source": [
    "### Solution"
   ]
  },
  {
   "cell_type": "markdown",
   "id": "b3ccba5c",
   "metadata": {},
   "source": [
    "If we use the way from Exercise 1.1, then "
   ]
  },
  {
   "cell_type": "code",
   "execution_count": 7,
   "id": "b76a7846",
   "metadata": {},
   "outputs": [],
   "source": [
    "distribution = norm()\n",
    "data_norm1 = distribution.rvs(N)"
   ]
  },
  {
   "cell_type": "code",
   "execution_count": 8,
   "id": "c078ca71",
   "metadata": {},
   "outputs": [],
   "source": [
    "distribution = cauchy()\n",
    "data_cauchy1 = distribution.rvs(N)"
   ]
  },
  {
   "cell_type": "code",
   "execution_count": 9,
   "id": "b170b6e4",
   "metadata": {},
   "outputs": [],
   "source": [
    "distribution = uniform()\n",
    "data_uniform1 = distribution.rvs(N)"
   ]
  },
  {
   "cell_type": "markdown",
   "id": "245b2547",
   "metadata": {},
   "source": [
    "But if we use the method from Exercise 1.2, then"
   ]
  },
  {
   "cell_type": "code",
   "execution_count": 10,
   "id": "d0c42b08",
   "metadata": {},
   "outputs": [],
   "source": [
    "data_norm2 = generate_sample(N, dist=norm)"
   ]
  },
  {
   "cell_type": "code",
   "execution_count": 11,
   "id": "c97c1bd1",
   "metadata": {},
   "outputs": [],
   "source": [
    "data_cauchy2 = generate_sample(N, dist=cauchy)"
   ]
  },
  {
   "cell_type": "code",
   "execution_count": 12,
   "id": "0feddd22",
   "metadata": {},
   "outputs": [],
   "source": [
    "data_uniform2 = generate_sample(N, dist=uniform)"
   ]
  },
  {
   "cell_type": "markdown",
   "id": "279aaa36",
   "metadata": {},
   "source": [
    "We can see that with the function, we do not repeat ourselves to some extent."
   ]
  },
  {
   "cell_type": "markdown",
   "id": "cdeb9e99",
   "metadata": {},
   "source": [
    "### Exercise 1.4\n",
    "\n",
    "Write a function that \n",
    "- takes a sample of size $N$ and \n",
    "- returns the sample mean of each of the first $n$ observations, where $n=1, \\cdots, N$."
   ]
  },
  {
   "cell_type": "markdown",
   "id": "28ae484b",
   "metadata": {},
   "source": [
    "### Solution"
   ]
  },
  {
   "cell_type": "code",
   "execution_count": 13,
   "id": "468a853c",
   "metadata": {},
   "outputs": [],
   "source": [
    "# Compute sample mean at each n\n",
    "def sample_means(data):\n",
    "    N = len(data)\n",
    "    sample_mean = np.empty(N)\n",
    "    for n in range(1, N):\n",
    "        sample_mean[n] = np.mean(data[:n])\n",
    "    return sample_mean"
   ]
  },
  {
   "cell_type": "markdown",
   "id": "52b35e10",
   "metadata": {},
   "source": [
    "### Exercise 1.5 \n",
    "\n",
    "Write a function that \n",
    "- takes the sample mean of each of the first $n$ observations, where $n=1, \\cdots, N$, from the sample of size $N$ and\n",
    "- plots the sample mean on $y$-axis and the number of sample mean $n$ on $x$-axis."
   ]
  },
  {
   "cell_type": "markdown",
   "id": "c3e946ef",
   "metadata": {},
   "source": [
    "### Solution"
   ]
  },
  {
   "cell_type": "code",
   "execution_count": 14,
   "id": "0d5dd1e1",
   "metadata": {},
   "outputs": [],
   "source": [
    "def plot_samplemeans(sample_mean):\n",
    "    fig, ax = plt.subplots()\n",
    "    \n",
    "    N = len(sample_mean)\n",
    "\n",
    "    ax.plot(range(N), sample_mean, alpha=0.6, label='$\\\\bar{X}_n$')\n",
    "    ax.plot(range(N), np.zeros(N), 'k--', lw=0.5)\n",
    "    ax.legend()\n",
    "\n",
    "    plt.show()"
   ]
  },
  {
   "cell_type": "markdown",
   "id": "8df8e38d",
   "metadata": {},
   "source": [
    "### Exercise 1.6\n",
    "\n",
    "Using \n",
    "- the sample generated from Exercise 1.1 and \n",
    "- functions defined from Exercise 1.4 and Exercise 1.5, \n",
    "\n",
    "To \n",
    "- compute the sample mean of each of the first $n$ observations, where $n=1, \\cdots, N$ and $N=1000$ and\n",
    "- plot the sample means on $y$-axis and the number $n$ of sample means on $x$-axis.\n",
    "\n",
    "Repeat the above process 10 times. \n",
    "\n",
    "Question: whether the law of large number still holds in this case?"
   ]
  },
  {
   "cell_type": "markdown",
   "id": "5ec7c4b2",
   "metadata": {},
   "source": [
    "### Solution"
   ]
  },
  {
   "cell_type": "code",
   "execution_count": 15,
   "id": "0aaaec7f",
   "metadata": {},
   "outputs": [
    {
     "data": {
      "image/png": "[encoded data removed]",
      "text/plain": [
       "<Figure size 432x288 with 1 Axes>"
      ]
     },
     "metadata": {
      "needs_background": "light"
     },
     "output_type": "display_data"
    }
   ],
   "source": [
    "sample_mean1 = sample_means(data1)\n",
    "plot_samplemeans(sample_mean1)"
   ]
  },
  {
   "cell_type": "markdown",
   "id": "bdf9c59c",
   "metadata": {},
   "source": [
    "Here we can see the law of large numbers holds when the sample values follow a standard normal distribution."
   ]
  },
  {
   "cell_type": "markdown",
   "id": "1e1860a7",
   "metadata": {},
   "source": [
    "### Exercise 2 (LLN vs heavy-tailed distribution)\n",
    "\n",
    "Recall the Cauchy distribution from Exercise 1.3. "
   ]
  },
  {
   "cell_type": "markdown",
   "id": "c60ac83c",
   "metadata": {},
   "source": [
    "Now generate $N=1000$ independent draws from the Cauchy distribution, and also\n",
    "1. compute the sample mean of each of the first $n$ observations, where $n=1, \\cdots, N$.\n",
    "2. plot the sample mean on $y$-axis and the number of sample mean $n$ on $x$-axis. \n",
    "\n",
    "Repeat the above process 10 times. \n",
    "\n",
    "Question: whether the law of large number still holds in this case?"
   ]
  },
  {
   "cell_type": "markdown",
   "id": "62b92859",
   "metadata": {},
   "source": [
    "### Solution"
   ]
  },
  {
   "cell_type": "code",
   "execution_count": 16,
   "id": "e58fd53b",
   "metadata": {},
   "outputs": [
    {
     "data": {
      "image/png": "[encoded data removed]",
      "text/plain": [
       "<Figure size 432x288 with 1 Axes>"
      ]
     },
     "metadata": {
      "needs_background": "light"
     },
     "output_type": "display_data"
    }
   ],
   "source": [
    "N = 1000\n",
    "data2 = generate_sample(N, dist=cauchy)\n",
    "sample_mean2 = sample_means(data2)\n",
    "plot_samplemeans(sample_mean2)"
   ]
  },
  {
   "cell_type": "code",
   "execution_count": 17,
   "id": "0a6fc5b3",
   "metadata": {},
   "outputs": [
    {
     "data": {
      "image/png": "[encoded data removed]",
      "text/plain": [
       "<Figure size 432x288 with 1 Axes>"
      ]
     },
     "metadata": {
      "needs_background": "light"
     },
     "output_type": "display_data"
    }
   ],
   "source": [
    "# Not required by students\n",
    "# let's plot the 10 examples in the same figure, repeat it several times\n",
    "\n",
    "fig, ax = plt.subplots()\n",
    "    \n",
    "for i in range(10):\n",
    "    sample_mean = sample_means(generate_sample(N, dist=cauchy))\n",
    "    ax.plot(range(N), sample_mean, alpha=0.6, label='$\\\\bar{X}_n$')\n",
    "\n",
    "ax.plot(range(N), np.zeros(N), 'k--', lw=0.5)\n",
    "ax.legend()\n",
    "\n",
    "plt.show()"
   ]
  },
  {
   "cell_type": "markdown",
   "id": "a9576331",
   "metadata": {},
   "source": [
    "Here we can see that the law of large number does not hold when the sample values follow a heavy-tailed distribution."
   ]
  },
  {
   "cell_type": "markdown",
   "id": "80d07f60",
   "metadata": {},
   "source": [
    "### Exercise 3 (Pareto distribution and loglog rank-size plot)\n",
    "\n",
    "Consider another famous type of heavy-tailed distribution, called [Pareto distribution](https://en.wikipedia.org/wiki/Pareto_distribution). "
   ]
  },
  {
   "cell_type": "code",
   "execution_count": 18,
   "id": "7023c8c1",
   "metadata": {},
   "outputs": [],
   "source": [
    "from scipy.stats import pareto"
   ]
  },
  {
   "cell_type": "markdown",
   "id": "153b3211",
   "metadata": {},
   "source": [
    "### Exercise 3.1 \n",
    "\n",
    "Generates $N=1000$ independent draws from the Pareto distribution with the shape parameter $b=1$.\n",
    "\n",
    "What's the population mean and sample mean right now?"
   ]
  },
  {
   "cell_type": "markdown",
   "id": "4408ede9",
   "metadata": {},
   "source": [
    "### Solution"
   ]
  },
  {
   "cell_type": "code",
   "execution_count": 19,
   "id": "b776ec55",
   "metadata": {},
   "outputs": [],
   "source": [
    "N = 1_000\n",
    "b = 1\n",
    "distribution = pareto(b=1)\n",
    "data3 = distribution.rvs(N)"
   ]
  },
  {
   "cell_type": "code",
   "execution_count": 20,
   "id": "873a49a5",
   "metadata": {},
   "outputs": [],
   "source": [
    "sample_mean3 = sample_means(data3)"
   ]
  },
  {
   "cell_type": "code",
   "execution_count": 21,
   "id": "d9b07daf",
   "metadata": {},
   "outputs": [
    {
     "data": {
      "text/plain": [
       "inf"
      ]
     },
     "execution_count": 21,
     "metadata": {},
     "output_type": "execute_result"
    }
   ],
   "source": [
    "distribution.mean()"
   ]
  },
  {
   "cell_type": "markdown",
   "id": "6b5a7c1b",
   "metadata": {},
   "source": [
    "### Exercise 3.2\n",
    "\n",
    "Many important distributions in Economics and Finance, such as the distributions of firm size, income or wealth, follow a Pareto distribution. The so-called [rank-size plot](https://python.quantecon.org/heavy_tails.html#rank-size-plots) helps verify whether a sample is drawed from a Pareto distribution.\n",
    "\n",
    "Use [rank_size](https://quanteconpy.readthedocs.io/en/latest/tools/inequality.html?highlight=rank#quantecon.inequality.rank_size) method from [quantecon](https://quanteconpy.readthedocs.io/en/latest/index.html) library to write a function that\n",
    "- takes a sample and\n",
    "- returns a [loglog](https://en.wikipedia.org/wiki/Log%E2%80%93log_plot) rank-size plot with the log rank on $x$-axis and the log size on $y$-axis.\n",
    "\n",
    "Use the function defined above to plot the loglog rank-size plot for sample produced from Exercise 3.1."
   ]
  },
  {
   "cell_type": "markdown",
   "id": "00a0ea55",
   "metadata": {},
   "source": [
    "### Solution"
   ]
  },
  {
   "cell_type": "code",
   "execution_count": 22,
   "id": "79e246ec",
   "metadata": {},
   "outputs": [],
   "source": [
    "import quantecon as qe"
   ]
  },
  {
   "cell_type": "code",
   "execution_count": 23,
   "id": "19b16f31",
   "metadata": {},
   "outputs": [],
   "source": [
    "def ll_ranksize(data):\n",
    "    rank_data, size_data = qe.rank_size(data)\n",
    "\n",
    "    fig, ax = plt.subplots()\n",
    "\n",
    "    ax.loglog(rank_data, size_data, 'o', markersize=3.0, alpha=0.5)\n",
    "    ax.set_xlabel(\"log rank\")\n",
    "    ax.set_ylabel(\"log size\")\n",
    "\n",
    "    plt.show()"
   ]
  },
  {
   "cell_type": "code",
   "execution_count": 24,
   "id": "83885e0e",
   "metadata": {},
   "outputs": [
    {
     "data": {
      "image/png": "[encoded data removed]",
      "text/plain": [
       "<Figure size 432x288 with 1 Axes>"
      ]
     },
     "metadata": {
      "needs_background": "light"
     },
     "output_type": "display_data"
    }
   ],
   "source": [
    "ll_ranksize(data3)"
   ]
  },
  {
   "cell_type": "markdown",
   "id": "6236f761",
   "metadata": {},
   "source": [
    "The loglog rank size plot for a sample following Pareto distribution looks like a straight line."
   ]
  },
  {
   "cell_type": "markdown",
   "id": "bcc12d20",
   "metadata": {},
   "source": [
    "### Exercise 3.3\n",
    "\n",
    "Use the function defined from Exercise 3.2 to generate [loglog](https://en.wikipedia.org/wiki/Log%E2%80%93log_plot) rank-size plots for the samples produced from Exercise 1.1 and Exercise 2.1, respectively."
   ]
  },
  {
   "cell_type": "markdown",
   "id": "7aa75d8e",
   "metadata": {},
   "source": [
    "### Solution"
   ]
  },
  {
   "cell_type": "code",
   "execution_count": 25,
   "id": "b6a24264",
   "metadata": {},
   "outputs": [
    {
     "data": {
      "image/png": "[encoded data removed]",
      "text/plain": [
       "<Figure size 432x288 with 1 Axes>"
      ]
     },
     "metadata": {
      "needs_background": "light"
     },
     "output_type": "display_data"
    }
   ],
   "source": [
    "ll_ranksize(data1)"
   ]
  },
  {
   "cell_type": "code",
   "execution_count": 26,
   "id": "12550622",
   "metadata": {},
   "outputs": [
    {
     "data": {
      "image/png": "[encoded data removed]",
      "text/plain": [
       "<Figure size 432x288 with 1 Axes>"
      ]
     },
     "metadata": {
      "needs_background": "light"
     },
     "output_type": "display_data"
    }
   ],
   "source": [
    "ll_ranksize(data2)"
   ]
  },
  {
   "cell_type": "markdown",
   "id": "2deabe16",
   "metadata": {},
   "source": [
    "We can see that the loglog rank size plot for a sample not following Pareto distribution does not look like a straight line."
   ]
  }
 ],
 "metadata": {
  "kernelspec": {
   "display_name": "Python 3 (ipykernel)",
   "language": "python",
   "name": "python3"
  },
  "language_info": {
   "codemirror_mode": {
    "name": "ipython",
    "version": 3
   },
   "file_extension": ".py",
   "mimetype": "text/x-python",
   "name": "python",
   "nbconvert_exporter": "python",
   "pygments_lexer": "ipython3",
   "version": "3.9.7"
  }
 },
 "nbformat": 4,
 "nbformat_minor": 5
}
