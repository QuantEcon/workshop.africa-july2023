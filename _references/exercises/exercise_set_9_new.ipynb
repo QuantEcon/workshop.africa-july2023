{
 "cells": [
  {
   "cell_type": "markdown",
   "id": "a2203a8a",
   "metadata": {},
   "source": [
    "# LLN, heavy-tailed distribution, and Solow-Swan"
   ]
  },
  {
   "cell_type": "markdown",
   "id": "a7efa456",
   "metadata": {},
   "source": [
    "#### Author: [Shu Hu](https://shu-hu.com/intro.html), [Smit Lunagariya](https://github.com/Smit-create)"
   ]
  },
  {
   "cell_type": "code",
   "execution_count": 2,
   "id": "12c256a3",
   "metadata": {},
   "outputs": [],
   "source": [
    "import matplotlib.pyplot as plt\n",
    "import numpy as np"
   ]
  },
  {
   "cell_type": "markdown",
   "id": "a262a30c",
   "metadata": {},
   "source": [
    "Dear students, please read the following QuantEcon lecture before starting:\n",
    "- [Heavy Tails](https://python.quantecon.org/heavy_tails.html)\n",
    "- [Solow-Swan](https://intro.quantecon.org/solow.html)"
   ]
  },
  {
   "cell_type": "markdown",
   "id": "c82764d1",
   "metadata": {},
   "source": [
    "### Exercise 1 (LLN)\n",
    "Consider"
   ]
  },
  {
   "cell_type": "code",
   "execution_count": 3,
   "id": "d7994cea",
   "metadata": {},
   "outputs": [],
   "source": [
    "from scipy.stats import norm"
   ]
  },
  {
   "cell_type": "markdown",
   "id": "5ec2fdab",
   "metadata": {},
   "source": [
    "### Exercise 1.1\n",
    "\n",
    "Take the ``norm`` function above to \n",
    "- generate $N=1000$ independent draws from the standard normal distribution and\n",
    "- store them to a variable called ``data1``."
   ]
  },
  {
   "cell_type": "markdown",
   "id": "1be059a2",
   "metadata": {},
   "source": [
    "### Exercise 1.2\n",
    "\n",
    "Write a function to replicate the job we have done in Exercise 1.1. \n",
    "That is, \n",
    "- take the number of draws $N$ and the type of distribution ``dist=norm`` and\n",
    "- return $N$ independent draws from the standard normal distribution."
   ]
  },
  {
   "cell_type": "markdown",
   "id": "5f279378",
   "metadata": {},
   "source": [
    "### Exercise 1.3"
   ]
  },
  {
   "cell_type": "code",
   "execution_count": 7,
   "id": "24b3fec5",
   "metadata": {},
   "outputs": [],
   "source": [
    "from scipy.stats import cauchy, uniform"
   ]
  },
  {
   "cell_type": "markdown",
   "id": "5981efdc",
   "metadata": {},
   "source": [
    "Generate 3 different examples of $N=1000$ draws from the standard normal distribution, the [Cauchy distribution](https://en.wikipedia.org/wiki/Cauchy_distribution), and the uniform distribution, respectively. \n",
    "\n",
    "Which ways you choose: Exercise 1.1 or Exercise 1.2?"
   ]
  },
  {
   "cell_type": "markdown",
   "id": "cdeb9e99",
   "metadata": {},
   "source": [
    "### Exercise 1.4\n",
    "\n",
    "Write a function that \n",
    "- takes a sample of size $N$ and \n",
    "- returns the sample mean of each of the first $n$ observations, where $n=1, \\cdots, N$."
   ]
  },
  {
   "cell_type": "markdown",
   "id": "52b35e10",
   "metadata": {},
   "source": [
    "### Exercise 1.5 \n",
    "\n",
    "Write a function that \n",
    "- takes the sample mean of each of the first $n$ observations, where $n=1, \\cdots, N$, from the sample of size $N$ and\n",
    "- plots the sample mean on $y$-axis and the number of sample mean $n$ on $x$-axis."
   ]
  },
  {
   "cell_type": "markdown",
   "id": "8df8e38d",
   "metadata": {},
   "source": [
    "### Exercise 1.6\n",
    "\n",
    "Using \n",
    "- the sample generated from Exercise 1.1 and \n",
    "- functions defined from Exercise 1.4 and Exercise 1.5, \n",
    "\n",
    "To \n",
    "- compute the sample mean of each of the first $n$ observations, where $n=1, \\cdots, N$ and $N=1000$ and\n",
    "- plot the sample means on $y$-axis and the number $n$ of sample means on $x$-axis.\n",
    "\n",
    "Repeat the above process 10 times. \n",
    "\n",
    "Question: whether the law of large number still holds in this case?"
   ]
  },
  {
   "cell_type": "markdown",
   "id": "1e1860a7",
   "metadata": {},
   "source": [
    "### Exercise 2 (LLN vs heavy-tailed distribution)\n",
    "\n",
    "Recall the Cauchy distribution from Exercise 1.3. "
   ]
  },
  {
   "cell_type": "markdown",
   "id": "c60ac83c",
   "metadata": {},
   "source": [
    "Now generate $N=1000$ independent draws from the Cauchy distribution, and also\n",
    "1. compute the sample mean of each of the first $n$ observations, where $n=1, \\cdots, N$.\n",
    "2. plot the sample mean on $y$-axis and the number of sample mean $n$ on $x$-axis. \n",
    "\n",
    "Repeat the above process 10 times. \n",
    "\n",
    "Question: whether the law of large number still holds in this case?"
   ]
  },
  {
   "cell_type": "markdown",
   "id": "80d07f60",
   "metadata": {},
   "source": [
    "### Exercise 3 (Pareto distribution and loglog rank-size plot)\n",
    "\n",
    "Consider another famous type of heavy-tailed distribution, called [Pareto distribution](https://en.wikipedia.org/wiki/Pareto_distribution). "
   ]
  },
  {
   "cell_type": "code",
   "execution_count": 19,
   "id": "7023c8c1",
   "metadata": {},
   "outputs": [],
   "source": [
    "from scipy.stats import pareto"
   ]
  },
  {
   "cell_type": "markdown",
   "id": "153b3211",
   "metadata": {},
   "source": [
    "### Exercise 3.1 \n",
    "\n",
    "Generates $N=1000$ independent draws from the Pareto distribution with the shape parameter $b=1$.\n",
    "\n",
    "What's the population mean and sample mean right now?"
   ]
  },
  {
   "cell_type": "markdown",
   "id": "6b5a7c1b",
   "metadata": {},
   "source": [
    "### Exercise 3.2\n",
    "\n",
    "Many important distributions in Economics and Finance, such as the distributions of firm size, income or wealth, follow a Pareto distribution. The so-called [rank-size plot](https://python.quantecon.org/heavy_tails.html#rank-size-plots) helps verify whether a sample is drawed from a Pareto distribution.\n",
    "\n",
    "Use [rank_size](https://quanteconpy.readthedocs.io/en/latest/tools/inequality.html?highlight=rank#quantecon.inequality.rank_size) method from [quantecon](https://quanteconpy.readthedocs.io/en/latest/index.html) library to write a function that\n",
    "- takes a sample and\n",
    "- returns a [loglog](https://en.wikipedia.org/wiki/Log%E2%80%93log_plot) rank-size plot with the log rank on $x$-axis and the log size on $y$-axis.\n",
    "\n",
    "Use the function defined above to plot the loglog rank-size plot for sample produced from Exercise 3.1."
   ]
  },
  {
   "cell_type": "markdown",
   "id": "bcc12d20",
   "metadata": {},
   "source": [
    "### Exercise 3.3\n",
    "\n",
    "Use the function defined from Exercise 3.2 to generate [loglog](https://en.wikipedia.org/wiki/Log%E2%80%93log_plot) rank-size plots for the samples produced from Exercise 1.1 and Exercise 2.1, respectively."
   ]
  },
  {
   "cell_type": "markdown",
   "id": "9be68c88",
   "metadata": {},
   "source": [
    "### Exercise 4 (Solow-Swan Growth Model)\n",
    "\n",
    "Recall the dynamics of the Solow-Swan Growth model\n",
    "\n",
    "$$\n",
    "    k_{t+1}\n",
    "    = s \\frac{F(K_t, L)}{L} + (1 - \\delta) k_t\n",
    "    = s f(k_t) + (1 - \\delta) k_t\n",
    "$$\n",
    "\n",
    "Using the Cobb–Douglas specification $f(k) = Ak^{\\alpha}$, and solving for $k^*$, we get\n",
    "\n",
    "$$\n",
    "    k^* := \\left( \\frac{s A}{\\delta} \\right)^{1/(1 - \\alpha)}\n",
    "$$\n",
    "\n",
    "Take a uniform grid of 5 $\\alpha$ points in $[0.1, 0.5]$ and plot per capita consumption $c^*$ at the steady state, as a function of the savings rate $s$, where $0 \\leq s \\leq 1$. Observe the behaviour of the consumption curve at the steady rate at different values of $\\alpha$.\n",
    "\n",
    "Assume that $A = 3.5$, and $\\delta=0.2$"
   ]
  }
 ],
 "metadata": {
  "kernelspec": {
   "display_name": "Python 3 (ipykernel)",
   "language": "python",
   "name": "python3"
  },
  "language_info": {
   "codemirror_mode": {
    "name": "ipython",
    "version": 3
   },
   "file_extension": ".py",
   "mimetype": "text/x-python",
   "name": "python",
   "nbconvert_exporter": "python",
   "pygments_lexer": "ipython3",
   "version": "3.10.11"
  }
 },
 "nbformat": 4,
 "nbformat_minor": 5
}
