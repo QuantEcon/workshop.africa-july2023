{
 "cells": [
  {
   "cell_type": "markdown",
   "metadata": {
    "id": "-pnHB5q0yBp7"
   },
   "source": [
    "# Linear Algebra Exercises\n",
    "\n",
    "This notebook contains the basic exercises on Linear Algebra.\n",
    "\n",
    "It will mainly focused on Matrix Algebra using the [numpy](https://numpy.org/doc/stable/) library."
   ]
  },
  {
   "cell_type": "markdown",
   "metadata": {},
   "source": [
    "#### Written for the QuantEcon Africa Workshop (July 2023)\n",
    "#### Author: [Smit Lunagariya](https://github.com/Smit-create)"
   ]
  },
  {
   "cell_type": "code",
   "execution_count": 1,
   "metadata": {
    "id": "B4DjbqlLyYXB"
   },
   "outputs": [],
   "source": [
    "# Import required libraries\n",
    "\n",
    "import numpy as np\n",
    "import matplotlib.pyplot as plt\n",
    "from scipy.linalg import eig"
   ]
  },
  {
   "cell_type": "markdown",
   "metadata": {
    "id": "6CB2JOEFzVZU"
   },
   "source": [
    "### Exercise 1\n",
    "\n",
    "Warm up on NumPy Basics.\n",
    "\n",
    "Feel free to refer the [numpy documentation](https://numpy.org/doc/stable/reference/index.html) for API."
   ]
  },
  {
   "cell_type": "markdown",
   "metadata": {
    "id": "JEha5rYczdzJ"
   },
   "source": [
    "**Question 1.1**: Write a function that creates numpy array from the given list/tuple."
   ]
  },
  {
   "cell_type": "code",
   "execution_count": 2,
   "metadata": {
    "id": "SoSjfWh0zCcY"
   },
   "outputs": [],
   "source": [
    "def create_array(x):\n",
    "    # write your code here\n",
    "    pass"
   ]
  },
  {
   "cell_type": "code",
   "execution_count": 3,
   "metadata": {
    "id": "KAXq6tH1zxom"
   },
   "outputs": [],
   "source": [
    "# Solution 1.1\n",
    "\n",
    "def create_array_solution(x):\n",
    "    return np.array(x)"
   ]
  },
  {
   "cell_type": "code",
   "execution_count": 4,
   "metadata": {
    "id": "AEfFRCeYz5v2"
   },
   "outputs": [],
   "source": [
    "# Test your solution\n",
    "assert type(create_array_solution([1, 2, 3])) == np.ndarray\n",
    "assert type(create_array_solution((1, 2, 3))) == np.ndarray"
   ]
  },
  {
   "cell_type": "markdown",
   "metadata": {
    "id": "YCt6kjvn0UfD"
   },
   "source": [
    "**Question 1.2**: Write a function to return the transpose of the given matrix."
   ]
  },
  {
   "cell_type": "code",
   "execution_count": 5,
   "metadata": {
    "id": "JZ1aqemH0hE2"
   },
   "outputs": [],
   "source": [
    "def get_transpose(x):\n",
    "    # write your code here\n",
    "    pass"
   ]
  },
  {
   "cell_type": "code",
   "execution_count": 6,
   "metadata": {
    "id": "-_RwW7_e0T02"
   },
   "outputs": [],
   "source": [
    "# Solution 1.2\n",
    "\n",
    "def get_transpose_solution(x):\n",
    "    return np.transpose(x)"
   ]
  },
  {
   "cell_type": "code",
   "execution_count": 7,
   "metadata": {
    "id": "2fpj5_ftz-HJ"
   },
   "outputs": [],
   "source": [
    "# Test your solution\n",
    "\n",
    "assert np.allclose(get_transpose_solution(np.arange(6).reshape((3,2))),\n",
    "                   np.array([[0, 2, 4], [1, 3, 5]]))"
   ]
  },
  {
   "cell_type": "markdown",
   "metadata": {
    "id": "mfU7LdKu2fLF"
   },
   "source": [
    "**Question 1.3**: Write a function to return the inverse of the given matrix."
   ]
  },
  {
   "cell_type": "code",
   "execution_count": 8,
   "metadata": {
    "id": "NANEAoDO1hQk"
   },
   "outputs": [],
   "source": [
    "def get_inverse(x):\n",
    "    # write your code here\n",
    "    pass"
   ]
  },
  {
   "cell_type": "code",
   "execution_count": 9,
   "metadata": {
    "id": "Qt4up3Qi2wmh"
   },
   "outputs": [],
   "source": [
    "# Solution 1.3\n",
    "\n",
    "def get_inverse_solution(x):\n",
    "    return np.linalg.inv(x)"
   ]
  },
  {
   "cell_type": "code",
   "execution_count": 10,
   "metadata": {
    "id": "9fRsb6bQ3A8S"
   },
   "outputs": [],
   "source": [
    "# Test your solution\n",
    "\n",
    "a_test = np.array([[1., 2.], [3., 4.]])\n",
    "a_test_inv = get_inverse_solution(a_test)\n",
    "assert np.allclose(np.dot(a_test, a_test_inv), np.eye(2))"
   ]
  },
  {
   "cell_type": "markdown",
   "metadata": {
    "id": "n-XuySo33aKC"
   },
   "source": [
    "**Question 1.4**: Write a function to compute the norm of the vector."
   ]
  },
  {
   "cell_type": "code",
   "execution_count": 11,
   "metadata": {
    "id": "2tARnaHl3TKj"
   },
   "outputs": [],
   "source": [
    "def get_norm(x):\n",
    "    # write your code here\n",
    "    pass"
   ]
  },
  {
   "cell_type": "code",
   "execution_count": 12,
   "metadata": {
    "id": "jV-VOhM63xMT"
   },
   "outputs": [],
   "source": [
    "# Solution 1.4\n",
    "\n",
    "def get_norm_solution(x):\n",
    "    return np.linalg.norm(x)"
   ]
  },
  {
   "cell_type": "code",
   "execution_count": 13,
   "metadata": {
    "id": "MS_dUQfd355E"
   },
   "outputs": [],
   "source": [
    "# Test your solution\n",
    "\n",
    "assert np.allclose(get_norm_solution([1, 2, 2, 4, 12, 5]), 13.92838827718412)"
   ]
  },
  {
   "cell_type": "markdown",
   "metadata": {
    "id": "olS_hTRvODFs"
   },
   "source": [
    "**Question 1.5**: Write a function that returns the standarized vector of the given vector such that the mean is $0$ and standard deviation is $1$. Mathematically:\n",
    "$$\n",
    "\\forall x_{i}\\in x:\\hspace{1em}x_{i}^{\\prime}=\\frac{x_{i}-\\mu}{\\sigma}\n",
    "$$"
   ]
  },
  {
   "cell_type": "code",
   "execution_count": 14,
   "metadata": {
    "id": "O4zAinR43-CA"
   },
   "outputs": [],
   "source": [
    "def standardize(x):\n",
    "    # write your code here\n",
    "    pass"
   ]
  },
  {
   "cell_type": "code",
   "execution_count": 15,
   "metadata": {
    "id": "i3Y6do3HO4ba"
   },
   "outputs": [],
   "source": [
    "# Solution 1.5\n",
    "\n",
    "def standardize_solution(x):\n",
    "    # write your code here\n",
    "    mean, std = x.mean(), x.std()\n",
    "    return (x - mean) / std"
   ]
  },
  {
   "cell_type": "code",
   "execution_count": 16,
   "metadata": {
    "id": "a6YbT9gXPBoh"
   },
   "outputs": [],
   "source": [
    "# Test your solution\n",
    "\n",
    "a_test = np.random.randint(100, 2000, size=1000)\n",
    "a_test_stdz = standardize_solution(a_test)\n",
    "assert np.isclose(a_test_stdz.mean(), 0)\n",
    "assert np.isclose(a_test_stdz.std(), 1)  "
   ]
  },
  {
   "cell_type": "markdown",
   "metadata": {
    "id": "3vP_kHtCP3lc"
   },
   "source": [
    "### Exercise 2"
   ]
  },
  {
   "cell_type": "markdown",
   "metadata": {
    "id": "1n_zIFzoP7HV"
   },
   "source": [
    "**Question 2.1**: Write a function that takes two numpy vectors as an argument and returns `True` if they are orthogonal else returns `False`.\n",
    "\n",
    "*Note: Two vectors are called orthogonal if their inner product is zero.*"
   ]
  },
  {
   "cell_type": "code",
   "execution_count": 17,
   "metadata": {
    "id": "W-KmCFUOPiAq"
   },
   "outputs": [],
   "source": [
    "def is_orthogonal(x, y):\n",
    "    # write your code here\n",
    "    pass"
   ]
  },
  {
   "cell_type": "code",
   "execution_count": 18,
   "metadata": {
    "id": "f9MP7eofQjMw"
   },
   "outputs": [],
   "source": [
    "# Solution 2.1\n",
    "\n",
    "def is_orthogonal_solution(x, y):\n",
    "    return np.allclose(x.T @ y, 0)"
   ]
  },
  {
   "cell_type": "code",
   "execution_count": 19,
   "metadata": {
    "id": "WVdLPG3VQrkL"
   },
   "outputs": [],
   "source": [
    "# Test your solution\n",
    "\n",
    "assert is_orthogonal_solution(np.array([0, 1, 0, -2, 4]), np.array([-1, -4, 1, 2, 2]))\n",
    "assert not is_orthogonal_solution(np.array([0, 1, 0, -2, 4]), np.array([-1, -4, 1, 2, 4]))"
   ]
  },
  {
   "cell_type": "markdown",
   "metadata": {
    "id": "Sr5XcpJQSrMh"
   },
   "source": [
    "**Question 2.2**: Write a function to check whether the given matrix is symmetric or not."
   ]
  },
  {
   "cell_type": "code",
   "execution_count": 20,
   "metadata": {
    "id": "TXxbvc1pRHZK"
   },
   "outputs": [],
   "source": [
    "def is_symmetric(x):\n",
    "    # write your code here\n",
    "    pass"
   ]
  },
  {
   "cell_type": "code",
   "execution_count": 21,
   "metadata": {
    "id": "OZBlgGEXS7Fi"
   },
   "outputs": [],
   "source": [
    "# Solution 2.2\n",
    "\n",
    "def is_symmetric_solution(x):\n",
    "    if x.shape[0] != x.shape[1]:\n",
    "        return False\n",
    "    return np.allclose(x, x.T)"
   ]
  },
  {
   "cell_type": "code",
   "execution_count": 22,
   "metadata": {
    "id": "xa4HDEpzS_Ne"
   },
   "outputs": [],
   "source": [
    "# Test your solution\n",
    "\n",
    "assert is_symmetric_solution(np.eye(3))\n",
    "assert is_symmetric_solution(np.array([[1, 3], [3, 1]]))\n",
    "assert not is_symmetric_solution(np.array([[0, 1, 0, -2, 4], [-1, -4, 1, 2, 2]]))"
   ]
  },
  {
   "cell_type": "markdown",
   "metadata": {
    "id": "C9mv_F8r_Uif"
   },
   "source": [
    "### Exercise 3"
   ]
  },
  {
   "cell_type": "markdown",
   "metadata": {
    "id": "NhSyxp_j_YRa"
   },
   "source": [
    "**Question 3.1**: Given a matrix $A$, compute the eigenvalues, eigenvectors and plot them."
   ]
  },
  {
   "cell_type": "code",
   "execution_count": 23,
   "metadata": {
    "id": "7kkxk3lCAreD"
   },
   "outputs": [],
   "source": [
    "A = np.array([[1, 4], [5, 7]])"
   ]
  },
  {
   "cell_type": "code",
   "execution_count": 24,
   "metadata": {
    "id": "ixLzMKNzTdQV"
   },
   "outputs": [],
   "source": [
    "# Write your code here"
   ]
  },
  {
   "cell_type": "code",
   "execution_count": 25,
   "metadata": {
    "colab": {
     "base_uri": "https://localhost:8080/",
     "height": 555
    },
    "id": "o4B0TKXUAGn5",
    "outputId": "8a6ce5a4-e391-40ee-e36b-f4a551e310ba"
   },
   "outputs": [
    {
     "data": {
      "image/png": "[encoded data removed]",
      "text/plain": [
       "<Figure size 700x500 with 1 Axes>"
      ]
     },
     "metadata": {},
     "output_type": "display_data"
    }
   ],
   "source": [
    "# Solution 3.1\n",
    "\n",
    "A = np.array(A)\n",
    "evals, evecs = eig(A)\n",
    "evecs = evecs[:, 0], evecs[:, 1]\n",
    "\n",
    "fig, ax = plt.subplots(figsize=(7, 5))\n",
    "\n",
    "# Set the axes through the origin\n",
    "for spine in ['left', 'bottom']:\n",
    "    ax.spines[spine].set_position('zero')\n",
    "for spine in ['right', 'top']:\n",
    "    ax.spines[spine].set_color('none')\n",
    "\n",
    "ax.grid(alpha=0.4)\n",
    "\n",
    "xmin, xmax = -3, 3\n",
    "ymin, ymax = -3, 3\n",
    "ax.set(xlim=(xmin, xmax), ylim=(ymin, ymax))\n",
    "\n",
    "# Plot each eigenvector\n",
    "for v in evecs:\n",
    "    ax.annotate('', xy=v, xytext=(0, 0),\n",
    "                arrowprops=dict(facecolor='blue',\n",
    "                shrink=0,\n",
    "                alpha=0.6,\n",
    "                width=0.5))\n",
    "\n",
    "# Plot the image of each eigenvector\n",
    "for v in evecs:\n",
    "    z = A @ v\n",
    "    ax.annotate('', xy=z, xytext=(0, 0),\n",
    "                arrowprops=dict(facecolor='red',\n",
    "                shrink=0,\n",
    "                alpha=0.6,\n",
    "                width=0.5))\n",
    "\n",
    "# Plot the lines they run through\n",
    "x = np.linspace(xmin, xmax, 3)\n",
    "for v in evecs:\n",
    "    a = v[1] / v[0]\n",
    "    ax.plot(x, a * x, 'b-', lw=0.4)\n",
    "\n",
    "plt.show()"
   ]
  },
  {
   "cell_type": "markdown",
   "metadata": {
    "id": "3H8P_QP6DpG2"
   },
   "source": [
    "### Exercise 4\n"
   ]
  },
  {
   "cell_type": "markdown",
   "metadata": {},
   "source": [
    "Please refer to this [quantecon lecture](https://intro.quantecon.org/time_series_with_matrices.html) before solving this exercise."
   ]
  },
  {
   "cell_type": "markdown",
   "metadata": {
    "id": "CRXBNDuUD4pk"
   },
   "source": [
    "Let $ t = 0, \\pm 1, \\pm 2, \\ldots $ index time.\n",
    "\n",
    "For $ t = 1, 2, 3, \\ldots, T $ suppose that\n",
    "\n",
    "\n",
    "<a id='equation-tswm-1'></a>\n",
    "$$\n",
    "y_{t} = \\alpha_{0} + \\alpha_{1} y_{t-1}\n",
    "$$\n",
    "\n",
    "where we assume that $ y_0 = 1$, $\\alpha_{0}=5$, and $\\alpha_{1}=1.2$.\n",
    "\n",
    "\n",
    "**Question 4.1**: Use the matrix algebra to solve the above time series equation, and plot the solution.\n",
    "\n",
    "*Hint:*\n",
    "\n",
    "\n",
    "*Let’s write our equations as a stacked system*\n",
    "\n",
    "$$\n",
    "\\underset{\\equiv A}{\\underbrace{\\left[\\begin{array}{cccccccc}\n",
    "1 & 0 & 0 & 0 & \\cdots & 0 & 0 & 0\\\\\n",
    "-\\alpha_{1} & 1 & 0 & 0 & \\cdots & 0 & 0 & 0\\\\\n",
    "0 & -\\alpha_{1} & 1 & 0 & \\cdots & 0 & 0 & 0\\\\\n",
    "0 & 0 & -\\alpha_{1} & 1 & \\cdots & 0 & 0 & 0\\\\\n",
    "\\vdots & \\vdots & \\vdots & \\vdots & \\cdots & \\vdots & \\vdots & \\vdots\\\\\n",
    "0 & 0 & 0 & 0 & \\cdots & 0 & -\\alpha_{1} & 1\n",
    "\\end{array}\\right]}}\\left[\\begin{array}{c}\n",
    "y_{1}\\\\\n",
    "y_{2}\\\\\n",
    "y_{3}\\\\\n",
    "y_{4}\\\\\n",
    "\\vdots\\\\\n",
    "y_{T}\n",
    "\\end{array}\\right]=\\underset{\\equiv b}{\\underbrace{\\left[\\begin{array}{c}\n",
    "\\alpha_{0}+\\alpha_{1}y_{0}\\\\\n",
    "\\alpha_{0}\\\\\n",
    "\\alpha_{0}\\\\\n",
    "\\alpha_{0}\\\\\n",
    "\\vdots\\\\\n",
    "\\alpha_{0}\n",
    "\\end{array}\\right]}}\n",
    "$$\n",
    "\n",
    "or\n",
    "\n",
    "$$\n",
    "A y = b\n",
    "$$\n",
    "\n",
    "where\n",
    "\n",
    "$$\n",
    "y = \\begin{bmatrix} y_1 \\cr y_2 \\cr \\vdots \\cr y_T \\end{bmatrix}\n",
    "$$"
   ]
  },
  {
   "cell_type": "code",
   "execution_count": 26,
   "metadata": {
    "id": "E8ZE6wFvGTe8"
   },
   "outputs": [],
   "source": [
    "# Parameters\n",
    "\n",
    "T = 20\n",
    "\n",
    "𝛼0 = 5.0\n",
    "𝛼1 = 1.2\n",
    "\n",
    "y0 = 1.0"
   ]
  },
  {
   "cell_type": "code",
   "execution_count": 27,
   "metadata": {
    "id": "OZ4WrGTkD4FN"
   },
   "outputs": [],
   "source": [
    "# write your code here"
   ]
  },
  {
   "cell_type": "markdown",
   "metadata": {},
   "source": [
    "#### Solution 4.1"
   ]
  },
  {
   "cell_type": "code",
   "execution_count": 28,
   "metadata": {
    "colab": {
     "base_uri": "https://localhost:8080/",
     "height": 279
    },
    "id": "n_RO4PygD3Vk",
    "outputId": "99acd713-b6fe-49e7-d781-2efc7e69caba"
   },
   "outputs": [
    {
     "data": {
      "image/png": "[encoded data removed]",
      "text/plain": [
       "<Figure size 640x480 with 1 Axes>"
      ]
     },
     "metadata": {},
     "output_type": "display_data"
    }
   ],
   "source": [
    "# Solution 4.1\n",
    "\n",
    "A = np.identity(T)  # The T x T identity matrix\n",
    "\n",
    "for i in range(T):\n",
    "    if i-1 >= 0:\n",
    "        A[i, i-1] = -𝛼1\n",
    "\n",
    "b = np.full(T, 𝛼0)\n",
    "b[0] = 𝛼0 + 𝛼1 * y0\n",
    "\n",
    "y = np.linalg.solve(A, b)\n",
    "\n",
    "plt.plot(np.arange(T) + 1, y)\n",
    "plt.xlabel('t')\n",
    "plt.ylabel('y')\n",
    "\n",
    "plt.show()"
   ]
  }
 ],
 "metadata": {
  "colab": {
   "collapsed_sections": [],
   "name": "linear_algebra_exercise.ipynb",
   "provenance": []
  },
  "kernelspec": {
   "display_name": "Python 3 (ipykernel)",
   "language": "python",
   "name": "python3"
  },
  "language_info": {
   "codemirror_mode": {
    "name": "ipython",
    "version": 3
   },
   "file_extension": ".py",
   "mimetype": "text/x-python",
   "name": "python",
   "nbconvert_exporter": "python",
   "pygments_lexer": "ipython3",
   "version": "3.10.11"
  }
 },
 "nbformat": 4,
 "nbformat_minor": 1
}
