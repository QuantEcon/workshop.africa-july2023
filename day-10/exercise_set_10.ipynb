{
 "cells": [
  {
   "attachments": {},
   "cell_type": "markdown",
   "id": "93e38185",
   "metadata": {},
   "source": [
    "# Extension Exercises\n"
   ]
  },
  {
   "attachments": {},
   "cell_type": "markdown",
   "id": "8a1c8e22",
   "metadata": {},
   "source": [
    "<div align=\"right\"><button><a href=\"https://colab.research.google.com/github/QuantEcon/workshop.africa-july2023/blob/main/day-10/exercise_set_10.ipynb\"><img src=\"\" heght=\"10px\"/><img\n",
    "  src=\"https://colab.research.google.com/assets/colab-badge.svg\"\n",
    "  alt=\"open with Colab\" width=\"100px\"/></a></button></div>"
   ]
  },
  {
   "attachments": {},
   "cell_type": "markdown",
   "id": "4cd356b2",
   "metadata": {},
   "source": [
    "#### Written for the QuantEcon Africa Workshop (July 2023)"
   ]
  },
  {
   "cell_type": "code",
   "execution_count": null,
   "id": "e003466c",
   "metadata": {},
   "outputs": [],
   "source": [
    "import numpy as np\n",
    "import matplotlib.pyplot as plt\n",
    "from scipy.stats import expon"
   ]
  },
  {
   "attachments": {},
   "cell_type": "markdown",
   "id": "d0cdb9de",
   "metadata": {},
   "source": [
    "## Exercise 1\n",
    "\n",
    "***Exercise 1.1*** Consider the following setup:\n",
    "\n",
    "Given we have no prior knowledge about whether a coin is fair or unfair (that is we do not know whether the coin has a probability of head (p) equals to 0.5 or other values). In light of this prior belief, we assign a uniform prior to the probability of heads, $\\theta$. \n",
    "\n",
    "Your task is to write a function that takes a sequence of observations of coin flips, update belief after each flip, and returns the posterior distribution of $\\theta$ on a grid of points between 0 and 1. Set the true value of $\\theta$ to 0.7 and the number of coin flips ($n$) to 10000.\n",
    "\n",
    "(Hint: think about what distribution does coin flip follow?)"
   ]
  },
  {
   "cell_type": "code",
   "execution_count": null,
   "id": "3d58da89",
   "metadata": {},
   "outputs": [],
   "source": [
    "# TODO: Put your code here"
   ]
  },
  {
   "attachments": {},
   "cell_type": "markdown",
   "id": "9437c586",
   "metadata": {},
   "source": [
    "***Exercise 1.2*** Now instead of assuming a uniform prior on $[0, 1]$, assume the grid is restricted  to $[0.6, 0.8]$. What is the posterior distribution of $\\theta$ after 100, 200, ..., 10000 coin flips? Visualize the distribution if you can."
   ]
  },
  {
   "attachments": {},
   "cell_type": "markdown",
   "id": "7ac5faa5",
   "metadata": {},
   "source": [
    "### Solution"
   ]
  },
  {
   "cell_type": "code",
   "execution_count": null,
   "id": "8d10c5de",
   "metadata": {},
   "outputs": [],
   "source": [
    "# TODO: Put your code here"
   ]
  },
  {
   "attachments": {},
   "cell_type": "markdown",
   "id": "7165202d",
   "metadata": {},
   "source": [
    "***Exercise 1.3*** [Beta-binomial model](https://en.wikipedia.org/wiki/Beta-binomial_distribution#Beta-binomial_in_Bayesian_statistics) is well studied due to their conjugacy. Please show that the update in Exercise 1.1 fit into the construct of beta-binomial model."
   ]
  },
  {
   "attachments": {},
   "cell_type": "markdown",
   "id": "c9d2b85c",
   "metadata": {},
   "source": [
    "### Solution"
   ]
  },
  {
   "attachments": {},
   "cell_type": "markdown",
   "id": "9c09a2af",
   "metadata": {},
   "source": [
    "TODO: Put your solution here"
   ]
  },
  {
   "attachments": {},
   "cell_type": "markdown",
   "id": "c12f343f",
   "metadata": {},
   "source": [
    "## Exercise 2\n",
    "\n",
    "In this exercise, please show the fact we noticed in Exercise 1.3 mathematically."
   ]
  },
  {
   "attachments": {},
   "cell_type": "markdown",
   "id": "15b864de",
   "metadata": {},
   "source": [
    "***Exercise 2.1*** Please write down the likelihood function for $\\theta$ after observing one flip of our coin."
   ]
  },
  {
   "attachments": {},
   "cell_type": "markdown",
   "id": "bef39363",
   "metadata": {},
   "source": [
    "### Solution"
   ]
  },
  {
   "attachments": {},
   "cell_type": "markdown",
   "id": "7a8f7b15",
   "metadata": {},
   "source": [
    "TODO: Put your solution here"
   ]
  },
  {
   "attachments": {},
   "cell_type": "markdown",
   "id": "6ead46e3",
   "metadata": {},
   "source": [
    "***Exercise 2.2*** Please write the prior distribution (in terms of $\\alpha$ and $\\beta$) for $\\theta$."
   ]
  },
  {
   "attachments": {},
   "cell_type": "markdown",
   "id": "2faecc1d",
   "metadata": {},
   "source": [
    "### Solution"
   ]
  },
  {
   "attachments": {},
   "cell_type": "markdown",
   "id": "46d9e8a2",
   "metadata": {},
   "source": [
    "TODO: Put your solution here"
   ]
  },
  {
   "attachments": {},
   "cell_type": "markdown",
   "id": "de94a34c",
   "metadata": {},
   "source": [
    "***Exercise 2.3*** Please write the posterior distribution for $\\theta$ after observing one flip of our coin."
   ]
  },
  {
   "attachments": {},
   "cell_type": "markdown",
   "id": "502c2f85",
   "metadata": {},
   "source": [
    "### Solution"
   ]
  },
  {
   "attachments": {},
   "cell_type": "markdown",
   "id": "2572bc12",
   "metadata": {},
   "source": [
    "TODO: Put your solution here"
   ]
  },
  {
   "attachments": {},
   "cell_type": "markdown",
   "id": "918615e6",
   "metadata": {},
   "source": [
    "## Exercise 3\n",
    "\n",
    "[Inverse transform sampling](https://python.quantecon.org/prob_matrix.html#classic-trick-for-generating-random-numbers) is a classic method used to generate random numbers from a desired probability distribution. The basic idea behind inverse transform sampling is to transform uniform random numbers into random numbers that follow the desired distribution.\n",
    "\n",
    "\n",
    "The core idea is that if we draw a random number $u$ from a uniform distribution on $[0, 1]$, then the random variable $F^{-1}(u)$ has the distribution $F$:\n",
    "\n",
    "$$\n",
    "X=F^{-1}(U)\n",
    "$$\n",
    "\n",
    "where X is a random variable with CDF $F$:\n",
    "\n",
    "$$\n",
    "F_X(x)=F(x)=\\textrm{Prob}\\{X\\le x\\}\n",
    "$$\n",
    "\n",
    "A general algorithm for inverse transform sampling is as follows:\n",
    "\n",
    "1. Draw a random number $u$ from a uniform distribution on $[0, 1]$.\n",
    "\n",
    "2. Compute $x=F^{-1}(u)$.\n",
    "\n",
    "3. $x$ is a random number from the distribution $F$.\n",
    "\n",
    "Implement the inverse transform sampling algorithm for the exponential distribution with parameter $\\lambda$ = 0.5"
   ]
  },
  {
   "attachments": {},
   "cell_type": "markdown",
   "id": "82f1cc33",
   "metadata": {},
   "source": [
    "### Solution"
   ]
  },
  {
   "cell_type": "code",
   "execution_count": null,
   "id": "ce992def",
   "metadata": {},
   "outputs": [],
   "source": [
    "# TODO: Put your code here"
   ]
  },
  {
   "attachments": {},
   "cell_type": "markdown",
   "id": "f86e1f1d",
   "metadata": {},
   "source": [
    "## Exercise 4\n",
    "\n",
    "Consider the stochastic second-order linear difference equation\n",
    "\n",
    "$$\n",
    "y_{t} = \\alpha_{0} + \\alpha_{1} y_{y-1} + \\alpha_{2} y_{t-2} + u_{t}\n",
    "$$\n",
    "\n",
    "where $u_{t} \\sim N \\left(0, \\sigma_{u}^{2}\\right)$ and\n",
    "\n",
    "$$\n",
    "\\left[\\begin{array}{c}\n",
    "y_{-1}\\\\\n",
    "y_{0}\n",
    "\\end{array}\\right]\\sim N\\left(\\mu_{\\tilde{y}},\\Sigma_{\\tilde{y}}\\right)\n",
    "$$\n",
    "\n",
    "It can be written as a stacked system\n",
    "\n",
    "$$\n",
    "\\underset{\\equiv A}{\\underbrace{\\left[\\begin{array}{cccccccc}\n",
    "1 & 0 & 0 & 0 & \\cdots & 0 & 0 & 0\\\\\n",
    "-\\alpha_{1} & 1 & 0 & 0 & \\cdots & 0 & 0 & 0\\\\\n",
    "-\\alpha_{2} & -\\alpha_{1} & 1 & 0 & \\cdots & 0 & 0 & 0\\\\\n",
    "0 & -\\alpha_{2} & -\\alpha_{1} & 1 & \\cdots & 0 & 0 & 0\\\\\n",
    "\\vdots & \\vdots & \\vdots & \\vdots & \\cdots & \\vdots & \\vdots & \\vdots\\\\\n",
    "0 & 0 & 0 & 0 & \\cdots & -\\alpha_{2} & -\\alpha_{1} & 1\n",
    "\\end{array}\\right]}}\\left[\\begin{array}{c}\n",
    "y_{1}\\\\\n",
    "y_{2}\\\\\n",
    "y_{3}\\\\\n",
    "y_{4}\\\\\n",
    "\\vdots\\\\\n",
    "y_{T}\n",
    "\\end{array}\\right]=\\underset{\\equiv b}{\\underbrace{\\left[\\begin{array}{c}\n",
    "\\alpha_{0}+\\alpha_{1}y_{0}+\\alpha_{2}y_{-1}\\\\\n",
    "\\alpha_{0}+\\alpha_{2}y_{0}\\\\\n",
    "\\alpha_{0}\\\\\n",
    "\\alpha_{0}\\\\\n",
    "\\vdots\\\\\n",
    "\\alpha_{0}\n",
    "\\end{array}\\right]}}\n",
    "$$\n",
    "\n"
   ]
  },
  {
   "attachments": {},
   "cell_type": "markdown",
   "id": "3dff9f4e",
   "metadata": {},
   "source": [
    "***Exercise 4.1*** Code the stacked system using the parameters below as $A$ and calculate the inverse of the system."
   ]
  },
  {
   "attachments": {},
   "cell_type": "markdown",
   "id": "b41c5b24",
   "metadata": {},
   "source": [
    "### Solution"
   ]
  },
  {
   "cell_type": "code",
   "execution_count": null,
   "id": "59a2bb88",
   "metadata": {},
   "outputs": [],
   "source": [
    "# TODO: Put your code here"
   ]
  },
  {
   "attachments": {},
   "cell_type": "markdown",
   "id": "87e84f22",
   "metadata": {},
   "source": [
    "***Exercise 4.2*** We can compute $y$ by solving the system\n",
    "\n",
    "$$\n",
    "y = A^{-1} \\left(b + u\\right)\n",
    "$$\n",
    "\n",
    "Please solve for $\\mu_{y}$ and $\\Sigma_{y}$.\n"
   ]
  },
  {
   "attachments": {},
   "cell_type": "markdown",
   "id": "7915a67f",
   "metadata": {},
   "source": [
    "### Solution"
   ]
  },
  {
   "attachments": {},
   "cell_type": "markdown",
   "id": "66366cbb",
   "metadata": {},
   "source": [
    "TODO: Put your solution here"
   ]
  },
  {
   "attachments": {},
   "cell_type": "markdown",
   "id": "a3abe516",
   "metadata": {},
   "source": [
    "## Exercise 5\n",
    "\n",
    "Congratulations for making it to the end of the workshop! We hope you have enjoyed the workshop and learned a lot.\n",
    "\n",
    "Please run through [more advanced QuantEcon lecture series](https://quantecon.org/projects/#filter=lecture) and see what you can do with the tools you have learned in this workshop.\n",
    "\n",
    "\n"
   ]
  }
 ],
 "metadata": {
  "kernelspec": {
   "display_name": "Python 3 (ipykernel)",
   "language": "python",
   "name": "python3"
  },
  "language_info": {
   "codemirror_mode": {
    "name": "ipython",
    "version": 3
   },
   "file_extension": ".py",
   "mimetype": "text/x-python",
   "name": "python",
   "nbconvert_exporter": "python",
   "pygments_lexer": "ipython3",
   "version": "3.9.16"
  }
 },
 "nbformat": 4,
 "nbformat_minor": 5
}
