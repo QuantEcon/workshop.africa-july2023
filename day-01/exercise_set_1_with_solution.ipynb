{
 "cells": [
  {
   "attachments": {},
   "cell_type": "markdown",
   "id": "2cebb81f",
   "metadata": {},
   "source": [
    "# Exercise Set: Python Fundamentals and Essentials"
   ]
  },
  {
   "attachments": {},
   "cell_type": "markdown",
   "id": "a83d55a6-daad-4404-8ef1-30f113f1828a",
   "metadata": {},
   "source": [
    "<div align=\"right\"><button><a href=\"https://colab.research.google.com/github/QuantEcon/workshop.africa-july2023/blob/main/day-01/exercise_set_1_with_solution.ipynb\"><img src=\"\" heght=\"10px\"/><img\n",
    "  src=\"https://colab.research.google.com/assets/colab-badge.svg\"\n",
    "  alt=\"open with Colab\" width=\"100px\"/></a></button></div>"
   ]
  },
  {
   "attachments": {},
   "cell_type": "markdown",
   "id": "ccaad8ac",
   "metadata": {},
   "source": [
    "#### Written for the QuantEcon Africa Workshop (July 2023)\n",
    "#### Author: [Hengcheng Zhang](https://github.com/HengchengZhang)"
   ]
  },
  {
   "cell_type": "code",
   "execution_count": null,
   "id": "cfebd2a0",
   "metadata": {},
   "outputs": [],
   "source": [
    "import matplotlib.pyplot as plt\n",
    "import numpy as np"
   ]
  },
  {
   "attachments": {},
   "cell_type": "markdown",
   "id": "dab638d6",
   "metadata": {},
   "source": [
    "### Exercise 1"
   ]
  },
  {
   "attachments": {},
   "cell_type": "markdown",
   "id": "a872c861",
   "metadata": {},
   "source": [
    "1. How do you assign the value `10` to a variable named `a`?\n",
    "2. How do you assign `10` to `a` and `20` to `b` in one line?"
   ]
  },
  {
   "attachments": {},
   "cell_type": "markdown",
   "id": "33ec6a0b",
   "metadata": {},
   "source": [
    "### Solution"
   ]
  },
  {
   "cell_type": "code",
   "execution_count": null,
   "id": "c0f70dc0",
   "metadata": {},
   "outputs": [],
   "source": [
    "a = 10\n",
    "a, b = 10, 20"
   ]
  },
  {
   "attachments": {},
   "cell_type": "markdown",
   "id": "e1945ded",
   "metadata": {},
   "source": [
    "### Exercise 2"
   ]
  },
  {
   "attachments": {},
   "cell_type": "markdown",
   "id": "bdb9f7eb",
   "metadata": {},
   "source": [
    "What are the types of the following variables `a`, `b` and `c`?"
   ]
  },
  {
   "cell_type": "code",
   "execution_count": null,
   "id": "4344370e",
   "metadata": {},
   "outputs": [],
   "source": [
    "a = 1\n",
    "b = 4.3\n",
    "c = \"Hi there and welcome to the workshop\""
   ]
  },
  {
   "attachments": {},
   "cell_type": "markdown",
   "id": "e6eb8d17",
   "metadata": {},
   "source": [
    "### Solution"
   ]
  },
  {
   "cell_type": "code",
   "execution_count": null,
   "id": "d14b552b",
   "metadata": {},
   "outputs": [],
   "source": [
    "print(type(a))"
   ]
  },
  {
   "cell_type": "code",
   "execution_count": null,
   "id": "48dd12d5",
   "metadata": {},
   "outputs": [],
   "source": [
    "print(type(b))"
   ]
  },
  {
   "cell_type": "code",
   "execution_count": null,
   "id": "8690da8e",
   "metadata": {},
   "outputs": [],
   "source": [
    "print(type(c))"
   ]
  },
  {
   "attachments": {},
   "cell_type": "markdown",
   "id": "1b6a1b58",
   "metadata": {},
   "source": [
    "Here `int` indicates integers, `float` floating-point-numbers, and `str` strings."
   ]
  },
  {
   "attachments": {},
   "cell_type": "markdown",
   "id": "c49a93eb",
   "metadata": {},
   "source": [
    "Please also note that we are using the `print()` function here to print out our results.\n",
    "\n",
    "However, Jupyter Notebook has a default cell output, which allows us to print out the last variable without the `print()` function."
   ]
  },
  {
   "cell_type": "code",
   "execution_count": null,
   "id": "6a991b9a",
   "metadata": {},
   "outputs": [],
   "source": [
    "type(a)"
   ]
  },
  {
   "attachments": {},
   "cell_type": "markdown",
   "id": "fcf6c7da",
   "metadata": {},
   "source": [
    "We will be using this feature much in this workshop."
   ]
  },
  {
   "attachments": {},
   "cell_type": "markdown",
   "id": "9080d058",
   "metadata": {},
   "source": [
    "### Exercise 3\n",
    "\n",
    "Using the variable `c` how can you access the *second character* in the sentence `\"Hi there and welcome to the workshop\"` (which is `i`).\n",
    "\n"
   ]
  },
  {
   "attachments": {},
   "cell_type": "markdown",
   "id": "938223a2",
   "metadata": {},
   "source": [
    "### Solution"
   ]
  },
  {
   "cell_type": "code",
   "execution_count": null,
   "id": "7e5b58d3",
   "metadata": {},
   "outputs": [],
   "source": [
    "c[1]  # use 1 to get the second element, since Python indices start from zero"
   ]
  },
  {
   "attachments": {},
   "cell_type": "markdown",
   "id": "b092f809",
   "metadata": {},
   "source": [
    "### Exercise 4\n",
    "\n",
    "Using string methods, how can you capitalize each word in the sentence `\"Hi there and welcome to the workshop\"` ?"
   ]
  },
  {
   "attachments": {},
   "cell_type": "markdown",
   "id": "befbc899",
   "metadata": {},
   "source": [
    "### Solution"
   ]
  },
  {
   "cell_type": "code",
   "execution_count": null,
   "id": "8032994e",
   "metadata": {},
   "outputs": [],
   "source": [
    "c.title()"
   ]
  },
  {
   "attachments": {},
   "cell_type": "markdown",
   "id": "0ecc82ab",
   "metadata": {},
   "source": [
    "### Exercise 5\n",
    "\n",
    "How can you split the sentence into a list of words such as `['Hi', 'there', ...]`"
   ]
  },
  {
   "attachments": {},
   "cell_type": "markdown",
   "id": "ddaec2ba",
   "metadata": {},
   "source": [
    "### Solution"
   ]
  },
  {
   "cell_type": "code",
   "execution_count": null,
   "id": "14937e8e",
   "metadata": {},
   "outputs": [],
   "source": [
    "c.split()"
   ]
  },
  {
   "attachments": {},
   "cell_type": "markdown",
   "id": "d6637060",
   "metadata": {},
   "source": [
    "### Exercise 6"
   ]
  },
  {
   "attachments": {},
   "cell_type": "markdown",
   "id": "4c3f4213",
   "metadata": {},
   "source": [
    "Write a function `square` that returns the square of its argument $f(x) = x^2$"
   ]
  },
  {
   "cell_type": "code",
   "execution_count": null,
   "id": "aace2776",
   "metadata": {},
   "outputs": [],
   "source": [
    "def square(x):\n",
    "    # TODO: Finish this function\n",
    "    pass"
   ]
  },
  {
   "attachments": {},
   "cell_type": "markdown",
   "id": "1691a446",
   "metadata": {},
   "source": [
    "### Solution"
   ]
  },
  {
   "cell_type": "code",
   "execution_count": null,
   "id": "26d75f84",
   "metadata": {},
   "outputs": [],
   "source": [
    "def square(x):\n",
    "    return x**2 "
   ]
  },
  {
   "attachments": {},
   "cell_type": "markdown",
   "id": "8219a540",
   "metadata": {},
   "source": [
    "**You can check your code using the following tests**"
   ]
  },
  {
   "cell_type": "code",
   "execution_count": null,
   "id": "b247ced6",
   "metadata": {},
   "outputs": [],
   "source": [
    "square(1) == 1"
   ]
  },
  {
   "cell_type": "code",
   "execution_count": null,
   "id": "7f7ef9fd",
   "metadata": {},
   "outputs": [],
   "source": [
    "square(-5) == 25"
   ]
  },
  {
   "attachments": {},
   "cell_type": "markdown",
   "id": "b3e24ea7",
   "metadata": {},
   "source": [
    "### Exercise 7\n",
    "\n",
    "Use a `for` loop and the `square` function to print the square of each element of the list `[1,5,10,20]`"
   ]
  },
  {
   "cell_type": "code",
   "execution_count": null,
   "id": "8a83338d",
   "metadata": {},
   "outputs": [],
   "source": [
    "nums = [1, 5, 10, 20]\n",
    "\n",
    "# TODO: Comment out and complete the following code"
   ]
  },
  {
   "attachments": {},
   "cell_type": "markdown",
   "id": "8bc11bb5",
   "metadata": {},
   "source": [
    "### Solution"
   ]
  },
  {
   "cell_type": "code",
   "execution_count": null,
   "id": "4b01ea37",
   "metadata": {},
   "outputs": [],
   "source": [
    "nums = [1, 5, 10, 20]\n",
    "for num in nums:\n",
    "    print(square(num))"
   ]
  },
  {
   "attachments": {},
   "cell_type": "markdown",
   "id": "3fcfa249",
   "metadata": {},
   "source": [
    "### Exercise 8\n",
    "\n",
    "Use a list comprehension, and the `square` function, to print the square of each element of the list `[1,5,10,20]`"
   ]
  },
  {
   "cell_type": "code",
   "execution_count": null,
   "id": "9e68eaf3",
   "metadata": {},
   "outputs": [],
   "source": [
    "nums = [1, 5, 10, 20]\n",
    "\n",
    "# TODO: Comment out and complete the following code"
   ]
  },
  {
   "attachments": {},
   "cell_type": "markdown",
   "id": "f7f55711",
   "metadata": {},
   "source": [
    "### Solution"
   ]
  },
  {
   "cell_type": "code",
   "execution_count": null,
   "id": "1740208d",
   "metadata": {},
   "outputs": [],
   "source": [
    "nums = [1, 5, 10, 20]\n",
    "[square(x) for x in nums]"
   ]
  },
  {
   "attachments": {},
   "cell_type": "markdown",
   "id": "b324a686",
   "metadata": {},
   "source": [
    "### Exercise 9"
   ]
  },
  {
   "attachments": {},
   "cell_type": "markdown",
   "id": "7315ae3a",
   "metadata": {},
   "source": [
    "Use the python `range` function to construct a list of 20 numbers from `0` to `19`"
   ]
  },
  {
   "attachments": {},
   "cell_type": "markdown",
   "id": "a6ad1d74",
   "metadata": {},
   "source": [
    "### Solution"
   ]
  },
  {
   "cell_type": "code",
   "execution_count": null,
   "id": "55e2f914",
   "metadata": {},
   "outputs": [],
   "source": [
    "list(range(20))"
   ]
  },
  {
   "attachments": {},
   "cell_type": "markdown",
   "id": "d2fb4090",
   "metadata": {},
   "source": [
    "### Exercise 10\n",
    "\n",
    "If you run the following code, what do you think the `range(0,20)` object is, and why is a list of values not given?"
   ]
  },
  {
   "cell_type": "code",
   "execution_count": null,
   "id": "3398a147",
   "metadata": {
    "scrolled": true
   },
   "outputs": [],
   "source": [
    "range(20)"
   ]
  },
  {
   "attachments": {},
   "cell_type": "markdown",
   "id": "2630aee2",
   "metadata": {},
   "source": [
    "### Solution"
   ]
  },
  {
   "cell_type": "raw",
   "id": "2d004597",
   "metadata": {},
   "source": [
    "The python function range returns an object that represents the range of values that have been defined when called.\n",
    "It needs to be iterated over to actually produce the list of values in memory.\n",
    "Please note that Python index starts from 0."
   ]
  },
  {
   "attachments": {},
   "cell_type": "markdown",
   "id": "d3b45136",
   "metadata": {},
   "source": [
    "### Exercise 11\n",
    "\n",
    "Build a `numpy` array containing values from `0` to `19` and save it in the variable `c`."
   ]
  },
  {
   "attachments": {},
   "cell_type": "markdown",
   "id": "ad71af9b",
   "metadata": {},
   "source": [
    "### Solution"
   ]
  },
  {
   "cell_type": "code",
   "execution_count": null,
   "id": "b49b08e5",
   "metadata": {},
   "outputs": [],
   "source": [
    "c = np.array(range(20))\n",
    "c"
   ]
  },
  {
   "attachments": {},
   "cell_type": "markdown",
   "id": "a01558b8",
   "metadata": {},
   "source": [
    "### Exercise 12"
   ]
  },
  {
   "attachments": {},
   "cell_type": "markdown",
   "id": "28f1e83d",
   "metadata": {},
   "source": [
    "Using `plot` method in `matplotlib`, plot the data defined in `d = np.array(range(20))`"
   ]
  },
  {
   "attachments": {},
   "cell_type": "markdown",
   "id": "e50029ab",
   "metadata": {},
   "source": [
    "### Solution"
   ]
  },
  {
   "cell_type": "code",
   "execution_count": null,
   "id": "3d9aed5f",
   "metadata": {},
   "outputs": [],
   "source": [
    "d = np.array(range(20))"
   ]
  },
  {
   "cell_type": "code",
   "execution_count": null,
   "id": "11ae88d3",
   "metadata": {},
   "outputs": [],
   "source": [
    "fig, ax = plt.subplots()\n",
    "ax.plot(d)\n",
    "plt.show()"
   ]
  },
  {
   "attachments": {},
   "cell_type": "markdown",
   "id": "f37a8aa9",
   "metadata": {},
   "source": [
    "### Exercise 13\n",
    "\n",
    "Now, plot the square of the values in `d` using $f(x) = x^2$"
   ]
  },
  {
   "attachments": {},
   "cell_type": "markdown",
   "id": "41dc943e",
   "metadata": {},
   "source": [
    "### Solution"
   ]
  },
  {
   "cell_type": "code",
   "execution_count": null,
   "id": "eb695613",
   "metadata": {},
   "outputs": [],
   "source": [
    "fig, ax = plt.subplots()\n",
    "ax.plot(d**2)\n",
    "plt.show()"
   ]
  },
  {
   "cell_type": "code",
   "execution_count": null,
   "id": "a0ff8b8f",
   "metadata": {},
   "outputs": [],
   "source": [
    "# You could also use your square function\n",
    "fig, ax = plt.subplots()\n",
    "ax.plot(square(d))\n",
    "plt.show()"
   ]
  }
 ],
 "metadata": {
  "kernelspec": {
   "display_name": "Python 3 (ipykernel)",
   "language": "python",
   "name": "python3"
  },
  "language_info": {
   "codemirror_mode": {
    "name": "ipython",
    "version": 3
   },
   "file_extension": ".py",
   "mimetype": "text/x-python",
   "name": "python",
   "nbconvert_exporter": "python",
   "pygments_lexer": "ipython3",
   "version": "3.9.16"
  }
 },
 "nbformat": 4,
 "nbformat_minor": 5
}
