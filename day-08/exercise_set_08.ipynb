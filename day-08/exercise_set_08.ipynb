{
 "cells": [
  {
   "attachments": {},
   "cell_type": "markdown",
   "id": "c3db049e-27e8-475f-9a9c-a1190ba7d664",
   "metadata": {},
   "source": [
    "# Commodity prices and Markov chains\n",
    "\n",
    "#### Written for the QuantEcon Africa Workshop (July 2023)\n",
    "#### Author: [Shu Hu](https://shu-hu.com/)"
   ]
  },
  {
   "cell_type": "code",
   "execution_count": 1,
   "id": "9c0e9460-6285-4f41-a58a-80d71649048d",
   "metadata": {},
   "outputs": [
    {
     "name": "stdout",
     "output_type": "stream",
     "text": [
      "Collecting quantecon\n",
      "  Downloading quantecon-0.7.1-py3-none-any.whl (214 kB)\n",
      "\u001b[2K     \u001b[38;2;114;156;31m━━━━━━━━━━━━━━━━━━━━━━━━━━━━━━━━━━━━━━━\u001b[0m \u001b[32m214.8/214.8 kB\u001b[0m \u001b[31m2.0 MB/s\u001b[0m eta \u001b[36m0:00:00\u001b[0m[31m2.3 MB/s\u001b[0m eta \u001b[36m0:00:01\u001b[0m\n",
      "\u001b[?25hRequirement already satisfied: numba>=0.49.0 in /Users/u6501668/anaconda3/envs/quantecon/lib/python3.10/site-packages (from quantecon) (0.56.4)\n",
      "Requirement already satisfied: sympy in /Users/u6501668/anaconda3/envs/quantecon/lib/python3.10/site-packages (from quantecon) (1.11.1)\n",
      "Requirement already satisfied: scipy>=1.5.0 in /Users/u6501668/anaconda3/envs/quantecon/lib/python3.10/site-packages (from quantecon) (1.10.0)\n",
      "Requirement already satisfied: requests in /Users/u6501668/anaconda3/envs/quantecon/lib/python3.10/site-packages (from quantecon) (2.28.1)\n",
      "Requirement already satisfied: numpy>=1.17.0 in /Users/u6501668/anaconda3/envs/quantecon/lib/python3.10/site-packages (from quantecon) (1.23.5)\n",
      "Requirement already satisfied: setuptools in /Users/u6501668/anaconda3/envs/quantecon/lib/python3.10/site-packages (from numba>=0.49.0->quantecon) (65.6.3)\n",
      "Requirement already satisfied: llvmlite<0.40,>=0.39.0dev0 in /Users/u6501668/anaconda3/envs/quantecon/lib/python3.10/site-packages (from numba>=0.49.0->quantecon) (0.39.1)\n",
      "Requirement already satisfied: idna<4,>=2.5 in /Users/u6501668/anaconda3/envs/quantecon/lib/python3.10/site-packages (from requests->quantecon) (3.4)\n",
      "Requirement already satisfied: urllib3<1.27,>=1.21.1 in /Users/u6501668/anaconda3/envs/quantecon/lib/python3.10/site-packages (from requests->quantecon) (1.26.14)\n",
      "Requirement already satisfied: certifi>=2017.4.17 in /Users/u6501668/anaconda3/envs/quantecon/lib/python3.10/site-packages (from requests->quantecon) (2022.12.7)\n",
      "Requirement already satisfied: charset-normalizer<3,>=2 in /Users/u6501668/anaconda3/envs/quantecon/lib/python3.10/site-packages (from requests->quantecon) (2.0.4)\n",
      "Requirement already satisfied: mpmath>=0.19 in /Users/u6501668/anaconda3/envs/quantecon/lib/python3.10/site-packages/mpmath-1.2.1-py3.10.egg (from sympy->quantecon) (1.2.1)\n",
      "Installing collected packages: quantecon\n",
      "Successfully installed quantecon-0.7.1\n"
     ]
    }
   ],
   "source": [
    "!pip install quantecon"
   ]
  },
  {
   "cell_type": "code",
   "execution_count": 2,
   "id": "5c41a1de-64b9-445d-84fa-a8f43ba43554",
   "metadata": {},
   "outputs": [],
   "source": [
    "import numpy as np\n",
    "import quantecon as qe\n",
    "import matplotlib.pyplot as plt\n",
    "from scipy.interpolate import interp1d\n",
    "from scipy.optimize import minimize_scalar, brentq\n",
    "from scipy.stats import norm, pareto"
   ]
  },
  {
   "attachments": {},
   "cell_type": "markdown",
   "id": "9ec10adf-947e-4612-b8c7-9868770ee969",
   "metadata": {},
   "source": [
    "### Exercise 1 (Commodity prices)\n",
    "\n",
    "Read the lecture [Commodity Prices](https://intro.quantecon.org/commod_price.html) before you attempt the following exercises."
   ]
  },
  {
   "attachments": {},
   "cell_type": "markdown",
   "id": "85894bbf-eb54-4c5e-a0f6-b853a7231b6d",
   "metadata": {},
   "source": [
    "**Exercise 1.1**\n",
    "\n",
    "Keep all the other code the same as section [Code](https://intro.quantecon.org/commod_price.html#code), \n",
    "\n",
    "except that the shock $Z$ is set to\n",
    "$$\n",
    "    Z = a + c \\cdot \\xi\n",
    "$$\n",
    "where $\\xi \\sim N (0, 1)$.\n",
    "\n",
    "Compute and plot the approximation of $p^*$ along with the inverse demand curve $P$."
   ]
  },
  {
   "cell_type": "code",
   "execution_count": 1,
   "id": "37a57410-dafc-4d38-8abd-c6f91e3c124f",
   "metadata": {},
   "outputs": [],
   "source": [
    "# TODO type your answer here"
   ]
  },
  {
   "attachments": {},
   "cell_type": "markdown",
   "id": "bde053a6-db2b-40e9-8851-104ee4d2067d",
   "metadata": {},
   "source": [
    "**Exercise 1.2**\n",
    "\n",
    "Recall that you have learned the lecture [Heavy-Tailed Distributions](https://intro.quantecon.org/heavy_tails.html).\n",
    "\n",
    "Now do the same job as in Exercise 1.1\n",
    "\n",
    "except that the shock $Z$ is set to\n",
    "$$\n",
    "    Z = a + c \\cdot \\chi\n",
    "$$\n",
    "where $\\chi$ follows a Pareto distribution with a tail exponent of $b=1.5$."
   ]
  },
  {
   "cell_type": "code",
   "execution_count": 2,
   "id": "7c805bec-57de-4230-bde6-b591f5453216",
   "metadata": {},
   "outputs": [],
   "source": [
    "# TODO type your answer here"
   ]
  },
  {
   "attachments": {},
   "cell_type": "markdown",
   "id": "a5123209-380c-4b86-a71e-b4b40ddef230",
   "metadata": {},
   "source": [
    "**Exercise 1.3**\n",
    "\n",
    "Read section [Code](https://intro.quantecon.org/commod_price.html#code).\n",
    "\n",
    "Using the approximation of $p^*$ from Exercise 1.2\n",
    "\n",
    "simulate a time series of prices with length $T=100$."
   ]
  },
  {
   "cell_type": "code",
   "execution_count": 3,
   "id": "1ea1cf55-fa3d-43ba-a335-b199b88ecb25",
   "metadata": {},
   "outputs": [],
   "source": [
    "# TODO type your answer here"
   ]
  },
  {
   "attachments": {},
   "cell_type": "markdown",
   "id": "454f83d3-0c37-403e-b8cb-b8b99d0e4c98",
   "metadata": {},
   "source": [
    "### Exercise 2 (Markov chains)\n",
    "\n",
    "Read the \n",
    "- lecture [Markov Chains: Basic Concepts](https://intro.quantecon.org/markov_chains_I.html) and \n",
    "- the [corresponding methods in the QuantEcon package](https://quanteconpy.readthedocs.io/en/latest/markov/core.html) \n",
    "\n",
    "before you attempt the following exercises."
   ]
  },
  {
   "attachments": {},
   "cell_type": "markdown",
   "id": "412ba983-c477-4b49-88f2-cf9509ad6d50",
   "metadata": {},
   "source": [
    "**Exercise 2.1**\n",
    "\n",
    "Using a method from the [QuantEcon package](https://quanteconpy.readthedocs.io/en/latest/markov/core.html)\n",
    "\n",
    "Define a Markov chain object, called ``mc``, characterised by a stochastic matrix ``P`` and state values ``state_values``"
   ]
  },
  {
   "cell_type": "code",
   "execution_count": null,
   "id": "0808bd1c-4e8b-418b-8d1a-227e3defa7ba",
   "metadata": {},
   "outputs": [],
   "source": [
    "P = [[0.1, 0.3, 0.2, 0.4],\n",
    "     [0.1, 0.4, 0.1, 0.4], \n",
    "     [0.3, 0.2, 0.3, 0.2], \n",
    "     [0.2, 0.1, 0.2, 0.5]]\n",
    "\n",
    "state_values = [\"recession\", \"slump\", \"recovery\", \"boom\"]"
   ]
  },
  {
   "cell_type": "code",
   "execution_count": 4,
   "id": "7386ba32-ab28-4c73-928e-391d360e4a83",
   "metadata": {},
   "outputs": [],
   "source": [
    "# TODO type your answer here"
   ]
  },
  {
   "attachments": {},
   "cell_type": "markdown",
   "id": "4bdb6ee9-08d1-470f-a2b0-a08ae912fb76",
   "metadata": {},
   "source": [
    "**Exercise 2.2**\n",
    "\n",
    "Simulate a Markov chain with length of ``T=5`` using the Markov chain defined from Exercise 2.1 with an initial value ``initial_value``"
   ]
  },
  {
   "cell_type": "code",
   "execution_count": null,
   "id": "4b1c5723-d708-4e17-8ac4-76c55bd3ced8",
   "metadata": {},
   "outputs": [],
   "source": [
    "initial_value = \"recession\""
   ]
  },
  {
   "cell_type": "code",
   "execution_count": null,
   "id": "c3ec1bfb-d61b-4876-9d9e-0ba85917be3c",
   "metadata": {},
   "outputs": [],
   "source": [
    "# TODO type your answer here"
   ]
  },
  {
   "attachments": {},
   "cell_type": "markdown",
   "id": "5634d2e0-8370-4144-ac19-f577f11593d4",
   "metadata": {},
   "source": [
    "**Exercise 2.3**\n",
    "\n",
    "Calculate the stationary distribution(s), called ``ψ_star``, \n",
    "\n",
    "for the Markov chain defined from Exercise 2.1."
   ]
  },
  {
   "cell_type": "code",
   "execution_count": 5,
   "id": "a26a2603-8bc9-4418-81be-2aa680db2c08",
   "metadata": {},
   "outputs": [],
   "source": [
    "# TODO type your answer here"
   ]
  },
  {
   "attachments": {},
   "cell_type": "markdown",
   "id": "17dd6031-b74c-46eb-ad6d-2bb54793b8af",
   "metadata": {},
   "source": [
    "**Exercise 2.4**\n",
    "\n",
    "With the Markov chain defined from Exercise 2.1.\n",
    "\n",
    "Compute the marignal distribution $\\psi_t = \\psi_0 P^t$ with ``t=100`` and an initial distribution ``ψ_0``"
   ]
  },
  {
   "cell_type": "code",
   "execution_count": null,
   "id": "6f2ba66e-bdc7-44fc-89cf-d8c389eb71a2",
   "metadata": {},
   "outputs": [],
   "source": [
    "ψ_0 = [0.1, 0.4, 0.3, 0.2]"
   ]
  },
  {
   "attachments": {},
   "cell_type": "markdown",
   "id": "9393569d-fd5e-47c9-89d2-0b7d43b27959",
   "metadata": {},
   "source": [
    "Compare $\\psi_t$ with the ``ψ_star`` from Exercise 2.3."
   ]
  },
  {
   "cell_type": "code",
   "execution_count": 6,
   "id": "290be6b1-753a-4b69-90bd-ac03ddbf0a3e",
   "metadata": {},
   "outputs": [],
   "source": [
    "# TODO type your answer here"
   ]
  },
  {
   "attachments": {},
   "cell_type": "markdown",
   "id": "0dbacc7a-d570-4ffd-973f-0cd210ee9657",
   "metadata": {},
   "source": [
    "Read\n",
    "- lecture [Markov Chains: Irreducibility and Ergodicity](https://intro.quantecon.org/markov_chains_II.html)\n",
    "\n",
    "\n",
    "before you attempt the following exercises."
   ]
  },
  {
   "attachments": {},
   "cell_type": "markdown",
   "id": "5b7ccd83-025d-4408-a0dc-dc4647c31574",
   "metadata": {},
   "source": [
    "**Exercise 2.5**\n",
    "\n",
    "With the Markov chain defined from Exercise 2.1.\n",
    "\n",
    "Check whether its stochastic matrix is irreducible."
   ]
  },
  {
   "cell_type": "code",
   "execution_count": 7,
   "id": "0a5bebbc-fd24-4269-a5dc-452c0eab4f98",
   "metadata": {},
   "outputs": [],
   "source": [
    "# TODO type your answer here"
   ]
  },
  {
   "attachments": {},
   "cell_type": "markdown",
   "id": "65b5f5d0-cd18-4fa5-a4b3-5b1de44505d4",
   "metadata": {},
   "source": [
    "**Exercise 2.6**\n",
    "\n",
    "With the Markov chain defined from Exercise 2.1.\n",
    "\n",
    "Simulate a path of length ``T = 100_000`` for it and \n",
    "\n",
    "Calculate the fraction of time spent on each state values, called ``p_hats`` and\n",
    "\n",
    "Compare it with the stationary distribution we computed from Exercise 2.3."
   ]
  },
  {
   "cell_type": "code",
   "execution_count": 8,
   "id": "6242cefd-a8bb-43cf-98af-71b2fb4a8ef7",
   "metadata": {},
   "outputs": [],
   "source": [
    "# TODO type your answer here"
   ]
  },
  {
   "cell_type": "code",
   "execution_count": null,
   "id": "2044fee7-6613-4791-ae7a-cea0b178f27a",
   "metadata": {},
   "outputs": [],
   "source": []
  }
 ],
 "metadata": {
  "kernelspec": {
   "display_name": "Python 3 (ipykernel)",
   "language": "python",
   "name": "python3"
  },
  "language_info": {
   "codemirror_mode": {
    "name": "ipython",
    "version": 3
   },
   "file_extension": ".py",
   "mimetype": "text/x-python",
   "name": "python",
   "nbconvert_exporter": "python",
   "pygments_lexer": "ipython3",
   "version": "3.10.9"
  }
 },
 "nbformat": 4,
 "nbformat_minor": 5
}
