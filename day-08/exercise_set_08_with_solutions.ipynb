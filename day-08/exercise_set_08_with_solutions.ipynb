{
 "cells": [
  {
   "cell_type": "markdown",
   "id": "6cc2b576-34fb-4294-b1f7-e8e6af16a6d6",
   "metadata": {},
   "source": [
    "# Commodity prices and Markov chains\n",
    "\n",
    "<div align=\"right\"><button><a href=\"https://colab.research.google.com/github/QuantEcon/workshop.africa-july2023/blob/main/day-08/exercise_set_08_with_solution.ipynb\"><img src=\"\" heght=\"10px\"/><img\n",
    "  src=\"https://colab.research.google.com/assets/colab-badge.svg\"\n",
    "  alt=\"open with Colab\" width=\"100px\"/></a></button></div>\n",
    "\n",
    "\n",
    "#### Written for the QuantEcon Africa Workshop (July 2023)\n",
    "#### Author: [Shu Hu](https://shu-hu.com/)"
   ]
  },
  {
   "cell_type": "code",
   "execution_count": null,
   "id": "19d6b3bb-875a-4c90-bca3-d513f753ac78",
   "metadata": {},
   "outputs": [],
   "source": [
    "!pip install quantecon"
   ]
  },
  {
   "cell_type": "code",
   "execution_count": null,
   "id": "5b0842ac-7deb-4a80-8b7e-4adb2143d6a6",
   "metadata": {},
   "outputs": [],
   "source": [
    "import numpy as np\n",
    "import quantecon as qe\n",
    "import matplotlib.pyplot as plt\n",
    "from scipy.interpolate import interp1d\n",
    "from scipy.optimize import minimize_scalar, brentq\n",
    "from scipy.stats import norm, pareto, beta"
   ]
  },
  {
   "cell_type": "markdown",
   "id": "d428841c-6525-4cd5-a4a3-f7bfd0396ecb",
   "metadata": {},
   "source": [
    "### Exercise 1 (Commodity prices I)\n",
    "\n",
    "Read the lecture [Commodity Prices](https://intro.quantecon.org/commod_price.html) before you attempt the following exercises."
   ]
  },
  {
   "cell_type": "markdown",
   "id": "561171fd-2381-492b-bd09-7c908ded7c17",
   "metadata": {},
   "source": [
    "**Exercise 1.1**\n",
    "\n",
    "Keep all the other code the same as section [Code](https://intro.quantecon.org/commod_price.html#code), \n",
    "\n",
    "except that the shock $Z$ is set to\n",
    "$$\n",
    "    Z = a + c \\cdot \\xi\n",
    "$$\n",
    "where $\\xi \\sim N (0, 1)$.\n",
    "\n",
    "In this exercise:\n",
    "\n",
    "- Compute the the approximation of $p^*$ and \n",
    "- plot the approximation along with the inverse demand curve $P$."
   ]
  },
  {
   "cell_type": "markdown",
   "id": "6c2cc54c-d5fb-4eab-8e10-8f39c0daa74c",
   "metadata": {},
   "source": [
    "**Solution**"
   ]
  },
  {
   "cell_type": "code",
   "execution_count": null,
   "id": "037908bd-d740-4ad6-a166-c7062c536621",
   "metadata": {},
   "outputs": [],
   "source": [
    "α, a, c = 0.8, 1.0, 2.0\n",
    "mc_draw_size = 250\n",
    "gridsize = 150\n",
    "grid_max = 35\n",
    "grid = np.linspace(a, grid_max, gridsize)\n",
    "\n",
    "Z = a + norm.rvs(size=mc_draw_size) * c    # Shock observations\n",
    "D = P = lambda x: 1.0 / x\n",
    "tol = 1e-4\n",
    "\n",
    "\n",
    "def T(p_array):\n",
    "\n",
    "    new_p = np.empty_like(p_array)\n",
    "\n",
    "    # Interpolate to obtain p as a function.\n",
    "    p = interp1d(grid,\n",
    "                 p_array,\n",
    "                 fill_value=(p_array[0], p_array[-1]),\n",
    "                 bounds_error=False)\n",
    "\n",
    "    # Update\n",
    "    for i, x in enumerate(grid):\n",
    "\n",
    "        h = lambda q: q - max(α * np.mean(p(α * (x - D(q)) + Z)), P(x))\n",
    "        new_p[i] = brentq(h, 1e-8, 100)\n",
    "\n",
    "    return new_p\n",
    "\n",
    "\n",
    "fig, ax = plt.subplots()\n",
    "\n",
    "price = P(grid)\n",
    "ax.plot(grid, price, alpha=0.5, lw=1, label=\"inverse demand curve\")\n",
    "error = tol + 1\n",
    "while error > tol:\n",
    "    new_price = T(price)\n",
    "    error = max(np.abs(new_price - price))\n",
    "    price = new_price\n",
    "\n",
    "ax.plot(grid, price, 'k-', alpha=0.5, lw=2, label=r'$p^*$')\n",
    "ax.legend()\n",
    "ax.set_xlabel('$x$', fontsize=12)\n",
    "\n",
    "plt.show()"
   ]
  },
  {
   "cell_type": "markdown",
   "id": "5220771a-30cf-4307-84a7-32f78ac18bbf",
   "metadata": {},
   "source": [
    "**Exercise 1.2**\n",
    "\n",
    "Recall that you have learned the lecture [Heavy-Tailed Distributions](https://intro.quantecon.org/heavy_tails.html).\n",
    "\n",
    "Now do the same job as in Exercise 1.1 except that the shock $Z$ is set to\n",
    "$$\n",
    "    Z = a + c \\cdot \\chi\n",
    "$$\n",
    "where $\\chi$ follows a Pareto distribution with a tail exponent of $b=1.5$."
   ]
  },
  {
   "cell_type": "markdown",
   "id": "431caf3f-4fca-4842-987a-4e63c5aa0449",
   "metadata": {},
   "source": [
    "**Solution**"
   ]
  },
  {
   "cell_type": "code",
   "execution_count": null,
   "id": "80ce5270-5180-472a-a534-4ee74c6794f0",
   "metadata": {},
   "outputs": [],
   "source": [
    "α, a, c = 0.8, 1.0, 2.0\n",
    "b = 1.5 # set the Pareto tail index\n",
    "mc_draw_size = 250\n",
    "gridsize = 150\n",
    "grid_max = 35\n",
    "grid = np.linspace(a, grid_max, gridsize)\n",
    "\n",
    "Z = a + pareto.rvs(b, size=mc_draw_size) * c    # Shock observations\n",
    "D = P = lambda x: 1.0 / x\n",
    "tol = 1e-4\n",
    "\n",
    "\n",
    "def T(p_array):\n",
    "\n",
    "    new_p = np.empty_like(p_array)\n",
    "\n",
    "    # Interpolate to obtain p as a function.\n",
    "    p = interp1d(grid,\n",
    "                 p_array,\n",
    "                 fill_value=(p_array[0], p_array[-1]),\n",
    "                 bounds_error=False)\n",
    "\n",
    "    # Update\n",
    "    for i, x in enumerate(grid):\n",
    "\n",
    "        h = lambda q: q - max(α * np.mean(p(α * (x - D(q)) + Z)), P(x))\n",
    "        new_p[i] = brentq(h, 1e-8, 100)\n",
    "\n",
    "    return new_p\n",
    "\n",
    "\n",
    "fig, ax = plt.subplots()\n",
    "\n",
    "price = P(grid)\n",
    "ax.plot(grid, price, alpha=0.5, lw=1, label=\"inverse demand curve\")\n",
    "error = tol + 1\n",
    "while error > tol:\n",
    "    new_price = T(price)\n",
    "    error = max(np.abs(new_price - price))\n",
    "    price = new_price\n",
    "\n",
    "ax.plot(grid, price, 'k-', alpha=0.5, lw=2, label=r'$p^*$')\n",
    "ax.legend()\n",
    "ax.set_xlabel('$x$', fontsize=12)\n",
    "\n",
    "plt.show()"
   ]
  },
  {
   "cell_type": "markdown",
   "id": "71c632f9-b661-4339-a9b1-27a8826a5851",
   "metadata": {},
   "source": [
    "**Exercise 1.3**\n",
    "\n",
    "Read section [Code](https://intro.quantecon.org/commod_price.html#code).\n",
    "\n",
    "Using the approximation of $p^*$ from Exercise 1.2, simulate a time series of prices with length $T=100$."
   ]
  },
  {
   "cell_type": "markdown",
   "id": "8ddf9fc7-b2cf-4948-bbd7-fc9478a7f567",
   "metadata": {},
   "source": [
    "**Solution**"
   ]
  },
  {
   "cell_type": "code",
   "execution_count": null,
   "id": "9d8cc14e-efa6-4786-b94d-d2e6c80cbc0c",
   "metadata": {},
   "outputs": [],
   "source": [
    "T = 100\n",
    "\n",
    "# Turn the price array into a price function\n",
    "p_star = interp1d(grid,\n",
    "                  price,\n",
    "                  fill_value=(price[0], price[-1]),\n",
    "                  bounds_error=False)\n",
    "\n",
    "def carry_over(x):\n",
    "    return α * (x - D(p_star(x)))\n",
    "\n",
    "def generate_cp_ts(init=1, n=T):\n",
    "    X = np.empty(n)\n",
    "    X[0] = init\n",
    "    for t in range(n-1):\n",
    "            Z = a + c * pareto.rvs(b)\n",
    "            X[t+1] = carry_over(X[t]) + Z\n",
    "    return p_star(X)\n",
    "\n",
    "fig, ax = plt.subplots()\n",
    "ax.plot(generate_cp_ts(), label=\"price\")\n",
    "ax.set_xlabel(\"time\")\n",
    "ax.legend()\n",
    "plt.show()"
   ]
  },
  {
   "cell_type": "markdown",
   "id": "56eccac9-5e22-49a0-8caa-0894cabb2b5e",
   "metadata": {},
   "source": [
    "### Exercise 2 (Markov chains)\n",
    "\n",
    "Read the \n",
    "- lecture [Markov Chains: Basic Concepts](https://intro.quantecon.org/markov_chains_I.html) and \n",
    "- the [corresponding methods in the QuantEcon package](https://quanteconpy.readthedocs.io/en/latest/markov/core.html) \n",
    "\n",
    "before you attempt the following exercises."
   ]
  },
  {
   "cell_type": "markdown",
   "id": "f98877af-c915-4a2c-b3e8-16a7441b008f",
   "metadata": {},
   "source": [
    "**Exercise 2.1**\n",
    "\n",
    "Using a method from the [QuantEcon package](https://quanteconpy.readthedocs.io/en/latest/markov/core.html), define a Markov chain object, called ``mc``, characterised by a stochastic matrix ``P`` and state values ``state_values``"
   ]
  },
  {
   "cell_type": "code",
   "execution_count": null,
   "id": "41e51a41-e8cd-4d88-8990-0d5114902700",
   "metadata": {},
   "outputs": [],
   "source": [
    "P = [[0.1, 0.3, 0.2, 0.4],\n",
    "     [0.1, 0.4, 0.1, 0.4], \n",
    "     [0.3, 0.2, 0.3, 0.2], \n",
    "     [0.2, 0.1, 0.2, 0.5]]\n",
    "\n",
    "state_values = [\"recession\", \"slump\", \"recovery\", \"boom\"]"
   ]
  },
  {
   "cell_type": "markdown",
   "id": "1916e37a-032b-4a48-bf7c-c0e635215af7",
   "metadata": {},
   "source": [
    "**Solution**"
   ]
  },
  {
   "cell_type": "code",
   "execution_count": null,
   "id": "08ceee9d-5cab-45db-a29e-49b914d1cdbb",
   "metadata": {},
   "outputs": [],
   "source": [
    "T = 5"
   ]
  },
  {
   "cell_type": "code",
   "execution_count": null,
   "id": "04b8b90d-7a61-4f30-bfb4-7bd3d4e48acd",
   "metadata": {},
   "outputs": [],
   "source": [
    "mc = qe.MarkovChain(P, state_values=state_values)"
   ]
  },
  {
   "cell_type": "markdown",
   "id": "b71f9177-6f98-4f71-a330-75a4a28602aa",
   "metadata": {},
   "source": [
    "**Exercise 2.2**\n",
    "\n",
    "Simulate a Markov chain with length of ``T=5`` using the Markov chain defined from Exercise 2.1 with an initial value ``initial_value``."
   ]
  },
  {
   "cell_type": "code",
   "execution_count": null,
   "id": "be81c1ce-6769-47c1-a566-4efab6218968",
   "metadata": {},
   "outputs": [],
   "source": [
    "initial_value = \"recession\""
   ]
  },
  {
   "cell_type": "markdown",
   "id": "12a2bb77-56f1-4ea8-825b-e8082f61e60d",
   "metadata": {},
   "source": [
    "**Solution**"
   ]
  },
  {
   "cell_type": "code",
   "execution_count": null,
   "id": "73df31a4-2444-456e-8ad0-6b28bcdd7213",
   "metadata": {},
   "outputs": [],
   "source": [
    "mc.simulate(ts_length=T, init=initial_value)"
   ]
  },
  {
   "cell_type": "markdown",
   "id": "9f9d2598-006f-4320-8657-c949349149ad",
   "metadata": {},
   "source": [
    "**Exercise 2.3**\n",
    "\n",
    "Calculate the stationary distribution(s), called ``ψ_star``, for the Markov chain defined from Exercise 2.1."
   ]
  },
  {
   "cell_type": "markdown",
   "id": "333528d9-e01f-4e3b-b9b5-2bb23d3d254b",
   "metadata": {},
   "source": [
    "**Solution**"
   ]
  },
  {
   "cell_type": "code",
   "execution_count": null,
   "id": "f7d1a9e5-7c56-45be-a2c8-8a552ee758db",
   "metadata": {},
   "outputs": [],
   "source": [
    "ψ_star = mc.stationary_distributions[0]\n",
    "ψ_star"
   ]
  },
  {
   "cell_type": "markdown",
   "id": "ab2c5084-37ea-4455-a1e0-cb07fca224dc",
   "metadata": {},
   "source": [
    "**Exercise 2.4**\n",
    "\n",
    "With the Markov chain defined from Exercise 2.1., compute the marignal distribution $\\psi_t = \\psi_0 P^t$ with ``t=100`` and an initial distribution ``ψ_0``."
   ]
  },
  {
   "cell_type": "code",
   "execution_count": null,
   "id": "4eb43cea-f8d4-415c-8db9-1382f819d645",
   "metadata": {},
   "outputs": [],
   "source": [
    "ψ_0 = [0.1, 0.4, 0.3, 0.2]"
   ]
  },
  {
   "cell_type": "markdown",
   "id": "b334b206-c7bc-438e-bd73-2cc230058d44",
   "metadata": {},
   "source": [
    "Compare $\\psi_t$ with the ``ψ_star`` from Exercise 2.3."
   ]
  },
  {
   "cell_type": "markdown",
   "id": "e1df78ee-5f92-4422-9e47-952fa716e179",
   "metadata": {},
   "source": [
    "**Solution**"
   ]
  },
  {
   "cell_type": "code",
   "execution_count": null,
   "id": "5d962ec4-5e41-485c-948e-cd36634fe4a7",
   "metadata": {},
   "outputs": [],
   "source": [
    "t = 100\n",
    "P_power = np.linalg.matrix_power(P, t)\n",
    "ψ = ψ_0 @ P_power\n",
    "ψ"
   ]
  },
  {
   "cell_type": "markdown",
   "id": "7cfb81c3-bf60-49c3-a1bd-d150510eee62",
   "metadata": {},
   "source": [
    "Read\n",
    "- lecture [Markov Chains: Irreducibility and Ergodicity](https://intro.quantecon.org/markov_chains_II.html)\n",
    "\n",
    "\n",
    "before you attempt the following exercises."
   ]
  },
  {
   "cell_type": "markdown",
   "id": "a31396df-111c-46b3-92be-e761a93b1a57",
   "metadata": {},
   "source": [
    "**Exercise 2.5**\n",
    "\n",
    "With the Markov chain defined from Exercise 2.1., check whether its stochastic matrix is irreducible."
   ]
  },
  {
   "cell_type": "markdown",
   "id": "ec272df3-76b1-46eb-9156-9d836e716052",
   "metadata": {},
   "source": [
    "**Solution**"
   ]
  },
  {
   "cell_type": "code",
   "execution_count": null,
   "id": "55e4a8ee-c691-412e-8a31-d80ea95edb29",
   "metadata": {},
   "outputs": [],
   "source": [
    "mc.is_irreducible"
   ]
  },
  {
   "cell_type": "markdown",
   "id": "91bf9e04-4596-4c4f-a301-de453ee20cc7",
   "metadata": {},
   "source": [
    "**Exercise 2.6**\n",
    "\n",
    "With the Markov chain defined from Exercise 2.1.,\n",
    "- simulate a path of length ``T = 100_000`` for it,\n",
    "- calculate the fraction of time spent on each state values, called ``p_hats`` and\n",
    "- compare it with the stationary distribution we computed from Exercise 2.3."
   ]
  },
  {
   "cell_type": "markdown",
   "id": "3e7ee6c3-60da-4b75-8fd8-8778e1a4bb1e",
   "metadata": {},
   "source": [
    "**Solution**"
   ]
  },
  {
   "cell_type": "code",
   "execution_count": null,
   "id": "9fc23f5a-e880-4e6b-bde4-8c925f18442e",
   "metadata": {},
   "outputs": [],
   "source": [
    "T = 100_000\n",
    "X = mc.simulate(ts_length=T)"
   ]
  },
  {
   "cell_type": "code",
   "execution_count": null,
   "id": "2aacd57a-d6d1-4474-bc33-2e43aaba40d3",
   "metadata": {},
   "outputs": [],
   "source": [
    "p_hats = []\n",
    "for x0 in state_values:\n",
    "    p_hat = (X == x0).cumsum() / (1 + np.arange(T, dtype=float))\n",
    "    p_hats.append(p_hat[-1])"
   ]
  },
  {
   "cell_type": "code",
   "execution_count": null,
   "id": "9be86a39-08f8-4b2f-b848-b30623947890",
   "metadata": {},
   "outputs": [],
   "source": [
    "p_hats"
   ]
  },
  {
   "cell_type": "code",
   "execution_count": null,
   "id": "88f1ddb3-f843-4927-ac97-cdfb1dbbc077",
   "metadata": {},
   "outputs": [],
   "source": [
    "ψ_star"
   ]
  },
  {
   "cell_type": "markdown",
   "id": "ad0d185b-fc7b-4739-8e7f-12d7eae7f088",
   "metadata": {},
   "source": [
    "### Exercise 3 (Commodity prices II)\n",
    "\n",
    "Read the lecture [Commodity Prices](https://intro.quantecon.org/commod_price.html) before you attempt the following exercises."
   ]
  },
  {
   "cell_type": "markdown",
   "id": "a213cf41-edcd-4bf8-97fc-03092d2f7fe5",
   "metadata": {},
   "source": [
    "**Exercise 3.1**\n",
    "\n",
    "Keep all the other code the same as Exercuse 1.1, \n",
    "\n",
    "except that the inverse demand $P(x)$ is set to\n",
    "$$\n",
    "    P (x) = d + e \\cdot x\n",
    "$$\n",
    "where $d, e = 100, -1$ and $x \\in S$.\n",
    "\n",
    "In this exercise:\n",
    "\n",
    "- Compute the approximation of $p^*$ and\n",
    "- plot the approximation along with the inverse demand curve $P$."
   ]
  },
  {
   "cell_type": "markdown",
   "id": "344d4680-9f88-4c1b-a28c-1cffd8540e99",
   "metadata": {},
   "source": [
    "**Solution**"
   ]
  },
  {
   "cell_type": "code",
   "execution_count": null,
   "id": "214095bc-f3e1-4081-b910-42ed64798a94",
   "metadata": {},
   "outputs": [],
   "source": [
    "α, a, c = 0.8, 1.0, 2.0\n",
    "d, e = 100, -1\n",
    "mc_draw_size = 250\n",
    "gridsize = 150\n",
    "grid_max = 35\n",
    "grid = np.linspace(a, grid_max, gridsize)\n",
    "\n",
    "Z = a + norm.rvs(size=mc_draw_size) * c    # Shock observations\n",
    "P = lambda x: d +  e * x\n",
    "D = lambda x: (x - d)/e\n",
    "tol = 1e-4\n",
    "\n",
    "\n",
    "def T(p_array):\n",
    "\n",
    "    new_p = np.empty_like(p_array)\n",
    "\n",
    "    # Interpolate to obtain p as a function.\n",
    "    p = interp1d(grid,\n",
    "                 p_array,\n",
    "                 fill_value=(p_array[0], p_array[-1]),\n",
    "                 bounds_error=False)\n",
    "\n",
    "    # Update\n",
    "    for i, x in enumerate(grid):\n",
    "\n",
    "        h = lambda q: q - max(α * np.mean(p(α * (x - D(q)) + Z)), P(x))\n",
    "        new_p[i] = brentq(h, 1e-8, 100)\n",
    "\n",
    "    return new_p\n",
    "\n",
    "\n",
    "fig, ax = plt.subplots()\n",
    "\n",
    "price = P(grid)\n",
    "ax.plot(grid, price, alpha=0.5, lw=1, label=\"inverse demand curve\")\n",
    "error = tol + 1\n",
    "while error > tol:\n",
    "    new_price = T(price)\n",
    "    error = max(np.abs(new_price - price))\n",
    "    price = new_price\n",
    "\n",
    "ax.plot(grid, price, 'k-', alpha=0.5, lw=2, label=r'$p^*$')\n",
    "ax.legend()\n",
    "ax.set_xlabel('$x$', fontsize=12)\n",
    "\n",
    "plt.show()"
   ]
  },
  {
   "cell_type": "markdown",
   "id": "f484f474-f6d5-48b8-b3fc-9b7b5ca105c2",
   "metadata": {},
   "source": [
    "**Exercise 3.2**\n",
    "\n",
    "In this exercise, do the same job as Exercuse 3.1, except that the inverse demand $P(x)$ is set to\n",
    "$$\n",
    "    P (x) = x^{-\\rho}\n",
    "$$\n",
    "where $\\rho = 1$ and $x \\in S$."
   ]
  },
  {
   "cell_type": "markdown",
   "id": "18bb3d9b-e1db-4721-8cbc-bb5e9310ef36",
   "metadata": {},
   "source": [
    "**Solution**"
   ]
  },
  {
   "cell_type": "code",
   "execution_count": null,
   "id": "58878a8b-ccbf-4d6f-83f4-5a4fbc32a525",
   "metadata": {},
   "outputs": [],
   "source": [
    "α, a, c = 0.8, 1.0, 2.0\n",
    "ρ = 1\n",
    "mc_draw_size = 250\n",
    "gridsize = 150\n",
    "grid_max = 35\n",
    "grid = np.linspace(a, grid_max, gridsize)\n",
    "\n",
    "Z = a + norm.rvs(size=mc_draw_size) * c    # Shock observations\n",
    "P = lambda x: x**(-ρ)\n",
    "D = lambda x: np.exp(- np.log(x) / ρ)\n",
    "tol = 1e-4\n",
    "\n",
    "\n",
    "def T(p_array):\n",
    "\n",
    "    new_p = np.empty_like(p_array)\n",
    "\n",
    "    # Interpolate to obtain p as a function.\n",
    "    p = interp1d(grid,\n",
    "                 p_array,\n",
    "                 fill_value=(p_array[0], p_array[-1]),\n",
    "                 bounds_error=False)\n",
    "\n",
    "    # Update\n",
    "    for i, x in enumerate(grid):\n",
    "\n",
    "        h = lambda q: q - max(α * np.mean(p(α * (x - D(q)) + Z)), P(x))\n",
    "        new_p[i] = brentq(h, 1e-8, 100)\n",
    "\n",
    "    return new_p\n",
    "\n",
    "\n",
    "fig, ax = plt.subplots()\n",
    "\n",
    "price = P(grid)\n",
    "ax.plot(grid, price, alpha=0.5, lw=1, label=\"inverse demand curve\")\n",
    "error = tol + 1\n",
    "while error > tol:\n",
    "    new_price = T(price)\n",
    "    error = max(np.abs(new_price - price))\n",
    "    price = new_price\n",
    "\n",
    "ax.plot(grid, price, 'k-', alpha=0.5, lw=2, label=r'$p^*$')\n",
    "ax.legend()\n",
    "ax.set_xlabel('$x$', fontsize=12)\n",
    "\n",
    "plt.show()"
   ]
  }
 ],
 "metadata": {
  "kernelspec": {
   "display_name": "Python 3 (ipykernel)",
   "language": "python",
   "name": "python3"
  },
  "language_info": {
   "codemirror_mode": {
    "name": "ipython",
    "version": 3
   },
   "file_extension": ".py",
   "mimetype": "text/x-python",
   "name": "python",
   "nbconvert_exporter": "python",
   "pygments_lexer": "ipython3",
   "version": "3.9.12"
  }
 },
 "nbformat": 4,
 "nbformat_minor": 5
}
