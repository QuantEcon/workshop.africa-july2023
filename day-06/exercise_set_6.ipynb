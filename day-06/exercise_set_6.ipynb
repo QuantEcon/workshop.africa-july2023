{
 "cells": [
  {
   "attachments": {},
   "cell_type": "markdown",
   "metadata": {},
   "source": [
    "# Eigenvalues and Eigenvectors, Matplotlib, and Univariate Time Series"
   ]
  },
  {
   "attachments": {},
   "cell_type": "markdown",
   "metadata": {},
   "source": [
    "<div align=\"right\"><button><a href=\"https://colab.research.google.com/github/QuantEcon/workshop.africa-july2023/blob/main/day-06/exercise_set_6.ipynb\"><img src=\"\" heght=\"10px\"/><img\n",
    "  src=\"https://colab.research.google.com/assets/colab-badge.svg\"\n",
    "  alt=\"open with Colab\" width=\"100px\"/></a></button></div>"
   ]
  },
  {
   "attachments": {},
   "cell_type": "markdown",
   "metadata": {},
   "source": [
    "#### Written for the QuantEcon Africa Workshop (July 2023)\n",
    "#### Author: [Humphrey Yang](https://github.com/HumphreyYang)"
   ]
  },
  {
   "cell_type": "code",
   "execution_count": null,
   "metadata": {},
   "outputs": [],
   "source": [
    "import numpy as np\n",
    "import scipy as sp\n",
    "import matplotlib.pyplot as plt\n",
    "from scipy.linalg import eig\n",
    "from matplotlib import cm"
   ]
  },
  {
   "attachments": {},
   "cell_type": "markdown",
   "metadata": {},
   "source": [
    "## Exercise 1"
   ]
  },
  {
   "attachments": {},
   "cell_type": "markdown",
   "metadata": {},
   "source": [
    "***Exercise 1.1*** Given a matrix $A$, compute the eigenvalues, eigenvectors and plot them."
   ]
  },
  {
   "cell_type": "code",
   "execution_count": null,
   "metadata": {},
   "outputs": [],
   "source": [
    "A = np.array([[1, 4], \n",
    "              [5, 7]])"
   ]
  },
  {
   "cell_type": "code",
   "execution_count": null,
   "metadata": {},
   "outputs": [],
   "source": [
    "# TODO: Put your solution here"
   ]
  },
  {
   "attachments": {},
   "cell_type": "markdown",
   "metadata": {},
   "source": [
    "***Exercise 1.2*** Given a matrix $A$, compute the eigenvalues, eigenvectors of the inverse of $A$ ($A^{-1}$). Compare it to the eigenvalue of $A$.\n",
    "\n",
    "(Hint: Try to compute 1/eigenvalue of $A$ and compare it to the eigenvalue of $A^{-1}$)"
   ]
  },
  {
   "cell_type": "code",
   "execution_count": null,
   "metadata": {},
   "outputs": [],
   "source": [
    "# TODO: Put your solution here"
   ]
  },
  {
   "attachments": {},
   "cell_type": "markdown",
   "metadata": {},
   "source": [
    "***Exercise 1.3*** Try to come up with a simple proof of the relationship between the eigenvalues of $A$ and $A^{-1}$ you found in Exercise 1.2 (Think about what conditions are needed for the proof to hold)\n"
   ]
  },
  {
   "attachments": {},
   "cell_type": "markdown",
   "metadata": {},
   "source": [
    "TODO: Put your solution here"
   ]
  },
  {
   "attachments": {},
   "cell_type": "markdown",
   "metadata": {},
   "source": [
    "## Exercise 2\n",
    "\n",
    "Compute the spectral radius of the matrix A."
   ]
  },
  {
   "cell_type": "code",
   "execution_count": null,
   "metadata": {},
   "outputs": [],
   "source": [
    "# TODO: Put your solution here"
   ]
  },
  {
   "attachments": {},
   "cell_type": "markdown",
   "metadata": {},
   "source": [
    "## Exercise 3\n",
    "\n",
    "Without using the `eig` function, compute eigenvalues and its corresponding eigenvectors of the matrix $A$ in Question 3.1.\n",
    "\n",
    "(Hint: you can use [power iteration method](https://en.wikipedia.org/wiki/Power_iteration) to solve this problem.)"
   ]
  },
  {
   "cell_type": "code",
   "execution_count": null,
   "metadata": {},
   "outputs": [],
   "source": [
    "# TODO: Put your solution here"
   ]
  },
  {
   "attachments": {},
   "cell_type": "markdown",
   "metadata": {},
   "source": [
    "For this simple matrix, the result is very accurate."
   ]
  },
  {
   "attachments": {},
   "cell_type": "markdown",
   "metadata": {},
   "source": [
    "## Exercise 4\n",
    "\n",
    "[Wassily Leontief](https://en.wikipedia.org/wiki/Wassily_Leontief) developed a model of an economy with $n$ sectors producing $n$ different commodities representing the interdependencies of different sectors of an economy.\n",
    "\n",
    "Under this model some of the output is consumed internally by the industries and the rest is consumed by external consumers.\n",
    "\n",
    "We define a simple model with 3 sectors - agriculture, industry, and service.\n",
    "\n",
    "The following table describes how output is distributed within the economy:\n",
    "\n",
    "|             | Total output | Agriculture | Industry | Service | Consumer |\n",
    "|:-----------:|:------------:|:-----------:|:--------:|:-------:|:--------:|\n",
    "| Agriculture |     $x_1$    |   0.3 $x_1$  | 0.2 $x_2$ |0.3 $x_3$ |     4    |\n",
    "|   Industry  |     $x_2$    |   0.2 $x_1$  | 0.4 $x_2$ |0.3 $x_3$ |     5    |\n",
    "|   Service   |     $x_3$    |   0.2 $x_1$  | 0.5 $x_2$ |0.1 $x_3$ |    12    |\n",
    "\n",
    "The first row depicts how agriculture's total output $x_1$ is distributed\n",
    "\n",
    "* $0.3x_1$ is used as inputs within agriculture itself,\n",
    "* $0.2x_2$ is used as inputs by the industry sector to produce $x_2$ units,\n",
    "* $0.3x_3$ is used as inputs by the service sector to produce $x_3$ units and\n",
    "* 4 units is the external demand by consumers.\n",
    "\n",
    "We can transform this into a system of linear equations for the 3 sectors as\n",
    "given below:\n",
    "\n",
    "$$\n",
    "    x_1 = 0.3x_1 + 0.2x_2 + 0.3x_3 + 4 \\\\\n",
    "    x_2 = 0.2x_1 + 0.4x_2 + 0.3x_3 + 5 \\\\\n",
    "    x_3 = 0.2x_1 + 0.5x_2 + 0.1x_3 + 12\n",
    "$$\n",
    "\n",
    "This can be transformed into the matrix equation $x = Ax + d$ where\n",
    "\n",
    "$$\n",
    "x =\n",
    "\\begin{bmatrix}\n",
    "    x_1 \\\\\n",
    "    x_2 \\\\\n",
    "    x_3\n",
    "\\end{bmatrix}\n",
    ", \\; A =\n",
    "\\begin{bmatrix}\n",
    "    0.3 & 0.2 & 0.3 \\\\\n",
    "    0.2 & 0.4 & 0.3 \\\\\n",
    "    0.2 & 0.5 & 0.1\n",
    "\\end{bmatrix}\n",
    "\\; \\text{and} \\;\n",
    "d =\n",
    "\\begin{bmatrix}\n",
    "    4 \\\\\n",
    "    5 \\\\\n",
    "    12\n",
    "\\end{bmatrix}\n",
    "$$\n",
    "\n",
    "The solution $x^{*}$ is given by the equation $x^{*} = (I-A)^{-1} d$\n",
    "\n",
    "***Exercise 4.1*** Find the spectral radius of $A$ and verify if the spectral radius is less than 1."
   ]
  },
  {
   "cell_type": "code",
   "execution_count": null,
   "metadata": {},
   "outputs": [],
   "source": [
    "# TODO: Put your solution here"
   ]
  },
  {
   "attachments": {},
   "cell_type": "markdown",
   "metadata": {},
   "source": [
    "***Exercise 4.2*** Use the Neumann Series Lemma to find the solution $x^{*}$ if it exists."
   ]
  },
  {
   "cell_type": "code",
   "execution_count": null,
   "metadata": {},
   "outputs": [],
   "source": [
    "# TODO: Put your solution here"
   ]
  },
  {
   "attachments": {},
   "cell_type": "markdown",
   "metadata": {},
   "source": [
    "## Exercise 5\n",
    "\n",
    "Represent and solve a third order linear difference equation as shown in the [consumption smoothing lecture](https://intro.quantecon.org/cons_smooth.html). How many initial conditions must you specify?"
   ]
  },
  {
   "attachments": {},
   "cell_type": "markdown",
   "metadata": {},
   "source": [
    "TODO: Put your solution here"
   ]
  },
  {
   "attachments": {},
   "cell_type": "markdown",
   "metadata": {},
   "source": [
    "## Exercise 6\n",
    "\n",
    "Using the following parameters, compute the $y$ for process:\n",
    "\n",
    "$$\n",
    "y_{t} = \\alpha_{0} + \\alpha_{1} y_{t-1} + \\alpha_{2} y_{t-2} + \\alpha_{3} y_{t-3} \\quad where \\quad t = 1, 2 \\ldots\n",
    "$$"
   ]
  },
  {
   "attachments": {},
   "cell_type": "markdown",
   "metadata": {},
   "source": [
    "Use the following parameters:"
   ]
  },
  {
   "cell_type": "code",
   "execution_count": null,
   "metadata": {},
   "outputs": [],
   "source": [
    "T = 100\n",
    "\n",
    "# parameters\n",
    "𝛼0 = 10.0\n",
    "𝛼1 = 1.53\n",
    "𝛼2 = -.9\n",
    "𝛼3 = -.04\n",
    "\n",
    "y_2 = 32. # y_{-2}\n",
    "y_1 = 28. # y_{-1}\n",
    "y0 = 24."
   ]
  },
  {
   "attachments": {},
   "cell_type": "markdown",
   "metadata": {},
   "source": [
    "Try to visualize the process as shown in the [lecture](https://intro.quantecon.org/time_series_with_matrices.html) (Hint: you can use some insights from Exercise 5)."
   ]
  },
  {
   "cell_type": "code",
   "execution_count": null,
   "metadata": {},
   "outputs": [],
   "source": [
    "# TODO: Put your solution here"
   ]
  }
 ],
 "metadata": {
  "anaconda-cloud": {},
  "kernelspec": {
   "display_name": "Python 3 (ipykernel)",
   "language": "python",
   "name": "python3"
  },
  "language_info": {
   "codemirror_mode": {
    "name": "ipython",
    "version": 3
   },
   "file_extension": ".py",
   "mimetype": "text/x-python",
   "name": "python",
   "nbconvert_exporter": "python",
   "pygments_lexer": "ipython3",
   "version": "3.9.16"
  }
 },
 "nbformat": 4,
 "nbformat_minor": 4
}
