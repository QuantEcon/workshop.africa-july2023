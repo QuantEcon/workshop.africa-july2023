{
 "cells": [
  {
   "attachments": {},
   "cell_type": "markdown",
   "metadata": {},
   "source": [
    "# Eigenvalues and Eigenvectors, Matplotlib, and Univariate Time Series"
   ]
  },
  {
   "attachments": {},
   "cell_type": "markdown",
   "metadata": {},
   "source": [
    "<div align=\"right\"><button><a href=\"https://colab.research.google.com/github/QuantEcon/workshop.africa-july2023/blob/main/day-06/exercise_set_6_with_solution.ipynb\"><img src=\"\" heght=\"10px\"/><img\n",
    "  src=\"https://colab.research.google.com/assets/colab-badge.svg\"\n",
    "  alt=\"open with Colab\" width=\"100px\"/></a></button></div>"
   ]
  },
  {
   "attachments": {},
   "cell_type": "markdown",
   "metadata": {},
   "source": [
    "#### Written for the QuantEcon Africa Workshop (July 2023)\n",
    "#### Author: [Humphrey Yang](https://github.com/HumphreyYang)"
   ]
  },
  {
   "cell_type": "code",
   "execution_count": null,
   "metadata": {},
   "outputs": [],
   "source": [
    "import numpy as np\n",
    "import matplotlib.pyplot as plt\n",
    "from scipy.linalg import eig\n",
    "from matplotlib import cm"
   ]
  },
  {
   "attachments": {},
   "cell_type": "markdown",
   "metadata": {},
   "source": [
    "## Exercise 1"
   ]
  },
  {
   "attachments": {},
   "cell_type": "markdown",
   "metadata": {},
   "source": [
    "***Exercise 1.1*** Given a matrix $A$, compute the eigenvalues, eigenvectors and plot them."
   ]
  },
  {
   "cell_type": "code",
   "execution_count": null,
   "metadata": {},
   "outputs": [],
   "source": [
    "A = np.array([[1, 4],\n",
    "              [5, 7]])"
   ]
  },
  {
   "attachments": {},
   "cell_type": "markdown",
   "metadata": {},
   "source": [
    "### Solution"
   ]
  },
  {
   "cell_type": "code",
   "execution_count": null,
   "metadata": {},
   "outputs": [],
   "source": [
    "A = np.array(A)\n",
    "evals, evecs = eig(A)\n",
    "evals = evals.real\n",
    "evecs = evecs[:, 0], evecs[:, 1]\n",
    "\n",
    "print(\"Eigenvalues:\", evals)\n",
    "print(\"Eigenvectors:\", evecs)\n",
    "\n",
    "fig, ax = plt.subplots(figsize=(7, 5))\n",
    "\n",
    "# Set the axes through the origin\n",
    "for spine in ['left', 'bottom']:\n",
    "    ax.spines[spine].set_position('zero')\n",
    "for spine in ['right', 'top']:\n",
    "    ax.spines[spine].set_color('none')\n",
    "\n",
    "ax.grid(alpha=0.4)\n",
    "\n",
    "xmin, xmax = -3, 3\n",
    "ymin, ymax = -3, 3\n",
    "ax.set(xlim=(xmin, xmax), ylim=(ymin, ymax))\n",
    "\n",
    "# Plot each eigenvector\n",
    "for v in evecs:\n",
    "    ax.annotate('', xy=v, xytext=(0, 0),\n",
    "                arrowprops=dict(facecolor='blue',\n",
    "                shrink=0,\n",
    "                alpha=0.6,\n",
    "                width=0.5))\n",
    "\n",
    "# Plot the image of each eigenvector\n",
    "for v in evecs:\n",
    "    z = A @ v\n",
    "    ax.annotate('', xy=z, xytext=(0, 0),\n",
    "                arrowprops=dict(facecolor='red',\n",
    "                shrink=0,\n",
    "                alpha=0.6,\n",
    "                width=0.5))\n",
    "\n",
    "# Plot the lines they run through\n",
    "x = np.linspace(xmin, xmax, 3)\n",
    "for v in evecs:\n",
    "    a = v[1] / v[0]\n",
    "    ax.plot(x, a * x, 'b-', lw=0.4)\n",
    "\n",
    "plt.show()"
   ]
  },
  {
   "attachments": {},
   "cell_type": "markdown",
   "metadata": {},
   "source": [
    "***Exercise 1.2*** Given a matrix $A$, compute the eigenvalues, eigenvectors of the inverse of $A$ ($A^{-1}$). Compare it to the eigenvalue of $A$.\n",
    "\n",
    "(Hint: Try to compute 1/eigenvalue of $A$ and compare it to the eigenvalue of $A^{-1}$)"
   ]
  },
  {
   "attachments": {},
   "cell_type": "markdown",
   "metadata": {},
   "source": [
    "### Solution"
   ]
  },
  {
   "cell_type": "code",
   "execution_count": null,
   "metadata": {},
   "outputs": [],
   "source": [
    "eig(np.linalg.inv(A))"
   ]
  },
  {
   "cell_type": "code",
   "execution_count": null,
   "metadata": {},
   "outputs": [],
   "source": [
    "eig(A)"
   ]
  },
  {
   "cell_type": "code",
   "execution_count": null,
   "metadata": {},
   "outputs": [],
   "source": [
    "np.allclose(1/eig(A)[0], eig(np.linalg.inv(A))[0])"
   ]
  },
  {
   "attachments": {},
   "cell_type": "markdown",
   "metadata": {},
   "source": [
    "***Exercise 1.3*** Try to come up with a simple proof of the relationship between the eigenvalues of $A$ and $A^{-1}$ you found in Exercise 1.2 (Think about what conditions are needed for the proof to hold)\n"
   ]
  },
  {
   "attachments": {},
   "cell_type": "markdown",
   "metadata": {},
   "source": [
    "### Solution"
   ]
  },
  {
   "attachments": {},
   "cell_type": "markdown",
   "metadata": {},
   "source": [
    "We start with the definition of eigenvalues:\n",
    "$$ \n",
    "A v = \\lambda\\ v\n",
    "$$\n",
    "\n",
    "Then we multiply both sides by $A^{-1}$:\n",
    "\n",
    "$$\n",
    "A^{-1}A v  = \\lambda A^{-1} v\n",
    "$$  \n",
    "\n",
    "Since $A^{-1}A = I$, we have:\n",
    "\n",
    "$$\n",
    "\\frac{1}{\\lambda} v = A^{-1} v\n",
    "$$"
   ]
  },
  {
   "attachments": {},
   "cell_type": "markdown",
   "metadata": {},
   "source": [
    "## Exercise 2\n",
    "\n",
    "Compute the spectral radius of the matrix A."
   ]
  },
  {
   "attachments": {},
   "cell_type": "markdown",
   "metadata": {},
   "source": [
    "### Solution"
   ]
  },
  {
   "cell_type": "code",
   "execution_count": null,
   "metadata": {},
   "outputs": [],
   "source": [
    "A = np.array([[1, 4],\n",
    "              [5, 7]])\n",
    "\n",
    "evals, evecs = eig(A)   # find eigenvalues and eigenvectors\n",
    "\n",
    "r = max(abs(evals))    # compute spectral radius\n",
    "print(r)"
   ]
  },
  {
   "attachments": {},
   "cell_type": "markdown",
   "metadata": {},
   "source": [
    "## Exercise 3\n",
    "\n",
    "Without using the `eig` function, compute the dominant eigenvalue and its corresponding eigenvector of the matrix $A$ in Question 3.1.\n",
    "\n",
    "(Hint: you can use [power iteration method](https://en.wikipedia.org/wiki/Power_iteration) to solve this problem.)"
   ]
  },
  {
   "attachments": {},
   "cell_type": "markdown",
   "metadata": {},
   "source": [
    "### Solution"
   ]
  },
  {
   "cell_type": "code",
   "execution_count": null,
   "metadata": {},
   "outputs": [],
   "source": [
    "def power_iteration(A, num_iterations=1000):\n",
    "    n = A.shape[0]\n",
    "    b_k = np.ones(n)\n",
    "    for _ in range(num_iterations):\n",
    "        b_k1 = A @ b_k\n",
    "        b_k1_norm = np.linalg.norm(b_k1)\n",
    "        b_k = b_k1 / b_k1_norm\n",
    "    eigenvalue = b_k @ A @ b_k  # Rayleigh quotient\n",
    "    return eigenvalue, b_k"
   ]
  },
  {
   "cell_type": "code",
   "execution_count": null,
   "metadata": {},
   "outputs": [],
   "source": [
    "A = np.array([[1, 4],\n",
    "              [5, 7]])\n",
    "\n",
    "eigenvalue, eigenvector = power_iteration(A)\n",
    "print(\"Dominant Eigenvalue: \\n\", eigenvalue)\n",
    "print(\"Corresponding Eigenvector: \\n\", np.abs(eigenvector))\n",
    "\n",
    "# Compare your result to the output of `np.linalg.eig`:\n",
    "A = np.array(A)\n",
    "evals, evecs = eig(A)\n",
    "evals = evals.real\n",
    "evecs = evecs[:, 0], evecs[:, 1]\n",
    "\n",
    "print(\"\\nEigenvalues (numpy): \\n\", evals)\n",
    "print(\"Eigenvectors (numpy): \\n\", np.abs(evecs))"
   ]
  },
  {
   "attachments": {},
   "cell_type": "markdown",
   "metadata": {},
   "source": [
    "For this simple matrix, the result is very accurate."
   ]
  },
  {
   "attachments": {},
   "cell_type": "markdown",
   "metadata": {},
   "source": [
    "## Exercise 4\n",
    "\n",
    "[Wassily Leontief](https://en.wikipedia.org/wiki/Wassily_Leontief) developed a model of an economy with $n$ sectors producing $n$ different commodities representing the interdependencies of different sectors of an economy.\n",
    "\n",
    "Under this model some of the output is consumed internally by the industries and the rest is consumed by external consumers.\n",
    "\n",
    "We define a simple model with 3 sectors - agriculture, industry, and service.\n",
    "\n",
    "The following table describes how output is distributed within the economy:\n",
    "\n",
    "|             | Total output | Agriculture | Industry | Service | Consumer |\n",
    "|:-----------:|:------------:|:-----------:|:--------:|:-------:|:--------:|\n",
    "| Agriculture |     $x_1$    |   0.3 $x_1$  | 0.2 $x_2$ |0.3 $x_3$ |     4    |\n",
    "|   Industry  |     $x_2$    |   0.2 $x_1$  | 0.4 $x_2$ |0.3 $x_3$ |     5    |\n",
    "|   Service   |     $x_3$    |   0.2 $x_1$  | 0.5 $x_2$ |0.1 $x_3$ |    12    |\n",
    "\n",
    "The first row depicts how agriculture's total output $x_1$ is distributed\n",
    "\n",
    "* $0.3x_1$ is used as inputs within agriculture itself,\n",
    "* $0.2x_2$ is used as inputs by the industry sector to produce $x_2$ units,\n",
    "* $0.3x_3$ is used as inputs by the service sector to produce $x_3$ units and\n",
    "* 4 units is the external demand by consumers.\n",
    "\n",
    "We can transform this into a system of linear equations for the 3 sectors as\n",
    "given below:\n",
    "\n",
    "$$\n",
    "    x_1 = 0.3x_1 + 0.2x_2 + 0.3x_3 + 4 \\\\\n",
    "    x_2 = 0.2x_1 + 0.4x_2 + 0.3x_3 + 5 \\\\\n",
    "    x_3 = 0.2x_1 + 0.5x_2 + 0.1x_3 + 12\n",
    "$$\n",
    "\n",
    "This can be transformed into the matrix equation $x = Ax + d$ where\n",
    "\n",
    "$$\n",
    "x =\n",
    "\\begin{bmatrix}\n",
    "    x_1 \\\\\n",
    "    x_2 \\\\\n",
    "    x_3\n",
    "\\end{bmatrix}\n",
    ", \\; A =\n",
    "\\begin{bmatrix}\n",
    "    0.3 & 0.2 & 0.3 \\\\\n",
    "    0.2 & 0.4 & 0.3 \\\\\n",
    "    0.2 & 0.5 & 0.1\n",
    "\\end{bmatrix}\n",
    "\\; \\text{and} \\;\n",
    "d =\n",
    "\\begin{bmatrix}\n",
    "    4 \\\\\n",
    "    5 \\\\\n",
    "    12\n",
    "\\end{bmatrix}\n",
    "$$\n",
    "\n",
    "The solution $x^{*}$ is given by the equation $x^{*} = (I-A)^{-1} d$\n",
    "\n",
    "***Exercise 4.1*** Find the spectral radius of $A$ and verify if the spectral radius is less than 1."
   ]
  },
  {
   "attachments": {},
   "cell_type": "markdown",
   "metadata": {},
   "source": [
    "### Solution"
   ]
  },
  {
   "cell_type": "code",
   "execution_count": null,
   "metadata": {},
   "outputs": [],
   "source": [
    "A = np.array([[0.3, 0.2, 0.3],\n",
    "              [0.2, 0.4, 0.3],\n",
    "              [0.2, 0.5, 0.1]])\n",
    "\n",
    "evals, evecs = eig(A)\n",
    "\n",
    "r = max(abs(evals))  # dominant eigenvalue/spectral radius\n",
    "print(r)"
   ]
  },
  {
   "attachments": {},
   "cell_type": "markdown",
   "metadata": {},
   "source": [
    "***Exercise 4.2*** Use the Neumann Series Lemma to find the solution $x^{*}$ if it exists."
   ]
  },
  {
   "attachments": {},
   "cell_type": "markdown",
   "metadata": {},
   "source": [
    "### Solution"
   ]
  },
  {
   "cell_type": "code",
   "execution_count": null,
   "metadata": {},
   "outputs": [],
   "source": [
    "I = np.identity(3)\n",
    "B = I - A\n",
    "\n",
    "d = np.array([4, 5, 12])\n",
    "d.shape = (3, 1)\n",
    "\n",
    "B_inv = np.linalg.inv(B)\n",
    "x_star = B_inv @ d\n",
    "print(x_star)"
   ]
  },
  {
   "attachments": {},
   "cell_type": "markdown",
   "metadata": {},
   "source": [
    "## Exercise 5\n",
    "\n",
    "As an exercise, we ask you to represent and solve a third order linear difference equation. How many initial conditions must you specify?"
   ]
  },
  {
   "attachments": {},
   "cell_type": "markdown",
   "metadata": {},
   "source": [
    "### Solution"
   ]
  },
  {
   "attachments": {},
   "cell_type": "markdown",
   "metadata": {},
   "source": [
    "$$\n",
    "\\begin{bmatrix} \n",
    "1 & 0 & 0 & 0 &\\cdots & 0 & 0 & 0 \\cr\n",
    "-\\lambda_1 & 1 & 0 & 0 &\\cdots & 0 & 0 & 0 \\cr\n",
    "-\\lambda_2 & -\\lambda_1 & 1 & 0 & \\cdots & 0 & 0 & 0 \\cr\n",
    "-\\lambda_3 & -\\lambda_2 & -\\lambda_1 & 1 & \\cdots & 0 & 0 & 0 \\cr\n",
    " \\vdots & \\vdots & \\vdots & \\vdots & \\cdots & \\vdots & \\vdots & \\vdots \\cr\n",
    "0 & 0 & 0 & 0 & \\cdots & -\\lambda_2 & -\\lambda_1 & 1 \n",
    "\\end{bmatrix} \n",
    "\\begin{bmatrix} \n",
    "y_1 \\cr y_2 \\cr y_3 \\cr y_4 \\cr \\vdots \\cr y_T \n",
    "\\end{bmatrix}\n",
    "= \n",
    "\\begin{bmatrix} \n",
    "\\lambda_1 y_0 + \\lambda_2 y_{-1} + \\lambda_3 y_{-2} \\cr \\lambda_2 y_0 + \\lambda_3 y_{-1} \\cr \\lambda_3 y_0 \\cr 0 \\cr \\vdots \\cr 0 \n",
    "\\end{bmatrix}\n",
    "$$\n",
    "\n",
    "where $y_{0}$, $y_{-1}$, and $y_{-2}$ are initial conditions."
   ]
  },
  {
   "attachments": {},
   "cell_type": "markdown",
   "metadata": {},
   "source": [
    "## Exercise 6\n",
    "\n",
    "Using the following parameters, compute the $y$ for process:\n",
    "\n",
    "$$\n",
    "y_{t} = \\alpha_{0} + \\alpha_{1} y_{t-1} + \\alpha_{2} y_{t-2} + \\alpha_{3} y_{t-3} \\quad where \\quad t = 1, 2 \\ldots\n",
    "$$"
   ]
  },
  {
   "attachments": {},
   "cell_type": "markdown",
   "metadata": {},
   "source": [
    "Use the following parameters:"
   ]
  },
  {
   "cell_type": "code",
   "execution_count": null,
   "metadata": {},
   "outputs": [],
   "source": [
    "T = 100\n",
    "\n",
    "# parameters\n",
    "𝛼0 = 10.0\n",
    "𝛼1 = 1.53\n",
    "𝛼2 = -.9\n",
    "𝛼3 = -.04\n",
    "\n",
    "y_2 = 32.  # y_{-2}\n",
    "y_1 = 28.  # y_{-1}\n",
    "y0 = 24."
   ]
  },
  {
   "attachments": {},
   "cell_type": "markdown",
   "metadata": {},
   "source": [
    "Try to visualize the process as shown in the [lecture](https://intro.quantecon.org/time_series_with_matrices.html) (Hint: you can use some insights from Exercise 5)."
   ]
  },
  {
   "attachments": {},
   "cell_type": "markdown",
   "metadata": {},
   "source": [
    "### Solution"
   ]
  },
  {
   "cell_type": "code",
   "execution_count": null,
   "metadata": {},
   "outputs": [],
   "source": [
    "A = np.identity(T)  # The T x T identity matrix\n",
    "\n",
    "for i in range(T):\n",
    "\n",
    "    if i-1 >= 0:\n",
    "        A[i, i-1] = -𝛼1\n",
    "\n",
    "    if i-2 >= 0:\n",
    "        A[i, i-2] = -𝛼2\n",
    "\n",
    "    if i-3 >= 0:\n",
    "        A[i, i-3] = -𝛼3\n",
    "\n",
    "b = np.full(T, 𝛼0)\n",
    "b[0] = 𝛼0 + 𝛼1 * y0 + 𝛼2 * y_1 + 𝛼3 * y_2\n",
    "b[1] = 𝛼0 + 𝛼1 * y0 + 𝛼2 * y_1\n",
    "b[2] = 𝛼0 + 𝛼2 * y0\n",
    "\n",
    "print(A)"
   ]
  },
  {
   "cell_type": "code",
   "execution_count": null,
   "metadata": {},
   "outputs": [],
   "source": [
    "A_inv = np.linalg.inv(A)\n",
    "\n",
    "y = A_inv @ b"
   ]
  },
  {
   "cell_type": "code",
   "execution_count": null,
   "metadata": {},
   "outputs": [],
   "source": [
    "fig, ax = plt.subplots()\n",
    "ax.plot(np.arange(T)+1, y)\n",
    "plt.xlabel('t')\n",
    "plt.ylabel('y')\n",
    "\n",
    "plt.show()"
   ]
  },
  {
   "cell_type": "code",
   "execution_count": null,
   "metadata": {},
   "outputs": [],
   "source": [
    "N = 100\n",
    "𝜎u = 2.\n",
    "fig, ax = plt.subplots()\n",
    "\n",
    "for i in range(N):\n",
    "    col = cm.viridis(np.random.rand())  # Choose a random color from viridis\n",
    "    u = np.random.normal(0, 𝜎u, size=T)\n",
    "    y = A_inv @ (b + u)\n",
    "    ax.plot(np.arange(T)+1, y, lw=0.5, color=col)\n",
    "\n",
    "plt.xlabel('t')\n",
    "plt.ylabel('y')\n",
    "\n",
    "plt.show()"
   ]
  }
 ],
 "metadata": {
  "anaconda-cloud": {},
  "kernelspec": {
   "display_name": "Python 3 (ipykernel)",
   "language": "python",
   "name": "python3"
  },
  "language_info": {
   "codemirror_mode": {
    "name": "ipython",
    "version": 3
   },
   "file_extension": ".py",
   "mimetype": "text/x-python",
   "name": "python",
   "nbconvert_exporter": "python",
   "pygments_lexer": "ipython3",
   "version": "3.10.12"
  }
 },
 "nbformat": 4,
 "nbformat_minor": 4
}
