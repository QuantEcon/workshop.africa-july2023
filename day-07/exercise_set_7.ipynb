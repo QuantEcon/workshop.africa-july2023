{
 "cells": [
  {
   "cell_type": "markdown",
   "metadata": {},
   "source": [
    "# Object Oriented Programming, Numba, and Equalizing Differences Model"
   ]
  },
  {
   "cell_type": "markdown",
   "metadata": {},
   "source": [
    "<div align=\"right\"><button><a href=\"https://colab.research.google.com/github/QuantEcon/workshop.africa-july2023/blob/main/day-07/exercise_set_7.ipynb\"><img src=\"\" heght=\"10px\"/><img\n",
    "  src=\"https://colab.research.google.com/assets/colab-badge.svg\"\n",
    "  alt=\"open with Colab\" width=\"100px\"/></a></button></div>"
   ]
  },
  {
   "cell_type": "markdown",
   "metadata": {},
   "source": [
    "#### Written for the QuantEcon Africa Workshop (July 2023)\n",
    "#### Author: [Humphrey Yang](https://github.com/HumphreyYang) and [Smit Lunagariya](https://github.com/Smit-create)"
   ]
  },
  {
   "cell_type": "code",
   "execution_count": null,
   "metadata": {},
   "outputs": [],
   "source": [
    "import numpy as np\n",
    "import numba as nb\n",
    "import matplotlib.pyplot as plt\n",
    "\n",
    "from scipy.optimize import newton"
   ]
  },
  {
   "cell_type": "markdown",
   "metadata": {},
   "source": [
    "## Exercise 1\n",
    "\n",
    "We start with some exercises on objects and names in Python.\n",
    "\n",
    "\n",
    "### ***Exercise 1.1***\n",
    "\n",
    "Print the type of the following objects:"
   ]
  },
  {
   "cell_type": "code",
   "execution_count": null,
   "metadata": {},
   "outputs": [],
   "source": [
    "a = 0.5\n",
    "b = 5\n",
    "c = 'a'\n",
    "d = ...\n",
    "e = 1.0 + 1.0j\n",
    "f = lambda x: x + 1\n",
    "g = np.array([1, 2, 3])\n",
    "h = list\n",
    "j = _\n",
    "\n",
    "var_list = [a, b, c, d, e, f, g, h, j]"
   ]
  },
  {
   "cell_type": "markdown",
   "metadata": {},
   "source": [
    "### ***Exercise 1.2***\n",
    "\n",
    "What are unique identifiers of the following objects?"
   ]
  },
  {
   "cell_type": "code",
   "execution_count": null,
   "metadata": {},
   "outputs": [],
   "source": [
    "a = b = 1\n",
    "id(a)"
   ]
  },
  {
   "cell_type": "code",
   "execution_count": null,
   "metadata": {},
   "outputs": [],
   "source": [
    "c = [a, b, 2]\n",
    "\n",
    "id(c[0])"
   ]
  },
  {
   "cell_type": "code",
   "execution_count": null,
   "metadata": {},
   "outputs": [],
   "source": [
    "j = c\n",
    "id(j[0])"
   ]
  },
  {
   "cell_type": "code",
   "execution_count": null,
   "metadata": {},
   "outputs": [],
   "source": [
    "j[0] = 2\n",
    "id(j[0])"
   ]
  },
  {
   "cell_type": "code",
   "execution_count": null,
   "metadata": {},
   "outputs": [],
   "source": [
    "c"
   ]
  },
  {
   "cell_type": "markdown",
   "metadata": {},
   "source": [
    "### *Exercise 1.3*\n",
    "\n",
    "Check the documentation of the `dir()` function using `?dir` and print the namespace of string `'a'` and."
   ]
  },
  {
   "cell_type": "code",
   "execution_count": null,
   "metadata": {},
   "outputs": [],
   "source": [
    "# Write your solution here"
   ]
  },
  {
   "cell_type": "code",
   "execution_count": null,
   "metadata": {},
   "outputs": [],
   "source": [
    "# Write your solution here"
   ]
  },
  {
   "cell_type": "markdown",
   "metadata": {},
   "source": [
    "## Exercise 2\n",
    "\n",
    "\n",
    "Let's start with an easy class. Define a class called `Person` with the following attributes:\n",
    "\n",
    "- `name`: a string\n",
    "- `age`: an integer\n",
    "\n",
    "and the following methods:\n",
    "\n",
    "- `greet(self)`: prints out a greeting that includes the person's name and age\n",
    "- `respond(self, person)`: prints out a response to a greeting from another `Person` instance that introduces `self.name`.\n",
    "\n",
    "Create two instances of `Person` with different names and ages and have one `respond` to the other's `greet`.\n"
   ]
  },
  {
   "cell_type": "code",
   "execution_count": null,
   "metadata": {},
   "outputs": [],
   "source": [
    "# Write your solution here"
   ]
  },
  {
   "cell_type": "markdown",
   "metadata": {},
   "source": [
    "## Exercise 3\n",
    "\n",
    "#### The Market"
   ]
  },
  {
   "cell_type": "markdown",
   "metadata": {},
   "source": [
    "We consider a market for coffee beans.  The price per kilo is $p$.  Total supply at price $p$ is\n",
    "\n",
    "$$ q_s (p) = b \\sqrt{p} $$\n",
    "\n",
    "and total demand is \n",
    "\n",
    "$$ q_d (p) = a \\frac{1}{p}, $$\n",
    "\n",
    "where $a$ and $b$ are positive parameters."
   ]
  },
  {
   "cell_type": "markdown",
   "metadata": {},
   "source": [
    "Now let's write routines to compute supply and demand as functions of price and parameters:"
   ]
  },
  {
   "cell_type": "code",
   "execution_count": null,
   "metadata": {},
   "outputs": [],
   "source": [
    "def supply(p, b):\n",
    "    return b * np.sqrt(p)\n",
    "\n",
    "def demand(p, a):\n",
    "    return a * (1/p)"
   ]
  },
  {
   "cell_type": "markdown",
   "metadata": {},
   "source": [
    "### ***Exercise 3.1***\n",
    "\n",
    "Plot both supply and demand as functions of $p$ when $a=1$ and $b=0.5$.  Plot for prices in the interval from $0.2$ up to $4$.  Although it is unusual, put price on the horizonal axis.  Use a legend to label the two functions and be sure to label the axes.  Looking at the picture, make a rough estimate of the equilibrium price,\n",
    "where demand equals supply."
   ]
  },
  {
   "cell_type": "code",
   "execution_count": null,
   "metadata": {},
   "outputs": [],
   "source": [
    "# Write your solution here"
   ]
  },
  {
   "cell_type": "markdown",
   "metadata": {},
   "source": [
    "### ***Exercise 3.2***\n",
    "\n",
    "Write a function that takes arguments $a, b, p$ and returns *excess demand*, which is defined as\n",
    "\n",
    "$$ e(p) = q_d(p) - q_s(p) $$\n"
   ]
  },
  {
   "cell_type": "code",
   "execution_count": null,
   "metadata": {},
   "outputs": [],
   "source": [
    "# Write your solution here"
   ]
  },
  {
   "cell_type": "markdown",
   "metadata": {},
   "source": [
    "### ***Exercise 3.3***\n",
    "\n",
    "Write a class definition that creates a class called `Market` with four methods:\n",
    "\n",
    "1. An `__init__` method that specifies default parameter values $a=1$ and $b=0.5$.\n",
    "2. A `demand` method that returns $q_d(p)$ given $p$\n",
    "3. A `supply` method that returns $q_s(p)$ given $p$\n",
    "4. An `excess_demand` method that returns $q_d(p) - q_s(p)$ given $p$. \n",
    "\n",
    "Using an instance of the class, plot excess demand over the interval from $0.2$ up to $4$.  Also plot a horizontal line at zero.  The equilibrium price is where excess demand crosses zero. Compute the equilibrium price."
   ]
  },
  {
   "cell_type": "code",
   "execution_count": null,
   "metadata": {},
   "outputs": [],
   "source": [
    "# Write your solution here"
   ]
  },
  {
   "cell_type": "markdown",
   "metadata": {},
   "source": [
    "## Exercise 4\n",
    "\n",
    "[Martingales](https://en.wikipedia.org/wiki/Martingale_%28probability_theory%29) are a class of discrete-time stochastic processes that originates from a class of betting strategy that doubles the bet after every loss with the hope that the first win would recover all previous losses plus win a profit equal to the original stake (Read this [lecture](https://python.quantecon.org/perm_income.html#preliminaries) for more information about how martingales relate to the permanent income model).\n",
    "\n",
    "In this exercise, Let's simulate the betting strategy and see if it really works out. \n",
    "\n",
    "### ***Exercise 4.1***\n",
    "\n",
    "Write a simulator called `MartingaleSimulator` to simulate a person who doubles the bet when losses and halfs the bet when wins. The process stops once the person cannot afford the next bet.\n"
   ]
  },
  {
   "cell_type": "code",
   "execution_count": 1,
   "metadata": {},
   "outputs": [],
   "source": [
    "class MartingaleSimulator:\n",
    "    def __init__(self, initial_balance, bet_amount, prob=0.5):\n",
    "        # Complete the code\n",
    "        pass\n",
    "\n",
    "    def play_round(self):\n",
    "        # Complete the code\n",
    "        pass\n",
    "\n",
    "    def _play_game(self, prob=0.5):\n",
    "        # Complete the code\n",
    "        pass\n",
    "\n",
    "    def simulate(self, num_rounds):\n",
    "        for _ in range(num_rounds):\n",
    "            try:\n",
    "                self.play_round()\n",
    "            except AssertionError:\n",
    "                break   \n",
    "        if self.balance <= self.initial_balance:\n",
    "            return False\n",
    "        else:\n",
    "            return True"
   ]
  },
  {
   "cell_type": "markdown",
   "metadata": {},
   "source": [
    "### ***Exercise 4.2***\n",
    "\n",
    "Calculate the total wins, losses and the final balance of the person after 200 rounds with an initial wealth and bet amount of 1000 and 100."
   ]
  },
  {
   "cell_type": "code",
   "execution_count": null,
   "metadata": {},
   "outputs": [],
   "source": [
    "# Write your solution here"
   ]
  },
  {
   "cell_type": "markdown",
   "metadata": {},
   "source": [
    "### ***Exercise 4.3***\n",
    "\n",
    "Run a simulation of 50 rounds with initial wealth of 100 and initial bet size of 1. Plot the wealth over time for 20 simulations if you can."
   ]
  },
  {
   "cell_type": "code",
   "execution_count": null,
   "metadata": {},
   "outputs": [],
   "source": [
    "# Write your solution here"
   ]
  },
  {
   "cell_type": "markdown",
   "metadata": {},
   "source": [
    "### ***Exercise 4.4***\n",
    "\n",
    "Run a simulation of 50 rounds with initial wealth of 100 and inital bet size of 1. \n",
    "\n",
    "- Calculate the proportion of simulations that end up with a wealth below initial wealth.\n",
    "\n",
    "- Visualize the distribution of the final wealth if you can."
   ]
  },
  {
   "cell_type": "code",
   "execution_count": null,
   "metadata": {},
   "outputs": [],
   "source": [
    "# Write your solution here"
   ]
  },
  {
   "cell_type": "markdown",
   "metadata": {},
   "source": [
    "### ***Exercise 4.5***\n",
    "\n",
    "Use the same setup as Exercise 4.4, but set up an unfair game with the probability of winning 0.4."
   ]
  },
  {
   "cell_type": "code",
   "execution_count": null,
   "metadata": {},
   "outputs": [],
   "source": [
    "# Write your solution here"
   ]
  },
  {
   "cell_type": "markdown",
   "metadata": {},
   "source": [
    "## Exercise 5\n",
    "\n",
    "Repeat the same [Exercise 3.3](#Exercise-3.3) using Numba's `jitclass`, and the class name as `MarketNB`."
   ]
  },
  {
   "cell_type": "code",
   "execution_count": null,
   "metadata": {},
   "outputs": [],
   "source": [
    "# Write your solution here"
   ]
  }
 ],
 "metadata": {
  "anaconda-cloud": {},
  "kernelspec": {
   "display_name": "Python 3 (ipykernel)",
   "language": "python",
   "name": "python3"
  },
  "language_info": {
   "codemirror_mode": {
    "name": "ipython",
    "version": 3
   },
   "file_extension": ".py",
   "mimetype": "text/x-python",
   "name": "python",
   "nbconvert_exporter": "python",
   "pygments_lexer": "ipython3",
   "version": "3.9.16"
  }
 },
 "nbformat": 4,
 "nbformat_minor": 4
}
