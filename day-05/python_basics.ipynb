{
 "cells": [
  {
   "cell_type": "markdown",
   "id": "03ccc364-5b8c-453e-97cc-de49e1cd33d9",
   "metadata": {},
   "source": [
    "# Python Basics: Numpy and Scipy\n",
    "\n",
    "#### Written for the QuantEcon Africa Workshop (July 2023)\n",
    "#### Author: [Shu Hu](https://shu-hu.com/)"
   ]
  },
  {
   "cell_type": "markdown",
   "id": "08e6c2a0-063a-488e-b063-70c8a54b0196",
   "metadata": {},
   "source": [
    "With the following imports:"
   ]
  },
  {
   "cell_type": "code",
   "execution_count": 1,
   "id": "72595454-47c6-4286-8360-a21b69472a44",
   "metadata": {},
   "outputs": [],
   "source": [
    "import numpy as np\n",
    "import scipy as sp\n",
    "import matplotlib.pyplot as plt\n",
    "%matplotlib inline"
   ]
  },
  {
   "cell_type": "markdown",
   "id": "3a98771e-8379-48c1-af43-0b12b5258c70",
   "metadata": {},
   "source": [
    "### Exercise 1 (Numpy)\n",
    "\n",
    "Read the section [NumPy Arrays](https://python-programming.quantecon.org/numpy.html#numpy-arrays) before you attempt the following exercises."
   ]
  },
  {
   "cell_type": "markdown",
   "id": "9e8e089b-bd20-4012-bd6a-ed63fc150467",
   "metadata": {},
   "source": [
    "**Exercise 1.1**\n",
    "\n",
    "Create a zero numpy array with dimension ``(10, )`` and ``dtype`` to ``np.float32``.\n",
    "\n",
    "Assign this array to a global variable called ``a``."
   ]
  },
  {
   "cell_type": "code",
   "execution_count": 2,
   "id": "8e564e7a-026f-4b23-9617-2304c2bf41b8",
   "metadata": {},
   "outputs": [],
   "source": [
    "# Type your answer here"
   ]
  },
  {
   "cell_type": "markdown",
   "id": "5620c525-8acf-4892-a11c-a341e08a5b83",
   "metadata": {},
   "source": [
    "**Exercise 1.2**\n",
    "\n",
    "Inspect the dimension of the array created in Exercise 1.1."
   ]
  },
  {
   "cell_type": "code",
   "execution_count": 3,
   "id": "396424d5-01f6-419f-950f-e8920e87cc5e",
   "metadata": {},
   "outputs": [],
   "source": [
    "# Type your answer here"
   ]
  },
  {
   "cell_type": "markdown",
   "id": "055f0934-b10d-4553-8f0c-b4b288e72854",
   "metadata": {},
   "source": [
    "**Exercise 1.3**\n",
    "\n",
    "Use ``np.linspace`` to create a same array as in Exercise 1.1.\n",
    "\n",
    "Assign this array to a global variable called ``b``."
   ]
  },
  {
   "cell_type": "code",
   "execution_count": 4,
   "id": "548ea412-8385-498e-8acb-70e13857825c",
   "metadata": {},
   "outputs": [],
   "source": [
    "# Type your answer here"
   ]
  },
  {
   "cell_type": "markdown",
   "id": "d46df285-7f87-408b-b470-ad600edf6f31",
   "metadata": {},
   "source": [
    "**Exercise 1.4**\n",
    "\n",
    "Replace the third element of variable ``b`` with $10$.\n"
   ]
  },
  {
   "cell_type": "code",
   "execution_count": 5,
   "id": "f23b00e0-4b9a-4cf3-b9d2-e49193c4d6d5",
   "metadata": {},
   "outputs": [],
   "source": [
    "# Type your answer here"
   ]
  },
  {
   "cell_type": "markdown",
   "id": "18fe5d23-ddb7-4e1e-a65e-ab333f9eddda",
   "metadata": {},
   "source": [
    "**Exercise 1.5**\n",
    "\n",
    "Sort the new ``b`` from Exercise 1.4.\n",
    "\n",
    "Compute its sum, mean, max, argmax, cumulative sum, cumulative product, variance, and standard deviation."
   ]
  },
  {
   "cell_type": "code",
   "execution_count": 6,
   "id": "7c3b8b83-1183-43d8-bc19-27e92a049caa",
   "metadata": {},
   "outputs": [],
   "source": [
    "# Type your answer here"
   ]
  },
  {
   "cell_type": "markdown",
   "id": "eb1631bb-8e32-431f-a4bc-c79359203740",
   "metadata": {},
   "source": [
    "**Exercise 1.6**\n",
    "\n",
    "Find the index of the first element of the new ``b`` from Exercise 1.4 that is ``>= 5``."
   ]
  },
  {
   "cell_type": "code",
   "execution_count": 7,
   "id": "13e361be-76e2-4cf1-96b4-7c246505cf22",
   "metadata": {},
   "outputs": [],
   "source": [
    "# Type your answer here"
   ]
  },
  {
   "cell_type": "markdown",
   "id": "e3221d8f-5749-48f0-a9a6-62a297f0b78f",
   "metadata": {},
   "source": [
    "### Exercise 2\n",
    "\n",
    "Read the sections [Arithmetic Operations](https://python-programming.quantecon.org/numpy.html#arithmetic-operations) to [Mutability and Copying Arrays](https://python-programming.quantecon.org/numpy.html#mutability-and-copying-arrays) before you attempt the following exercises.\n",
    "\n",
    "- element-wise arithmetic operations\n",
    "- matrix multiplication\n",
    "- mutability using index\n",
    "- copying using .copy\n",
    "- broadcasting"
   ]
  },
  {
   "cell_type": "markdown",
   "id": "30840380-f652-4a76-9041-dde665c746e4",
   "metadata": {},
   "source": [
    "Given the following arrays"
   ]
  },
  {
   "cell_type": "code",
   "execution_count": 8,
   "id": "80c81948-9c49-4c4e-b099-27d625a7b4a2",
   "metadata": {},
   "outputs": [],
   "source": [
    "C = np.ones((3, 3)) \n",
    "D = np.ones((3, 3)) "
   ]
  },
  {
   "cell_type": "markdown",
   "id": "f9577f02-7439-4a8e-ada2-d74f88534d51",
   "metadata": {},
   "source": [
    "**Exercise 2.1**\n",
    "\n",
    "Perform the operations `+`, `-`, `*`, `/` between ``C`` and ``D``.\n",
    "\n",
    "Assign the value of the sum to a global variable called ``E``."
   ]
  },
  {
   "cell_type": "code",
   "execution_count": 9,
   "id": "8c200279-0a35-4f69-8e99-1f3dd651861a",
   "metadata": {},
   "outputs": [],
   "source": [
    "# Type your answer here"
   ]
  },
  {
   "cell_type": "markdown",
   "id": "d6db40f7-3032-4cf6-8abe-3fc1dd801403",
   "metadata": {},
   "source": [
    "**Exercise 2.2**\n",
    "\n",
    "Perform the operation ``**`` on ``E`` with a power $5$.\n",
    "\n",
    "Assign the value after the power operation to a global variable called ``F``."
   ]
  },
  {
   "cell_type": "code",
   "execution_count": 10,
   "id": "e84fab54-9b9c-4798-bf81-bf241b868784",
   "metadata": {},
   "outputs": [],
   "source": [
    "# Type your answer here"
   ]
  },
  {
   "cell_type": "markdown",
   "id": "b6c35be5-aa62-4716-a20f-1fc04316b16d",
   "metadata": {},
   "source": [
    "**Exercise 2.3**\n",
    "\n",
    "Compute the matrix multiplication between ``E`` and ``F``.\n",
    "\n",
    "Assign the value after the matrix multiplication to a global variable called ``G``."
   ]
  },
  {
   "cell_type": "code",
   "execution_count": 11,
   "id": "97e35169-a49b-44d2-ad8c-6105498e466e",
   "metadata": {},
   "outputs": [],
   "source": [
    "# Type your answer here"
   ]
  },
  {
   "cell_type": "markdown",
   "id": "5a43b032-98d0-47bb-975d-df7dff56b031",
   "metadata": {},
   "source": [
    "**Exercise 2.4**\n",
    "\n",
    "Change the element in the second row and third column of ``G`` to $100$."
   ]
  },
  {
   "cell_type": "code",
   "execution_count": 12,
   "id": "35bc2a52-7aaa-4120-9063-59f9fa715113",
   "metadata": {},
   "outputs": [],
   "source": [
    "# Type your answer here"
   ]
  },
  {
   "cell_type": "markdown",
   "id": "9880834d-514b-4870-8369-9b13e85229a5",
   "metadata": {},
   "source": [
    "**Exercise 2.5**\n",
    "\n",
    "Copy the array from Exercise 2.4 to a new global variable called ``H``."
   ]
  },
  {
   "cell_type": "code",
   "execution_count": 13,
   "id": "2c82a835-8f1a-4570-ba9b-acce75282884",
   "metadata": {},
   "outputs": [],
   "source": [
    "# Type your answer here"
   ]
  },
  {
   "cell_type": "markdown",
   "id": "4871f90f-56a7-4763-bc03-78df5cd79878",
   "metadata": {},
   "source": [
    "### Exercise 3\n",
    "\n",
    "Read the section [Roots and Fixed Points](https://python-programming.quantecon.org/scipy.html#roots-and-fixed-points) before you attempt the following exercises."
   ]
  },
  {
   "cell_type": "markdown",
   "id": "1abee29e-c6dc-4b0a-b417-886500aef29b",
   "metadata": {},
   "source": [
    "**Exercise 3.1**\n",
    "\n",
    "Plot the following function $f$ on $[-5, 0]$:\n",
    "$$\n",
    "    f(x) = 5 ( \\sin x - 1/5)) + x^{2} + x^{3} +20\n",
    "$$"
   ]
  },
  {
   "cell_type": "code",
   "execution_count": 14,
   "id": "add48dd6-39a5-406f-8f15-9b93a98cbff9",
   "metadata": {},
   "outputs": [],
   "source": [
    "# Type your answer here"
   ]
  },
  {
   "cell_type": "markdown",
   "id": "1420d6fd-5659-4ecb-a087-ec5249375b9a",
   "metadata": {},
   "source": [
    "**Exercise 3.2**\n",
    "\n",
    "Read the section [bisection](https://python-programming.quantecon.org/scipy.html#bisection).\n",
    "\n",
    "Use the bisection function from ``SciPy`` to find the root for the function $f$ defined in Exercise 3.1."
   ]
  },
  {
   "cell_type": "code",
   "execution_count": 15,
   "id": "9d6bc207-033a-4d2a-97b3-79e9adf90013",
   "metadata": {},
   "outputs": [],
   "source": [
    "# Type your answer here"
   ]
  },
  {
   "cell_type": "markdown",
   "id": "30a680e5-cd07-4a44-a845-c1ec6f7e175d",
   "metadata": {},
   "source": [
    "**Exercise 3.3**\n",
    "\n",
    "Read the section [The Newton-Raphson Method](https://python-programming.quantecon.org/scipy.html#the-newton-raphson-method).\n",
    "\n",
    "With different initial conditions $x=0, -2.5, -5$, \n",
    "\n",
    "try to use the newton function from ``SciPy`` to find the root for the function $f$ defined in Exercise 3.1."
   ]
  },
  {
   "cell_type": "code",
   "execution_count": 16,
   "id": "298b30c1-0a55-413d-89e3-a834152cabdc",
   "metadata": {},
   "outputs": [],
   "source": [
    "# Type your answer here"
   ]
  },
  {
   "cell_type": "markdown",
   "id": "ef1ca7cc-b34f-460a-8be3-591bc35ef7d5",
   "metadata": {},
   "source": [
    "**Exercise 3.4**\n",
    "\n",
    "Read the section [Hybrid Methods](https://python-programming.quantecon.org/scipy.html#hybrid-methods).\n",
    "\n",
    "Find the root for the function $f$ defined in Exercise 3.1 using the brentq function from ``SciPy``"
   ]
  },
  {
   "cell_type": "code",
   "execution_count": 17,
   "id": "6dbab269-6493-4f2a-9f34-337d04bd989a",
   "metadata": {},
   "outputs": [],
   "source": [
    "# Type your answer here"
   ]
  },
  {
   "cell_type": "markdown",
   "id": "0b2581ae-419f-4a58-9c9d-435fd1307fbc",
   "metadata": {},
   "source": [
    "**Exercise 3.5**\n",
    "\n",
    "Read the section [Fixed Points](https://python-programming.quantecon.org/scipy.html#fixed-points).\n",
    "\n",
    "With different initial guesses $x=-5, -2.5, 0$,\n",
    "\n",
    "Find the root for the function $f$ defined in Exercise 3.1 using the fixed point function from ``SciPy``"
   ]
  },
  {
   "cell_type": "code",
   "execution_count": 18,
   "id": "eea599fd-6097-4ed3-8af4-fb5feb952417",
   "metadata": {},
   "outputs": [],
   "source": [
    "# Type your answer here"
   ]
  },
  {
   "cell_type": "markdown",
   "id": "8022aa38-0a69-4ae9-aabe-2c631dac2a05",
   "metadata": {},
   "source": [
    "**Exercise 3.6**\n",
    "\n",
    "Read the section [Optimization](https://python-programming.quantecon.org/scipy.html#optimization).\n",
    "\n",
    "Use functions from ``SciPy`` to find the maximizer and minimizer of the function $f$ defined in Exercise 3.1 over domain $D = [-5, 0]$."
   ]
  },
  {
   "cell_type": "code",
   "execution_count": 19,
   "id": "9abc65b5-9c7d-4003-bc7c-23c4f0ee8c70",
   "metadata": {},
   "outputs": [],
   "source": [
    "# Type your answer here"
   ]
  },
  {
   "cell_type": "markdown",
   "id": "f589813f-2c7b-4c7d-94d2-a8f5839484f7",
   "metadata": {},
   "source": [
    "**Exercise 3.7**\n",
    "\n",
    "Read the section [Integration](https://python-programming.quantecon.org/scipy.html#integration).\n",
    "\n",
    "Use functions from ``SciPy`` to find the integral for the function $f$ defined in Exercise 3.1 over domain $D = [-5, 0]$."
   ]
  },
  {
   "cell_type": "code",
   "execution_count": 20,
   "id": "4fe93e30-6bee-410f-8e19-6bac7b2b93d4",
   "metadata": {},
   "outputs": [],
   "source": [
    "# Type your answer here"
   ]
  },
  {
   "cell_type": "code",
   "execution_count": null,
   "id": "eb3f0618-240a-4a62-b92b-76053f0dc7cf",
   "metadata": {},
   "outputs": [],
   "source": []
  }
 ],
 "metadata": {
  "kernelspec": {
   "display_name": "Python 3 (ipykernel)",
   "language": "python",
   "name": "python3"
  },
  "language_info": {
   "codemirror_mode": {
    "name": "ipython",
    "version": 3
   },
   "file_extension": ".py",
   "mimetype": "text/x-python",
   "name": "python",
   "nbconvert_exporter": "python",
   "pygments_lexer": "ipython3",
   "version": "3.9.13"
  }
 },
 "nbformat": 4,
 "nbformat_minor": 5
}
