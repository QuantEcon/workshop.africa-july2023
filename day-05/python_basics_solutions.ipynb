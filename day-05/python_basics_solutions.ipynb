{
 "cells": [
  {
   "cell_type": "markdown",
   "id": "bb3430d7-5438-4e8e-8527-e70c1c8f81e1",
   "metadata": {},
   "source": [
    "# Python Basics: Numpy and Scipy\n",
    "\n",
    "#### Written for the QuantEcon Africa Workshop (July 2023)\n",
    "#### Author: [Shu Hu](https://shu-hu.com/)"
   ]
  },
  {
   "cell_type": "markdown",
   "id": "4b9196ed-2301-4bf5-8655-a9fdc75e435e",
   "metadata": {},
   "source": [
    "With the following imports:"
   ]
  },
  {
   "cell_type": "code",
   "execution_count": 42,
   "id": "7d0081b4-bedb-4a0e-aa6e-992a2aa11ee2",
   "metadata": {},
   "outputs": [],
   "source": [
    "import numpy as np\n",
    "import scipy as sp\n",
    "import matplotlib.pyplot as plt\n",
    "%matplotlib inline"
   ]
  },
  {
   "cell_type": "markdown",
   "id": "a872d0de-d15b-4bc3-80d5-79b53ed95728",
   "metadata": {},
   "source": [
    "### Exercise 1 (Numpy)\n",
    "\n",
    "Read the section [NumPy Arrays](https://python-programming.quantecon.org/numpy.html#numpy-arrays) before you attempt the following exercises."
   ]
  },
  {
   "cell_type": "markdown",
   "id": "adf7ad6c-e1c4-4a42-9b13-4bb1c16fba46",
   "metadata": {},
   "source": [
    "**Exercise 1.1**\n",
    "\n",
    "Create a zero numpy array with dimension ``(10, )`` and ``dtype`` to ``np.float32``.\n",
    "\n",
    "Assign this array to a global variable called ``a``."
   ]
  },
  {
   "cell_type": "code",
   "execution_count": 2,
   "id": "49e19230-976c-4684-8fb4-1d2d7f54db27",
   "metadata": {},
   "outputs": [
    {
     "data": {
      "text/plain": [
       "array([0., 0., 0., 0., 0., 0., 0., 0., 0., 0.], dtype=float32)"
      ]
     },
     "execution_count": 2,
     "metadata": {},
     "output_type": "execute_result"
    }
   ],
   "source": [
    "a = np.zeros(10, dtype=np.float32)\n",
    "a"
   ]
  },
  {
   "cell_type": "markdown",
   "id": "4fc1b389-bee5-4903-b804-00b2a54727bd",
   "metadata": {},
   "source": [
    "**Exercise 1.2**\n",
    "\n",
    "Inspect the dimension of the array created in Exercise 1.1."
   ]
  },
  {
   "cell_type": "code",
   "execution_count": 3,
   "id": "e25bbcca-adcd-489e-90fd-8ca899e200b4",
   "metadata": {},
   "outputs": [
    {
     "data": {
      "text/plain": [
       "(10,)"
      ]
     },
     "execution_count": 3,
     "metadata": {},
     "output_type": "execute_result"
    }
   ],
   "source": [
    "a.shape"
   ]
  },
  {
   "cell_type": "markdown",
   "id": "d6de2423-75d2-4ee8-a975-7d7772c66cec",
   "metadata": {},
   "source": [
    "**Exercise 1.3**\n",
    "\n",
    "Use ``np.linspace`` to create a same array as in Exercise 1.1.\n",
    "\n",
    "Assign this array to a global variable called ``b``."
   ]
  },
  {
   "cell_type": "code",
   "execution_count": 4,
   "id": "c8a84c9c-b46f-4932-9ef4-719759d324ff",
   "metadata": {},
   "outputs": [
    {
     "data": {
      "text/plain": [
       "array([0., 0., 0., 0., 0., 0., 0., 0., 0., 0.], dtype=float32)"
      ]
     },
     "execution_count": 4,
     "metadata": {},
     "output_type": "execute_result"
    }
   ],
   "source": [
    "b = np.linspace(0, 0, 10, dtype=np.float32)\n",
    "b"
   ]
  },
  {
   "cell_type": "markdown",
   "id": "5a895615-d209-4a00-a545-13854b7ab671",
   "metadata": {},
   "source": [
    "**Exercise 1.4**\n",
    "\n",
    "Replace the third element of variable ``b`` with $10$.\n"
   ]
  },
  {
   "cell_type": "code",
   "execution_count": 5,
   "id": "f2059584-6835-4c82-be3d-a86a3f52d393",
   "metadata": {},
   "outputs": [],
   "source": [
    "b[2] = 10"
   ]
  },
  {
   "cell_type": "code",
   "execution_count": 6,
   "id": "3c244f3b-2b2a-4644-92ad-654047aecfc5",
   "metadata": {},
   "outputs": [
    {
     "data": {
      "text/plain": [
       "array([ 0.,  0., 10.,  0.,  0.,  0.,  0.,  0.,  0.,  0.], dtype=float32)"
      ]
     },
     "execution_count": 6,
     "metadata": {},
     "output_type": "execute_result"
    }
   ],
   "source": [
    "b"
   ]
  },
  {
   "cell_type": "markdown",
   "id": "34d92791-bdd3-4c5c-972a-393b64201921",
   "metadata": {},
   "source": [
    "**Exercise 1.5**\n",
    "\n",
    "Sort the new ``b`` from Exercise 1.4.\n",
    "\n",
    "Compute its sum, mean, max, argmax, cumulative sum, cumulative product, variance, and standard deviation."
   ]
  },
  {
   "cell_type": "code",
   "execution_count": 7,
   "id": "dfbbd9b8-6981-4706-bf42-f7b75f447327",
   "metadata": {},
   "outputs": [
    {
     "data": {
      "text/plain": [
       "array([ 0.,  0.,  0.,  0.,  0.,  0.,  0.,  0.,  0., 10.], dtype=float32)"
      ]
     },
     "execution_count": 7,
     "metadata": {},
     "output_type": "execute_result"
    }
   ],
   "source": [
    "b.sort()\n",
    "b"
   ]
  },
  {
   "cell_type": "code",
   "execution_count": 8,
   "id": "c80e8dc5-be9c-4b2b-b572-5cb4aaa31bb3",
   "metadata": {},
   "outputs": [
    {
     "data": {
      "text/plain": [
       "10.0"
      ]
     },
     "execution_count": 8,
     "metadata": {},
     "output_type": "execute_result"
    }
   ],
   "source": [
    "b.sum()"
   ]
  },
  {
   "cell_type": "code",
   "execution_count": 9,
   "id": "542b9e31-7549-473d-8b19-922f59459178",
   "metadata": {},
   "outputs": [
    {
     "data": {
      "text/plain": [
       "1.0"
      ]
     },
     "execution_count": 9,
     "metadata": {},
     "output_type": "execute_result"
    }
   ],
   "source": [
    "b.mean()"
   ]
  },
  {
   "cell_type": "code",
   "execution_count": 10,
   "id": "a396da24-021f-45dd-9d9b-339401c53216",
   "metadata": {},
   "outputs": [
    {
     "data": {
      "text/plain": [
       "10.0"
      ]
     },
     "execution_count": 10,
     "metadata": {},
     "output_type": "execute_result"
    }
   ],
   "source": [
    "b.max()"
   ]
  },
  {
   "cell_type": "code",
   "execution_count": 11,
   "id": "016acca8-38e9-47d2-a7fc-3062397df8bf",
   "metadata": {},
   "outputs": [
    {
     "data": {
      "text/plain": [
       "9"
      ]
     },
     "execution_count": 11,
     "metadata": {},
     "output_type": "execute_result"
    }
   ],
   "source": [
    "b.argmax()"
   ]
  },
  {
   "cell_type": "code",
   "execution_count": 12,
   "id": "03885657-85ed-4dd7-b84e-4e81906992e0",
   "metadata": {},
   "outputs": [
    {
     "data": {
      "text/plain": [
       "array([ 0.,  0.,  0.,  0.,  0.,  0.,  0.,  0.,  0., 10.], dtype=float32)"
      ]
     },
     "execution_count": 12,
     "metadata": {},
     "output_type": "execute_result"
    }
   ],
   "source": [
    "b.cumsum()"
   ]
  },
  {
   "cell_type": "code",
   "execution_count": 13,
   "id": "bf468d2c-93e2-4ac9-9092-4424a814792f",
   "metadata": {},
   "outputs": [
    {
     "data": {
      "text/plain": [
       "array([0., 0., 0., 0., 0., 0., 0., 0., 0., 0.], dtype=float32)"
      ]
     },
     "execution_count": 13,
     "metadata": {},
     "output_type": "execute_result"
    }
   ],
   "source": [
    "b.cumprod()"
   ]
  },
  {
   "cell_type": "code",
   "execution_count": 14,
   "id": "3c0b9b6a-75a5-423f-94ef-9bd4cde4d05a",
   "metadata": {},
   "outputs": [
    {
     "data": {
      "text/plain": [
       "9.0"
      ]
     },
     "execution_count": 14,
     "metadata": {},
     "output_type": "execute_result"
    }
   ],
   "source": [
    "b.var()"
   ]
  },
  {
   "cell_type": "code",
   "execution_count": 15,
   "id": "6b50dff7-35d1-4e45-9f19-2d2abefb1f46",
   "metadata": {},
   "outputs": [
    {
     "data": {
      "text/plain": [
       "3.0"
      ]
     },
     "execution_count": 15,
     "metadata": {},
     "output_type": "execute_result"
    }
   ],
   "source": [
    "b.std()"
   ]
  },
  {
   "cell_type": "markdown",
   "id": "458b2be5-c284-4bb9-9393-d99e095a7bb5",
   "metadata": {},
   "source": [
    "**Exercise 1.6**\n",
    "\n",
    "Find the index of the first element of the new ``b`` from Exercise 1.4 that is ``>= 5``."
   ]
  },
  {
   "cell_type": "code",
   "execution_count": 16,
   "id": "d445e40c-2418-46f3-9f92-fac86228768a",
   "metadata": {},
   "outputs": [
    {
     "data": {
      "text/plain": [
       "9"
      ]
     },
     "execution_count": 16,
     "metadata": {},
     "output_type": "execute_result"
    }
   ],
   "source": [
    "b.searchsorted(5)"
   ]
  },
  {
   "cell_type": "markdown",
   "id": "8561d1c4-b77a-42bf-9f1e-551bb7843028",
   "metadata": {},
   "source": [
    "### Exercise 2\n",
    "\n",
    "Read the sections [Arithmetic Operations](https://python-programming.quantecon.org/numpy.html#arithmetic-operations) to [Mutability and Copying Arrays](https://python-programming.quantecon.org/numpy.html#mutability-and-copying-arrays) before you attempt the following exercises.\n",
    "\n",
    "- element-wise arithmetic operations\n",
    "- matrix multiplication\n",
    "- mutability using index\n",
    "- copying using .copy\n",
    "- broadcasting"
   ]
  },
  {
   "cell_type": "markdown",
   "id": "24cab8bf-7fe2-40d9-bcb6-0ee6e2ee3286",
   "metadata": {},
   "source": [
    "Given the following arrays"
   ]
  },
  {
   "cell_type": "code",
   "execution_count": 17,
   "id": "723cea5e-cb0e-474c-9da2-e7786ff6601d",
   "metadata": {},
   "outputs": [],
   "source": [
    "C = np.ones((3, 3)) \n",
    "D = np.ones((3, 3)) "
   ]
  },
  {
   "cell_type": "markdown",
   "id": "07a7464c-e26b-42ee-b55e-e0351c153585",
   "metadata": {},
   "source": [
    "**Exercise 2.1**\n",
    "\n",
    "Perform the operations `+`, `-`, `*`, `/` between ``C`` and ``D``.\n",
    "\n",
    "Assign the value of the sum to a global variable called ``E``."
   ]
  },
  {
   "cell_type": "code",
   "execution_count": 18,
   "id": "abf06e28-4fb7-4ba3-9fe2-a5d80400ece0",
   "metadata": {},
   "outputs": [
    {
     "data": {
      "text/plain": [
       "array([[2., 2., 2.],\n",
       "       [2., 2., 2.],\n",
       "       [2., 2., 2.]])"
      ]
     },
     "execution_count": 18,
     "metadata": {},
     "output_type": "execute_result"
    }
   ],
   "source": [
    "E = C + D\n",
    "E"
   ]
  },
  {
   "cell_type": "code",
   "execution_count": 19,
   "id": "add68a41-d212-4f00-baba-a7e77090f213",
   "metadata": {},
   "outputs": [
    {
     "data": {
      "text/plain": [
       "array([[0., 0., 0.],\n",
       "       [0., 0., 0.],\n",
       "       [0., 0., 0.]])"
      ]
     },
     "execution_count": 19,
     "metadata": {},
     "output_type": "execute_result"
    }
   ],
   "source": [
    "C - D"
   ]
  },
  {
   "cell_type": "code",
   "execution_count": 20,
   "id": "0692a67a-3d04-48f8-903f-d2eb2c09b427",
   "metadata": {},
   "outputs": [
    {
     "data": {
      "text/plain": [
       "array([[1., 1., 1.],\n",
       "       [1., 1., 1.],\n",
       "       [1., 1., 1.]])"
      ]
     },
     "execution_count": 20,
     "metadata": {},
     "output_type": "execute_result"
    }
   ],
   "source": [
    "C * D"
   ]
  },
  {
   "cell_type": "code",
   "execution_count": 21,
   "id": "a82613d3-5a16-4180-b60e-14cf8fa7df3c",
   "metadata": {},
   "outputs": [
    {
     "data": {
      "text/plain": [
       "array([[1., 1., 1.],\n",
       "       [1., 1., 1.],\n",
       "       [1., 1., 1.]])"
      ]
     },
     "execution_count": 21,
     "metadata": {},
     "output_type": "execute_result"
    }
   ],
   "source": [
    "C / D"
   ]
  },
  {
   "cell_type": "markdown",
   "id": "11e91349-ae4e-4bac-8952-f99307366e92",
   "metadata": {},
   "source": [
    "**Exercise 2.2**\n",
    "\n",
    "Perform the operation ``**`` on ``E`` with a power $5$.\n",
    "\n",
    "Assign the value after the power operation to a global variable called ``F``."
   ]
  },
  {
   "cell_type": "code",
   "execution_count": 22,
   "id": "fa2c02e8-61f3-494a-9c18-bb449f639d19",
   "metadata": {},
   "outputs": [
    {
     "data": {
      "text/plain": [
       "array([[32., 32., 32.],\n",
       "       [32., 32., 32.],\n",
       "       [32., 32., 32.]])"
      ]
     },
     "execution_count": 22,
     "metadata": {},
     "output_type": "execute_result"
    }
   ],
   "source": [
    "F = E ** 5\n",
    "F"
   ]
  },
  {
   "cell_type": "markdown",
   "id": "bb67b4da-6ebb-4c3c-b563-896d0c0bb19f",
   "metadata": {},
   "source": [
    "**Exercise 2.3**\n",
    "\n",
    "Compute the matrix multiplication between ``E`` and ``F``.\n",
    "\n",
    "Assign the value after the matrix multiplication to a global variable called ``G``."
   ]
  },
  {
   "cell_type": "code",
   "execution_count": 23,
   "id": "53bc1fd7-629f-44e3-ae7e-46cd60c698bc",
   "metadata": {},
   "outputs": [
    {
     "data": {
      "text/plain": [
       "array([[192., 192., 192.],\n",
       "       [192., 192., 192.],\n",
       "       [192., 192., 192.]])"
      ]
     },
     "execution_count": 23,
     "metadata": {},
     "output_type": "execute_result"
    }
   ],
   "source": [
    "G = E @ F\n",
    "G"
   ]
  },
  {
   "cell_type": "markdown",
   "id": "d1ee1693-29ec-4849-acc9-8a0a2f9a997c",
   "metadata": {},
   "source": [
    "**Exercise 2.4**\n",
    "\n",
    "Change the element in the second row and third column of ``G`` to $100$."
   ]
  },
  {
   "cell_type": "code",
   "execution_count": 24,
   "id": "a36ac747-0b35-4624-b848-66987316cc8e",
   "metadata": {},
   "outputs": [
    {
     "data": {
      "text/plain": [
       "array([[192., 192., 192.],\n",
       "       [192., 192., 100.],\n",
       "       [192., 192., 192.]])"
      ]
     },
     "execution_count": 24,
     "metadata": {},
     "output_type": "execute_result"
    }
   ],
   "source": [
    "G[1, 2] = 100\n",
    "G"
   ]
  },
  {
   "cell_type": "markdown",
   "id": "34e5440e-798f-45ec-a54d-cd3155f5fae5",
   "metadata": {},
   "source": [
    "**Exercise 2.5**\n",
    "\n",
    "Copy the array from Exercise 2.4 to a new global variable called ``H``."
   ]
  },
  {
   "cell_type": "code",
   "execution_count": 25,
   "id": "fded2793-6c1d-440c-8912-b495fc1524b9",
   "metadata": {},
   "outputs": [
    {
     "data": {
      "text/plain": [
       "array([[192., 192., 192.],\n",
       "       [192., 192., 100.],\n",
       "       [192., 192., 192.]])"
      ]
     },
     "execution_count": 25,
     "metadata": {},
     "output_type": "execute_result"
    }
   ],
   "source": [
    "H = np.copy(G)\n",
    "H"
   ]
  },
  {
   "cell_type": "markdown",
   "id": "cfe2cf74-44a5-4fbe-b49b-ef6bc01e2714",
   "metadata": {},
   "source": [
    "### Exercise 3\n",
    "\n",
    "Read the section [Roots and Fixed Points](https://python-programming.quantecon.org/scipy.html#roots-and-fixed-points) before you attempt the following exercises."
   ]
  },
  {
   "cell_type": "markdown",
   "id": "2a06462b-cd3a-427e-9e06-7ee73d238912",
   "metadata": {},
   "source": [
    "**Exercise 3.1**\n",
    "\n",
    "Plot the following function $f$ on $[-5, 0]$:\n",
    "$$\n",
    "    f(x) = 5 ( \\sin x - 1/5)) + x^{2} + x^{3} +20\n",
    "$$"
   ]
  },
  {
   "cell_type": "code",
   "execution_count": 41,
   "id": "4b018b2f-b7aa-4566-80a0-9fbdf42a109b",
   "metadata": {},
   "outputs": [],
   "source": [
    "f = lambda x: 5 * (np.sin(x) - 1/5) + x**2 + x**3 + 20"
   ]
  },
  {
   "cell_type": "code",
   "execution_count": 27,
   "id": "db13c836-e78f-49e1-aba1-ae3dc744bada",
   "metadata": {},
   "outputs": [
    {
     "data": {
      "image/png": "[encoded data removed]",
      "text/plain": [
       "<Figure size 640x480 with 1 Axes>"
      ]
     },
     "metadata": {},
     "output_type": "display_data"
    }
   ],
   "source": [
    "x = np.linspace(-5, 0, 100)\n",
    "\n",
    "fig, ax = plt.subplots()\n",
    "ax.plot(x, f(x), label='$f(x)$')\n",
    "ax.axhline(ls='--', c='k')\n",
    "ax.set_xlabel('$x$', fontsize=12)\n",
    "ax.set_ylabel('$f(x)$', fontsize=12)\n",
    "ax.legend(fontsize=12)\n",
    "plt.show()"
   ]
  },
  {
   "cell_type": "markdown",
   "id": "7931b6f4-632b-41ef-a710-6b43a217c74e",
   "metadata": {},
   "source": [
    "**Exercise 3.2**\n",
    "\n",
    "Read the section [bisection](https://python-programming.quantecon.org/scipy.html#bisection).\n",
    "\n",
    "Use the bisection function from ``SciPy`` to find the root for the function $f$ defined in Exercise 3.1."
   ]
  },
  {
   "cell_type": "code",
   "execution_count": 29,
   "id": "a379cf2b-a098-4975-b42f-6ce400fec3fe",
   "metadata": {},
   "outputs": [
    {
     "data": {
      "text/plain": [
       "-3.0181843977049994"
      ]
     },
     "execution_count": 29,
     "metadata": {},
     "output_type": "execute_result"
    }
   ],
   "source": [
    "sp.optimize.bisect(f, -5, 0)"
   ]
  },
  {
   "cell_type": "markdown",
   "id": "307f2345-2855-4608-b076-3605f815cdc4",
   "metadata": {},
   "source": [
    "**Exercise 3.3**\n",
    "\n",
    "Read the section [The Newton-Raphson Method](https://python-programming.quantecon.org/scipy.html#the-newton-raphson-method).\n",
    "\n",
    "With different initial conditions $x=0, -2.5, -5$, \n",
    "\n",
    "try to use the newton function from ``SciPy`` to find the root for the function $f$ defined in Exercise 3.1."
   ]
  },
  {
   "cell_type": "code",
   "execution_count": 30,
   "id": "98c9da4e-db5d-4141-ab6c-e1100801141a",
   "metadata": {},
   "outputs": [
    {
     "data": {
      "text/plain": [
       "-3.0181843977045615"
      ]
     },
     "execution_count": 30,
     "metadata": {},
     "output_type": "execute_result"
    }
   ],
   "source": [
    "sp.optimize.newton(f, 0)"
   ]
  },
  {
   "cell_type": "code",
   "execution_count": 31,
   "id": "bca602ca-f972-423a-becb-d61c68efeb69",
   "metadata": {},
   "outputs": [
    {
     "data": {
      "text/plain": [
       "-3.018184397704561"
      ]
     },
     "execution_count": 31,
     "metadata": {},
     "output_type": "execute_result"
    }
   ],
   "source": [
    "sp.optimize.newton(f, -2.5)"
   ]
  },
  {
   "cell_type": "code",
   "execution_count": 32,
   "id": "d37c134a-fdbd-449d-b126-dca897271e4a",
   "metadata": {},
   "outputs": [
    {
     "data": {
      "text/plain": [
       "-3.0181843977046117"
      ]
     },
     "execution_count": 32,
     "metadata": {},
     "output_type": "execute_result"
    }
   ],
   "source": [
    "sp.optimize.newton(f, -5)"
   ]
  },
  {
   "cell_type": "markdown",
   "id": "c4e2ebd6-5b92-4ea8-872a-c3832eaf84fa",
   "metadata": {},
   "source": [
    "**Exercise 3.4**\n",
    "\n",
    "Read the section [Hybrid Methods](https://python-programming.quantecon.org/scipy.html#hybrid-methods).\n",
    "\n",
    "Find the root for the function $f$ defined in Exercise 3.1 using the brentq function from ``SciPy``"
   ]
  },
  {
   "cell_type": "code",
   "execution_count": 33,
   "id": "8f43a8d8-5318-40c8-b3fb-f4a957d01661",
   "metadata": {},
   "outputs": [
    {
     "data": {
      "text/plain": [
       "-3.018184397704561"
      ]
     },
     "execution_count": 33,
     "metadata": {},
     "output_type": "execute_result"
    }
   ],
   "source": [
    "sp.optimize.brentq(f, -5, 0)"
   ]
  },
  {
   "cell_type": "markdown",
   "id": "4dfc8f4a-ae47-4e38-8887-ede840e78b01",
   "metadata": {},
   "source": [
    "**Exercise 3.5**\n",
    "\n",
    "Read the section [Fixed Points](https://python-programming.quantecon.org/scipy.html#fixed-points).\n",
    "\n",
    "With different initial guesses $x=-5, -2.5, 0$,\n",
    "\n",
    "Find the root for the function $f$ defined in Exercise 3.1 using the fixed point function from ``SciPy``"
   ]
  },
  {
   "cell_type": "code",
   "execution_count": 34,
   "id": "f7948370-c2d9-405e-9da9-65e5add8859b",
   "metadata": {},
   "outputs": [
    {
     "data": {
      "text/plain": [
       "array(-3.19802694)"
      ]
     },
     "execution_count": 34,
     "metadata": {},
     "output_type": "execute_result"
    }
   ],
   "source": [
    "sp.optimize.fixed_point(f, -5)"
   ]
  },
  {
   "cell_type": "code",
   "execution_count": 35,
   "id": "9f94a251-1f50-431d-9196-1ee968ac7dad",
   "metadata": {},
   "outputs": [
    {
     "data": {
      "text/plain": [
       "array(-3.19802694)"
      ]
     },
     "execution_count": 35,
     "metadata": {},
     "output_type": "execute_result"
    }
   ],
   "source": [
    "sp.optimize.fixed_point(f, -2.5)"
   ]
  },
  {
   "cell_type": "code",
   "execution_count": 36,
   "id": "f05c0797-c006-4e70-b84b-0a806300e938",
   "metadata": {},
   "outputs": [
    {
     "data": {
      "text/plain": [
       "array(-3.19802694)"
      ]
     },
     "execution_count": 36,
     "metadata": {},
     "output_type": "execute_result"
    }
   ],
   "source": [
    "sp.optimize.fixed_point(f, 0)"
   ]
  },
  {
   "cell_type": "markdown",
   "id": "adc1476f-2d0e-4853-9995-cc8bc581c13a",
   "metadata": {},
   "source": [
    "**Exercise 3.6**\n",
    "\n",
    "Read the section [Optimization](https://python-programming.quantecon.org/scipy.html#optimization).\n",
    "\n",
    "Use functions from ``SciPy`` to find the maximizer and minimizer of the function $f$ defined in Exercise 3.1 over domain $D = [-5, 0]$."
   ]
  },
  {
   "cell_type": "code",
   "execution_count": 37,
   "id": "a0096c29-d320-4839-99fa-777fe0407fa3",
   "metadata": {},
   "outputs": [
    {
     "data": {
      "text/plain": [
       "-4.999996371653228"
      ]
     },
     "execution_count": 37,
     "metadata": {},
     "output_type": "execute_result"
    }
   ],
   "source": [
    "sp.optimize.fminbound(f, -5, 0)       # minimizer"
   ]
  },
  {
   "cell_type": "code",
   "execution_count": 38,
   "id": "3babb6b8-4a13-4487-a36a-0150e4b34803",
   "metadata": {},
   "outputs": [],
   "source": [
    "g = lambda x: f(-x)"
   ]
  },
  {
   "cell_type": "code",
   "execution_count": 39,
   "id": "7ff205e5-c7cd-4c72-8321-c1f63dab9c27",
   "metadata": {},
   "outputs": [
    {
     "data": {
      "text/plain": [
       "-4.812673350935262e-06"
      ]
     },
     "execution_count": 39,
     "metadata": {},
     "output_type": "execute_result"
    }
   ],
   "source": [
    "sp.optimize.fminbound(g, -5, 0)       # minimizer"
   ]
  },
  {
   "cell_type": "markdown",
   "id": "4a90c41e-7291-4d6d-a1fc-6896f85bdba0",
   "metadata": {},
   "source": [
    "**Exercise 3.7**\n",
    "\n",
    "Read the section [Integration](https://python-programming.quantecon.org/scipy.html#integration).\n",
    "\n",
    "Use functions from ``SciPy`` to find the integral for the function $f$ defined in Exercise 3.1 over domain $D = [-5, 0]$."
   ]
  },
  {
   "cell_type": "code",
   "execution_count": 40,
   "id": "745fb584-8e8f-4457-bca4-bbc25a73d327",
   "metadata": {},
   "outputs": [
    {
     "data": {
      "text/plain": [
       "-23.16502240601721"
      ]
     },
     "execution_count": 40,
     "metadata": {},
     "output_type": "execute_result"
    }
   ],
   "source": [
    "integral, error = sp.integrate.quad(f, -5, 0)\n",
    "integral"
   ]
  },
  {
   "cell_type": "code",
   "execution_count": null,
   "id": "fdeac813-1285-4d5a-880b-51debac9fbc0",
   "metadata": {},
   "outputs": [],
   "source": []
  }
 ],
 "metadata": {
  "kernelspec": {
   "display_name": "Python 3 (ipykernel)",
   "language": "python",
   "name": "python3"
  },
  "language_info": {
   "codemirror_mode": {
    "name": "ipython",
    "version": 3
   },
   "file_extension": ".py",
   "mimetype": "text/x-python",
   "name": "python",
   "nbconvert_exporter": "python",
   "pygments_lexer": "ipython3",
   "version": "3.9.13"
  }
 },
 "nbformat": 4,
 "nbformat_minor": 5
}
