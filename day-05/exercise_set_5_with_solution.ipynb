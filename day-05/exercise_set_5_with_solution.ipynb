{
 "cells": [
  {
   "attachments": {},
   "cell_type": "markdown",
   "metadata": {},
   "source": [
    "# Equilibrium and Present Value"
   ]
  },
  {
   "attachments": {},
   "cell_type": "markdown",
   "metadata": {},
   "source": [
    "#### Written for the QuantEcon Africa Workshop (July 2023)\n",
    "#### Author: [John Stachurski](http://johnstachurski.net/) and Frank"
   ]
  },
  {
   "cell_type": "code",
   "execution_count": null,
   "metadata": {},
   "outputs": [],
   "source": [
    "import numpy as np\n",
    "import matplotlib.pyplot as plt\n",
    "\n",
    "from scipy.optimize import newton"
   ]
  },
  {
   "attachments": {},
   "cell_type": "markdown",
   "metadata": {
    "tags": []
   },
   "source": [
    "## Equilibrium\n",
    "### The Market"
   ]
  },
  {
   "attachments": {},
   "cell_type": "markdown",
   "metadata": {},
   "source": [
    "We consider a market for coffee beans.  The price per kilo is $p$.  Total supply at price $p$ is\n",
    "\n",
    "$$ q_s (p) = b \\sqrt{p} $$\n",
    "\n",
    "and total demand is \n",
    "\n",
    "$$ q_d (p) = a \\frac{1}{p}, $$\n",
    "\n",
    "where $a$ and $b$ are positive parameters."
   ]
  },
  {
   "attachments": {},
   "cell_type": "markdown",
   "metadata": {},
   "source": [
    "Now let's write routines to compute supply and demand as functions of price and parameters:"
   ]
  },
  {
   "cell_type": "code",
   "execution_count": null,
   "metadata": {},
   "outputs": [],
   "source": [
    "def supply(p, b):\n",
    "    return b * np.sqrt(p)\n",
    "\n",
    "def demand(p, a):\n",
    "    return a * (1/p)"
   ]
  },
  {
   "attachments": {},
   "cell_type": "markdown",
   "metadata": {},
   "source": [
    "### Exercise 1\n",
    "\n",
    "Plot both supply and demand as functions of $p$ when $a=1$ and $b=0.5$.  Plot for prices in the interval from $0.2$ up to $4$.  Although it is unusual, put price on the horizonal axis.  Use a legend to label the two functions and be sure to label the axes.  Looking at the picture, make a rough estimate of the equilibrium price,\n",
    "where demand equals supply."
   ]
  },
  {
   "attachments": {},
   "cell_type": "markdown",
   "metadata": {},
   "source": [
    "### Solution"
   ]
  },
  {
   "cell_type": "code",
   "execution_count": null,
   "metadata": {},
   "outputs": [],
   "source": [
    "fig, ax = plt.subplots()\n",
    "p_grid = np.linspace(0.2, 4, 200)\n",
    "ax.plot(p_grid, supply(p_grid, 0.5), label='supply')\n",
    "ax.plot(p_grid, demand(p_grid, 1.0), label='demand')\n",
    "ax.set_xlabel(\"price\")\n",
    "ax.set_ylabel(\"quantity\")\n",
    "ax.legend()\n",
    "plt.show()"
   ]
  },
  {
   "attachments": {},
   "cell_type": "markdown",
   "metadata": {},
   "source": [
    "The equilibrium price looks to be about 1.6."
   ]
  },
  {
   "attachments": {},
   "cell_type": "markdown",
   "metadata": {},
   "source": [
    "### Exercise 2\n",
    "\n",
    "Write a function that takes arguments $a, b, p$ and returns *excess demand*, which is defined as\n",
    "\n",
    "$$ e(p) = q_d(p) - q_s(p) $$\n"
   ]
  },
  {
   "attachments": {},
   "cell_type": "markdown",
   "metadata": {},
   "source": [
    "### Solution"
   ]
  },
  {
   "cell_type": "code",
   "execution_count": null,
   "metadata": {},
   "outputs": [],
   "source": [
    "def excess_demand(p, a, b):\n",
    "    return demand(p, a) - supply(p, b)"
   ]
  },
  {
   "attachments": {},
   "cell_type": "markdown",
   "metadata": {},
   "source": [
    "### Exercise 3\n",
    "\n",
    "Write a class definition that creates a class called `Market` with four methods:\n",
    "\n",
    "1. An `__init__` method that specifies default parameter values $a=1$ and $b=0.5$.\n",
    "2. A `demand` method that returns $q_d(p)$ given $p$\n",
    "3. A `supply` method that returns $q_s(p)$ given $p$\n",
    "4. An `excess_demand` method that returns $q_d(p) - q_s(p)$ given $p$. \n",
    "\n",
    "Using an instance of the class, plot excess demand over the interval from $0.2$ up to $4$.  Also plot a horizontal line at zero.  The equilibrium price is where excess demand crosses zero."
   ]
  },
  {
   "cell_type": "code",
   "execution_count": null,
   "metadata": {},
   "outputs": [],
   "source": [
    "class Market:\n",
    "    \n",
    "    def __init__(self, a=1.0, b=0.5):\n",
    "        self.a, self.b = a, b\n",
    "        \n",
    "    def supply(self, p):\n",
    "        return self.b * np.sqrt(p)\n",
    "    \n",
    "    def demand(self, p):\n",
    "        return self.a * (1/p)\n",
    "    \n",
    "    def excess_demand(self, p):\n",
    "        return self.demand(p) - self.supply(p)"
   ]
  },
  {
   "cell_type": "code",
   "execution_count": null,
   "metadata": {},
   "outputs": [],
   "source": [
    "market = Market()\n",
    "\n",
    "fig, ax = plt.subplots()\n",
    "p_grid = np.linspace(0.2, 4, 200)\n",
    "ax.plot(p_grid, market.excess_demand(p_grid), label='excess demand')\n",
    "ax.plot(p_grid, np.zeros_like(p_grid), 'k--')\n",
    "ax.set_xlabel(\"price\")\n",
    "ax.set_ylabel(\"quantity\")\n",
    "ax.legend()\n",
    "plt.show()"
   ]
  },
  {
   "attachments": {},
   "cell_type": "markdown",
   "metadata": {},
   "source": [
    "Next we'll write a function that takes an instance of the `Market` class (i.e., an object `market` constructed via `market = Market()`) and returns a market clearing price via Newton's method.  If necessary, adjust your code above so that this routine works."
   ]
  },
  {
   "cell_type": "code",
   "execution_count": null,
   "metadata": {},
   "outputs": [],
   "source": [
    "def compute_equilibrium(market, price_init=2.0):\n",
    "    p_star = newton(market.excess_demand, price_init)\n",
    "    return p_star"
   ]
  },
  {
   "cell_type": "code",
   "execution_count": null,
   "metadata": {},
   "outputs": [],
   "source": [
    "market = Market()\n",
    "compute_equilibrium(market)"
   ]
  },
  {
   "attachments": {},
   "cell_type": "markdown",
   "metadata": {},
   "source": [
    "### Exercise 4\n",
    "\n",
    "For $b$ in a grid of 200 values between 0.5 and 1.0, plot the equilibrium price for each $b$.\n",
    "\n",
    "Does the curve that you plotted slope up or down?  Try to provide an explanation for what you see in terms of market equilibrium."
   ]
  },
  {
   "attachments": {},
   "cell_type": "markdown",
   "metadata": {},
   "source": [
    "### Solution"
   ]
  },
  {
   "cell_type": "code",
   "execution_count": null,
   "metadata": {},
   "outputs": [],
   "source": [
    "b_grid = np.linspace(0.5, 1.0, 200)\n",
    "prices = np.empty_like(b_grid)\n",
    "for i, b in enumerate(b_grid):\n",
    "    market = Market(b=b)\n",
    "    prices[i] = compute_equilibrium(market)"
   ]
  },
  {
   "cell_type": "code",
   "execution_count": null,
   "metadata": {},
   "outputs": [],
   "source": [
    "fig, ax = plt.subplots()\n",
    "ax.plot(b_grid, prices, label=\"equilibrium prices\")\n",
    "ax.set_xlabel(\"$b$\")\n",
    "ax.set_ylabel(\"price\")\n",
    "ax.legend()\n",
    "plt.show()"
   ]
  },
  {
   "attachments": {},
   "cell_type": "markdown",
   "metadata": {},
   "source": [
    "The curve slopes down because an increase in $p$ pushes up supply at any given price.  (In other words, the supply curve shifts up.)  With greater supply, the price tends to fall."
   ]
  },
  {
   "attachments": {},
   "cell_type": "markdown",
   "metadata": {},
   "source": [
    "## Present Value\n",
    "### Exercise 5: Computing Present Value\n",
    "\n",
    "Imagine you have the opportunity to receive $500 two years from now. If the annual discount rate is 5%, what is the present value of this future cash flow?\n",
    "\n",
    "*Hint: Use the formula of [present value](https://en.wikipedia.org/wiki/Present_value).*"
   ]
  },
  {
   "cell_type": "code",
   "execution_count": null,
   "metadata": {},
   "outputs": [],
   "source": [
    "def present_value(FV, r, n):\n",
    "    PV = FV / (1 + r)**n\n",
    "    return round(PV, 2);"
   ]
  },
  {
   "cell_type": "code",
   "execution_count": null,
   "metadata": {},
   "outputs": [],
   "source": [
    "try:\n",
    "    assert abs(present_value(500, 0.05, 2) - 453.51) < 1e-2\n",
    "    print(\"Test passed!\")\n",
    "except AssertionError:\n",
    "    print(\"Test failed.\")\n",
    "except Exception as e:\n",
    "    print(f\"An error occurred during testing: {e}\")"
   ]
  },
  {
   "attachments": {},
   "cell_type": "markdown",
   "metadata": {},
   "source": [
    "### Exercise 6: Evaluating a Series of Future Cash Flows\n",
    "\n",
    "Suppose you are evaluating an investment that promises to pay $1000 at the end of each year for the next five years. If your discount rate is still 5% per annum, what is the present value of these future cash flows?\n",
    "\n",
    "*Hint: In this case, you will have to sum the present values of each future cash flow.*"
   ]
  },
  {
   "cell_type": "code",
   "execution_count": null,
   "metadata": {},
   "outputs": [],
   "source": [
    "def present_value_series(annual_cash_flow, r, years):\n",
    "    result = sum([annual_cash_flow / (1 + r)**n for n in years])\n",
    "    return round(result, 2);"
   ]
  },
  {
   "cell_type": "code",
   "execution_count": null,
   "metadata": {},
   "outputs": [],
   "source": [
    "try:\n",
    "    assert abs(present_value_series(1000, 0.05, range(1, 6)) - 4329.48) < 1e-2\n",
    "    print(\"Test passed!\")\n",
    "except AssertionError:\n",
    "    print(\"Test failed.\")\n",
    "except Exception as e:\n",
    "    print(f\"An error occurred during testing: {e}\")"
   ]
  },
  {
   "attachments": {},
   "cell_type": "markdown",
   "metadata": {},
   "source": [
    "### Exercise 7: Asset Pricing Using the Present Value Model\n",
    "\n",
    "Consider a stock that is expected to pay dividends of $100$ at the end of each year for the next three years, after which point it is expected to be sold for $1500$. If the annual discount rate is 6%, calculate:\n",
    "\n",
    "1. The present value of the dividends.\n",
    "2. The present value of the terminal price of the stock.\n",
    "3. The total present value of the stock (which should be equal to its current price).\n",
    "\n",
    "*Hint: Use the same method as in the second exercise for the dividends, and the method from the first exercise for the terminal price.*"
   ]
  },
  {
   "cell_type": "code",
   "execution_count": null,
   "metadata": {},
   "outputs": [],
   "source": [
    "def calculate_stock_value(dividend, terminal_price, r, years):\n",
    "    dividend = 100\n",
    "    terminal_price = 1500\n",
    "    r = 0.06\n",
    "    years = range(1, 4)  # from 1 to 3 inclusive\n",
    "    PV_dividends = sum([dividend / (1 + r)**n for n in years])\n",
    "    PV_terminal = terminal_price / (1 + r)**3\n",
    "    PV_total = PV_dividends + PV_terminal\n",
    "    return round(PV_dividends, 2), round(PV_terminal, 2), round(PV_total, 2)"
   ]
  },
  {
   "cell_type": "code",
   "execution_count": null,
   "metadata": {},
   "outputs": [],
   "source": [
    "try:\n",
    "    PV_dividends, PV_terminal, PV_total = calculate_stock_value(100, 1500, 0.06, range(1, 4))\n",
    "    assert abs(PV_dividends - 267.3) < 1e-2\n",
    "    assert abs(PV_terminal - 1259.43) < 1e-2\n",
    "    assert abs(PV_total - 1526.73) < 1e-2\n",
    "    print(\"Test passed!\")\n",
    "except AssertionError:\n",
    "    print(\"Test failed.\")\n",
    "except Exception as e:\n",
    "    print(f\"An error occurred during testing: {e}\")"
   ]
  },
  {
   "attachments": {},
   "cell_type": "markdown",
   "metadata": {},
   "source": [
    "### Exercise 8: Matrix Multiplication in Asset Pricing\n",
    "\n",
    "Consider an asset that is expected to yield dividends of $100$ at the end of each year for the next five years, after which point it is predicted to be sold for $2000$. The annual discount rate is set to be 5%. Your task is to compute:\n",
    "\n",
    "1. The present value of the dividends using matrix multiplication.\n",
    "2. The present value of the final price of the asset.\n",
    "3. The total present value of the asset (which should be equal to its current price).\n",
    "\n",
    "*Hint: Use matrix multiplication to solve for the present value of dividends, and use the same method as in the previous exercise for the final price.*"
   ]
  },
  {
   "cell_type": "code",
   "execution_count": null,
   "metadata": {},
   "outputs": [],
   "source": [
    "def calculate_asset_value(dividend, final_price, discount_rate, years):\n",
    "    dividend = np.array([100]*5)\n",
    "    final_price = 2000\n",
    "    discount_rate = 0.05\n",
    "    years = np.array(range(1, 6))  # from 1 to 5 inclusive\n",
    "    \n",
    "    # TODO: Create a discount factor matrix\n",
    "    discount_matrix = 1 / (1 + discount_rate) ** years\n",
    "\n",
    "    # TODO: Calculate the present value of dividends using matrix multiplication\n",
    "    PV_dividends = np.dot(dividend, discount_matrix)\n",
    "\n",
    "    # TODO: Calculate the present value of the final price\n",
    "    PV_final_price = final_price * (1 / (1 + discount_rate) ** years[-1])\n",
    "\n",
    "    # Calculate the total present value\n",
    "    PV_total = PV_dividends + PV_final_price\n",
    "\n",
    "    return round(PV_dividends, 2), round(PV_final_price, 2), round(PV_total, 2)"
   ]
  },
  {
   "cell_type": "code",
   "execution_count": null,
   "metadata": {},
   "outputs": [],
   "source": [
    "try:\n",
    "    PV_dividends, PV_final_price, PV_total = calculate_asset_value(100, 2000, 0.05, range(1, 6))\n",
    "    assert abs(PV_dividends - 432.95) < 1e-2\n",
    "    assert abs(PV_final_price - 1567.05) < 1e-2\n",
    "    assert abs(PV_total - 2000.0) < 1e-2\n",
    "    print(\"Test passed!\")\n",
    "except AssertionError:\n",
    "    print(\"Test failed.\")\n",
    "except Exception as e:\n",
    "    print(f\"An error occurred during testing: {e}\")"
   ]
  },
  {
   "attachments": {},
   "cell_type": "markdown",
   "metadata": {},
   "source": [
    "### Exercise 9\n",
    "\n",
    "Read section [present value calculation](https://intro.quantecon.org/pv.html#present-value-calculations) before attempting exercises 8.1 and 8.2.\n",
    "\n",
    "Let $A, p, d, b$ be as defined in that section.\n",
    "\n",
    "So we have\n",
    "\n",
    "$$\n",
    "    A p = d + b\n",
    "$$\n",
    "\n",
    "#### Exercise 9.1 (Price of a worthless stock)\n",
    "\n",
    "Compute and plot the corresponding asset price sequence when $T=6$, $p^*_{T+1} = 0$, $d_t=0$ and $\\delta\n",
    "= 0.98$."
   ]
  },
  {
   "attachments": {},
   "cell_type": "markdown",
   "metadata": {},
   "source": [
    "#### Solution"
   ]
  },
  {
   "cell_type": "code",
   "execution_count": null,
   "metadata": {},
   "outputs": [],
   "source": [
    "T = 6\n",
    "p_star = 0.0\n",
    "δ = 0.98"
   ]
  },
  {
   "cell_type": "code",
   "execution_count": null,
   "metadata": {},
   "outputs": [],
   "source": [
    "d = np.zeros(T+1)\n",
    "A = np.zeros((T+1, T+1))\n",
    "for i in range(T+1):\n",
    "    for j in range(T+1):\n",
    "        if i == j:\n",
    "            A[i, j] = 1\n",
    "            if j < T:\n",
    "                A[i, j+1] = -δ\n",
    "\n",
    "b = np.zeros(T+1)\n",
    "b[-1] = δ * p_star\n",
    "p = np.linalg.solve(A, d + b)"
   ]
  },
  {
   "cell_type": "code",
   "execution_count": null,
   "metadata": {},
   "outputs": [],
   "source": [
    "fig, ax = plt.subplots()\n",
    "ax.plot(p, 'o-', ms=4, alpha=0.8, label='asset price')\n",
    "ax.legend()\n",
    "ax.set_xlabel('time')\n",
    "plt.show()"
   ]
  },
  {
   "attachments": {},
   "cell_type": "markdown",
   "metadata": {},
   "source": [
    "#### Exercise 9.2 (Gorden growth formula)\n",
    "\n",
    "Let $\\delta$ be the same as Exercise 9.1.\n",
    "\n",
    "Compute and plot the corresponding asset price sequence when $T=100$, $p^*_{T+1} = g^{T+1} d_0$ and $d_t=g^t d_0$\n",
    "where $g=1.1$ and $d_0=0.1$."
   ]
  },
  {
   "attachments": {},
   "cell_type": "markdown",
   "metadata": {},
   "source": [
    "#### Solution"
   ]
  },
  {
   "cell_type": "code",
   "execution_count": null,
   "metadata": {},
   "outputs": [],
   "source": [
    "T = 100\n",
    "δ = 0.98\n",
    "g = 1.1\n",
    "current_d = 0.1 # d_0"
   ]
  },
  {
   "cell_type": "code",
   "execution_count": null,
   "metadata": {},
   "outputs": [],
   "source": [
    "p_star = g**(T+1) * current_d\n",
    "\n",
    "d = []\n",
    "for t in range(T+1):\n",
    "    d.append(current_d)\n",
    "    current_d = current_d * 1.1**t "
   ]
  },
  {
   "cell_type": "code",
   "execution_count": null,
   "metadata": {},
   "outputs": [],
   "source": [
    "A = np.zeros((T+1, T+1))\n",
    "for i in range(T+1):\n",
    "    for j in range(T+1):\n",
    "        if i == j:\n",
    "            A[i, j] = 1\n",
    "            if j < T:\n",
    "                A[i, j+1] = -δ\n",
    "\n",
    "b = np.zeros(T+1)\n",
    "b[-1] = δ * p_star\n",
    "p = np.linalg.solve(A, d + b)"
   ]
  },
  {
   "cell_type": "code",
   "execution_count": null,
   "metadata": {},
   "outputs": [],
   "source": [
    "fig, ax = plt.subplots()\n",
    "ax.plot(p, 'o-', ms=4, alpha=0.8, label='asset price')\n",
    "ax.legend()\n",
    "ax.set_xlabel('time')\n",
    "plt.show()"
   ]
  },
  {
   "attachments": {},
   "cell_type": "markdown",
   "metadata": {},
   "source": [
    "#### Exercise 9.3 (Analytical expressions)\n",
    "\n",
    "Read section [analytical expressions](https://intro.quantecon.org/pv.html#analytical-expressions).\n",
    "\n",
    "Give analytical expressions for the asset price $p_t$ in Exercise 9.2."
   ]
  },
  {
   "attachments": {},
   "cell_type": "markdown",
   "metadata": {},
   "source": [
    "#### Solution\n",
    "\n",
    "$$\n",
    "   p_t =  \\sum_{s=t}^T \\delta^{s-t} g^s d_0 +  \\delta^{T+1-t} g^{T+1} d_0\n",
    "$$\n"
   ]
  }
 ],
 "metadata": {
  "anaconda-cloud": {},
  "kernelspec": {
   "display_name": "Python 3 (ipykernel)",
   "language": "python",
   "name": "python3"
  },
  "language_info": {
   "codemirror_mode": {
    "name": "ipython",
    "version": 3
   },
   "file_extension": ".py",
   "mimetype": "text/x-python",
   "name": "python",
   "nbconvert_exporter": "python",
   "pygments_lexer": "ipython3",
   "version": "3.9.13"
  }
 },
 "nbformat": 4,
 "nbformat_minor": 4
}
