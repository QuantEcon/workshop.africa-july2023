{
 "cells": [
  {
   "attachments": {},
   "cell_type": "markdown",
   "metadata": {},
   "source": [
    "# Present Value Exercises"
   ]
  },
  {
   "attachments": {},
   "cell_type": "markdown",
   "metadata": {},
   "source": [
    "#### Written for the QuantEcon Africa Workshop (July 2023)\n",
    "#### Author: Frank"
   ]
  },
  {
   "attachments": {},
   "cell_type": "markdown",
   "metadata": {},
   "source": [
    "### Exercise 1: Computing Present Value\n",
    "\n",
    "Imagine you have the opportunity to receive $500 two years from now. If the annual discount rate is 5%, what is the present value of this future cash flow?\n",
    "\n",
    "*Hint: Use the formula of [present value](https://en.wikipedia.org/wiki/Present_value).*"
   ]
  },
  {
   "cell_type": "code",
   "execution_count": 2,
   "metadata": {},
   "outputs": [],
   "source": [
    "def present_value(FV, r, n):\n",
    "    # TODO: implement the present value formula\n",
    "    PV = FV / (1 + r)**n\n",
    "    return round(PV, 2);"
   ]
  },
  {
   "cell_type": "code",
   "execution_count": 3,
   "metadata": {},
   "outputs": [
    {
     "name": "stdout",
     "output_type": "stream",
     "text": [
      "Test passed!\n"
     ]
    }
   ],
   "source": [
    "try:\n",
    "    assert abs(present_value(500, 0.05, 2) - 453.51) < 1e-2\n",
    "    print(\"Test passed!\")\n",
    "except AssertionError:\n",
    "    print(\"Test failed.\")\n",
    "except Exception as e:\n",
    "    print(f\"An error occurred during testing: {e}\")"
   ]
  },
  {
   "attachments": {},
   "cell_type": "markdown",
   "metadata": {},
   "source": [
    "### Exercise 2: Evaluating a Series of Future Cash Flows\n",
    "\n",
    "Suppose you are evaluating an investment that promises to pay $1000 at the end of each year for the next five years. If your discount rate is still 5% per annum, what is the present value of these future cash flows?\n",
    "\n",
    "*Hint: In this case, you will have to sum the present values of each future cash flow.*"
   ]
  },
  {
   "cell_type": "code",
   "execution_count": 7,
   "metadata": {},
   "outputs": [],
   "source": [
    "def present_value_series(annual_cash_flow, r, years):\n",
    "    # TODO: Finish the function\n",
    "    result = sum([annual_cash_flow / (1 + r)**n for n in years])\n",
    "    return round(result, 2);"
   ]
  },
  {
   "cell_type": "code",
   "execution_count": 8,
   "metadata": {},
   "outputs": [
    {
     "name": "stdout",
     "output_type": "stream",
     "text": [
      "Test passed!\n"
     ]
    }
   ],
   "source": [
    "try:\n",
    "    assert abs(present_value_series(1000, 0.05, range(1, 6)) - 4329.48) < 1e-2\n",
    "    print(\"Test passed!\")\n",
    "except AssertionError:\n",
    "    print(\"Test failed.\")\n",
    "except Exception as e:\n",
    "    print(f\"An error occurred during testing: {e}\")"
   ]
  },
  {
   "attachments": {},
   "cell_type": "markdown",
   "metadata": {},
   "source": [
    "### Exercise 3: Asset Pricing Using the Present Value Model\n",
    "\n",
    "Consider a stock that is expected to pay dividends of $100 at the end of each year for the next three years, after which point it is expected to be sold for $1500. If the annual discount rate is 6%, calculate:\n",
    "\n",
    "1. The present value of the dividends.\n",
    "2. The present value of the terminal price of the stock.\n",
    "3. The total present value of the stock (which should be equal to its current price).\n",
    "\n",
    "*Hint: Use the same method as in the second exercise for the dividends, and the method from the first exercise for the terminal price.*"
   ]
  },
  {
   "cell_type": "code",
   "execution_count": 11,
   "metadata": {},
   "outputs": [],
   "source": [
    "def calculate_stock_value(dividend, terminal_price, r, years):\n",
    "    # Todo: Finish the function\n",
    "    dividend = 100\n",
    "    terminal_price = 1500\n",
    "    r = 0.06\n",
    "    years = range(1, 4)  # from 1 to 3 inclusive\n",
    "    PV_dividends = sum([dividend / (1 + r)**n for n in years])\n",
    "    PV_terminal = terminal_price / (1 + r)**3\n",
    "    PV_total = PV_dividends + PV_terminal\n",
    "    return round(PV_dividends, 2), round(PV_terminal, 2), round(PV_total, 2)"
   ]
  },
  {
   "cell_type": "code",
   "execution_count": 12,
   "metadata": {},
   "outputs": [
    {
     "name": "stdout",
     "output_type": "stream",
     "text": [
      "Test passed!\n"
     ]
    }
   ],
   "source": [
    "try:\n",
    "    PV_dividends, PV_terminal, PV_total = calculate_stock_value(100, 1500, 0.06, range(1, 4))\n",
    "    assert abs(PV_dividends - 267.3) < 1e-2\n",
    "    assert abs(PV_terminal - 1259.43) < 1e-2\n",
    "    assert abs(PV_total - 1526.73) < 1e-2\n",
    "    print(\"Test passed!\")\n",
    "except AssertionError:\n",
    "    print(\"Test failed.\")\n",
    "except Exception as e:\n",
    "    print(f\"An error occurred during testing: {e}\")"
   ]
  }
 ],
 "metadata": {
  "anaconda-cloud": {},
  "kernelspec": {
   "display_name": "Python 3 (ipykernel)",
   "language": "python",
   "name": "python3"
  },
  "language_info": {
   "codemirror_mode": {
    "name": "ipython",
    "version": 3
   },
   "file_extension": ".py",
   "mimetype": "text/x-python",
   "name": "python",
   "nbconvert_exporter": "python",
   "pygments_lexer": "ipython3",
   "version": "3.9.12"
  }
 },
 "nbformat": 4,
 "nbformat_minor": 1
}
